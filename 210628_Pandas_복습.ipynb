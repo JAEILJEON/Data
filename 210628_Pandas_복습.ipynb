{
  "nbformat": 4,
  "nbformat_minor": 0,
  "metadata": {
    "colab": {
      "name": "210628 Pandas 복습.ipynb",
      "provenance": [],
      "collapsed_sections": [],
      "toc_visible": true,
      "include_colab_link": true
    },
    "kernelspec": {
      "display_name": "Python 3",
      "name": "python3"
    }
  },
  "cells": [
    {
      "cell_type": "markdown",
      "metadata": {
        "id": "view-in-github",
        "colab_type": "text"
      },
      "source": [
        "<a href=\"https://colab.research.google.com/github/JAEILJEON/JAEIL_DATA/blob/main/210628_Pandas_%EB%B3%B5%EC%8A%B5.ipynb\" target=\"_parent\"><img src=\"https://colab.research.google.com/assets/colab-badge.svg\" alt=\"Open In Colab\"/></a>"
      ]
    },
    {
      "cell_type": "markdown",
      "metadata": {
        "id": "g19tsMWUNpCx"
      },
      "source": [
        "### 구글드라이브 연동"
      ]
    },
    {
      "cell_type": "code",
      "metadata": {
        "colab": {
          "base_uri": "https://localhost:8080/"
        },
        "id": "Ijyjm-4FNqNx",
        "outputId": "3a204afd-9657-4cb3-8124-fd5a72d16a35"
      },
      "source": [
        "# 구글드라이브 연동\n",
        "from google.colab import drive\n",
        "drive.mount('/gdrive', force_remount=True)\n",
        "\n",
        "# 구글 드라이브 파일 확인\n",
        "!ls '/gdrive/My Drive/temp/'\n",
        "\n",
        "# 반복되는 드라이브 경로 변수화\n",
        "drive_path = '/gdrive/My Drive/temp/'"
      ],
      "execution_count": 1,
      "outputs": [
        {
          "output_type": "stream",
          "text": [
            "Mounted at /gdrive\n",
            " 매수종목1.txt\t\t   little-char.png\t   seoul_map.html\n",
            " 매수종목2.txt\t\t   ml_class.png\t\t   sonar.csv\n",
            " adult.data\t\t   pca_1.png\t\t   stock-data.csv\n",
            " auto-mpg.csv\t\t   pca_2.png\t\t  'stock price.xlsx'\n",
            " bmi_500.csv\t\t   pca_3.png\t\t  'stock valuation.xlsx'\n",
            " citibike.csv\t\t   Picture1.png\t\t   test.db.db\n",
            " 매수종목.csv\t\t   population_number.csv   test.txt\n",
            " data_mine.csv\t\t   ram_price.csv\t   ThoraricSurgery.csv\n",
            " data_population.csv\t   ratings_small.txt\t   titanic.xls\n",
            " data_studentlist_en.csv   ratings_test.txt\t   tmdb_5000_credits.csv\n",
            " demo.docx\t\t   ratings_train.txt\t   tmdb_5000_movies.csv\n",
            " diabetes.csv\t\t   sample1.pdf\t\t   Traffic_Accident_2017.csv\n",
            " example.docx\t\t   sample2.pdf\t\t   train.csv\n",
            " height_weight.txt\t   sample.docx\t\t   user_id_mean.csv\n",
            " HelloWorld.xlsx\t   sample_merge.pdf\t   wine.csv\n",
            " house_price.csv\t   sample.xlsx\t\t   주가데이터.xlsx\n",
            " lenna.png\t\t   score.csv\t\t   남북한발전전력량.xlsx\n"
          ],
          "name": "stdout"
        }
      ]
    },
    {
      "cell_type": "markdown",
      "metadata": {
        "collapsed": true,
        "id": "k2mWZPJH82-Z"
      },
      "source": [
        "# Pandas\n",
        "데이터 핸들링\n"
      ]
    },
    {
      "cell_type": "markdown",
      "metadata": {
        "id": "8rMetJFY9kXP"
      },
      "source": [
        "## Pandas 기초\n",
        "Pandas 모듈\n",
        "- Series Class : 1차원\n",
        " - 인덱스(index) + 값(value)\n",
        "- DataFrame Class : 2차원\n",
        " - 표와 같은 형태\n"
      ]
    },
    {
      "cell_type": "code",
      "metadata": {
        "id": "BCaVXlgv-FKu"
      },
      "source": [
        "#판다스는 표중심 데이터. 3차원 없음. \n",
        "#둘 다 클래스다.\n",
        "\n",
        "import pandas as pd   #np는 넘파이였는데 판다스는 pd네!"
      ],
      "execution_count": 2,
      "outputs": []
    },
    {
      "cell_type": "markdown",
      "metadata": {
        "id": "1rBZddx9-AVY"
      },
      "source": [
        "### Series"
      ]
    },
    {
      "cell_type": "code",
      "metadata": {
        "colab": {
          "base_uri": "https://localhost:8080/"
        },
        "id": "m_sOp_GEB4PB",
        "outputId": "4439da29-26fc-404a-8457-5c53781744c5"
      },
      "source": [
        "#넘파이에서는 ndarray가 자료구조였는데, 판다스는 자료구조가 2개임. series와 data frame\n",
        "#판다스는 Series (ndarray와 거의 동일) 1차원으로 이뤄진 것. 한 열을 시리즈라고 함.\n",
        "#데이터 프레임은 이런 시리즈가 잔뜩 모여있는 거임. 시리즈(열)들이 모여있는 것.\n",
        "#문서데이터를 보통 테이블 데이터라고 표현함.\n",
        "\n",
        "s = pd.Series( [4,7,-5,3], index=[ 'a','b','d','f'] )   #넘파이 ndarray하는 방식과 일치함.\n",
        "s\n",
        "\n",
        "#오 판다스는 인덱스와 값으로 이루어져있네. 앞부분이 인덱스, 뒷부분이 값.\n",
        "#키 값으로 이뤄진 것과 같다. dtype()도 자동으로 나오네!\n",
        "#앞에는 값 부분, 인덱스 = [] 부분은 인덱스 이름 지정!"
      ],
      "execution_count": null,
      "outputs": [
        {
          "output_type": "execute_result",
          "data": {
            "text/plain": [
              "a    4\n",
              "b    7\n",
              "d   -5\n",
              "f    3\n",
              "dtype: int64"
            ]
          },
          "metadata": {
            "tags": []
          },
          "execution_count": 7
        }
      ]
    },
    {
      "cell_type": "code",
      "metadata": {
        "colab": {
          "base_uri": "https://localhost:8080/"
        },
        "id": "WIk7I8XYgfHL",
        "outputId": "34ca45d7-55e7-43d0-c3ee-bc93d657bade"
      },
      "source": [
        "#값만 확인하기\n",
        "print(s.values)\n",
        "#인덱스만 가져오기\n",
        "print(s.index)    # 인덱스가 문자로 바뀌었기 때문에 object 타입으로 바뀐 것!\n",
        "#타입 확인해보기!\n",
        "print(s.dtype)"
      ],
      "execution_count": null,
      "outputs": [
        {
          "output_type": "stream",
          "text": [
            "[ 4  7 -5  3]\n",
            "Index(['a', 'b', 'd', 'f'], dtype='object')\n",
            "int64\n"
          ],
          "name": "stdout"
        }
      ]
    },
    {
      "cell_type": "markdown",
      "metadata": {
        "id": "xSR61U2jAC6V"
      },
      "source": [
        "#### Pandas 연습 01\n",
        "각 도시의 2015년 인구 데이터를 시리즈로 만드시오.\n",
        "```\n",
        "서울    9904312\n",
        "부산    3448737\n",
        "인천    2890451\n",
        "대구    2466052\n",
        "dtype: int64\n",
        "```"
      ]
    },
    {
      "cell_type": "code",
      "metadata": {
        "colab": {
          "base_uri": "https://localhost:8080/"
        },
        "id": "6udgMjYXB8qt",
        "outputId": "fb4671fb-ce62-4f29-f7bc-73a4c98a3159"
      },
      "source": [
        "#흠 한번 만들어볼까?\n",
        "#인덱스는 서울, 부산, 인천, 대구네. 값은 뭐 또 쭉 있고.\n",
        "\n",
        "s = pd.Series( [9904312,3448737,2890451,2466052], \n",
        "              index=['서울','부산','인천','대구'] ) #두 줄로 만들어도 한 줄로 인식함!\n",
        "s"
      ],
      "execution_count": null,
      "outputs": [
        {
          "output_type": "execute_result",
          "data": {
            "text/plain": [
              "서울    9904312\n",
              "부산    3448737\n",
              "인천    2890451\n",
              "대구    2466052\n",
              "dtype: int64"
            ]
          },
          "metadata": {
            "tags": []
          },
          "execution_count": 3
        }
      ]
    },
    {
      "cell_type": "markdown",
      "metadata": {
        "id": "On5B61edA2Lv"
      },
      "source": [
        "#### Series"
      ]
    },
    {
      "cell_type": "code",
      "metadata": {
        "colab": {
          "base_uri": "https://localhost:8080/"
        },
        "id": "hA4rQ_ROCCQ3",
        "outputId": "e85eb55b-41cc-47d1-a42b-e49caccd9b83"
      },
      "source": [
        "#시리즈에는 이름도 넣을 수 있다. 그러니까 컬럼명. 열 이름을 넣어줄 수 있다. 헤더처럼?\n",
        "# .name =\n",
        "\n",
        "s.name = '인구'\n",
        "s.index.name = '도시'   #인덱스에도 이름 붙여주기 가능~\n",
        "s"
      ],
      "execution_count": null,
      "outputs": [
        {
          "output_type": "execute_result",
          "data": {
            "text/plain": [
              "도시\n",
              "서울    9904312\n",
              "부산    3448737\n",
              "인천    2890451\n",
              "대구    2466052\n",
              "Name: 인구, dtype: int64"
            ]
          },
          "metadata": {
            "tags": []
          },
          "execution_count": 4
        }
      ]
    },
    {
      "cell_type": "code",
      "metadata": {
        "colab": {
          "base_uri": "https://localhost:8080/"
        },
        "id": "Lgh1ji-yifgz",
        "outputId": "8d94989d-7cc9-424a-8d2a-29bcbcd873bd"
      },
      "source": [
        "#시리즈의 연산\n",
        "\n",
        "s / 1000000 #지금 원본은 그대로임. ndarray랑 연산 방법이 같지? 판다스 연산은 넘파이 연산하고 똑같아. \n",
        "            #행렬 연산이라 그런듯? 스칼라배 해주면 당연히 같지~"
      ],
      "execution_count": null,
      "outputs": [
        {
          "output_type": "execute_result",
          "data": {
            "text/plain": [
              "도시\n",
              "서울    9.904312\n",
              "부산    3.448737\n",
              "인천    2.890451\n",
              "대구    2.466052\n",
              "Name: 인구, dtype: float64"
            ]
          },
          "metadata": {
            "tags": []
          },
          "execution_count": 20
        }
      ]
    },
    {
      "cell_type": "code",
      "metadata": {
        "colab": {
          "base_uri": "https://localhost:8080/"
        },
        "id": "hJUamX2Viuj9",
        "outputId": "fa07802e-bd15-47c6-bf37-3bf7fefe880f"
      },
      "source": [
        "#중요한 거! 인덱스! 인덱스에 접근하기!\n",
        "\n",
        "#서울에 접근하기\n",
        "s[0], s['서울']   #동일하게 접근하는 것. 어 그럼 슬라이싱도 이렇게?\n"
      ],
      "execution_count": null,
      "outputs": [
        {
          "output_type": "execute_result",
          "data": {
            "text/plain": [
              "(9904312, 9904312)"
            ]
          },
          "metadata": {
            "tags": []
          },
          "execution_count": 5
        }
      ]
    },
    {
      "cell_type": "code",
      "metadata": {
        "colab": {
          "base_uri": "https://localhost:8080/"
        },
        "id": "flgNPRrgjNGn",
        "outputId": "2eab9072-ef0f-41b9-8393-0808013a38bb"
      },
      "source": [
        "#슬라이싱. \n",
        "#부산과 인천을 가져오고 싶다!\n",
        "s[1:3]\n",
        "\n",
        "#부산에서부터 대구까지 가져오고 싶다면?\n",
        "s[1:4]\n",
        "\n",
        "#시리즈는 좀 다르게 인덱스를 범위로 쓸 수도 있다.\n",
        "#부산부터 대구까지 인덱스로 가져온다면?\n",
        "s['부산':'대구'] #이렇게 슬라이싱 할 때는 이상 미만이 아님. 왜냐면 0부터 가져오는 개념이 아니기 때문에!! 인덱스를 str로 가져오면 그냥 가져오는 거임! 더 직관적이니까 좋긴 해!"
      ],
      "execution_count": null,
      "outputs": [
        {
          "output_type": "execute_result",
          "data": {
            "text/plain": [
              "부산    3448737\n",
              "인천    2890451\n",
              "대구    2466052\n",
              "dtype: int64"
            ]
          },
          "metadata": {
            "tags": []
          },
          "execution_count": 40
        }
      ]
    },
    {
      "cell_type": "code",
      "metadata": {
        "colab": {
          "base_uri": "https://localhost:8080/"
        },
        "id": "ftChvZ1Oiuon",
        "outputId": "c3e44914-4d5a-4bf9-d53a-4f1260e3019e"
      },
      "source": [
        "#팬시 인덱싱\n",
        "\n",
        "#서울 대구 부산만 가져오고 싶다면?\n",
        "s[ [0,3,1] ] #순서대로 되어있지 않아도, 리스트 내에 저장되어있는 순서대로 그대로 가져옴\n",
        "\n",
        "s[ ['서울', '대구', '부산'] ] #내가 바꾼대로 되네~\n"
      ],
      "execution_count": null,
      "outputs": [
        {
          "output_type": "execute_result",
          "data": {
            "text/plain": [
              "도시\n",
              "서울    9904312\n",
              "대구    2466052\n",
              "부산    3448737\n",
              "Name: 인구, dtype: int64"
            ]
          },
          "metadata": {
            "tags": []
          },
          "execution_count": 6
        }
      ]
    },
    {
      "cell_type": "code",
      "metadata": {
        "colab": {
          "base_uri": "https://localhost:8080/"
        },
        "id": "X8QEnTPsm4R1",
        "outputId": "c2f7d15f-7154-4667-c7d2-32960aae263a"
      },
      "source": [
        "#boolean 인덱싱. 조건식 넣는 거!\n",
        "#인구 250만명 이상인 도시만 찾아보기\n",
        "s[ s[:]> 2500000 ]\n",
        "s[ s >= 2500000 ] \n",
        "\n",
        "#둘 다 같은 값이 나오네?"
      ],
      "execution_count": null,
      "outputs": [
        {
          "output_type": "execute_result",
          "data": {
            "text/plain": [
              "서울    9904312\n",
              "부산    3448737\n",
              "인천    2890451\n",
              "dtype: int64"
            ]
          },
          "metadata": {
            "tags": []
          },
          "execution_count": 43
        }
      ]
    },
    {
      "cell_type": "code",
      "metadata": {
        "colab": {
          "base_uri": "https://localhost:8080/"
        },
        "id": "ePsI5xdAm4XG",
        "outputId": "8eddaf1e-4fda-4dc1-eef1-7ccf7e67d7df"
      },
      "source": [
        "#인구 500만 이하 도시\n",
        "s[ s <= 5000000 ]\n",
        "\n",
        "#인구 250만 이상, 500만 이하 도시\n",
        "#이건 내가 푼 거. 다른 방법 뭐 없나?\n",
        "v = s[ s <= 5000000 ]\n",
        "x = v[ v >= 2500000 ]\n",
        "x\n",
        "\n",
        "#and 연산자는 그냥 쓰면 사용불가임. 왜냐면 연산자 우선순위가 존재하는데, 지금 누가 먼저 진행되야하는지 모름.\n",
        "#여기서는 괄호로 우선순위를 지정해줬기 때문에 사용 가능.\n",
        "s [ (s[ s <= 5000000 ]) & (s[ s >= 2500000 ]) ]\n",
        "\n",
        "#앞에와 똑같은 효과를 냄. 그냥 이렇게 나열해도 가능.\n",
        "s[ s <= 5000000 ][ s >= 2500000 ]\n"
      ],
      "execution_count": null,
      "outputs": [
        {
          "output_type": "execute_result",
          "data": {
            "text/plain": [
              "부산    3448737\n",
              "인천    2890451\n",
              "dtype: int64"
            ]
          },
          "metadata": {
            "tags": []
          },
          "execution_count": 53
        }
      ]
    },
    {
      "cell_type": "code",
      "metadata": {
        "colab": {
          "base_uri": "https://localhost:8080/"
        },
        "id": "zozhE_12izSZ",
        "outputId": "cbf3bbda-d60f-4653-a734-cc580a919ef3"
      },
      "source": [
        "#딕셔너리 객체로 시리즈 생성.  2010년 인구데이터\n",
        "#딕셔너리 넣으면 키가 인덱스가 된다. 값은 시리즈의 값이 되고. \n",
        "\n",
        "data = {'서울': 9631482, '부산': 3393191, '인천': 2632035, '대전': 1490158}\n",
        "s2 = pd.Series(data) #키가 인덱스가 되고, 값은 시리즈의 값이 됨. #Series는 리스트도 받고 딕셔너리도 받네?\n",
        "s2"
      ],
      "execution_count": null,
      "outputs": [
        {
          "output_type": "execute_result",
          "data": {
            "text/plain": [
              "서울    9631482\n",
              "부산    3393191\n",
              "인천    2632035\n",
              "대전    1490158\n",
              "dtype: int64"
            ]
          },
          "metadata": {
            "tags": []
          },
          "execution_count": 7
        }
      ]
    },
    {
      "cell_type": "code",
      "metadata": {
        "colab": {
          "base_uri": "https://localhost:8080/"
        },
        "id": "GprQu7o_izZb",
        "outputId": "30e3e941-5620-4453-c431-b0f391653cdf"
      },
      "source": [
        "# 2015년도와 2010년도의 인구 증가를 계산해보자.\n",
        "#s와 s2 데이터가 있다\n",
        "#s2가 2010이다\n",
        "print(s)\n",
        "print(s2)\n",
        "ds = s - s2\n",
        "ds"
      ],
      "execution_count": null,
      "outputs": [
        {
          "output_type": "stream",
          "text": [
            "서울    9904312\n",
            "부산    3448737\n",
            "인천    2890451\n",
            "대구    2466052\n",
            "dtype: int64\n",
            "서울    9631482\n",
            "부산    3393191\n",
            "인천    2632035\n",
            "대전    1490158\n",
            "dtype: int64\n"
          ],
          "name": "stdout"
        },
        {
          "output_type": "execute_result",
          "data": {
            "text/plain": [
              "대구         NaN\n",
              "대전         NaN\n",
              "부산     55546.0\n",
              "서울    272830.0\n",
              "인천    258416.0\n",
              "dtype: float64"
            ]
          },
          "metadata": {
            "tags": []
          },
          "execution_count": 60
        }
      ]
    },
    {
      "cell_type": "code",
      "metadata": {
        "colab": {
          "base_uri": "https://localhost:8080/"
        },
        "id": "gqMs3j5Dq_3X",
        "outputId": "52ffd5e8-996e-4540-ccef-f903d08c5850"
      },
      "source": [
        "#대구와 대전은 안보고 싶잖아. Nan으로 나오니까\n",
        "ds.notnull() #T F로 구분해줌. Nan이 아닌 애들만 True로. 그럼 이걸 조건에 넣어서\n",
        "ds[ ds.notnull() ] #조건을 쓰는 게 불린 인덱스임. 불린은 조건식 쓰는 거랑 같으니까 그렇게 생각해도 돼!\n",
        "\n",
        "#이건 Nan만 보고 싶을 때 ㅋㅋ\n",
        "ds.isnull()\n",
        "ds[ ds.isnull() ]"
      ],
      "execution_count": null,
      "outputs": [
        {
          "output_type": "execute_result",
          "data": {
            "text/plain": [
              "대구   NaN\n",
              "대전   NaN\n",
              "dtype: float64"
            ]
          },
          "metadata": {
            "tags": []
          },
          "execution_count": 63
        }
      ]
    },
    {
      "cell_type": "code",
      "metadata": {
        "colab": {
          "base_uri": "https://localhost:8080/"
        },
        "id": "lwNqrSVnq_9y",
        "outputId": "31de954f-77f1-4812-f73d-a9991951baab"
      },
      "source": [
        "# 2015년도와 2010년도의 인구 증가율(%)을 계산해보자.\n",
        "# s와 s2 데이터가 있다\n",
        "# s2가 2010이다\n",
        "\n",
        "# 증감율 공식\n",
        "# (비교대상 - 기준) / 기준 * 100\n",
        "rs = (s - s2) / s2 * 100\n",
        "rs[ rs.notnull() ]"
      ],
      "execution_count": null,
      "outputs": [
        {
          "output_type": "execute_result",
          "data": {
            "text/plain": [
              "부산    1.636984\n",
              "서울    2.832690\n",
              "인천    9.818107\n",
              "dtype: float64"
            ]
          },
          "metadata": {
            "tags": []
          },
          "execution_count": 65
        }
      ]
    },
    {
      "cell_type": "code",
      "metadata": {
        "colab": {
          "base_uri": "https://localhost:8080/"
        },
        "id": "ej32so_Es0Bq",
        "outputId": "1cee838a-a97c-4f8f-a467-392d7d7d8218"
      },
      "source": [
        "#나중에 대전과 대구에 값을 넣고 싶어졌다면?\n",
        "\n",
        "rs['대구'] = 1.41 #딕셔너리에 값 넣는 거랑 같네. 키 지정하고 값 지정해가지구.\n",
        "rs    #뭐 이런 식으로 바로 값을 넣고 바꿀 수 있음. 만약 지우고 싶다면 del 사용가능\n",
        "del rs['서울'] #서울을 삭제시키기\n",
        "\n",
        "\n",
        "# 자 지금까지 Series는 1차원이었고.. 이제 2차원 가보자"
      ],
      "execution_count": null,
      "outputs": [
        {
          "output_type": "execute_result",
          "data": {
            "text/plain": [
              "대구    1.410000\n",
              "대전         NaN\n",
              "부산    1.636984\n",
              "인천    9.818107\n",
              "dtype: float64"
            ]
          },
          "metadata": {
            "tags": []
          },
          "execution_count": 67
        }
      ]
    },
    {
      "cell_type": "markdown",
      "metadata": {
        "id": "ZdYRMNytFzr9"
      },
      "source": [
        "### DataFrame"
      ]
    },
    {
      "cell_type": "code",
      "metadata": {
        "colab": {
          "base_uri": "https://localhost:8080/",
          "height": 261
        },
        "id": "73I0JMyUF8l2",
        "outputId": "323d9e7f-219e-4027-eb5e-4c08ddf9fc49"
      },
      "source": [
        "# DataFrame 생성\n",
        "data = {\"2015\": [9904312, 3448737, 2890451, 2466052],\n",
        "        \"2010\": [9631482, 3393191, 2632035, 2431774]} #확실히 데이터프레임 들어오자마자 나오는게 키:값쌍으로 받는데 키 이름을 열에 넣네. 열중심이 맞네.\n",
        "\n",
        "#여기서는 값 부분이 리스트로 들어가져 있다. \n",
        "df = pd.DataFrame(data)\n",
        "df  #보통 데이터프레임을 df라고 많이 부름.\n",
        "    # 2015랑 2010이 각각의 시리즈다. 알겠지? \n",
        "    #원래 표 모양 유지시키면서 출력하고 싶으면 print()말고\n",
        "display(df) #표모양\n",
        "print(df)   #텍스트 모양\n"
      ],
      "execution_count": null,
      "outputs": [
        {
          "output_type": "display_data",
          "data": {
            "text/html": [
              "<div>\n",
              "<style scoped>\n",
              "    .dataframe tbody tr th:only-of-type {\n",
              "        vertical-align: middle;\n",
              "    }\n",
              "\n",
              "    .dataframe tbody tr th {\n",
              "        vertical-align: top;\n",
              "    }\n",
              "\n",
              "    .dataframe thead th {\n",
              "        text-align: right;\n",
              "    }\n",
              "</style>\n",
              "<table border=\"1\" class=\"dataframe\">\n",
              "  <thead>\n",
              "    <tr style=\"text-align: right;\">\n",
              "      <th></th>\n",
              "      <th>2015</th>\n",
              "      <th>2010</th>\n",
              "    </tr>\n",
              "  </thead>\n",
              "  <tbody>\n",
              "    <tr>\n",
              "      <th>0</th>\n",
              "      <td>9904312</td>\n",
              "      <td>9631482</td>\n",
              "    </tr>\n",
              "    <tr>\n",
              "      <th>1</th>\n",
              "      <td>3448737</td>\n",
              "      <td>3393191</td>\n",
              "    </tr>\n",
              "    <tr>\n",
              "      <th>2</th>\n",
              "      <td>2890451</td>\n",
              "      <td>2632035</td>\n",
              "    </tr>\n",
              "    <tr>\n",
              "      <th>3</th>\n",
              "      <td>2466052</td>\n",
              "      <td>2431774</td>\n",
              "    </tr>\n",
              "  </tbody>\n",
              "</table>\n",
              "</div>"
            ],
            "text/plain": [
              "      2015     2010\n",
              "0  9904312  9631482\n",
              "1  3448737  3393191\n",
              "2  2890451  2632035\n",
              "3  2466052  2431774"
            ]
          },
          "metadata": {
            "tags": []
          }
        },
        {
          "output_type": "stream",
          "text": [
            "      2015     2010\n",
            "0  9904312  9631482\n",
            "1  3448737  3393191\n",
            "2  2890451  2632035\n",
            "3  2466052  2431774\n"
          ],
          "name": "stdout"
        }
      ]
    },
    {
      "cell_type": "code",
      "metadata": {
        "colab": {
          "base_uri": "https://localhost:8080/",
          "height": 172
        },
        "id": "scSuFCk2GTuT",
        "outputId": "967e3545-4d90-48bb-d087-45522e9db2c2"
      },
      "source": [
        "#DataFrame 인덱스 수정\n",
        "#이것도 리스트로 수정하면 됨\n",
        "df.index = ['서울','부산','인천','대구']\n",
        "df\n",
        "#뭔가 합치거나 할 때는 인덱스가 동일하면 돼."
      ],
      "execution_count": null,
      "outputs": [
        {
          "output_type": "execute_result",
          "data": {
            "text/html": [
              "<div>\n",
              "<style scoped>\n",
              "    .dataframe tbody tr th:only-of-type {\n",
              "        vertical-align: middle;\n",
              "    }\n",
              "\n",
              "    .dataframe tbody tr th {\n",
              "        vertical-align: top;\n",
              "    }\n",
              "\n",
              "    .dataframe thead th {\n",
              "        text-align: right;\n",
              "    }\n",
              "</style>\n",
              "<table border=\"1\" class=\"dataframe\">\n",
              "  <thead>\n",
              "    <tr style=\"text-align: right;\">\n",
              "      <th></th>\n",
              "      <th>2015</th>\n",
              "      <th>2010</th>\n",
              "    </tr>\n",
              "  </thead>\n",
              "  <tbody>\n",
              "    <tr>\n",
              "      <th>서울</th>\n",
              "      <td>9904312</td>\n",
              "      <td>9631482</td>\n",
              "    </tr>\n",
              "    <tr>\n",
              "      <th>부산</th>\n",
              "      <td>3448737</td>\n",
              "      <td>3393191</td>\n",
              "    </tr>\n",
              "    <tr>\n",
              "      <th>인천</th>\n",
              "      <td>2890451</td>\n",
              "      <td>2632035</td>\n",
              "    </tr>\n",
              "    <tr>\n",
              "      <th>대구</th>\n",
              "      <td>2466052</td>\n",
              "      <td>2431774</td>\n",
              "    </tr>\n",
              "  </tbody>\n",
              "</table>\n",
              "</div>"
            ],
            "text/plain": [
              "       2015     2010\n",
              "서울  9904312  9631482\n",
              "부산  3448737  3393191\n",
              "인천  2890451  2632035\n",
              "대구  2466052  2431774"
            ]
          },
          "metadata": {
            "tags": []
          },
          "execution_count": 9
        }
      ]
    },
    {
      "cell_type": "code",
      "metadata": {
        "colab": {
          "base_uri": "https://localhost:8080/",
          "height": 110
        },
        "id": "KbDcEsqpGnGS",
        "outputId": "6336dda3-fb95-4cc5-8c75-622a2dd1dd12"
      },
      "source": [
        "# DataFrame 인덱스 지정하여 생성\n",
        "#바로 생성할 때 인덱스를 넣어줄 수도 있음.\n",
        "\n",
        "data = [[9904312, 3448737, 2890451, 2466052],   # 이렇게 2줄 그대로 들어갈 거임. 층에 2015와 2010, 호에 col 들어갈 거임.\n",
        "        [9631482, 3393191, 2632035, 2431774]]\n",
        "ind = ['2015', '2010']\n",
        "col = ['서울','부산','인천','대구']\n",
        "\n",
        "#생성할 때 값 바꾸는 게 제일 편하긴 함ㅋㅋ. \n",
        "df2 = pd.DataFrame(data, index = ind, columns = col)\n",
        "df2"
      ],
      "execution_count": null,
      "outputs": [
        {
          "output_type": "execute_result",
          "data": {
            "text/html": [
              "<div>\n",
              "<style scoped>\n",
              "    .dataframe tbody tr th:only-of-type {\n",
              "        vertical-align: middle;\n",
              "    }\n",
              "\n",
              "    .dataframe tbody tr th {\n",
              "        vertical-align: top;\n",
              "    }\n",
              "\n",
              "    .dataframe thead th {\n",
              "        text-align: right;\n",
              "    }\n",
              "</style>\n",
              "<table border=\"1\" class=\"dataframe\">\n",
              "  <thead>\n",
              "    <tr style=\"text-align: right;\">\n",
              "      <th></th>\n",
              "      <th>서울</th>\n",
              "      <th>부산</th>\n",
              "      <th>인천</th>\n",
              "      <th>대구</th>\n",
              "    </tr>\n",
              "  </thead>\n",
              "  <tbody>\n",
              "    <tr>\n",
              "      <th>2015</th>\n",
              "      <td>9904312</td>\n",
              "      <td>3448737</td>\n",
              "      <td>2890451</td>\n",
              "      <td>2466052</td>\n",
              "    </tr>\n",
              "    <tr>\n",
              "      <th>2010</th>\n",
              "      <td>9631482</td>\n",
              "      <td>3393191</td>\n",
              "      <td>2632035</td>\n",
              "      <td>2431774</td>\n",
              "    </tr>\n",
              "  </tbody>\n",
              "</table>\n",
              "</div>"
            ],
            "text/plain": [
              "           서울       부산       인천       대구\n",
              "2015  9904312  3448737  2890451  2466052\n",
              "2010  9631482  3393191  2632035  2431774"
            ]
          },
          "metadata": {
            "tags": []
          },
          "execution_count": 75
        }
      ]
    },
    {
      "cell_type": "code",
      "metadata": {
        "id": "nDoeVjD3u4WV"
      },
      "source": [
        "#이걸 세워서 쓰고 싶다면 전치행렬 쓰면 됨!\n",
        "df2.T\n",
        "#방향은 바로 전환해서 사용하면 되기 때문에 뭐 방향은 특별한 이슈 없음."
      ],
      "execution_count": null,
      "outputs": []
    },
    {
      "cell_type": "markdown",
      "metadata": {
        "id": "tgk9wRf_HkiR"
      },
      "source": [
        "#### Pandas 연습 02\n",
        "DataFrame을 이용하여 아래와 같은 결과를 구성하시오.\n",
        "\n",
        "| |홍길동|\t김사또|\t임꺽정|\n",
        "|---|---|---|---|\n",
        "|키|\t175.3|\t180.2|\t178.6|\n",
        "|몸무게|\t66.2|\t78.9|\t55.1|\n",
        "|나이|\t27.0|\t49.0|\t35.0|\n"
      ]
    },
    {
      "cell_type": "code",
      "metadata": {
        "colab": {
          "base_uri": "https://localhost:8080/",
          "height": 142
        },
        "id": "ga31yJC8COsv",
        "outputId": "ae00765e-c2be-438c-8ded-6786adaaf94f"
      },
      "source": [
        "#??? 대체 뭐가 다른 거지 걍 똑같은데 ㅋㅋㅋ\n",
        "\n",
        "data = [[175.3, 180.2, 178.6],\n",
        "        [66.2, 78.9, 55.1],\n",
        "        [27.0, 49.0, 35.0]]\n",
        "\n",
        "'''\n",
        "[[175.3, 180.2,178.6],\n",
        " [66.2, 78.9, 55,1],\n",
        " [27.0, 49.0, 35.0]]\n",
        "'''\n",
        "\n",
        "ind = ['키','몸무게','나이']\n",
        "\n",
        "col = ['홍길동','김사또','임꺽정']\n",
        "\n",
        "df3 = pd.DataFrame(data, index=ind, columns=col)\n",
        "df3"
      ],
      "execution_count": null,
      "outputs": [
        {
          "output_type": "execute_result",
          "data": {
            "text/html": [
              "<div>\n",
              "<style scoped>\n",
              "    .dataframe tbody tr th:only-of-type {\n",
              "        vertical-align: middle;\n",
              "    }\n",
              "\n",
              "    .dataframe tbody tr th {\n",
              "        vertical-align: top;\n",
              "    }\n",
              "\n",
              "    .dataframe thead th {\n",
              "        text-align: right;\n",
              "    }\n",
              "</style>\n",
              "<table border=\"1\" class=\"dataframe\">\n",
              "  <thead>\n",
              "    <tr style=\"text-align: right;\">\n",
              "      <th></th>\n",
              "      <th>홍길동</th>\n",
              "      <th>김사또</th>\n",
              "      <th>임꺽정</th>\n",
              "    </tr>\n",
              "  </thead>\n",
              "  <tbody>\n",
              "    <tr>\n",
              "      <th>키</th>\n",
              "      <td>175.3</td>\n",
              "      <td>180.2</td>\n",
              "      <td>178.6</td>\n",
              "    </tr>\n",
              "    <tr>\n",
              "      <th>몸무게</th>\n",
              "      <td>66.2</td>\n",
              "      <td>78.9</td>\n",
              "      <td>55.1</td>\n",
              "    </tr>\n",
              "    <tr>\n",
              "      <th>나이</th>\n",
              "      <td>27.0</td>\n",
              "      <td>49.0</td>\n",
              "      <td>35.0</td>\n",
              "    </tr>\n",
              "  </tbody>\n",
              "</table>\n",
              "</div>"
            ],
            "text/plain": [
              "       홍길동    김사또    임꺽정\n",
              "키    175.3  180.2  178.6\n",
              "몸무게   66.2   78.9   55.1\n",
              "나이    27.0   49.0   35.0"
            ]
          },
          "metadata": {
            "tags": []
          },
          "execution_count": 90
        }
      ]
    },
    {
      "cell_type": "code",
      "metadata": {
        "colab": {
          "base_uri": "https://localhost:8080/",
          "height": 142
        },
        "id": "bGk8hq9ax_gF",
        "outputId": "d63eba7e-bfd0-4275-c967-301884933080"
      },
      "source": [
        "data = [[175.3, 180.2, 178.6],\n",
        "        [66.2, 78.9, 55.1],\n",
        "        [27.0, 49.0, 35.0]]\n",
        "ind = ['키', '몸무게', '나이']\n",
        "col = ['홍길동','김사또','임꺽정']\n",
        "\n",
        "df3 = pd.DataFrame(data, index=ind, columns=col)\n",
        "df3"
      ],
      "execution_count": null,
      "outputs": [
        {
          "output_type": "execute_result",
          "data": {
            "text/html": [
              "<div>\n",
              "<style scoped>\n",
              "    .dataframe tbody tr th:only-of-type {\n",
              "        vertical-align: middle;\n",
              "    }\n",
              "\n",
              "    .dataframe tbody tr th {\n",
              "        vertical-align: top;\n",
              "    }\n",
              "\n",
              "    .dataframe thead th {\n",
              "        text-align: right;\n",
              "    }\n",
              "</style>\n",
              "<table border=\"1\" class=\"dataframe\">\n",
              "  <thead>\n",
              "    <tr style=\"text-align: right;\">\n",
              "      <th></th>\n",
              "      <th>홍길동</th>\n",
              "      <th>김사또</th>\n",
              "      <th>임꺽정</th>\n",
              "    </tr>\n",
              "  </thead>\n",
              "  <tbody>\n",
              "    <tr>\n",
              "      <th>키</th>\n",
              "      <td>175.3</td>\n",
              "      <td>180.2</td>\n",
              "      <td>178.6</td>\n",
              "    </tr>\n",
              "    <tr>\n",
              "      <th>몸무게</th>\n",
              "      <td>66.2</td>\n",
              "      <td>78.9</td>\n",
              "      <td>55.1</td>\n",
              "    </tr>\n",
              "    <tr>\n",
              "      <th>나이</th>\n",
              "      <td>27.0</td>\n",
              "      <td>49.0</td>\n",
              "      <td>35.0</td>\n",
              "    </tr>\n",
              "  </tbody>\n",
              "</table>\n",
              "</div>"
            ],
            "text/plain": [
              "       홍길동    김사또    임꺽정\n",
              "키    175.3  180.2  178.6\n",
              "몸무게   66.2   78.9   55.1\n",
              "나이    27.0   49.0   35.0"
            ]
          },
          "metadata": {
            "tags": []
          },
          "execution_count": 87
        }
      ]
    },
    {
      "cell_type": "code",
      "metadata": {
        "colab": {
          "base_uri": "https://localhost:8080/",
          "height": 141
        },
        "id": "Nfk-RznL7HhC",
        "outputId": "77b4c633-832b-4c3e-b10c-3edea4474d30"
      },
      "source": [
        "data = [[175.3, 180.2, 178.6],\n",
        "        [66.2, 78.9, 55.1],\n",
        "        [27.0, 49.0, 35.0]]\n",
        "\n",
        "ind = ['키','몸무게', '나이']\n",
        "col = ['홍길동','김사또','임꺽정']\n",
        "\n",
        "\n",
        "df3 = pd.DataFrame(data, index=ind, columns=col)\n",
        "df3"
      ],
      "execution_count": null,
      "outputs": [
        {
          "output_type": "execute_result",
          "data": {
            "text/html": [
              "<div>\n",
              "<style scoped>\n",
              "    .dataframe tbody tr th:only-of-type {\n",
              "        vertical-align: middle;\n",
              "    }\n",
              "\n",
              "    .dataframe tbody tr th {\n",
              "        vertical-align: top;\n",
              "    }\n",
              "\n",
              "    .dataframe thead th {\n",
              "        text-align: right;\n",
              "    }\n",
              "</style>\n",
              "<table border=\"1\" class=\"dataframe\">\n",
              "  <thead>\n",
              "    <tr style=\"text-align: right;\">\n",
              "      <th></th>\n",
              "      <th>홍길동</th>\n",
              "      <th>김사또</th>\n",
              "      <th>임꺽정</th>\n",
              "    </tr>\n",
              "  </thead>\n",
              "  <tbody>\n",
              "    <tr>\n",
              "      <th>키</th>\n",
              "      <td>175.3</td>\n",
              "      <td>180.2</td>\n",
              "      <td>178.6</td>\n",
              "    </tr>\n",
              "    <tr>\n",
              "      <th>몸무게</th>\n",
              "      <td>66.2</td>\n",
              "      <td>78.9</td>\n",
              "      <td>55.1</td>\n",
              "    </tr>\n",
              "    <tr>\n",
              "      <th>나이</th>\n",
              "      <td>27.0</td>\n",
              "      <td>49.0</td>\n",
              "      <td>35.0</td>\n",
              "    </tr>\n",
              "  </tbody>\n",
              "</table>\n",
              "</div>"
            ],
            "text/plain": [
              "       홍길동    김사또    임꺽정\n",
              "키    175.3  180.2  178.6\n",
              "몸무게   66.2   78.9   55.1\n",
              "나이    27.0   49.0   35.0"
            ]
          },
          "metadata": {
            "tags": []
          },
          "execution_count": 11
        }
      ]
    },
    {
      "cell_type": "code",
      "metadata": {
        "colab": {
          "base_uri": "https://localhost:8080/",
          "height": 141
        },
        "id": "sSfa6QSr9gD3",
        "outputId": "31d002b8-dec6-4cf1-ad7d-5ba0e9bd1897"
      },
      "source": [
        "#홍길동 3회차\n",
        "import pandas as pd\n",
        "\n",
        "data = [[175.3, 180.2, 178.6],\n",
        "        [66.2, 78.9, 55.1],\n",
        "        [27.0, 49.0, 35.0]]\n",
        "\n",
        "ind = ['키','몸무게', '나이']\n",
        "col = ['홍길동','김사또','임꺽정']\n",
        "\n",
        "df3 = pd.DataFrame(data, index=ind, columns=col)\n",
        "df3\n"
      ],
      "execution_count": null,
      "outputs": [
        {
          "output_type": "execute_result",
          "data": {
            "text/html": [
              "<div>\n",
              "<style scoped>\n",
              "    .dataframe tbody tr th:only-of-type {\n",
              "        vertical-align: middle;\n",
              "    }\n",
              "\n",
              "    .dataframe tbody tr th {\n",
              "        vertical-align: top;\n",
              "    }\n",
              "\n",
              "    .dataframe thead th {\n",
              "        text-align: right;\n",
              "    }\n",
              "</style>\n",
              "<table border=\"1\" class=\"dataframe\">\n",
              "  <thead>\n",
              "    <tr style=\"text-align: right;\">\n",
              "      <th></th>\n",
              "      <th>홍길동</th>\n",
              "      <th>김사또</th>\n",
              "      <th>임꺽정</th>\n",
              "    </tr>\n",
              "  </thead>\n",
              "  <tbody>\n",
              "    <tr>\n",
              "      <th>키</th>\n",
              "      <td>175.3</td>\n",
              "      <td>180.2</td>\n",
              "      <td>178.6</td>\n",
              "    </tr>\n",
              "    <tr>\n",
              "      <th>몸무게</th>\n",
              "      <td>66.2</td>\n",
              "      <td>78.9</td>\n",
              "      <td>55.1</td>\n",
              "    </tr>\n",
              "    <tr>\n",
              "      <th>나이</th>\n",
              "      <td>27.0</td>\n",
              "      <td>49.0</td>\n",
              "      <td>35.0</td>\n",
              "    </tr>\n",
              "  </tbody>\n",
              "</table>\n",
              "</div>"
            ],
            "text/plain": [
              "       홍길동    김사또    임꺽정\n",
              "키    175.3  180.2  178.6\n",
              "몸무게   66.2   78.9   55.1\n",
              "나이    27.0   49.0   35.0"
            ]
          },
          "metadata": {
            "tags": []
          },
          "execution_count": 3
        }
      ]
    },
    {
      "cell_type": "markdown",
      "metadata": {
        "id": "SKBEPw-uIzSu"
      },
      "source": [
        "#### DataFrame"
      ]
    },
    {
      "cell_type": "code",
      "metadata": {
        "colab": {
          "base_uri": "https://localhost:8080/"
        },
        "id": "UPlY66otI2mi",
        "outputId": "314336c8-d6f6-40e7-e605-b447a766a289"
      },
      "source": [
        " # 값 확인\n",
        " print(df.values)\n",
        " # 인덱스 확인\n",
        " print(df.index)\n",
        " # 컬럼 확인\n",
        " print(df.columns)\n",
        "\n"
      ],
      "execution_count": null,
      "outputs": [
        {
          "output_type": "stream",
          "text": [
            "[[9904312 9631482]\n",
            " [3448737 3393191]\n",
            " [2890451 2632035]\n",
            " [2466052 2431774]]\n",
            "Index(['서울', '부산', '인천', '대구'], dtype='object')\n",
            "Index(['2015', '2010'], dtype='object')\n"
          ],
          "name": "stdout"
        }
      ]
    },
    {
      "cell_type": "code",
      "metadata": {
        "colab": {
          "base_uri": "https://localhost:8080/",
          "height": 172
        },
        "id": "uQkgTaK-JEOm",
        "outputId": "1d1a21ad-be74-4a6e-fee3-a2764923607a"
      },
      "source": [
        "# DataFrame 열을 가져오고 싶다면!\n",
        "df['2015']  #얘는 행이 아니라 열이 먼저 기준이 돼서 가져옴. 이렇게 가지고 온 곳에서 서울만 갖고 오고 싶다면\n",
        "df['2015']['서울']    #열에 먼저 접근하고 행에 접근해야돼\n",
        "#df['서울']  #이건 에러가 뜸. 왜냐면 열에 먼저 접근 안하고 행에 먼저 접근해서. \n",
        "\n",
        "df[ ['2010','2015'] ] #pd는 열이 먼저 기준이야. 항상 시리즈 단위로 먼저 옴. 열 단위로 먼저 접근한다는 것만 차이다. 열 중심인 게 약간의 혼선임."
      ],
      "execution_count": null,
      "outputs": [
        {
          "output_type": "execute_result",
          "data": {
            "text/html": [
              "<div>\n",
              "<style scoped>\n",
              "    .dataframe tbody tr th:only-of-type {\n",
              "        vertical-align: middle;\n",
              "    }\n",
              "\n",
              "    .dataframe tbody tr th {\n",
              "        vertical-align: top;\n",
              "    }\n",
              "\n",
              "    .dataframe thead th {\n",
              "        text-align: right;\n",
              "    }\n",
              "</style>\n",
              "<table border=\"1\" class=\"dataframe\">\n",
              "  <thead>\n",
              "    <tr style=\"text-align: right;\">\n",
              "      <th></th>\n",
              "      <th>2010</th>\n",
              "      <th>2015</th>\n",
              "    </tr>\n",
              "  </thead>\n",
              "  <tbody>\n",
              "    <tr>\n",
              "      <th>서울</th>\n",
              "      <td>9631482</td>\n",
              "      <td>9904312</td>\n",
              "    </tr>\n",
              "    <tr>\n",
              "      <th>부산</th>\n",
              "      <td>3393191</td>\n",
              "      <td>3448737</td>\n",
              "    </tr>\n",
              "    <tr>\n",
              "      <th>인천</th>\n",
              "      <td>2632035</td>\n",
              "      <td>2890451</td>\n",
              "    </tr>\n",
              "    <tr>\n",
              "      <th>대구</th>\n",
              "      <td>2431774</td>\n",
              "      <td>2466052</td>\n",
              "    </tr>\n",
              "  </tbody>\n",
              "</table>\n",
              "</div>"
            ],
            "text/plain": [
              "       2010     2015\n",
              "서울  9631482  9904312\n",
              "부산  3393191  3448737\n",
              "인천  2632035  2890451\n",
              "대구  2431774  2466052"
            ]
          },
          "metadata": {
            "tags": []
          },
          "execution_count": 14
        }
      ]
    },
    {
      "cell_type": "code",
      "metadata": {
        "colab": {
          "base_uri": "https://localhost:8080/",
          "height": 203
        },
        "id": "9lJU1FZwJrur",
        "outputId": "eee9d663-838b-4c07-cd07-e584d677dd8f"
      },
      "source": [
        "# \"2005\" 라는 컬럼명으로 2005년 인구수 대입\n",
        "# 2005년을 추가하고 싶다!\n",
        "\n",
        "data_2005 =  [9762546, 3512547, 2517680, 2456016]\n",
        "\n",
        "#df['2005'] = [9762546, 3512547, 2517680, 2456016]   #키값쌍 만드는 것처럼 2005라는 열을 만들고 값을 넣어줌.\n",
        "#df      #DataFrame에서는 열 방향 위주니까.. 아마 계속 헷갈릴거임 ㅋㅋㅋ\n",
        "\n",
        "df['2005'] = data_2005 #딕셔너리 키:값 쌍 넣는 것처럼 넣어주면 돼~\n",
        "df"
      ],
      "execution_count": null,
      "outputs": [
        {
          "output_type": "execute_result",
          "data": {
            "text/html": [
              "<div>\n",
              "<style scoped>\n",
              "    .dataframe tbody tr th:only-of-type {\n",
              "        vertical-align: middle;\n",
              "    }\n",
              "\n",
              "    .dataframe tbody tr th {\n",
              "        vertical-align: top;\n",
              "    }\n",
              "\n",
              "    .dataframe thead th {\n",
              "        text-align: right;\n",
              "    }\n",
              "</style>\n",
              "<table border=\"1\" class=\"dataframe\">\n",
              "  <thead>\n",
              "    <tr style=\"text-align: right;\">\n",
              "      <th></th>\n",
              "      <th>지역</th>\n",
              "      <th>2015</th>\n",
              "      <th>2010</th>\n",
              "      <th>2005</th>\n",
              "      <th>2000</th>\n",
              "    </tr>\n",
              "    <tr>\n",
              "      <th>도시</th>\n",
              "      <th></th>\n",
              "      <th></th>\n",
              "      <th></th>\n",
              "      <th></th>\n",
              "      <th></th>\n",
              "    </tr>\n",
              "  </thead>\n",
              "  <tbody>\n",
              "    <tr>\n",
              "      <th>서울</th>\n",
              "      <td>수도권</td>\n",
              "      <td>9904312</td>\n",
              "      <td>9631482.0</td>\n",
              "      <td>9762546</td>\n",
              "      <td>9853972</td>\n",
              "    </tr>\n",
              "    <tr>\n",
              "      <th>부산</th>\n",
              "      <td>경상권</td>\n",
              "      <td>3448737</td>\n",
              "      <td>NaN</td>\n",
              "      <td>3512547</td>\n",
              "      <td>3655437</td>\n",
              "    </tr>\n",
              "    <tr>\n",
              "      <th>인천</th>\n",
              "      <td>수도권</td>\n",
              "      <td>2890451</td>\n",
              "      <td>2632035.0</td>\n",
              "      <td>2517680</td>\n",
              "      <td>2466338</td>\n",
              "    </tr>\n",
              "    <tr>\n",
              "      <th>대구</th>\n",
              "      <td>경상권</td>\n",
              "      <td>2466052</td>\n",
              "      <td>2431774.0</td>\n",
              "      <td>2456016</td>\n",
              "      <td>2473990</td>\n",
              "    </tr>\n",
              "  </tbody>\n",
              "</table>\n",
              "</div>"
            ],
            "text/plain": [
              "     지역     2015       2010     2005     2000\n",
              "도시                                           \n",
              "서울  수도권  9904312  9631482.0  9762546  9853972\n",
              "부산  경상권  3448737        NaN  3512547  3655437\n",
              "인천  수도권  2890451  2632035.0  2517680  2466338\n",
              "대구  경상권  2466052  2431774.0  2456016  2473990"
            ]
          },
          "metadata": {
            "tags": []
          },
          "execution_count": 129
        }
      ]
    },
    {
      "cell_type": "code",
      "metadata": {
        "colab": {
          "base_uri": "https://localhost:8080/",
          "height": 142
        },
        "id": "LrHJ5INH0jQ_",
        "outputId": "a9b2041c-e284-4040-db09-6d7041121c28"
      },
      "source": [
        "#인덱싱! 값 접근하기!\n",
        "#슬라이싱을 사용할 때는 행단위로 됨ㅋㅋ ㅠㅠ이게 대체 뭐얌 ㅠㅠ 아하! 그래서 범위 쓸 때 loc 사용 권장이잖아! loc은 ndarray랑 마찬가지로 행부터 시작하니까~\n",
        "\n",
        "df[0:1]   #열단위 아니었나? 이건 행단위 아님? 하지만, 범위 슬라이싱 했을 때는 서울만 오게 됨.\n",
        "#df['서울'] #이렇게 하나만 쓸 때는 열 단위임.. 서울만 넣어놓으면 오류 떠 \n",
        "df['서울':'인천'] #근데 이렇게 범위 지정을 해주면 또 행단위로 나와. "
      ],
      "execution_count": null,
      "outputs": [
        {
          "output_type": "execute_result",
          "data": {
            "text/html": [
              "<div>\n",
              "<style scoped>\n",
              "    .dataframe tbody tr th:only-of-type {\n",
              "        vertical-align: middle;\n",
              "    }\n",
              "\n",
              "    .dataframe tbody tr th {\n",
              "        vertical-align: top;\n",
              "    }\n",
              "\n",
              "    .dataframe thead th {\n",
              "        text-align: right;\n",
              "    }\n",
              "</style>\n",
              "<table border=\"1\" class=\"dataframe\">\n",
              "  <thead>\n",
              "    <tr style=\"text-align: right;\">\n",
              "      <th></th>\n",
              "      <th>2015</th>\n",
              "      <th>2010</th>\n",
              "      <th>2005</th>\n",
              "    </tr>\n",
              "  </thead>\n",
              "  <tbody>\n",
              "    <tr>\n",
              "      <th>서울</th>\n",
              "      <td>9904312</td>\n",
              "      <td>9631482</td>\n",
              "      <td>9762546</td>\n",
              "    </tr>\n",
              "    <tr>\n",
              "      <th>부산</th>\n",
              "      <td>3448737</td>\n",
              "      <td>3393191</td>\n",
              "      <td>3512547</td>\n",
              "    </tr>\n",
              "    <tr>\n",
              "      <th>인천</th>\n",
              "      <td>2890451</td>\n",
              "      <td>2632035</td>\n",
              "      <td>2517680</td>\n",
              "    </tr>\n",
              "  </tbody>\n",
              "</table>\n",
              "</div>"
            ],
            "text/plain": [
              "       2015     2010     2005\n",
              "서울  9904312  9631482  9762546\n",
              "부산  3448737  3393191  3512547\n",
              "인천  2890451  2632035  2517680"
            ]
          },
          "metadata": {
            "tags": []
          },
          "execution_count": 94
        }
      ]
    },
    {
      "cell_type": "code",
      "metadata": {
        "colab": {
          "base_uri": "https://localhost:8080/"
        },
        "id": "KrAZK64L1S1w",
        "outputId": "ab9931e6-6f33-411a-a444-9b5739efdfc2"
      },
      "source": [
        "#boolean 인덱싱. 불린 인덱싱은 그거잖아. 조건식 넣기.\n",
        "\n",
        "df['2010'] > 2500000\n",
        "df[ df['2010'] > 2500000 ] #250만 이상인 것만 이렇게 나오게 됨.\n",
        "\n",
        "#2010년도를 기준으로 250만명 이상인 것을 가져오겠다. 2010으로 국한하겠다.\n",
        "df[ '2010' ][ df['2010'] > 2500000 ] #이렇게 하면 2010년도만 출력함. #여기서도 지금 봐야하는게 열중심이라서 열만 뽑아쓰고 있음.\n",
        "\n",
        "#괄호가 많아서 혼란스러울 뿐이야... 이건 진짜 좀 그렇긴 하네."
      ],
      "execution_count": null,
      "outputs": [
        {
          "output_type": "execute_result",
          "data": {
            "text/plain": [
              "서울    9631482\n",
              "부산    3393191\n",
              "인천    2632035\n",
              "Name: 2010, dtype: int64"
            ]
          },
          "metadata": {
            "tags": []
          },
          "execution_count": 97
        }
      ]
    },
    {
      "cell_type": "markdown",
      "metadata": {
        "id": "oWFt2Q-2KOVM"
      },
      "source": [
        "#### loc, iloc 인덱서"
      ]
    },
    {
      "cell_type": "code",
      "metadata": {
        "colab": {
          "base_uri": "https://localhost:8080/",
          "height": 110
        },
        "id": "VninBmfEKJdX",
        "outputId": "da3eb2d5-0270-4d0e-ea19-2ece43651c52"
      },
      "source": [
        "# loc[] - 실제 인덱스를 사용하여 행을 가지고 올 때 사용\n",
        "# df.loc[행, 열]\n",
        "\n",
        "#범위할 때는 명확하게 하자! 이런 의미로 인덱서가 생겼음.\n",
        "#이거 사용 많이 하라고 권장함. \n",
        "\n",
        "# [행 부분, 열 부분] \n",
        "# 서울부터 부산까지, 15년도부터 10년도까지\n",
        "df.loc['서울':'부산', '2015':'2010']  #그래 이거지. 이게 나라다~ 행 - 열"
      ],
      "execution_count": null,
      "outputs": [
        {
          "output_type": "execute_result",
          "data": {
            "text/html": [
              "<div>\n",
              "<style scoped>\n",
              "    .dataframe tbody tr th:only-of-type {\n",
              "        vertical-align: middle;\n",
              "    }\n",
              "\n",
              "    .dataframe tbody tr th {\n",
              "        vertical-align: top;\n",
              "    }\n",
              "\n",
              "    .dataframe thead th {\n",
              "        text-align: right;\n",
              "    }\n",
              "</style>\n",
              "<table border=\"1\" class=\"dataframe\">\n",
              "  <thead>\n",
              "    <tr style=\"text-align: right;\">\n",
              "      <th></th>\n",
              "      <th>2015</th>\n",
              "      <th>2010</th>\n",
              "    </tr>\n",
              "  </thead>\n",
              "  <tbody>\n",
              "    <tr>\n",
              "      <th>서울</th>\n",
              "      <td>9904312</td>\n",
              "      <td>9631482</td>\n",
              "    </tr>\n",
              "    <tr>\n",
              "      <th>부산</th>\n",
              "      <td>3448737</td>\n",
              "      <td>3393191</td>\n",
              "    </tr>\n",
              "  </tbody>\n",
              "</table>\n",
              "</div>"
            ],
            "text/plain": [
              "       2015     2010\n",
              "서울  9904312  9631482\n",
              "부산  3448737  3393191"
            ]
          },
          "metadata": {
            "tags": []
          },
          "execution_count": 99
        }
      ]
    },
    {
      "cell_type": "code",
      "metadata": {
        "colab": {
          "base_uri": "https://localhost:8080/",
          "height": 110
        },
        "id": "2VcPV-iyKjP9",
        "outputId": "a0e1ee63-d748-4524-9c7e-64cf84aaf415"
      },
      "source": [
        "# iloc[] - numpy의 array인덱싱 방식으로 행을 가지고 올 때 사용\n",
        "#판다스 내부는 넘파이로 이루어져있어서, 넘파이로 모든 걸 할 수도 있음 ㅋㅋ 다만 코드가 좀 길어질 뿐.\n",
        "\n",
        "#ndarray 쓰는 거랑 진짜 똑같다!\n",
        "#위랑 똑같이 서울부터 부산까지, 2015부터 2010까지 쓸 수 있음.\n",
        "df.iloc[:2,:2]"
      ],
      "execution_count": null,
      "outputs": [
        {
          "output_type": "execute_result",
          "data": {
            "text/html": [
              "<div>\n",
              "<style scoped>\n",
              "    .dataframe tbody tr th:only-of-type {\n",
              "        vertical-align: middle;\n",
              "    }\n",
              "\n",
              "    .dataframe tbody tr th {\n",
              "        vertical-align: top;\n",
              "    }\n",
              "\n",
              "    .dataframe thead th {\n",
              "        text-align: right;\n",
              "    }\n",
              "</style>\n",
              "<table border=\"1\" class=\"dataframe\">\n",
              "  <thead>\n",
              "    <tr style=\"text-align: right;\">\n",
              "      <th></th>\n",
              "      <th>2015</th>\n",
              "      <th>2010</th>\n",
              "    </tr>\n",
              "  </thead>\n",
              "  <tbody>\n",
              "    <tr>\n",
              "      <th>서울</th>\n",
              "      <td>9904312</td>\n",
              "      <td>9631482</td>\n",
              "    </tr>\n",
              "    <tr>\n",
              "      <th>부산</th>\n",
              "      <td>3448737</td>\n",
              "      <td>3393191</td>\n",
              "    </tr>\n",
              "  </tbody>\n",
              "</table>\n",
              "</div>"
            ],
            "text/plain": [
              "       2015     2010\n",
              "서울  9904312  9631482\n",
              "부산  3448737  3393191"
            ]
          },
          "metadata": {
            "tags": []
          },
          "execution_count": 100
        }
      ]
    },
    {
      "cell_type": "markdown",
      "metadata": {
        "id": "aCq27YrdN2nz"
      },
      "source": [
        "#### csv 파일-1\n",
        "\n",
        "population_number.csv"
      ]
    },
    {
      "cell_type": "code",
      "metadata": {
        "colab": {
          "base_uri": "https://localhost:8080/",
          "height": 204
        },
        "id": "NipvVeMy3r6i",
        "outputId": "7ffbad12-bdb3-4814-b9ed-ca038e8c48e3"
      },
      "source": [
        "#값 가져올 때\n",
        "df = pd.read_csv(drive_path + 'population_number.csv', #pd.read_csv도 있고 excel도 있고... 온갖 것들이 있다. 지금은 csv 파일 가져오겠음! \n",
        "                 index_col='도시', encoding='euc-kr')  #여기서는 인덱스를 도시로 잡았다. 첫번째 줄에 컬럼(열) 설명이 들어있다. 인코딩은 문자를 어떻게 저장할 것이냐. 이건데, 한글 파일이 깨지면\n",
        "                                                       #인코딩 문제를 확인해보자.\n",
        "\n",
        "df"
      ],
      "execution_count": null,
      "outputs": [
        {
          "output_type": "execute_result",
          "data": {
            "text/html": [
              "<div>\n",
              "<style scoped>\n",
              "    .dataframe tbody tr th:only-of-type {\n",
              "        vertical-align: middle;\n",
              "    }\n",
              "\n",
              "    .dataframe tbody tr th {\n",
              "        vertical-align: top;\n",
              "    }\n",
              "\n",
              "    .dataframe thead th {\n",
              "        text-align: right;\n",
              "    }\n",
              "</style>\n",
              "<table border=\"1\" class=\"dataframe\">\n",
              "  <thead>\n",
              "    <tr style=\"text-align: right;\">\n",
              "      <th></th>\n",
              "      <th>지역</th>\n",
              "      <th>2015</th>\n",
              "      <th>2010</th>\n",
              "      <th>2005</th>\n",
              "      <th>2000</th>\n",
              "    </tr>\n",
              "    <tr>\n",
              "      <th>도시</th>\n",
              "      <th></th>\n",
              "      <th></th>\n",
              "      <th></th>\n",
              "      <th></th>\n",
              "      <th></th>\n",
              "    </tr>\n",
              "  </thead>\n",
              "  <tbody>\n",
              "    <tr>\n",
              "      <th>서울</th>\n",
              "      <td>수도권</td>\n",
              "      <td>9904312</td>\n",
              "      <td>9631482.0</td>\n",
              "      <td>9762546.0</td>\n",
              "      <td>9853972</td>\n",
              "    </tr>\n",
              "    <tr>\n",
              "      <th>부산</th>\n",
              "      <td>경상권</td>\n",
              "      <td>3448737</td>\n",
              "      <td>NaN</td>\n",
              "      <td>NaN</td>\n",
              "      <td>3655437</td>\n",
              "    </tr>\n",
              "    <tr>\n",
              "      <th>인천</th>\n",
              "      <td>수도권</td>\n",
              "      <td>2890451</td>\n",
              "      <td>2632035.0</td>\n",
              "      <td>NaN</td>\n",
              "      <td>2466338</td>\n",
              "    </tr>\n",
              "    <tr>\n",
              "      <th>대구</th>\n",
              "      <td>경상권</td>\n",
              "      <td>2466052</td>\n",
              "      <td>2431774.0</td>\n",
              "      <td>2456016.0</td>\n",
              "      <td>2473990</td>\n",
              "    </tr>\n",
              "  </tbody>\n",
              "</table>\n",
              "</div>"
            ],
            "text/plain": [
              "     지역     2015       2010       2005     2000\n",
              "도시                                             \n",
              "서울  수도권  9904312  9631482.0  9762546.0  9853972\n",
              "부산  경상권  3448737        NaN        NaN  3655437\n",
              "인천  수도권  2890451  2632035.0        NaN  2466338\n",
              "대구  경상권  2466052  2431774.0  2456016.0  2473990"
            ]
          },
          "metadata": {
            "tags": []
          },
          "execution_count": 16
        }
      ]
    },
    {
      "cell_type": "code",
      "metadata": {
        "colab": {
          "base_uri": "https://localhost:8080/"
        },
        "id": "xk4QZCJnQTSz",
        "outputId": "7a0adc82-ebab-4933-c987-5f75b9e982f7"
      },
      "source": [
        "# value_counts 함수\n",
        "# - 값이 숫자, 문자열, 카테고리 값인 경우에 각각의 값이 나온 횟수를 셀 수 있다.\n",
        "import numpy as np\n",
        "\n",
        "s = pd.Series(np.random.randint(6, size = 100))\n",
        "print(s.value_counts()) #각각의 숫자들이 몇번 등장하는지 알고 싶다면! 진짜 많이 쓰는 함수중 하나임. .value_counts()\n",
        "\n",
        "#s를 앞부분에서 3개만 보고 싶다\n",
        "s.head(3)\n",
        "#s를 뒷부분에서 3개만 보고 싶다\n",
        "s.tail(3)"
      ],
      "execution_count": null,
      "outputs": [
        {
          "output_type": "stream",
          "text": [
            "2    23\n",
            "1    22\n",
            "5    19\n",
            "4    14\n",
            "3    11\n",
            "0    11\n",
            "dtype: int64\n"
          ],
          "name": "stdout"
        },
        {
          "output_type": "execute_result",
          "data": {
            "text/plain": [
              "0    1\n",
              "1    1\n",
              "2    1\n",
              "dtype: int64"
            ]
          },
          "metadata": {
            "tags": []
          },
          "execution_count": 15
        }
      ]
    },
    {
      "cell_type": "code",
      "metadata": {
        "colab": {
          "base_uri": "https://localhost:8080/"
        },
        "id": "Ljsnbyqt551C",
        "outputId": "65e1c607-3d13-4ac6-f2ae-ae6e95d79498"
      },
      "source": [
        "df.count() #빈도수 체크.."
      ],
      "execution_count": null,
      "outputs": [
        {
          "output_type": "execute_result",
          "data": {
            "text/plain": [
              "지역      4\n",
              "2015    4\n",
              "2010    3\n",
              "2005    2\n",
              "2000    4\n",
              "dtype: int64"
            ]
          },
          "metadata": {
            "tags": []
          },
          "execution_count": 17
        }
      ]
    },
    {
      "cell_type": "code",
      "metadata": {
        "colab": {
          "base_uri": "https://localhost:8080/"
        },
        "id": "_MwPFDQb6IbS",
        "outputId": "0eebca29-1c8e-4369-d8c2-27979662db0e"
      },
      "source": [
        "#중복 데이터 있는지 확인해볼까\n",
        "df['2015'].value_counts()"
      ],
      "execution_count": null,
      "outputs": [
        {
          "output_type": "execute_result",
          "data": {
            "text/plain": [
              "2466052    1\n",
              "2890451    1\n",
              "3448737    1\n",
              "9904312    1\n",
              "Name: 2015, dtype: int64"
            ]
          },
          "metadata": {
            "tags": []
          },
          "execution_count": 18
        }
      ]
    },
    {
      "cell_type": "code",
      "metadata": {
        "colab": {
          "base_uri": "https://localhost:8080/"
        },
        "id": "Qhy19-dOx0FP",
        "outputId": "df766d07-2aa8-4e8a-93cf-1ca7e79b87d1"
      },
      "source": [
        "# 정렬\n",
        "# sort_index 함수 : 인덱스 값을 기준으로 정렬한다.\n",
        "# sort_values 함수 : 데이터 값을 기준으로 정렬한다.\n",
        "\n",
        "#값만 한번 정렬해볼까? 어느 인구가 가장 많은지!\n",
        "df\n",
        "df['2010']\n",
        "df['2010'].sort_values()  #들어있는 데이터를 기준으로 소팅한 것.\n",
        "\n",
        "#df['2010'].sort_values(ascending = True)  이건 뭐여 ㅋㅋ 강사님도 모르네\n"
      ],
      "execution_count": null,
      "outputs": [
        {
          "output_type": "execute_result",
          "data": {
            "text/plain": [
              "도시\n",
              "대구    2431774.0\n",
              "인천    2632035.0\n",
              "서울    9631482.0\n",
              "부산          NaN\n",
              "Name: 2010, dtype: float64"
            ]
          },
          "metadata": {
            "tags": []
          },
          "execution_count": 110
        }
      ]
    },
    {
      "cell_type": "code",
      "metadata": {
        "colab": {
          "base_uri": "https://localhost:8080/",
          "height": 203
        },
        "id": "hihpG2hyyPi6",
        "outputId": "79a458bc-78e0-422e-d9b8-544bbb7bc33e"
      },
      "source": [
        "# DataFrame을 2010년 인구수 기준으로 정렬\n",
        "#df['2010'].sort_values() 이거와 똑같이 사용할 수 있는 게 있는데,\n",
        "\n",
        "df.sort_values(by = '2010')\n",
        "df.sort_values(by = '2010', ascending= False) #이렇게 하면 2010년을 기준으로 가장 많은 것부터 정렬됨. 내림차순 정렬"
      ],
      "execution_count": null,
      "outputs": [
        {
          "output_type": "execute_result",
          "data": {
            "text/html": [
              "<div>\n",
              "<style scoped>\n",
              "    .dataframe tbody tr th:only-of-type {\n",
              "        vertical-align: middle;\n",
              "    }\n",
              "\n",
              "    .dataframe tbody tr th {\n",
              "        vertical-align: top;\n",
              "    }\n",
              "\n",
              "    .dataframe thead th {\n",
              "        text-align: right;\n",
              "    }\n",
              "</style>\n",
              "<table border=\"1\" class=\"dataframe\">\n",
              "  <thead>\n",
              "    <tr style=\"text-align: right;\">\n",
              "      <th></th>\n",
              "      <th>지역</th>\n",
              "      <th>2015</th>\n",
              "      <th>2010</th>\n",
              "      <th>2005</th>\n",
              "      <th>2000</th>\n",
              "    </tr>\n",
              "    <tr>\n",
              "      <th>도시</th>\n",
              "      <th></th>\n",
              "      <th></th>\n",
              "      <th></th>\n",
              "      <th></th>\n",
              "      <th></th>\n",
              "    </tr>\n",
              "  </thead>\n",
              "  <tbody>\n",
              "    <tr>\n",
              "      <th>서울</th>\n",
              "      <td>수도권</td>\n",
              "      <td>9904312</td>\n",
              "      <td>9631482.0</td>\n",
              "      <td>9762546.0</td>\n",
              "      <td>9853972</td>\n",
              "    </tr>\n",
              "    <tr>\n",
              "      <th>인천</th>\n",
              "      <td>수도권</td>\n",
              "      <td>2890451</td>\n",
              "      <td>2632035.0</td>\n",
              "      <td>NaN</td>\n",
              "      <td>2466338</td>\n",
              "    </tr>\n",
              "    <tr>\n",
              "      <th>대구</th>\n",
              "      <td>경상권</td>\n",
              "      <td>2466052</td>\n",
              "      <td>2431774.0</td>\n",
              "      <td>2456016.0</td>\n",
              "      <td>2473990</td>\n",
              "    </tr>\n",
              "    <tr>\n",
              "      <th>부산</th>\n",
              "      <td>경상권</td>\n",
              "      <td>3448737</td>\n",
              "      <td>NaN</td>\n",
              "      <td>NaN</td>\n",
              "      <td>3655437</td>\n",
              "    </tr>\n",
              "  </tbody>\n",
              "</table>\n",
              "</div>"
            ],
            "text/plain": [
              "     지역     2015       2010       2005     2000\n",
              "도시                                             \n",
              "서울  수도권  9904312  9631482.0  9762546.0  9853972\n",
              "인천  수도권  2890451  2632035.0        NaN  2466338\n",
              "대구  경상권  2466052  2431774.0  2456016.0  2473990\n",
              "부산  경상권  3448737        NaN        NaN  3655437"
            ]
          },
          "metadata": {
            "tags": []
          },
          "execution_count": 113
        }
      ]
    },
    {
      "cell_type": "code",
      "metadata": {
        "colab": {
          "base_uri": "https://localhost:8080/",
          "height": 203
        },
        "id": "lz-7LCFGydPe",
        "outputId": "13cb71d0-5d73-4fb4-e9de-0725cc15784e"
      },
      "source": [
        "# DataFrame을 지역, 2010년 인구수 기준으로 정렬\n",
        "df.sort_values(by = ['지역','2010']) #여러개를 주고 싶으면, 1차 소팅 2차 소팅 이런 식으로 정렬되는 거임. 정렬조건을 여러개 줄 수 있다는 거!!!"
      ],
      "execution_count": null,
      "outputs": [
        {
          "output_type": "execute_result",
          "data": {
            "text/html": [
              "<div>\n",
              "<style scoped>\n",
              "    .dataframe tbody tr th:only-of-type {\n",
              "        vertical-align: middle;\n",
              "    }\n",
              "\n",
              "    .dataframe tbody tr th {\n",
              "        vertical-align: top;\n",
              "    }\n",
              "\n",
              "    .dataframe thead th {\n",
              "        text-align: right;\n",
              "    }\n",
              "</style>\n",
              "<table border=\"1\" class=\"dataframe\">\n",
              "  <thead>\n",
              "    <tr style=\"text-align: right;\">\n",
              "      <th></th>\n",
              "      <th>지역</th>\n",
              "      <th>2015</th>\n",
              "      <th>2010</th>\n",
              "      <th>2005</th>\n",
              "      <th>2000</th>\n",
              "    </tr>\n",
              "    <tr>\n",
              "      <th>도시</th>\n",
              "      <th></th>\n",
              "      <th></th>\n",
              "      <th></th>\n",
              "      <th></th>\n",
              "      <th></th>\n",
              "    </tr>\n",
              "  </thead>\n",
              "  <tbody>\n",
              "    <tr>\n",
              "      <th>대구</th>\n",
              "      <td>경상권</td>\n",
              "      <td>2466052</td>\n",
              "      <td>2431774.0</td>\n",
              "      <td>2456016.0</td>\n",
              "      <td>2473990</td>\n",
              "    </tr>\n",
              "    <tr>\n",
              "      <th>부산</th>\n",
              "      <td>경상권</td>\n",
              "      <td>3448737</td>\n",
              "      <td>NaN</td>\n",
              "      <td>NaN</td>\n",
              "      <td>3655437</td>\n",
              "    </tr>\n",
              "    <tr>\n",
              "      <th>인천</th>\n",
              "      <td>수도권</td>\n",
              "      <td>2890451</td>\n",
              "      <td>2632035.0</td>\n",
              "      <td>NaN</td>\n",
              "      <td>2466338</td>\n",
              "    </tr>\n",
              "    <tr>\n",
              "      <th>서울</th>\n",
              "      <td>수도권</td>\n",
              "      <td>9904312</td>\n",
              "      <td>9631482.0</td>\n",
              "      <td>9762546.0</td>\n",
              "      <td>9853972</td>\n",
              "    </tr>\n",
              "  </tbody>\n",
              "</table>\n",
              "</div>"
            ],
            "text/plain": [
              "     지역     2015       2010       2005     2000\n",
              "도시                                             \n",
              "대구  경상권  2466052  2431774.0  2456016.0  2473990\n",
              "부산  경상권  3448737        NaN        NaN  3655437\n",
              "인천  수도권  2890451  2632035.0        NaN  2466338\n",
              "서울  수도권  9904312  9631482.0  9762546.0  9853972"
            ]
          },
          "metadata": {
            "tags": []
          },
          "execution_count": 114
        }
      ]
    },
    {
      "cell_type": "markdown",
      "metadata": {
        "id": "QmIcE07nyyEb"
      },
      "source": [
        "#### csv 파일-2\n",
        "\n",
        "score.csv"
      ]
    },
    {
      "cell_type": "code",
      "metadata": {
        "colab": {
          "base_uri": "https://localhost:8080/",
          "height": 232
        },
        "id": "PtU0R4uXQZKl",
        "outputId": "7afe6b2c-5fb8-4646-dffb-6e625a7a594b"
      },
      "source": [
        "#csv 파일 불러오기 2회차, 과목으로 인덱싱 넣어보자\n",
        "\n",
        "score = pd.read_csv( drive_path + 'score.csv', index_col = '과목', encoding='euc_kr' )\n",
        "score\n"
      ],
      "execution_count": null,
      "outputs": [
        {
          "output_type": "execute_result",
          "data": {
            "text/html": [
              "<div>\n",
              "<style scoped>\n",
              "    .dataframe tbody tr th:only-of-type {\n",
              "        vertical-align: middle;\n",
              "    }\n",
              "\n",
              "    .dataframe tbody tr th {\n",
              "        vertical-align: top;\n",
              "    }\n",
              "\n",
              "    .dataframe thead th {\n",
              "        text-align: right;\n",
              "    }\n",
              "</style>\n",
              "<table border=\"1\" class=\"dataframe\">\n",
              "  <thead>\n",
              "    <tr style=\"text-align: right;\">\n",
              "      <th></th>\n",
              "      <th>1반</th>\n",
              "      <th>2반</th>\n",
              "      <th>3반</th>\n",
              "      <th>4반</th>\n",
              "    </tr>\n",
              "    <tr>\n",
              "      <th>과목</th>\n",
              "      <th></th>\n",
              "      <th></th>\n",
              "      <th></th>\n",
              "      <th></th>\n",
              "    </tr>\n",
              "  </thead>\n",
              "  <tbody>\n",
              "    <tr>\n",
              "      <th>수학</th>\n",
              "      <td>45</td>\n",
              "      <td>44</td>\n",
              "      <td>73</td>\n",
              "      <td>39</td>\n",
              "    </tr>\n",
              "    <tr>\n",
              "      <th>영어</th>\n",
              "      <td>76</td>\n",
              "      <td>92</td>\n",
              "      <td>45</td>\n",
              "      <td>69</td>\n",
              "    </tr>\n",
              "    <tr>\n",
              "      <th>국어</th>\n",
              "      <td>47</td>\n",
              "      <td>92</td>\n",
              "      <td>45</td>\n",
              "      <td>69</td>\n",
              "    </tr>\n",
              "    <tr>\n",
              "      <th>사회</th>\n",
              "      <td>92</td>\n",
              "      <td>81</td>\n",
              "      <td>85</td>\n",
              "      <td>40</td>\n",
              "    </tr>\n",
              "    <tr>\n",
              "      <th>과학</th>\n",
              "      <td>11</td>\n",
              "      <td>79</td>\n",
              "      <td>47</td>\n",
              "      <td>26</td>\n",
              "    </tr>\n",
              "  </tbody>\n",
              "</table>\n",
              "</div>"
            ],
            "text/plain": [
              "    1반  2반  3반  4반\n",
              "과목                \n",
              "수학  45  44  73  39\n",
              "영어  76  92  45  69\n",
              "국어  47  92  45  69\n",
              "사회  92  81  85  40\n",
              "과학  11  79  47  26"
            ]
          },
          "metadata": {
            "tags": []
          },
          "execution_count": 10
        }
      ]
    },
    {
      "cell_type": "code",
      "metadata": {
        "colab": {
          "base_uri": "https://localhost:8080/",
          "height": 202
        },
        "id": "q2tddDPa7q6u",
        "outputId": "46205f30-32fb-43d4-f150-37501f2a0ab6"
      },
      "source": [
        "score = pd.read_csv(drive_path + 'score.csv', encoding='euc_kr') #인코딩 문제 생기면 인코딩 옵션 추가해서 'euc-kr'\n",
        "score\n",
        "\n",
        "#과목으로 인덱싱 넣어보자\n",
        "#score = pd.read_csv(drive_path + 'score.csv',\n",
        " #                   index_col = '과목',encoding='euc_kr') #인코딩 문제 생기면 인코딩 옵션 추가해서 'euc-kr'\n",
        "score"
      ],
      "execution_count": null,
      "outputs": [
        {
          "output_type": "execute_result",
          "data": {
            "text/html": [
              "<div>\n",
              "<style scoped>\n",
              "    .dataframe tbody tr th:only-of-type {\n",
              "        vertical-align: middle;\n",
              "    }\n",
              "\n",
              "    .dataframe tbody tr th {\n",
              "        vertical-align: top;\n",
              "    }\n",
              "\n",
              "    .dataframe thead th {\n",
              "        text-align: right;\n",
              "    }\n",
              "</style>\n",
              "<table border=\"1\" class=\"dataframe\">\n",
              "  <thead>\n",
              "    <tr style=\"text-align: right;\">\n",
              "      <th></th>\n",
              "      <th>과목</th>\n",
              "      <th>1반</th>\n",
              "      <th>2반</th>\n",
              "      <th>3반</th>\n",
              "      <th>4반</th>\n",
              "    </tr>\n",
              "  </thead>\n",
              "  <tbody>\n",
              "    <tr>\n",
              "      <th>0</th>\n",
              "      <td>수학</td>\n",
              "      <td>45</td>\n",
              "      <td>44</td>\n",
              "      <td>73</td>\n",
              "      <td>39</td>\n",
              "    </tr>\n",
              "    <tr>\n",
              "      <th>1</th>\n",
              "      <td>영어</td>\n",
              "      <td>76</td>\n",
              "      <td>92</td>\n",
              "      <td>45</td>\n",
              "      <td>69</td>\n",
              "    </tr>\n",
              "    <tr>\n",
              "      <th>2</th>\n",
              "      <td>국어</td>\n",
              "      <td>47</td>\n",
              "      <td>92</td>\n",
              "      <td>45</td>\n",
              "      <td>69</td>\n",
              "    </tr>\n",
              "    <tr>\n",
              "      <th>3</th>\n",
              "      <td>사회</td>\n",
              "      <td>92</td>\n",
              "      <td>81</td>\n",
              "      <td>85</td>\n",
              "      <td>40</td>\n",
              "    </tr>\n",
              "    <tr>\n",
              "      <th>4</th>\n",
              "      <td>과학</td>\n",
              "      <td>11</td>\n",
              "      <td>79</td>\n",
              "      <td>47</td>\n",
              "      <td>26</td>\n",
              "    </tr>\n",
              "  </tbody>\n",
              "</table>\n",
              "</div>"
            ],
            "text/plain": [
              "   과목  1반  2반  3반  4반\n",
              "0  수학  45  44  73  39\n",
              "1  영어  76  92  45  69\n",
              "2  국어  47  92  45  69\n",
              "3  사회  92  81  85  40\n",
              "4  과학  11  79  47  26"
            ]
          },
          "metadata": {
            "tags": []
          },
          "execution_count": 9
        }
      ]
    },
    {
      "cell_type": "code",
      "metadata": {
        "colab": {
          "base_uri": "https://localhost:8080/",
          "height": 105
        },
        "id": "IE6pqYrUzpye",
        "outputId": "9e584968-aafa-4f8c-ee3c-79b618dd54f2"
      },
      "source": [
        "# 학급별 총계\n",
        "#총계라는 건 합이잖아. sum()~\n",
        "\n",
        "#내 생각엔 다 학급별로 다 더해줘야할듯. 층들끼리 다 더해야하는 그런 느낌.\n",
        "\n",
        "#score.sum() #열 단위로 합계를 구해줘... 1반 2반 3반 4반 이런 식으로. 이건 0번 축으로 한다는 거임. \n",
        "display(score.sum())"
      ],
      "execution_count": null,
      "outputs": [
        {
          "output_type": "display_data",
          "data": {
            "text/plain": [
              "1반    271\n",
              "2반    388\n",
              "3반    295\n",
              "4반    243\n",
              "dtype: int64"
            ]
          },
          "metadata": {
            "tags": []
          }
        }
      ]
    },
    {
      "cell_type": "code",
      "metadata": {
        "colab": {
          "base_uri": "https://localhost:8080/"
        },
        "id": "XHhOB78f88kd",
        "outputId": "d0f05e95-2170-4841-89d6-a6530dee7b4e"
      },
      "source": [
        "#학급별 총계 2회차\n",
        "#학급별 총계라는 건 행방향으로 하는 것 같그등여~? \n",
        "score.loc[:,:].sum() #지금 이미 0축이라 딱히 건드릴 게 없네? 굳이 한번 더 써보자면~ axis=0으로 지정해주는 것 정도?\n",
        "score.loc[:,:].sum(axis=0) \n"
      ],
      "execution_count": null,
      "outputs": [
        {
          "output_type": "execute_result",
          "data": {
            "text/plain": [
              "1반    271\n",
              "2반    388\n",
              "3반    295\n",
              "4반    243\n",
              "dtype: int64"
            ]
          },
          "metadata": {
            "tags": []
          },
          "execution_count": 21
        }
      ]
    },
    {
      "cell_type": "code",
      "metadata": {
        "colab": {
          "base_uri": "https://localhost:8080/"
        },
        "id": "8YnIuRgQ-KPT",
        "outputId": "d8b5d80a-a94a-45e5-b175-fbd3e2475249"
      },
      "source": [
        "##학급별 총계 3회차\n",
        "\n",
        "#학급별 총계라는 건, 행방향으로 sum()이네?\n",
        "score.loc[ :,: ].sum()"
      ],
      "execution_count": null,
      "outputs": [
        {
          "output_type": "execute_result",
          "data": {
            "text/plain": [
              "1반    271\n",
              "2반    388\n",
              "3반    295\n",
              "4반    243\n",
              "dtype: int64"
            ]
          },
          "metadata": {
            "tags": []
          },
          "execution_count": 7
        }
      ]
    },
    {
      "cell_type": "code",
      "metadata": {
        "colab": {
          "base_uri": "https://localhost:8080/"
        },
        "id": "DD9QJqPdJ0wr",
        "outputId": "b4ef1c56-ad11-40d9-a98a-f5e41ac22bc6"
      },
      "source": [
        "##학급별 총계 4회차\n",
        "\n",
        "#판다스는 열중심, 그냥 불러오면 됨. 그리고 학급별 통계는 방향이 행방향. axis = 0\n",
        "\n",
        "score.sum(axis = 0)"
      ],
      "execution_count": null,
      "outputs": [
        {
          "output_type": "execute_result",
          "data": {
            "text/plain": [
              "1반    271\n",
              "2반    388\n",
              "3반    295\n",
              "4반    243\n",
              "dtype: int64"
            ]
          },
          "metadata": {
            "tags": []
          },
          "execution_count": 6
        }
      ]
    },
    {
      "cell_type": "code",
      "metadata": {
        "colab": {
          "base_uri": "https://localhost:8080/"
        },
        "id": "sOB22Yv3REHG",
        "outputId": "47e95154-6a83-4ab5-f2bd-b96a4e6290d6"
      },
      "source": [
        "##학급별 총계 5회차\n",
        "\n",
        "score.sum(axis = 0)"
      ],
      "execution_count": null,
      "outputs": [
        {
          "output_type": "execute_result",
          "data": {
            "text/plain": [
              "1반    271\n",
              "2반    388\n",
              "3반    295\n",
              "4반    243\n",
              "dtype: int64"
            ]
          },
          "metadata": {
            "tags": []
          },
          "execution_count": 11
        }
      ]
    },
    {
      "cell_type": "code",
      "metadata": {
        "colab": {
          "base_uri": "https://localhost:8080/"
        },
        "id": "FLkbvBRkztTk",
        "outputId": "1ab92999-8438-4c6d-a2fb-267121cd55f4"
      },
      "source": [
        "# 학급별 순위\n",
        "\n",
        "#학급별 총계를 구했으면, 가장 합계가 높은 녀석을 기준으로 sort하면 되겠다!\n",
        "\n",
        "s = score.sum()\n",
        "s.sort_values(ascending=False)\n",
        "#score.sum().sort_values(ascending = False) #오름차순으로 나옴. 이걸 어센딩으로 내림차순으로 바꾸자."
      ],
      "execution_count": null,
      "outputs": [
        {
          "output_type": "execute_result",
          "data": {
            "text/plain": [
              "2반    388\n",
              "3반    295\n",
              "1반    271\n",
              "4반    243\n",
              "dtype: int64"
            ]
          },
          "metadata": {
            "tags": []
          },
          "execution_count": 132
        }
      ]
    },
    {
      "cell_type": "code",
      "metadata": {
        "colab": {
          "base_uri": "https://localhost:8080/"
        },
        "id": "2RPUy2IH9q15",
        "outputId": "c5b72806-29c7-4b41-92e9-ef40cad65b2a"
      },
      "source": [
        "#학급별 순위 2회차\n",
        "#.sort_values() 함수를 쓰려고 하는데영~~ 맞나염??\n",
        "s = score.loc[:,:].sum(axis=0) \n",
        "s.sort_values() #이렇게 그냥 뽑으면 오름차순이거든? 난 근데 내림차순으로 할 꼬임~ 그럴려면\n",
        "s.sort_values(ascending=False) #ascending이 단어가 오름차순임 ㅋㅋㅋㅋ 이거 False로 하면 당연히 내림차순 되는 거\n"
      ],
      "execution_count": null,
      "outputs": [
        {
          "output_type": "execute_result",
          "data": {
            "text/plain": [
              "2반    388\n",
              "3반    295\n",
              "1반    271\n",
              "4반    243\n",
              "dtype: int64"
            ]
          },
          "metadata": {
            "tags": []
          },
          "execution_count": 24
        }
      ]
    },
    {
      "cell_type": "code",
      "metadata": {
        "colab": {
          "base_uri": "https://localhost:8080/"
        },
        "id": "rjtPQie8-1IV",
        "outputId": "711d93cd-15cf-414f-e3f4-d5bdc264b05c"
      },
      "source": [
        "##학급별 순위 3회차 점수 높은 순서대로\n",
        "#sort_values() 함수 쓸게여!!\n",
        "\n",
        "s = score.sum()\n",
        "s.sort_values(ascending=False)"
      ],
      "execution_count": null,
      "outputs": [
        {
          "output_type": "execute_result",
          "data": {
            "text/plain": [
              "2반    388\n",
              "3반    295\n",
              "1반    271\n",
              "4반    243\n",
              "dtype: int64"
            ]
          },
          "metadata": {
            "tags": []
          },
          "execution_count": 9
        }
      ]
    },
    {
      "cell_type": "code",
      "metadata": {
        "colab": {
          "base_uri": "https://localhost:8080/"
        },
        "id": "_EgIl2yLKT0W",
        "outputId": "5eb930f8-3836-4c99-f444-bf1498e11df5"
      },
      "source": [
        "##학급별 순위 4회차 점수 높은 순서대로\n",
        "\n",
        "#학급별 순위 점수 높은대로면. sum(axis = 0) 하고 sort_values하고 여기에 어센딩을 넣는군\n",
        "\n",
        "score.sum(axis = 0).sort_values(ascending=False)\n"
      ],
      "execution_count": null,
      "outputs": [
        {
          "output_type": "execute_result",
          "data": {
            "text/plain": [
              "2반    388\n",
              "3반    295\n",
              "1반    271\n",
              "4반    243\n",
              "dtype: int64"
            ]
          },
          "metadata": {
            "tags": []
          },
          "execution_count": 13
        }
      ]
    },
    {
      "cell_type": "code",
      "metadata": {
        "colab": {
          "base_uri": "https://localhost:8080/"
        },
        "id": "QJTgqle8RPnw",
        "outputId": "d66185b2-5db0-42f3-a88a-2be6d58616a6"
      },
      "source": [
        "##학급별 순위 4회차 점수 높은 순서대로\n",
        "\n",
        "score.sum(axis = 0).sort_values(ascending = False)"
      ],
      "execution_count": null,
      "outputs": [
        {
          "output_type": "execute_result",
          "data": {
            "text/plain": [
              "2반    388\n",
              "3반    295\n",
              "1반    271\n",
              "4반    243\n",
              "dtype: int64"
            ]
          },
          "metadata": {
            "tags": []
          },
          "execution_count": 13
        }
      ]
    },
    {
      "cell_type": "code",
      "metadata": {
        "colab": {
          "base_uri": "https://localhost:8080/"
        },
        "id": "Yq1oUDHEz2Jz",
        "outputId": "fa8fd129-927e-493f-8834-0981c5402c77"
      },
      "source": [
        "# 과목별 총계\n",
        "#과목별로 합계를 구하고 싶다면..\n",
        "#아까는 열단위였으니까 이건 행단위로 뽑아내면 된다. 축을 바꿔서 뽑으면 됨. 0방향으로 뽑았으니까 1방향으로 뽑아내면?\n",
        "\n",
        "#score.sum(axis = 1) #0방향이었던 축을 1방향으로 뽑아낸 것!\n",
        "#score.sum(axis = 1).sort_values(ascending=False) #이건 과목별로 내림차순 시킨 것! \n",
        "\n",
        "#score.sum() 이거는 아까 열 단위였잖아. 과목별 총계는 행단위니까 행단위로 뽑아내려면\n",
        "score.sum(axis = 1).sort_values(ascending=False)"
      ],
      "execution_count": null,
      "outputs": [
        {
          "output_type": "execute_result",
          "data": {
            "text/plain": [
              "과목\n",
              "사회    298\n",
              "영어    282\n",
              "국어    253\n",
              "수학    201\n",
              "과학    163\n",
              "dtype: int64"
            ]
          },
          "metadata": {
            "tags": []
          },
          "execution_count": 135
        }
      ]
    },
    {
      "cell_type": "code",
      "metadata": {
        "colab": {
          "base_uri": "https://localhost:8080/"
        },
        "id": "mwL6h-8N-WFS",
        "outputId": "f40ad1bf-d75b-48c1-d9dc-a269446065d1"
      },
      "source": [
        "#과목별 총계 2회차\n",
        "#아까 s 하던 이거는 axis=0이었다. 근데 이번에는 방향축이 호단위 거든요? 층이 아니라? 아 그래서! axis=1로 바꿔줄 꼬에요~\n",
        "\n",
        "score.loc[:,:].sum(axis=1) #이러면 이제 과목별로 나오지??"
      ],
      "execution_count": null,
      "outputs": [
        {
          "output_type": "execute_result",
          "data": {
            "text/plain": [
              "과목\n",
              "수학    201\n",
              "영어    282\n",
              "국어    253\n",
              "사회    298\n",
              "과학    163\n",
              "dtype: int64"
            ]
          },
          "metadata": {
            "tags": []
          },
          "execution_count": 25
        }
      ]
    },
    {
      "cell_type": "code",
      "metadata": {
        "colab": {
          "base_uri": "https://localhost:8080/"
        },
        "id": "uohbbR6y_NzY",
        "outputId": "49b9de02-469b-43ff-ebe8-9c44ecf302ba"
      },
      "source": [
        "#과목별 총계 3회차\n",
        "#과목별은 호방향. axis = 1\n",
        "score.sum(axis = 1)"
      ],
      "execution_count": null,
      "outputs": [
        {
          "output_type": "execute_result",
          "data": {
            "text/plain": [
              "과목\n",
              "수학    201\n",
              "영어    282\n",
              "국어    253\n",
              "사회    298\n",
              "과학    163\n",
              "dtype: int64"
            ]
          },
          "metadata": {
            "tags": []
          },
          "execution_count": 10
        }
      ]
    },
    {
      "cell_type": "code",
      "metadata": {
        "colab": {
          "base_uri": "https://localhost:8080/"
        },
        "id": "T5m9YZvOLTJK",
        "outputId": "6345039f-20e8-4f10-cca5-132ea217fa2c"
      },
      "source": [
        "##과목별 총계 4회차\n",
        "#과목별 총계는 행 단위잖소? axis = 1만 해주면 돼~\n",
        "\n",
        "score.sum(axis=1)"
      ],
      "execution_count": null,
      "outputs": [
        {
          "output_type": "execute_result",
          "data": {
            "text/plain": [
              "과목\n",
              "수학    201\n",
              "영어    282\n",
              "국어    253\n",
              "사회    298\n",
              "과학    163\n",
              "dtype: int64"
            ]
          },
          "metadata": {
            "tags": []
          },
          "execution_count": 14
        }
      ]
    },
    {
      "cell_type": "code",
      "metadata": {
        "colab": {
          "base_uri": "https://localhost:8080/"
        },
        "id": "zkn_Rre7RnER",
        "outputId": "cd0bfac2-34ed-4e7f-b573-c52eb125648f"
      },
      "source": [
        "##과목별 총계 5회차\n",
        "\n",
        "#이건 행방향\n",
        "\n",
        "score.sum(axis=1)"
      ],
      "execution_count": null,
      "outputs": [
        {
          "output_type": "execute_result",
          "data": {
            "text/plain": [
              "과목\n",
              "수학    201\n",
              "영어    282\n",
              "국어    253\n",
              "사회    298\n",
              "과학    163\n",
              "dtype: int64"
            ]
          },
          "metadata": {
            "tags": []
          },
          "execution_count": 14
        }
      ]
    },
    {
      "cell_type": "code",
      "metadata": {
        "id": "ADuUmmO6z7uL"
      },
      "source": [
        "# 과목별 합계를 DataFrame에 추가\n",
        "\n",
        "#이게 시리즈니까 시리즈에 넣어주면 되겠지~\n",
        "score['합계'] = score.sum(axis=1)    #score에 합계라는 열을 만들어서 넣겠다!\n",
        "score\n",
        "\n",
        "#합계 삭제할 때는 이렇게 또 삭제시켜서 원래대로 되돌릴 수가 있음.\n",
        "del score['합계']\n"
      ],
      "execution_count": null,
      "outputs": []
    },
    {
      "cell_type": "code",
      "metadata": {
        "colab": {
          "base_uri": "https://localhost:8080/",
          "height": 235
        },
        "id": "KcZF3eys-0lc",
        "outputId": "ca225bec-bc4d-4e1f-c20e-7aee8e173bc0"
      },
      "source": [
        "# 과목별 합계를 DataFrame에 추가 2회차\n",
        "\n",
        "#자 일단 열부분에 합계가 새로 들어갔다. 이거 열 단위라서 그냥 넣으면 열로 들어가거든?\n",
        "#score['합계'] = [ 과목별 합계 넣어주면 됨 ] \n",
        "score['합계'] = score.loc[:,:].sum(axis=1)\n",
        "score"
      ],
      "execution_count": null,
      "outputs": [
        {
          "output_type": "execute_result",
          "data": {
            "text/html": [
              "<div>\n",
              "<style scoped>\n",
              "    .dataframe tbody tr th:only-of-type {\n",
              "        vertical-align: middle;\n",
              "    }\n",
              "\n",
              "    .dataframe tbody tr th {\n",
              "        vertical-align: top;\n",
              "    }\n",
              "\n",
              "    .dataframe thead th {\n",
              "        text-align: right;\n",
              "    }\n",
              "</style>\n",
              "<table border=\"1\" class=\"dataframe\">\n",
              "  <thead>\n",
              "    <tr style=\"text-align: right;\">\n",
              "      <th></th>\n",
              "      <th>1반</th>\n",
              "      <th>2반</th>\n",
              "      <th>3반</th>\n",
              "      <th>4반</th>\n",
              "      <th>합계</th>\n",
              "    </tr>\n",
              "    <tr>\n",
              "      <th>과목</th>\n",
              "      <th></th>\n",
              "      <th></th>\n",
              "      <th></th>\n",
              "      <th></th>\n",
              "      <th></th>\n",
              "    </tr>\n",
              "  </thead>\n",
              "  <tbody>\n",
              "    <tr>\n",
              "      <th>수학</th>\n",
              "      <td>45</td>\n",
              "      <td>44</td>\n",
              "      <td>73</td>\n",
              "      <td>39</td>\n",
              "      <td>201</td>\n",
              "    </tr>\n",
              "    <tr>\n",
              "      <th>영어</th>\n",
              "      <td>76</td>\n",
              "      <td>92</td>\n",
              "      <td>45</td>\n",
              "      <td>69</td>\n",
              "      <td>282</td>\n",
              "    </tr>\n",
              "    <tr>\n",
              "      <th>국어</th>\n",
              "      <td>47</td>\n",
              "      <td>92</td>\n",
              "      <td>45</td>\n",
              "      <td>69</td>\n",
              "      <td>253</td>\n",
              "    </tr>\n",
              "    <tr>\n",
              "      <th>사회</th>\n",
              "      <td>92</td>\n",
              "      <td>81</td>\n",
              "      <td>85</td>\n",
              "      <td>40</td>\n",
              "      <td>298</td>\n",
              "    </tr>\n",
              "    <tr>\n",
              "      <th>과학</th>\n",
              "      <td>11</td>\n",
              "      <td>79</td>\n",
              "      <td>47</td>\n",
              "      <td>26</td>\n",
              "      <td>163</td>\n",
              "    </tr>\n",
              "  </tbody>\n",
              "</table>\n",
              "</div>"
            ],
            "text/plain": [
              "    1반  2반  3반  4반   합계\n",
              "과목                     \n",
              "수학  45  44  73  39  201\n",
              "영어  76  92  45  69  282\n",
              "국어  47  92  45  69  253\n",
              "사회  92  81  85  40  298\n",
              "과학  11  79  47  26  163"
            ]
          },
          "metadata": {
            "tags": []
          },
          "execution_count": 31
        }
      ]
    },
    {
      "cell_type": "code",
      "metadata": {
        "colab": {
          "base_uri": "https://localhost:8080/",
          "height": 235
        },
        "id": "eAuS4v8I_c47",
        "outputId": "6f476b63-6921-4447-8d1a-6d08eaa3e6e1"
      },
      "source": [
        "# 과목별 합계를 DataFrame에 추가 3회차\n",
        "\n",
        "#열 부분에, 과목별 합계가 들어갔군.\n",
        "\n",
        "score['합계'] = score.sum(axis = 1)\n",
        "score\n"
      ],
      "execution_count": null,
      "outputs": [
        {
          "output_type": "execute_result",
          "data": {
            "text/html": [
              "<div>\n",
              "<style scoped>\n",
              "    .dataframe tbody tr th:only-of-type {\n",
              "        vertical-align: middle;\n",
              "    }\n",
              "\n",
              "    .dataframe tbody tr th {\n",
              "        vertical-align: top;\n",
              "    }\n",
              "\n",
              "    .dataframe thead th {\n",
              "        text-align: right;\n",
              "    }\n",
              "</style>\n",
              "<table border=\"1\" class=\"dataframe\">\n",
              "  <thead>\n",
              "    <tr style=\"text-align: right;\">\n",
              "      <th></th>\n",
              "      <th>1반</th>\n",
              "      <th>2반</th>\n",
              "      <th>3반</th>\n",
              "      <th>4반</th>\n",
              "      <th>합계</th>\n",
              "    </tr>\n",
              "    <tr>\n",
              "      <th>과목</th>\n",
              "      <th></th>\n",
              "      <th></th>\n",
              "      <th></th>\n",
              "      <th></th>\n",
              "      <th></th>\n",
              "    </tr>\n",
              "  </thead>\n",
              "  <tbody>\n",
              "    <tr>\n",
              "      <th>수학</th>\n",
              "      <td>45</td>\n",
              "      <td>44</td>\n",
              "      <td>73</td>\n",
              "      <td>39</td>\n",
              "      <td>201</td>\n",
              "    </tr>\n",
              "    <tr>\n",
              "      <th>영어</th>\n",
              "      <td>76</td>\n",
              "      <td>92</td>\n",
              "      <td>45</td>\n",
              "      <td>69</td>\n",
              "      <td>282</td>\n",
              "    </tr>\n",
              "    <tr>\n",
              "      <th>국어</th>\n",
              "      <td>47</td>\n",
              "      <td>92</td>\n",
              "      <td>45</td>\n",
              "      <td>69</td>\n",
              "      <td>253</td>\n",
              "    </tr>\n",
              "    <tr>\n",
              "      <th>사회</th>\n",
              "      <td>92</td>\n",
              "      <td>81</td>\n",
              "      <td>85</td>\n",
              "      <td>40</td>\n",
              "      <td>298</td>\n",
              "    </tr>\n",
              "    <tr>\n",
              "      <th>과학</th>\n",
              "      <td>11</td>\n",
              "      <td>79</td>\n",
              "      <td>47</td>\n",
              "      <td>26</td>\n",
              "      <td>163</td>\n",
              "    </tr>\n",
              "  </tbody>\n",
              "</table>\n",
              "</div>"
            ],
            "text/plain": [
              "    1반  2반  3반  4반   합계\n",
              "과목                     \n",
              "수학  45  44  73  39  201\n",
              "영어  76  92  45  69  282\n",
              "국어  47  92  45  69  253\n",
              "사회  92  81  85  40  298\n",
              "과학  11  79  47  26  163"
            ]
          },
          "metadata": {
            "tags": []
          },
          "execution_count": 14
        }
      ]
    },
    {
      "cell_type": "code",
      "metadata": {
        "colab": {
          "base_uri": "https://localhost:8080/",
          "height": 235
        },
        "id": "6Psd2WEELn5d",
        "outputId": "912a1150-7622-4b94-b7bb-a1726a1c4f0c"
      },
      "source": [
        "# 과목별 합계를 DataFrame에 추가 4회차\n",
        "\n",
        "score['합계'] = score.sum(axis=1)\n",
        "score"
      ],
      "execution_count": null,
      "outputs": [
        {
          "output_type": "execute_result",
          "data": {
            "text/html": [
              "<div>\n",
              "<style scoped>\n",
              "    .dataframe tbody tr th:only-of-type {\n",
              "        vertical-align: middle;\n",
              "    }\n",
              "\n",
              "    .dataframe tbody tr th {\n",
              "        vertical-align: top;\n",
              "    }\n",
              "\n",
              "    .dataframe thead th {\n",
              "        text-align: right;\n",
              "    }\n",
              "</style>\n",
              "<table border=\"1\" class=\"dataframe\">\n",
              "  <thead>\n",
              "    <tr style=\"text-align: right;\">\n",
              "      <th></th>\n",
              "      <th>1반</th>\n",
              "      <th>2반</th>\n",
              "      <th>3반</th>\n",
              "      <th>4반</th>\n",
              "      <th>합계</th>\n",
              "    </tr>\n",
              "    <tr>\n",
              "      <th>과목</th>\n",
              "      <th></th>\n",
              "      <th></th>\n",
              "      <th></th>\n",
              "      <th></th>\n",
              "      <th></th>\n",
              "    </tr>\n",
              "  </thead>\n",
              "  <tbody>\n",
              "    <tr>\n",
              "      <th>수학</th>\n",
              "      <td>45</td>\n",
              "      <td>44</td>\n",
              "      <td>73</td>\n",
              "      <td>39</td>\n",
              "      <td>201.0</td>\n",
              "    </tr>\n",
              "    <tr>\n",
              "      <th>영어</th>\n",
              "      <td>76</td>\n",
              "      <td>92</td>\n",
              "      <td>45</td>\n",
              "      <td>69</td>\n",
              "      <td>282.0</td>\n",
              "    </tr>\n",
              "    <tr>\n",
              "      <th>국어</th>\n",
              "      <td>47</td>\n",
              "      <td>92</td>\n",
              "      <td>45</td>\n",
              "      <td>69</td>\n",
              "      <td>253.0</td>\n",
              "    </tr>\n",
              "    <tr>\n",
              "      <th>사회</th>\n",
              "      <td>92</td>\n",
              "      <td>81</td>\n",
              "      <td>85</td>\n",
              "      <td>40</td>\n",
              "      <td>298.0</td>\n",
              "    </tr>\n",
              "    <tr>\n",
              "      <th>과학</th>\n",
              "      <td>11</td>\n",
              "      <td>79</td>\n",
              "      <td>47</td>\n",
              "      <td>26</td>\n",
              "      <td>163.0</td>\n",
              "    </tr>\n",
              "  </tbody>\n",
              "</table>\n",
              "</div>"
            ],
            "text/plain": [
              "    1반  2반  3반  4반     합계\n",
              "과목                       \n",
              "수학  45  44  73  39  201.0\n",
              "영어  76  92  45  69  282.0\n",
              "국어  47  92  45  69  253.0\n",
              "사회  92  81  85  40  298.0\n",
              "과학  11  79  47  26  163.0"
            ]
          },
          "metadata": {
            "tags": []
          },
          "execution_count": 16
        }
      ]
    },
    {
      "cell_type": "code",
      "metadata": {
        "colab": {
          "base_uri": "https://localhost:8080/",
          "height": 232
        },
        "id": "ur79zvzJR5-y",
        "outputId": "6b59d182-8777-46b7-e8f7-ca25903490cb"
      },
      "source": [
        "# 과목별 합계를 DataFrame에 추가 5회차\n",
        "\n",
        "score['합계'] = score.sum(axis=1)\n",
        "score"
      ],
      "execution_count": null,
      "outputs": [
        {
          "output_type": "execute_result",
          "data": {
            "text/html": [
              "<div>\n",
              "<style scoped>\n",
              "    .dataframe tbody tr th:only-of-type {\n",
              "        vertical-align: middle;\n",
              "    }\n",
              "\n",
              "    .dataframe tbody tr th {\n",
              "        vertical-align: top;\n",
              "    }\n",
              "\n",
              "    .dataframe thead th {\n",
              "        text-align: right;\n",
              "    }\n",
              "</style>\n",
              "<table border=\"1\" class=\"dataframe\">\n",
              "  <thead>\n",
              "    <tr style=\"text-align: right;\">\n",
              "      <th></th>\n",
              "      <th>1반</th>\n",
              "      <th>2반</th>\n",
              "      <th>3반</th>\n",
              "      <th>4반</th>\n",
              "      <th>합계</th>\n",
              "    </tr>\n",
              "    <tr>\n",
              "      <th>과목</th>\n",
              "      <th></th>\n",
              "      <th></th>\n",
              "      <th></th>\n",
              "      <th></th>\n",
              "      <th></th>\n",
              "    </tr>\n",
              "  </thead>\n",
              "  <tbody>\n",
              "    <tr>\n",
              "      <th>수학</th>\n",
              "      <td>45</td>\n",
              "      <td>44</td>\n",
              "      <td>73</td>\n",
              "      <td>39</td>\n",
              "      <td>201</td>\n",
              "    </tr>\n",
              "    <tr>\n",
              "      <th>영어</th>\n",
              "      <td>76</td>\n",
              "      <td>92</td>\n",
              "      <td>45</td>\n",
              "      <td>69</td>\n",
              "      <td>282</td>\n",
              "    </tr>\n",
              "    <tr>\n",
              "      <th>국어</th>\n",
              "      <td>47</td>\n",
              "      <td>92</td>\n",
              "      <td>45</td>\n",
              "      <td>69</td>\n",
              "      <td>253</td>\n",
              "    </tr>\n",
              "    <tr>\n",
              "      <th>사회</th>\n",
              "      <td>92</td>\n",
              "      <td>81</td>\n",
              "      <td>85</td>\n",
              "      <td>40</td>\n",
              "      <td>298</td>\n",
              "    </tr>\n",
              "    <tr>\n",
              "      <th>과학</th>\n",
              "      <td>11</td>\n",
              "      <td>79</td>\n",
              "      <td>47</td>\n",
              "      <td>26</td>\n",
              "      <td>163</td>\n",
              "    </tr>\n",
              "  </tbody>\n",
              "</table>\n",
              "</div>"
            ],
            "text/plain": [
              "    1반  2반  3반  4반   합계\n",
              "과목                     \n",
              "수학  45  44  73  39  201\n",
              "영어  76  92  45  69  282\n",
              "국어  47  92  45  69  253\n",
              "사회  92  81  85  40  298\n",
              "과학  11  79  47  26  163"
            ]
          },
          "metadata": {
            "tags": []
          },
          "execution_count": 15
        }
      ]
    },
    {
      "cell_type": "code",
      "metadata": {
        "colab": {
          "base_uri": "https://localhost:8080/"
        },
        "id": "9FwOn4z8Xcoy",
        "outputId": "767e39ff-5fce-452e-a123-d2ac3d7392a6"
      },
      "source": [
        "#score.max() 이게 축별로 다 나옴.\n",
        "score.max(axis = 1) #어떤 축으로 할 것이냐에 따라 달라짐\n",
        "score.min()\n",
        "score.mean()"
      ],
      "execution_count": null,
      "outputs": [
        {
          "output_type": "execute_result",
          "data": {
            "text/plain": [
              "1반     54.2\n",
              "2반     77.6\n",
              "3반     59.0\n",
              "4반     48.6\n",
              "합계    239.4\n",
              "dtype: float64"
            ]
          },
          "metadata": {
            "tags": []
          },
          "execution_count": 32
        }
      ]
    },
    {
      "cell_type": "markdown",
      "metadata": {
        "id": "lUlJOgBp0MLC"
      },
      "source": [
        "#### Pandas 연습 03-1\n",
        "\n",
        "과목별 평균을 계산하여 column 추가하기\n",
        "```\n",
        "\n",
        "        1반  2반\t3반\t4반\t합계\t평균\n",
        "과목\t\t\t\t\t\t\n",
        "수학\t45\t44\t73\t39\t201\t50.25\n",
        "영어\t76\t92\t45\t69\t282\t70.50\n",
        "국어\t47\t92\t45\t69\t253\t63.25\n",
        "사회\t92\t81\t85\t40\t298\t74.50\n",
        "과학\t11\t79\t47\t26\t163\t40.75\n",
        "```\n"
      ]
    },
    {
      "cell_type": "code",
      "metadata": {
        "colab": {
          "base_uri": "https://localhost:8080/",
          "height": 234
        },
        "id": "AiC62Fq0C5Eh",
        "outputId": "8e710275-0802-4eb4-b896-2bcfcf13393d"
      },
      "source": [
        "#내가 푼 것.\n",
        "score = pd.read_csv(drive_path + 'score.csv',\n",
        "                    index_col = '과목',encoding='euc_kr') #인코딩 문제 생기면 인코딩 옵션 추가해서 'euc-kr'\n",
        "score\n",
        "\n",
        "#각 과목별 총합\n",
        "sub_sum = score.sum(axis=1)\n",
        "\n",
        "score['합계'] = sub_sum # 칼럼에 합계 추가하고 각 과목 합계\n",
        "score\n",
        "\n",
        "#각 과목별 평균\n",
        "sub_mean = sub_sum/4\n",
        "sub_mean\n",
        "#여기서 .mean() 이거 활용하는 게 궁금한데. 이거 어떻게 활용해야하지?\n",
        "\n",
        "score['평균'] = sub_mean\n",
        "score"
      ],
      "execution_count": null,
      "outputs": [
        {
          "output_type": "execute_result",
          "data": {
            "text/html": [
              "<div>\n",
              "<style scoped>\n",
              "    .dataframe tbody tr th:only-of-type {\n",
              "        vertical-align: middle;\n",
              "    }\n",
              "\n",
              "    .dataframe tbody tr th {\n",
              "        vertical-align: top;\n",
              "    }\n",
              "\n",
              "    .dataframe thead th {\n",
              "        text-align: right;\n",
              "    }\n",
              "</style>\n",
              "<table border=\"1\" class=\"dataframe\">\n",
              "  <thead>\n",
              "    <tr style=\"text-align: right;\">\n",
              "      <th></th>\n",
              "      <th>1반</th>\n",
              "      <th>2반</th>\n",
              "      <th>3반</th>\n",
              "      <th>4반</th>\n",
              "      <th>합계</th>\n",
              "      <th>평균</th>\n",
              "    </tr>\n",
              "    <tr>\n",
              "      <th>과목</th>\n",
              "      <th></th>\n",
              "      <th></th>\n",
              "      <th></th>\n",
              "      <th></th>\n",
              "      <th></th>\n",
              "      <th></th>\n",
              "    </tr>\n",
              "  </thead>\n",
              "  <tbody>\n",
              "    <tr>\n",
              "      <th>수학</th>\n",
              "      <td>45</td>\n",
              "      <td>44</td>\n",
              "      <td>73</td>\n",
              "      <td>39</td>\n",
              "      <td>201</td>\n",
              "      <td>50.25</td>\n",
              "    </tr>\n",
              "    <tr>\n",
              "      <th>영어</th>\n",
              "      <td>76</td>\n",
              "      <td>92</td>\n",
              "      <td>45</td>\n",
              "      <td>69</td>\n",
              "      <td>282</td>\n",
              "      <td>70.50</td>\n",
              "    </tr>\n",
              "    <tr>\n",
              "      <th>국어</th>\n",
              "      <td>47</td>\n",
              "      <td>92</td>\n",
              "      <td>45</td>\n",
              "      <td>69</td>\n",
              "      <td>253</td>\n",
              "      <td>63.25</td>\n",
              "    </tr>\n",
              "    <tr>\n",
              "      <th>사회</th>\n",
              "      <td>92</td>\n",
              "      <td>81</td>\n",
              "      <td>85</td>\n",
              "      <td>40</td>\n",
              "      <td>298</td>\n",
              "      <td>74.50</td>\n",
              "    </tr>\n",
              "    <tr>\n",
              "      <th>과학</th>\n",
              "      <td>11</td>\n",
              "      <td>79</td>\n",
              "      <td>47</td>\n",
              "      <td>26</td>\n",
              "      <td>163</td>\n",
              "      <td>40.75</td>\n",
              "    </tr>\n",
              "  </tbody>\n",
              "</table>\n",
              "</div>"
            ],
            "text/plain": [
              "    1반  2반  3반  4반   합계     평균\n",
              "과목                            \n",
              "수학  45  44  73  39  201  50.25\n",
              "영어  76  92  45  69  282  70.50\n",
              "국어  47  92  45  69  253  63.25\n",
              "사회  92  81  85  40  298  74.50\n",
              "과학  11  79  47  26  163  40.75"
            ]
          },
          "metadata": {
            "tags": []
          },
          "execution_count": 167
        }
      ]
    },
    {
      "cell_type": "code",
      "metadata": {
        "colab": {
          "base_uri": "https://localhost:8080/",
          "height": 235
        },
        "id": "7LZDDizZ_88f",
        "outputId": "230564df-2040-499e-fcff-438a4c688415"
      },
      "source": [
        "#과목별 평균을 계산하여 column 추가하기 2회차\n",
        "#열 끝부분에 과목별 평균을 넣어주길 원함.\n",
        "score = pd.read_csv(drive_path + 'score.csv',\n",
        "                    index_col = '과목',encoding='euc_kr') #인코딩 문제 생기면 인코딩 옵션 추가해서 'euc-kr'\n",
        "score\n",
        "#계산은 호단위 알져?\n",
        "#과목별 평균 구하기\n",
        "score_mean = score.mean(axis=1)\n",
        "score_mean\n",
        "\n",
        "score['합계'] = score_mean\n",
        "score"
      ],
      "execution_count": null,
      "outputs": [
        {
          "output_type": "execute_result",
          "data": {
            "text/html": [
              "<div>\n",
              "<style scoped>\n",
              "    .dataframe tbody tr th:only-of-type {\n",
              "        vertical-align: middle;\n",
              "    }\n",
              "\n",
              "    .dataframe tbody tr th {\n",
              "        vertical-align: top;\n",
              "    }\n",
              "\n",
              "    .dataframe thead th {\n",
              "        text-align: right;\n",
              "    }\n",
              "</style>\n",
              "<table border=\"1\" class=\"dataframe\">\n",
              "  <thead>\n",
              "    <tr style=\"text-align: right;\">\n",
              "      <th></th>\n",
              "      <th>1반</th>\n",
              "      <th>2반</th>\n",
              "      <th>3반</th>\n",
              "      <th>4반</th>\n",
              "      <th>합계</th>\n",
              "    </tr>\n",
              "    <tr>\n",
              "      <th>과목</th>\n",
              "      <th></th>\n",
              "      <th></th>\n",
              "      <th></th>\n",
              "      <th></th>\n",
              "      <th></th>\n",
              "    </tr>\n",
              "  </thead>\n",
              "  <tbody>\n",
              "    <tr>\n",
              "      <th>수학</th>\n",
              "      <td>45</td>\n",
              "      <td>44</td>\n",
              "      <td>73</td>\n",
              "      <td>39</td>\n",
              "      <td>50.25</td>\n",
              "    </tr>\n",
              "    <tr>\n",
              "      <th>영어</th>\n",
              "      <td>76</td>\n",
              "      <td>92</td>\n",
              "      <td>45</td>\n",
              "      <td>69</td>\n",
              "      <td>70.50</td>\n",
              "    </tr>\n",
              "    <tr>\n",
              "      <th>국어</th>\n",
              "      <td>47</td>\n",
              "      <td>92</td>\n",
              "      <td>45</td>\n",
              "      <td>69</td>\n",
              "      <td>63.25</td>\n",
              "    </tr>\n",
              "    <tr>\n",
              "      <th>사회</th>\n",
              "      <td>92</td>\n",
              "      <td>81</td>\n",
              "      <td>85</td>\n",
              "      <td>40</td>\n",
              "      <td>74.50</td>\n",
              "    </tr>\n",
              "    <tr>\n",
              "      <th>과학</th>\n",
              "      <td>11</td>\n",
              "      <td>79</td>\n",
              "      <td>47</td>\n",
              "      <td>26</td>\n",
              "      <td>40.75</td>\n",
              "    </tr>\n",
              "  </tbody>\n",
              "</table>\n",
              "</div>"
            ],
            "text/plain": [
              "    1반  2반  3반  4반     합계\n",
              "과목                       \n",
              "수학  45  44  73  39  50.25\n",
              "영어  76  92  45  69  70.50\n",
              "국어  47  92  45  69  63.25\n",
              "사회  92  81  85  40  74.50\n",
              "과학  11  79  47  26  40.75"
            ]
          },
          "metadata": {
            "tags": []
          },
          "execution_count": 36
        }
      ]
    },
    {
      "cell_type": "code",
      "metadata": {
        "colab": {
          "base_uri": "https://localhost:8080/",
          "height": 235
        },
        "id": "1KVq_yJ_AA5Z",
        "outputId": "55592ae9-62cf-4c55-95ef-3416d6ecdb2f"
      },
      "source": [
        "#과목별 평균을 계산하여 column 추가하기 3회차\n",
        "\n",
        "#열 단위라 걍 추가하면 쭉 들어가거든?\n",
        "score.mean(axis = 1)\n",
        "score['평균'] = score.mean(axis = 1) #과목별 평균\n",
        "score"
      ],
      "execution_count": null,
      "outputs": [
        {
          "output_type": "execute_result",
          "data": {
            "text/html": [
              "<div>\n",
              "<style scoped>\n",
              "    .dataframe tbody tr th:only-of-type {\n",
              "        vertical-align: middle;\n",
              "    }\n",
              "\n",
              "    .dataframe tbody tr th {\n",
              "        vertical-align: top;\n",
              "    }\n",
              "\n",
              "    .dataframe thead th {\n",
              "        text-align: right;\n",
              "    }\n",
              "</style>\n",
              "<table border=\"1\" class=\"dataframe\">\n",
              "  <thead>\n",
              "    <tr style=\"text-align: right;\">\n",
              "      <th></th>\n",
              "      <th>1반</th>\n",
              "      <th>2반</th>\n",
              "      <th>3반</th>\n",
              "      <th>4반</th>\n",
              "      <th>평균</th>\n",
              "    </tr>\n",
              "    <tr>\n",
              "      <th>과목</th>\n",
              "      <th></th>\n",
              "      <th></th>\n",
              "      <th></th>\n",
              "      <th></th>\n",
              "      <th></th>\n",
              "    </tr>\n",
              "  </thead>\n",
              "  <tbody>\n",
              "    <tr>\n",
              "      <th>수학</th>\n",
              "      <td>45</td>\n",
              "      <td>44</td>\n",
              "      <td>73</td>\n",
              "      <td>39</td>\n",
              "      <td>50.25</td>\n",
              "    </tr>\n",
              "    <tr>\n",
              "      <th>영어</th>\n",
              "      <td>76</td>\n",
              "      <td>92</td>\n",
              "      <td>45</td>\n",
              "      <td>69</td>\n",
              "      <td>70.50</td>\n",
              "    </tr>\n",
              "    <tr>\n",
              "      <th>국어</th>\n",
              "      <td>47</td>\n",
              "      <td>92</td>\n",
              "      <td>45</td>\n",
              "      <td>69</td>\n",
              "      <td>63.25</td>\n",
              "    </tr>\n",
              "    <tr>\n",
              "      <th>사회</th>\n",
              "      <td>92</td>\n",
              "      <td>81</td>\n",
              "      <td>85</td>\n",
              "      <td>40</td>\n",
              "      <td>74.50</td>\n",
              "    </tr>\n",
              "    <tr>\n",
              "      <th>과학</th>\n",
              "      <td>11</td>\n",
              "      <td>79</td>\n",
              "      <td>47</td>\n",
              "      <td>26</td>\n",
              "      <td>40.75</td>\n",
              "    </tr>\n",
              "  </tbody>\n",
              "</table>\n",
              "</div>"
            ],
            "text/plain": [
              "    1반  2반  3반  4반     평균\n",
              "과목                       \n",
              "수학  45  44  73  39  50.25\n",
              "영어  76  92  45  69  70.50\n",
              "국어  47  92  45  69  63.25\n",
              "사회  92  81  85  40  74.50\n",
              "과학  11  79  47  26  40.75"
            ]
          },
          "metadata": {
            "tags": []
          },
          "execution_count": 21
        }
      ]
    },
    {
      "cell_type": "code",
      "metadata": {
        "colab": {
          "base_uri": "https://localhost:8080/",
          "height": 235
        },
        "id": "NDSjFH4tML7I",
        "outputId": "3f9532f4-f615-4721-c539-a0992930e489"
      },
      "source": [
        "#과목별 평균을 계산하여 column 추가하기 4회차\n",
        "\n",
        "#평균 추가해주고, \n",
        "\n",
        "#score[ :'4반' , '과학' ] #열 중심이라 열 먼저 들어감.\n",
        "score['평균'] = score.loc[ :'과학' , :'4반' ].mean(axis = 1)\n",
        "score"
      ],
      "execution_count": null,
      "outputs": [
        {
          "output_type": "execute_result",
          "data": {
            "text/html": [
              "<div>\n",
              "<style scoped>\n",
              "    .dataframe tbody tr th:only-of-type {\n",
              "        vertical-align: middle;\n",
              "    }\n",
              "\n",
              "    .dataframe tbody tr th {\n",
              "        vertical-align: top;\n",
              "    }\n",
              "\n",
              "    .dataframe thead th {\n",
              "        text-align: right;\n",
              "    }\n",
              "</style>\n",
              "<table border=\"1\" class=\"dataframe\">\n",
              "  <thead>\n",
              "    <tr style=\"text-align: right;\">\n",
              "      <th></th>\n",
              "      <th>1반</th>\n",
              "      <th>2반</th>\n",
              "      <th>3반</th>\n",
              "      <th>4반</th>\n",
              "      <th>합계</th>\n",
              "      <th>평균</th>\n",
              "    </tr>\n",
              "    <tr>\n",
              "      <th>과목</th>\n",
              "      <th></th>\n",
              "      <th></th>\n",
              "      <th></th>\n",
              "      <th></th>\n",
              "      <th></th>\n",
              "      <th></th>\n",
              "    </tr>\n",
              "  </thead>\n",
              "  <tbody>\n",
              "    <tr>\n",
              "      <th>수학</th>\n",
              "      <td>45</td>\n",
              "      <td>44</td>\n",
              "      <td>73</td>\n",
              "      <td>39</td>\n",
              "      <td>201.0</td>\n",
              "      <td>50.25</td>\n",
              "    </tr>\n",
              "    <tr>\n",
              "      <th>영어</th>\n",
              "      <td>76</td>\n",
              "      <td>92</td>\n",
              "      <td>45</td>\n",
              "      <td>69</td>\n",
              "      <td>282.0</td>\n",
              "      <td>70.50</td>\n",
              "    </tr>\n",
              "    <tr>\n",
              "      <th>국어</th>\n",
              "      <td>47</td>\n",
              "      <td>92</td>\n",
              "      <td>45</td>\n",
              "      <td>69</td>\n",
              "      <td>253.0</td>\n",
              "      <td>63.25</td>\n",
              "    </tr>\n",
              "    <tr>\n",
              "      <th>사회</th>\n",
              "      <td>92</td>\n",
              "      <td>81</td>\n",
              "      <td>85</td>\n",
              "      <td>40</td>\n",
              "      <td>298.0</td>\n",
              "      <td>74.50</td>\n",
              "    </tr>\n",
              "    <tr>\n",
              "      <th>과학</th>\n",
              "      <td>11</td>\n",
              "      <td>79</td>\n",
              "      <td>47</td>\n",
              "      <td>26</td>\n",
              "      <td>163.0</td>\n",
              "      <td>40.75</td>\n",
              "    </tr>\n",
              "  </tbody>\n",
              "</table>\n",
              "</div>"
            ],
            "text/plain": [
              "    1반  2반  3반  4반     합계     평균\n",
              "과목                              \n",
              "수학  45  44  73  39  201.0  50.25\n",
              "영어  76  92  45  69  282.0  70.50\n",
              "국어  47  92  45  69  253.0  63.25\n",
              "사회  92  81  85  40  298.0  74.50\n",
              "과학  11  79  47  26  163.0  40.75"
            ]
          },
          "metadata": {
            "tags": []
          },
          "execution_count": 19
        }
      ]
    },
    {
      "cell_type": "code",
      "metadata": {
        "colab": {
          "base_uri": "https://localhost:8080/",
          "height": 232
        },
        "id": "b0XtzobOT71_",
        "outputId": "0d26751c-2269-4798-d16c-99da549ff000"
      },
      "source": [
        "#과목별 평균을 계산하여 column 추가하기 5회차\n",
        "\n",
        "score['평균'] = score.loc[:'과학',:'4반'].mean(axis = 1)\n",
        "score"
      ],
      "execution_count": null,
      "outputs": [
        {
          "output_type": "execute_result",
          "data": {
            "text/html": [
              "<div>\n",
              "<style scoped>\n",
              "    .dataframe tbody tr th:only-of-type {\n",
              "        vertical-align: middle;\n",
              "    }\n",
              "\n",
              "    .dataframe tbody tr th {\n",
              "        vertical-align: top;\n",
              "    }\n",
              "\n",
              "    .dataframe thead th {\n",
              "        text-align: right;\n",
              "    }\n",
              "</style>\n",
              "<table border=\"1\" class=\"dataframe\">\n",
              "  <thead>\n",
              "    <tr style=\"text-align: right;\">\n",
              "      <th></th>\n",
              "      <th>1반</th>\n",
              "      <th>2반</th>\n",
              "      <th>3반</th>\n",
              "      <th>4반</th>\n",
              "      <th>합계</th>\n",
              "      <th>평균</th>\n",
              "    </tr>\n",
              "    <tr>\n",
              "      <th>과목</th>\n",
              "      <th></th>\n",
              "      <th></th>\n",
              "      <th></th>\n",
              "      <th></th>\n",
              "      <th></th>\n",
              "      <th></th>\n",
              "    </tr>\n",
              "  </thead>\n",
              "  <tbody>\n",
              "    <tr>\n",
              "      <th>수학</th>\n",
              "      <td>45</td>\n",
              "      <td>44</td>\n",
              "      <td>73</td>\n",
              "      <td>39</td>\n",
              "      <td>201</td>\n",
              "      <td>50.25</td>\n",
              "    </tr>\n",
              "    <tr>\n",
              "      <th>영어</th>\n",
              "      <td>76</td>\n",
              "      <td>92</td>\n",
              "      <td>45</td>\n",
              "      <td>69</td>\n",
              "      <td>282</td>\n",
              "      <td>70.50</td>\n",
              "    </tr>\n",
              "    <tr>\n",
              "      <th>국어</th>\n",
              "      <td>47</td>\n",
              "      <td>92</td>\n",
              "      <td>45</td>\n",
              "      <td>69</td>\n",
              "      <td>253</td>\n",
              "      <td>63.25</td>\n",
              "    </tr>\n",
              "    <tr>\n",
              "      <th>사회</th>\n",
              "      <td>92</td>\n",
              "      <td>81</td>\n",
              "      <td>85</td>\n",
              "      <td>40</td>\n",
              "      <td>298</td>\n",
              "      <td>74.50</td>\n",
              "    </tr>\n",
              "    <tr>\n",
              "      <th>과학</th>\n",
              "      <td>11</td>\n",
              "      <td>79</td>\n",
              "      <td>47</td>\n",
              "      <td>26</td>\n",
              "      <td>163</td>\n",
              "      <td>40.75</td>\n",
              "    </tr>\n",
              "  </tbody>\n",
              "</table>\n",
              "</div>"
            ],
            "text/plain": [
              "    1반  2반  3반  4반   합계     평균\n",
              "과목                            \n",
              "수학  45  44  73  39  201  50.25\n",
              "영어  76  92  45  69  282  70.50\n",
              "국어  47  92  45  69  253  63.25\n",
              "사회  92  81  85  40  298  74.50\n",
              "과학  11  79  47  26  163  40.75"
            ]
          },
          "metadata": {
            "tags": []
          },
          "execution_count": 18
        }
      ]
    },
    {
      "cell_type": "code",
      "metadata": {
        "id": "DiYLjq7fY4aH"
      },
      "source": [
        "#iloc을 활용한 힌트. iloc은 ndarray랑 마찬가지로 범위 슬라이싱 하는 건데. 2반까지 불러온다면\n",
        "score.iloc[:,:'2반']\n"
      ],
      "execution_count": null,
      "outputs": []
    },
    {
      "cell_type": "code",
      "metadata": {
        "colab": {
          "base_uri": "https://localhost:8080/",
          "height": 234
        },
        "id": "bFBMXBZCZo_W",
        "outputId": "2d4e9f9e-5df2-484b-c57b-0a094ae8494e"
      },
      "source": [
        "#강사님이 풀어준 것\n",
        "\n",
        "score = pd.read_csv(drive_path + 'score.csv',\n",
        "                    index_col = '과목',encoding='euc_kr') #인코딩 문제 생기면 인코딩 옵션 추가해서 'euc-kr'\n",
        "\n",
        "score.loc[:,:'4반'] #이거 자체가 시리즈임. 층은 전체고, 호는 4반까지 쓰겠다. 근데 그냥 하면 0축이니까 이걸 1축으로 바꿔줘야함. 이건 범위라 열우선이 아님! 여기다 .mean() 하면 반별로 나옴\n",
        "\n",
        "score['평균'] = score.loc[:,:'4반'].mean(axis=1) #4반까지 평균 구한 거!!!\n",
        "score"
      ],
      "execution_count": null,
      "outputs": [
        {
          "output_type": "execute_result",
          "data": {
            "text/html": [
              "<div>\n",
              "<style scoped>\n",
              "    .dataframe tbody tr th:only-of-type {\n",
              "        vertical-align: middle;\n",
              "    }\n",
              "\n",
              "    .dataframe tbody tr th {\n",
              "        vertical-align: top;\n",
              "    }\n",
              "\n",
              "    .dataframe thead th {\n",
              "        text-align: right;\n",
              "    }\n",
              "</style>\n",
              "<table border=\"1\" class=\"dataframe\">\n",
              "  <thead>\n",
              "    <tr style=\"text-align: right;\">\n",
              "      <th></th>\n",
              "      <th>1반</th>\n",
              "      <th>2반</th>\n",
              "      <th>3반</th>\n",
              "      <th>4반</th>\n",
              "      <th>평균</th>\n",
              "    </tr>\n",
              "    <tr>\n",
              "      <th>과목</th>\n",
              "      <th></th>\n",
              "      <th></th>\n",
              "      <th></th>\n",
              "      <th></th>\n",
              "      <th></th>\n",
              "    </tr>\n",
              "  </thead>\n",
              "  <tbody>\n",
              "    <tr>\n",
              "      <th>수학</th>\n",
              "      <td>45</td>\n",
              "      <td>44</td>\n",
              "      <td>73</td>\n",
              "      <td>39</td>\n",
              "      <td>50.25</td>\n",
              "    </tr>\n",
              "    <tr>\n",
              "      <th>영어</th>\n",
              "      <td>76</td>\n",
              "      <td>92</td>\n",
              "      <td>45</td>\n",
              "      <td>69</td>\n",
              "      <td>70.50</td>\n",
              "    </tr>\n",
              "    <tr>\n",
              "      <th>국어</th>\n",
              "      <td>47</td>\n",
              "      <td>92</td>\n",
              "      <td>45</td>\n",
              "      <td>69</td>\n",
              "      <td>63.25</td>\n",
              "    </tr>\n",
              "    <tr>\n",
              "      <th>사회</th>\n",
              "      <td>92</td>\n",
              "      <td>81</td>\n",
              "      <td>85</td>\n",
              "      <td>40</td>\n",
              "      <td>74.50</td>\n",
              "    </tr>\n",
              "    <tr>\n",
              "      <th>과학</th>\n",
              "      <td>11</td>\n",
              "      <td>79</td>\n",
              "      <td>47</td>\n",
              "      <td>26</td>\n",
              "      <td>40.75</td>\n",
              "    </tr>\n",
              "  </tbody>\n",
              "</table>\n",
              "</div>"
            ],
            "text/plain": [
              "    1반  2반  3반  4반     평균\n",
              "과목                       \n",
              "수학  45  44  73  39  50.25\n",
              "영어  76  92  45  69  70.50\n",
              "국어  47  92  45  69  63.25\n",
              "사회  92  81  85  40  74.50\n",
              "과학  11  79  47  26  40.75"
            ]
          },
          "metadata": {
            "tags": []
          },
          "execution_count": 168
        }
      ]
    },
    {
      "cell_type": "markdown",
      "metadata": {
        "id": "_nMX-UnD03vH"
      },
      "source": [
        "#### Pandas 연습 03-2\n",
        "\n",
        "반평균을 계산 하여 row 추가 하기\n",
        "```\n",
        "\t      1반\t2반\t 3반 \t4반 \t합계\t평균\n",
        "과목\t\t\t\t\t\t\n",
        "수학\t45.0\t44.0\t73.0\t39.0\t201.0\t50.25\n",
        "영어\t76.0\t92.0\t45.0\t69.0\t282.0\t70.50\n",
        "국어\t47.0\t92.0\t45.0\t69.0\t253.0\t63.25\n",
        "사회\t92.0\t81.0\t85.0\t40.0\t298.0\t74.50\n",
        "과학\t11.0\t79.0\t47.0\t26.0\t163.0\t40.75\n",
        "반평균  54.2\t77.6\t59.0\t48.6\t239.4\t59.85\n",
        "```\n"
      ]
    },
    {
      "cell_type": "code",
      "metadata": {
        "colab": {
          "base_uri": "https://localhost:8080/",
          "height": 263
        },
        "id": "i6OJVFD9Uhcp",
        "outputId": "e9a18762-45f5-4722-fcaf-c3df1e6659ab"
      },
      "source": [
        "#반평균을 계산 하여 row 추가 하기 5회차\n",
        "\n",
        "score.loc[ '반평균' ] = score.loc[:'과학',:].mean(axis = 0)\n",
        "score\n"
      ],
      "execution_count": null,
      "outputs": [
        {
          "output_type": "execute_result",
          "data": {
            "text/html": [
              "<div>\n",
              "<style scoped>\n",
              "    .dataframe tbody tr th:only-of-type {\n",
              "        vertical-align: middle;\n",
              "    }\n",
              "\n",
              "    .dataframe tbody tr th {\n",
              "        vertical-align: top;\n",
              "    }\n",
              "\n",
              "    .dataframe thead th {\n",
              "        text-align: right;\n",
              "    }\n",
              "</style>\n",
              "<table border=\"1\" class=\"dataframe\">\n",
              "  <thead>\n",
              "    <tr style=\"text-align: right;\">\n",
              "      <th></th>\n",
              "      <th>1반</th>\n",
              "      <th>2반</th>\n",
              "      <th>3반</th>\n",
              "      <th>4반</th>\n",
              "      <th>합계</th>\n",
              "      <th>평균</th>\n",
              "    </tr>\n",
              "    <tr>\n",
              "      <th>과목</th>\n",
              "      <th></th>\n",
              "      <th></th>\n",
              "      <th></th>\n",
              "      <th></th>\n",
              "      <th></th>\n",
              "      <th></th>\n",
              "    </tr>\n",
              "  </thead>\n",
              "  <tbody>\n",
              "    <tr>\n",
              "      <th>수학</th>\n",
              "      <td>45.0</td>\n",
              "      <td>44.0</td>\n",
              "      <td>73.0</td>\n",
              "      <td>39.0</td>\n",
              "      <td>201.0</td>\n",
              "      <td>50.25</td>\n",
              "    </tr>\n",
              "    <tr>\n",
              "      <th>영어</th>\n",
              "      <td>76.0</td>\n",
              "      <td>92.0</td>\n",
              "      <td>45.0</td>\n",
              "      <td>69.0</td>\n",
              "      <td>282.0</td>\n",
              "      <td>70.50</td>\n",
              "    </tr>\n",
              "    <tr>\n",
              "      <th>국어</th>\n",
              "      <td>47.0</td>\n",
              "      <td>92.0</td>\n",
              "      <td>45.0</td>\n",
              "      <td>69.0</td>\n",
              "      <td>253.0</td>\n",
              "      <td>63.25</td>\n",
              "    </tr>\n",
              "    <tr>\n",
              "      <th>사회</th>\n",
              "      <td>92.0</td>\n",
              "      <td>81.0</td>\n",
              "      <td>85.0</td>\n",
              "      <td>40.0</td>\n",
              "      <td>298.0</td>\n",
              "      <td>74.50</td>\n",
              "    </tr>\n",
              "    <tr>\n",
              "      <th>과학</th>\n",
              "      <td>11.0</td>\n",
              "      <td>79.0</td>\n",
              "      <td>47.0</td>\n",
              "      <td>26.0</td>\n",
              "      <td>163.0</td>\n",
              "      <td>40.75</td>\n",
              "    </tr>\n",
              "    <tr>\n",
              "      <th>반평균</th>\n",
              "      <td>54.2</td>\n",
              "      <td>77.6</td>\n",
              "      <td>59.0</td>\n",
              "      <td>48.6</td>\n",
              "      <td>239.4</td>\n",
              "      <td>59.85</td>\n",
              "    </tr>\n",
              "  </tbody>\n",
              "</table>\n",
              "</div>"
            ],
            "text/plain": [
              "       1반    2반    3반    4반     합계     평균\n",
              "과목                                       \n",
              "수학   45.0  44.0  73.0  39.0  201.0  50.25\n",
              "영어   76.0  92.0  45.0  69.0  282.0  70.50\n",
              "국어   47.0  92.0  45.0  69.0  253.0  63.25\n",
              "사회   92.0  81.0  85.0  40.0  298.0  74.50\n",
              "과학   11.0  79.0  47.0  26.0  163.0  40.75\n",
              "반평균  54.2  77.6  59.0  48.6  239.4  59.85"
            ]
          },
          "metadata": {
            "tags": []
          },
          "execution_count": 19
        }
      ]
    },
    {
      "cell_type": "code",
      "metadata": {
        "colab": {
          "base_uri": "https://localhost:8080/",
          "height": 265
        },
        "id": "qyCC8eDhNZ3f",
        "outputId": "906f4f35-9ec5-4387-e0c4-215c915aff30"
      },
      "source": [
        "#반평균을 계산 하여 row 추가 하기 4회차\n",
        "\n",
        "score.loc[:'과학',:].mean(axis=0)\n",
        "score.loc['반평균'] = score.loc[:'과학',:].mean(axis=0)\n",
        "score"
      ],
      "execution_count": null,
      "outputs": [
        {
          "output_type": "execute_result",
          "data": {
            "text/html": [
              "<div>\n",
              "<style scoped>\n",
              "    .dataframe tbody tr th:only-of-type {\n",
              "        vertical-align: middle;\n",
              "    }\n",
              "\n",
              "    .dataframe tbody tr th {\n",
              "        vertical-align: top;\n",
              "    }\n",
              "\n",
              "    .dataframe thead th {\n",
              "        text-align: right;\n",
              "    }\n",
              "</style>\n",
              "<table border=\"1\" class=\"dataframe\">\n",
              "  <thead>\n",
              "    <tr style=\"text-align: right;\">\n",
              "      <th></th>\n",
              "      <th>1반</th>\n",
              "      <th>2반</th>\n",
              "      <th>3반</th>\n",
              "      <th>4반</th>\n",
              "      <th>합계</th>\n",
              "      <th>평균</th>\n",
              "    </tr>\n",
              "    <tr>\n",
              "      <th>과목</th>\n",
              "      <th></th>\n",
              "      <th></th>\n",
              "      <th></th>\n",
              "      <th></th>\n",
              "      <th></th>\n",
              "      <th></th>\n",
              "    </tr>\n",
              "  </thead>\n",
              "  <tbody>\n",
              "    <tr>\n",
              "      <th>수학</th>\n",
              "      <td>45.0</td>\n",
              "      <td>44.0</td>\n",
              "      <td>73.0</td>\n",
              "      <td>39.0</td>\n",
              "      <td>201.0</td>\n",
              "      <td>50.25</td>\n",
              "    </tr>\n",
              "    <tr>\n",
              "      <th>영어</th>\n",
              "      <td>76.0</td>\n",
              "      <td>92.0</td>\n",
              "      <td>45.0</td>\n",
              "      <td>69.0</td>\n",
              "      <td>282.0</td>\n",
              "      <td>70.50</td>\n",
              "    </tr>\n",
              "    <tr>\n",
              "      <th>국어</th>\n",
              "      <td>47.0</td>\n",
              "      <td>92.0</td>\n",
              "      <td>45.0</td>\n",
              "      <td>69.0</td>\n",
              "      <td>253.0</td>\n",
              "      <td>63.25</td>\n",
              "    </tr>\n",
              "    <tr>\n",
              "      <th>사회</th>\n",
              "      <td>92.0</td>\n",
              "      <td>81.0</td>\n",
              "      <td>85.0</td>\n",
              "      <td>40.0</td>\n",
              "      <td>298.0</td>\n",
              "      <td>74.50</td>\n",
              "    </tr>\n",
              "    <tr>\n",
              "      <th>과학</th>\n",
              "      <td>11.0</td>\n",
              "      <td>79.0</td>\n",
              "      <td>47.0</td>\n",
              "      <td>26.0</td>\n",
              "      <td>163.0</td>\n",
              "      <td>40.75</td>\n",
              "    </tr>\n",
              "    <tr>\n",
              "      <th>반평균</th>\n",
              "      <td>54.2</td>\n",
              "      <td>77.6</td>\n",
              "      <td>59.0</td>\n",
              "      <td>48.6</td>\n",
              "      <td>239.4</td>\n",
              "      <td>59.85</td>\n",
              "    </tr>\n",
              "  </tbody>\n",
              "</table>\n",
              "</div>"
            ],
            "text/plain": [
              "       1반    2반    3반    4반     합계     평균\n",
              "과목                                       \n",
              "수학   45.0  44.0  73.0  39.0  201.0  50.25\n",
              "영어   76.0  92.0  45.0  69.0  282.0  70.50\n",
              "국어   47.0  92.0  45.0  69.0  253.0  63.25\n",
              "사회   92.0  81.0  85.0  40.0  298.0  74.50\n",
              "과학   11.0  79.0  47.0  26.0  163.0  40.75\n",
              "반평균  54.2  77.6  59.0  48.6  239.4  59.85"
            ]
          },
          "metadata": {
            "tags": []
          },
          "execution_count": 22
        }
      ]
    },
    {
      "cell_type": "code",
      "metadata": {
        "id": "VwaxtzX1C68U"
      },
      "source": [
        "#행 추가하는 법\n",
        "\n",
        "score.loc['반평균'] #이렇게 하면 행 추가. 여기다 = 어쩌고 해서 어떤 걸 넣겠다 하면 행이 추가된다. 이건 loc이니까 열 우선이 아님!"
      ],
      "execution_count": null,
      "outputs": []
    },
    {
      "cell_type": "code",
      "metadata": {
        "colab": {
          "base_uri": "https://localhost:8080/",
          "height": 265
        },
        "id": "pen0eyV5Axe_",
        "outputId": "fb4365d2-abaf-47ed-c30f-c35bbbde7492"
      },
      "source": [
        "#반평균 계산해서 row 추가 2회차\n",
        "score.mean(axis=0)\n",
        "\n",
        "score.loc['반평균'] = score.mean(axis=0) #score.loc[] 해서 값 추가하는 거 진짜 개꿀팁\n",
        "score"
      ],
      "execution_count": null,
      "outputs": [
        {
          "output_type": "execute_result",
          "data": {
            "text/html": [
              "<div>\n",
              "<style scoped>\n",
              "    .dataframe tbody tr th:only-of-type {\n",
              "        vertical-align: middle;\n",
              "    }\n",
              "\n",
              "    .dataframe tbody tr th {\n",
              "        vertical-align: top;\n",
              "    }\n",
              "\n",
              "    .dataframe thead th {\n",
              "        text-align: right;\n",
              "    }\n",
              "</style>\n",
              "<table border=\"1\" class=\"dataframe\">\n",
              "  <thead>\n",
              "    <tr style=\"text-align: right;\">\n",
              "      <th></th>\n",
              "      <th>1반</th>\n",
              "      <th>2반</th>\n",
              "      <th>3반</th>\n",
              "      <th>4반</th>\n",
              "      <th>합계</th>\n",
              "    </tr>\n",
              "    <tr>\n",
              "      <th>과목</th>\n",
              "      <th></th>\n",
              "      <th></th>\n",
              "      <th></th>\n",
              "      <th></th>\n",
              "      <th></th>\n",
              "    </tr>\n",
              "  </thead>\n",
              "  <tbody>\n",
              "    <tr>\n",
              "      <th>수학</th>\n",
              "      <td>45.0</td>\n",
              "      <td>44.0</td>\n",
              "      <td>73.0</td>\n",
              "      <td>39.0</td>\n",
              "      <td>50.25</td>\n",
              "    </tr>\n",
              "    <tr>\n",
              "      <th>영어</th>\n",
              "      <td>76.0</td>\n",
              "      <td>92.0</td>\n",
              "      <td>45.0</td>\n",
              "      <td>69.0</td>\n",
              "      <td>70.50</td>\n",
              "    </tr>\n",
              "    <tr>\n",
              "      <th>국어</th>\n",
              "      <td>47.0</td>\n",
              "      <td>92.0</td>\n",
              "      <td>45.0</td>\n",
              "      <td>69.0</td>\n",
              "      <td>63.25</td>\n",
              "    </tr>\n",
              "    <tr>\n",
              "      <th>사회</th>\n",
              "      <td>92.0</td>\n",
              "      <td>81.0</td>\n",
              "      <td>85.0</td>\n",
              "      <td>40.0</td>\n",
              "      <td>74.50</td>\n",
              "    </tr>\n",
              "    <tr>\n",
              "      <th>과학</th>\n",
              "      <td>11.0</td>\n",
              "      <td>79.0</td>\n",
              "      <td>47.0</td>\n",
              "      <td>26.0</td>\n",
              "      <td>40.75</td>\n",
              "    </tr>\n",
              "    <tr>\n",
              "      <th>반평균</th>\n",
              "      <td>54.2</td>\n",
              "      <td>77.6</td>\n",
              "      <td>59.0</td>\n",
              "      <td>48.6</td>\n",
              "      <td>59.85</td>\n",
              "    </tr>\n",
              "  </tbody>\n",
              "</table>\n",
              "</div>"
            ],
            "text/plain": [
              "       1반    2반    3반    4반     합계\n",
              "과목                                \n",
              "수학   45.0  44.0  73.0  39.0  50.25\n",
              "영어   76.0  92.0  45.0  69.0  70.50\n",
              "국어   47.0  92.0  45.0  69.0  63.25\n",
              "사회   92.0  81.0  85.0  40.0  74.50\n",
              "과학   11.0  79.0  47.0  26.0  40.75\n",
              "반평균  54.2  77.6  59.0  48.6  59.85"
            ]
          },
          "metadata": {
            "tags": []
          },
          "execution_count": 38
        }
      ]
    },
    {
      "cell_type": "code",
      "metadata": {
        "colab": {
          "base_uri": "https://localhost:8080/",
          "height": 265
        },
        "id": "Xk0Sbj7pAw3H",
        "outputId": "8eb0a3d6-4b02-48a6-f9dd-6221591a87a1"
      },
      "source": [
        "#반평균을 계산 하여 row 추가 하기 3회차\n",
        "#score = pd.read_csv(drive_path + 'score.csv', index_col = '과목',encoding='euc_kr') #인코딩 문제 생기면 인코딩 옵션 추가해서 'euc-kr'\n",
        "#score\n",
        "#score['합계'] = score.sum(axis = 1)\n",
        "#score['평균'] = score.loc[:, :'4반'].mean(axis = 1)\n",
        "#score\n",
        "score.loc['반평균'] = score.loc[:,:].mean(axis=0) #행 추가할 때 .loc해서 행추가하는 거 진짜 좋은 생각이다.\n",
        "score"
      ],
      "execution_count": null,
      "outputs": [
        {
          "output_type": "execute_result",
          "data": {
            "text/html": [
              "<div>\n",
              "<style scoped>\n",
              "    .dataframe tbody tr th:only-of-type {\n",
              "        vertical-align: middle;\n",
              "    }\n",
              "\n",
              "    .dataframe tbody tr th {\n",
              "        vertical-align: top;\n",
              "    }\n",
              "\n",
              "    .dataframe thead th {\n",
              "        text-align: right;\n",
              "    }\n",
              "</style>\n",
              "<table border=\"1\" class=\"dataframe\">\n",
              "  <thead>\n",
              "    <tr style=\"text-align: right;\">\n",
              "      <th></th>\n",
              "      <th>1반</th>\n",
              "      <th>2반</th>\n",
              "      <th>3반</th>\n",
              "      <th>4반</th>\n",
              "      <th>합계</th>\n",
              "      <th>평균</th>\n",
              "    </tr>\n",
              "    <tr>\n",
              "      <th>과목</th>\n",
              "      <th></th>\n",
              "      <th></th>\n",
              "      <th></th>\n",
              "      <th></th>\n",
              "      <th></th>\n",
              "      <th></th>\n",
              "    </tr>\n",
              "  </thead>\n",
              "  <tbody>\n",
              "    <tr>\n",
              "      <th>수학</th>\n",
              "      <td>45.0</td>\n",
              "      <td>44.0</td>\n",
              "      <td>73.0</td>\n",
              "      <td>39.0</td>\n",
              "      <td>201.0</td>\n",
              "      <td>50.25</td>\n",
              "    </tr>\n",
              "    <tr>\n",
              "      <th>영어</th>\n",
              "      <td>76.0</td>\n",
              "      <td>92.0</td>\n",
              "      <td>45.0</td>\n",
              "      <td>69.0</td>\n",
              "      <td>282.0</td>\n",
              "      <td>70.50</td>\n",
              "    </tr>\n",
              "    <tr>\n",
              "      <th>국어</th>\n",
              "      <td>47.0</td>\n",
              "      <td>92.0</td>\n",
              "      <td>45.0</td>\n",
              "      <td>69.0</td>\n",
              "      <td>253.0</td>\n",
              "      <td>63.25</td>\n",
              "    </tr>\n",
              "    <tr>\n",
              "      <th>사회</th>\n",
              "      <td>92.0</td>\n",
              "      <td>81.0</td>\n",
              "      <td>85.0</td>\n",
              "      <td>40.0</td>\n",
              "      <td>298.0</td>\n",
              "      <td>74.50</td>\n",
              "    </tr>\n",
              "    <tr>\n",
              "      <th>과학</th>\n",
              "      <td>11.0</td>\n",
              "      <td>79.0</td>\n",
              "      <td>47.0</td>\n",
              "      <td>26.0</td>\n",
              "      <td>163.0</td>\n",
              "      <td>40.75</td>\n",
              "    </tr>\n",
              "    <tr>\n",
              "      <th>반평균</th>\n",
              "      <td>54.2</td>\n",
              "      <td>77.6</td>\n",
              "      <td>59.0</td>\n",
              "      <td>48.6</td>\n",
              "      <td>239.4</td>\n",
              "      <td>59.85</td>\n",
              "    </tr>\n",
              "  </tbody>\n",
              "</table>\n",
              "</div>"
            ],
            "text/plain": [
              "       1반    2반    3반    4반     합계     평균\n",
              "과목                                       \n",
              "수학   45.0  44.0  73.0  39.0  201.0  50.25\n",
              "영어   76.0  92.0  45.0  69.0  282.0  70.50\n",
              "국어   47.0  92.0  45.0  69.0  253.0  63.25\n",
              "사회   92.0  81.0  85.0  40.0  298.0  74.50\n",
              "과학   11.0  79.0  47.0  26.0  163.0  40.75\n",
              "반평균  54.2  77.6  59.0  48.6  239.4  59.85"
            ]
          },
          "metadata": {
            "tags": []
          },
          "execution_count": 49
        }
      ]
    },
    {
      "cell_type": "code",
      "metadata": {
        "colab": {
          "base_uri": "https://localhost:8080/",
          "height": 265
        },
        "id": "S17x2KwGavFU",
        "outputId": "ea4da089-95a4-4168-b90d-4ef735e7f0f2"
      },
      "source": [
        "#강사가 풀어준 것\n",
        "score.loc['반평균'] = score.mean()\n",
        "score"
      ],
      "execution_count": null,
      "outputs": [
        {
          "output_type": "execute_result",
          "data": {
            "text/html": [
              "<div>\n",
              "<style scoped>\n",
              "    .dataframe tbody tr th:only-of-type {\n",
              "        vertical-align: middle;\n",
              "    }\n",
              "\n",
              "    .dataframe tbody tr th {\n",
              "        vertical-align: top;\n",
              "    }\n",
              "\n",
              "    .dataframe thead th {\n",
              "        text-align: right;\n",
              "    }\n",
              "</style>\n",
              "<table border=\"1\" class=\"dataframe\">\n",
              "  <thead>\n",
              "    <tr style=\"text-align: right;\">\n",
              "      <th></th>\n",
              "      <th>1반</th>\n",
              "      <th>2반</th>\n",
              "      <th>3반</th>\n",
              "      <th>4반</th>\n",
              "      <th>평균</th>\n",
              "    </tr>\n",
              "    <tr>\n",
              "      <th>과목</th>\n",
              "      <th></th>\n",
              "      <th></th>\n",
              "      <th></th>\n",
              "      <th></th>\n",
              "      <th></th>\n",
              "    </tr>\n",
              "  </thead>\n",
              "  <tbody>\n",
              "    <tr>\n",
              "      <th>수학</th>\n",
              "      <td>45.0</td>\n",
              "      <td>44.0</td>\n",
              "      <td>73.0</td>\n",
              "      <td>39.0</td>\n",
              "      <td>50.25</td>\n",
              "    </tr>\n",
              "    <tr>\n",
              "      <th>영어</th>\n",
              "      <td>76.0</td>\n",
              "      <td>92.0</td>\n",
              "      <td>45.0</td>\n",
              "      <td>69.0</td>\n",
              "      <td>70.50</td>\n",
              "    </tr>\n",
              "    <tr>\n",
              "      <th>국어</th>\n",
              "      <td>47.0</td>\n",
              "      <td>92.0</td>\n",
              "      <td>45.0</td>\n",
              "      <td>69.0</td>\n",
              "      <td>63.25</td>\n",
              "    </tr>\n",
              "    <tr>\n",
              "      <th>사회</th>\n",
              "      <td>92.0</td>\n",
              "      <td>81.0</td>\n",
              "      <td>85.0</td>\n",
              "      <td>40.0</td>\n",
              "      <td>74.50</td>\n",
              "    </tr>\n",
              "    <tr>\n",
              "      <th>과학</th>\n",
              "      <td>11.0</td>\n",
              "      <td>79.0</td>\n",
              "      <td>47.0</td>\n",
              "      <td>26.0</td>\n",
              "      <td>40.75</td>\n",
              "    </tr>\n",
              "    <tr>\n",
              "      <th>반평균</th>\n",
              "      <td>54.2</td>\n",
              "      <td>77.6</td>\n",
              "      <td>59.0</td>\n",
              "      <td>48.6</td>\n",
              "      <td>59.85</td>\n",
              "    </tr>\n",
              "  </tbody>\n",
              "</table>\n",
              "</div>"
            ],
            "text/plain": [
              "       1반    2반    3반    4반     평균\n",
              "과목                                \n",
              "수학   45.0  44.0  73.0  39.0  50.25\n",
              "영어   76.0  92.0  45.0  69.0  70.50\n",
              "국어   47.0  92.0  45.0  69.0  63.25\n",
              "사회   92.0  81.0  85.0  40.0  74.50\n",
              "과학   11.0  79.0  47.0  26.0  40.75\n",
              "반평균  54.2  77.6  59.0  48.6  59.85"
            ]
          },
          "metadata": {
            "tags": []
          },
          "execution_count": 172
        }
      ]
    },
    {
      "cell_type": "markdown",
      "metadata": {
        "id": "1s1Tlohj2p-K"
      },
      "source": [
        "#### Pandas 연습 03-3\n",
        "\n",
        "반 평균, 합계, 평균을 제외한 데이터 중 과목별 가장 큰 값, 작은 값을 구하시오.\n",
        "\n",
        "```\n",
        "과목\n",
        "수학    73.0\n",
        "영어    92.0\n",
        "국어    92.0\n",
        "사회    92.0\n",
        "과학    79.0\n",
        "dtype: float64\n",
        "```\n",
        "```\n",
        "과목\n",
        "수학    39.0\n",
        "영어    45.0\n",
        "국어    45.0\n",
        "사회    40.0\n",
        "과학    11.0\n",
        "dtype: float64\n",
        "```\n"
      ]
    },
    {
      "cell_type": "code",
      "metadata": {
        "colab": {
          "base_uri": "https://localhost:8080/"
        },
        "id": "A9yGItKZU3Sj",
        "outputId": "c9d1152e-1a78-4e77-d6f3-052421015245"
      },
      "source": [
        "##반 평균, 합계, 평균을 제외한 데이터 중 과목별 가장 큰 값, 작은 값을 구하시오. 5회차\n",
        "score.loc[:'과학',:'4반'].max(axis = 1)\n",
        "\n",
        "score.loc[:'과학',:'4반'].max(axis = 1)"
      ],
      "execution_count": null,
      "outputs": [
        {
          "output_type": "execute_result",
          "data": {
            "text/plain": [
              "과목\n",
              "수학    73.0\n",
              "영어    92.0\n",
              "국어    92.0\n",
              "사회    92.0\n",
              "과학    79.0\n",
              "dtype: float64"
            ]
          },
          "metadata": {
            "tags": []
          },
          "execution_count": 21
        }
      ]
    },
    {
      "cell_type": "code",
      "metadata": {
        "colab": {
          "base_uri": "https://localhost:8080/"
        },
        "id": "Wsaykac7N_pH",
        "outputId": "b6f2d7af-1c52-45eb-a90d-8c67103add51"
      },
      "source": [
        "##반 평균, 합계, 평균을 제외한 데이터 중 과목별 가장 큰 값, 작은 값을 구하시오. 4회차\n",
        "\n",
        "#과목별 가장 큰 거 - 그 뭐냐? 행 단위로.\n",
        "score.loc[:'과학',:'4반'].max(axis = 1)\n",
        "\n",
        "#과목별 가장 작은 거 - 그 뭐냐? 행 단위로.\n",
        "score.loc[:'과학',:'4반'].min(axis = 1)\n"
      ],
      "execution_count": null,
      "outputs": [
        {
          "output_type": "execute_result",
          "data": {
            "text/plain": [
              "과목\n",
              "수학    39.0\n",
              "영어    45.0\n",
              "국어    45.0\n",
              "사회    40.0\n",
              "과학    11.0\n",
              "dtype: float64"
            ]
          },
          "metadata": {
            "tags": []
          },
          "execution_count": 26
        }
      ]
    },
    {
      "cell_type": "code",
      "metadata": {
        "colab": {
          "base_uri": "https://localhost:8080/",
          "height": 263
        },
        "id": "LCSvr94mDExP",
        "outputId": "4345539b-b8c1-4b3f-b9b7-d7ac5a036197"
      },
      "source": [
        "#범위 연산자 사용해서 가장 큰 값과 가장 작은 값 찾기\n",
        "score\n",
        "#iloc는 '이름' 이름으로 쓰면 안되고, 인덱스 숫자를 써야만 가능함. loc은 이름 쓰기 가능\n",
        "#loc[,] loc으로 슬라이싱하는 게 진짜 좋네. \n",
        "display(score.loc[:'과학',:'4반'].max(axis=1)) #왜 축을 1열로 바꿨냐 하면.. 층끼리(반끼리) 제일 큰 게 아니라 호끼리(과목끼리) 제일 큰 거를 출력하려 했기 때문임.\n",
        "display(score.loc[:'과학',:'4반'].min(axis=1))"
      ],
      "execution_count": null,
      "outputs": [
        {
          "output_type": "display_data",
          "data": {
            "text/plain": [
              "과목\n",
              "수학    73.0\n",
              "영어    92.0\n",
              "국어    92.0\n",
              "사회    92.0\n",
              "과학    79.0\n",
              "dtype: float64"
            ]
          },
          "metadata": {
            "tags": []
          }
        },
        {
          "output_type": "display_data",
          "data": {
            "text/plain": [
              "과목\n",
              "수학    39.0\n",
              "영어    45.0\n",
              "국어    45.0\n",
              "사회    40.0\n",
              "과학    11.0\n",
              "dtype: float64"
            ]
          },
          "metadata": {
            "tags": []
          }
        }
      ]
    },
    {
      "cell_type": "code",
      "metadata": {
        "colab": {
          "base_uri": "https://localhost:8080/"
        },
        "id": "a3BsD0iuBdVw",
        "outputId": "a763b8c1-09dd-4ed1-f065-1095efc99dab"
      },
      "source": [
        "#범위 연산자 사용해서 가장 큰 값과 가장 작은 값 찾기 2회차\n",
        "score\n",
        "\n",
        "#일단 나는~ 과목별 제일 큰 값, 작은 값이니까 max(), min() 써야하는데, 과목별이면 axis=1이잖아? 이걸 갖고 가보자\n",
        "score.min(axis=1)\n",
        "score.max(axis=1)\n",
        "\n",
        "#근데 이렇게만 풀지 말고 .loc[] 써서 풀어보자\n",
        "max_arr = score.loc[:'과학' , :'4반'].max(axis=1)\n",
        "max_arr\n",
        "min_arr = score.loc[:'과학',:'4반'].min(axis=1) #축 지정 해줘야돼. .loc[,]은 ndarry가 익숙하니까 그거대로 슬라이싱 하려고 하는 거야. 알겠지? axis는 늘 표기해주도록 하자.\n",
        "                                                #특히 판다스같은 경우는 열중심이라 그냥 하면 헷갈려. .loc[,] 쓰고, 끝에 함수에 축지정까지 잊지마~~\n",
        "min_arr"
      ],
      "execution_count": null,
      "outputs": [
        {
          "output_type": "execute_result",
          "data": {
            "text/plain": [
              "1반    11.0\n",
              "2반    44.0\n",
              "3반    45.0\n",
              "4반    26.0\n",
              "dtype: float64"
            ]
          },
          "metadata": {
            "tags": []
          },
          "execution_count": 48
        }
      ]
    },
    {
      "cell_type": "code",
      "metadata": {
        "colab": {
          "base_uri": "https://localhost:8080/"
        },
        "id": "9H19TBM6ESmC",
        "outputId": "c5d69a97-98a0-4e96-b667-b93d0a81c7d7"
      },
      "source": [
        "#반 평균, 합계, 평균을 제외한 데이터 중 과목별 가장 큰 값, 작은 값을 구하시오. 3회차\n",
        "score #과목별 가장 큰값, 작은 값. max()하고 min()\n",
        "\n",
        "#과목별이면 호별임. axis = 1\n",
        "\n",
        "score.loc[:'과학',:'4반'].max(axis = 1)\n",
        "\n",
        "#score.loc[].min(axis = 1)"
      ],
      "execution_count": null,
      "outputs": [
        {
          "output_type": "execute_result",
          "data": {
            "text/plain": [
              "과목\n",
              "수학    73.0\n",
              "영어    92.0\n",
              "국어    92.0\n",
              "사회    92.0\n",
              "과학    79.0\n",
              "dtype: float64"
            ]
          },
          "metadata": {
            "tags": []
          },
          "execution_count": 51
        }
      ]
    },
    {
      "cell_type": "code",
      "metadata": {
        "colab": {
          "base_uri": "https://localhost:8080/",
          "height": 234
        },
        "id": "wtHbb5iDc4Cr",
        "outputId": "a0521157-29c0-4241-b3d3-e401303b8986"
      },
      "source": [
        "#강사님이 풀어준 것\n",
        "\n",
        "max_arr = score.loc[:'과학',:'4반'].max(axis=1)\n",
        "min_arr = score.loc[:'과학',:'4반'].min(axis=1)\n",
        "\n",
        "#iloc 사용한다면? iloc은 숫자 인덱스 범위임. 근데 loc이 훨씬 직관적이지 않냐? 그냥 알아서 편한 거 사용하면 됨!\n",
        "score.iloc[:5,:4]"
      ],
      "execution_count": null,
      "outputs": [
        {
          "output_type": "execute_result",
          "data": {
            "text/html": [
              "<div>\n",
              "<style scoped>\n",
              "    .dataframe tbody tr th:only-of-type {\n",
              "        vertical-align: middle;\n",
              "    }\n",
              "\n",
              "    .dataframe tbody tr th {\n",
              "        vertical-align: top;\n",
              "    }\n",
              "\n",
              "    .dataframe thead th {\n",
              "        text-align: right;\n",
              "    }\n",
              "</style>\n",
              "<table border=\"1\" class=\"dataframe\">\n",
              "  <thead>\n",
              "    <tr style=\"text-align: right;\">\n",
              "      <th></th>\n",
              "      <th>1반</th>\n",
              "      <th>2반</th>\n",
              "      <th>3반</th>\n",
              "      <th>4반</th>\n",
              "    </tr>\n",
              "    <tr>\n",
              "      <th>과목</th>\n",
              "      <th></th>\n",
              "      <th></th>\n",
              "      <th></th>\n",
              "      <th></th>\n",
              "    </tr>\n",
              "  </thead>\n",
              "  <tbody>\n",
              "    <tr>\n",
              "      <th>수학</th>\n",
              "      <td>45.0</td>\n",
              "      <td>44.0</td>\n",
              "      <td>73.0</td>\n",
              "      <td>39.0</td>\n",
              "    </tr>\n",
              "    <tr>\n",
              "      <th>영어</th>\n",
              "      <td>76.0</td>\n",
              "      <td>92.0</td>\n",
              "      <td>45.0</td>\n",
              "      <td>69.0</td>\n",
              "    </tr>\n",
              "    <tr>\n",
              "      <th>국어</th>\n",
              "      <td>47.0</td>\n",
              "      <td>92.0</td>\n",
              "      <td>45.0</td>\n",
              "      <td>69.0</td>\n",
              "    </tr>\n",
              "    <tr>\n",
              "      <th>사회</th>\n",
              "      <td>92.0</td>\n",
              "      <td>81.0</td>\n",
              "      <td>85.0</td>\n",
              "      <td>40.0</td>\n",
              "    </tr>\n",
              "    <tr>\n",
              "      <th>과학</th>\n",
              "      <td>11.0</td>\n",
              "      <td>79.0</td>\n",
              "      <td>47.0</td>\n",
              "      <td>26.0</td>\n",
              "    </tr>\n",
              "  </tbody>\n",
              "</table>\n",
              "</div>"
            ],
            "text/plain": [
              "      1반    2반    3반    4반\n",
              "과목                        \n",
              "수학  45.0  44.0  73.0  39.0\n",
              "영어  76.0  92.0  45.0  69.0\n",
              "국어  47.0  92.0  45.0  69.0\n",
              "사회  92.0  81.0  85.0  40.0\n",
              "과학  11.0  79.0  47.0  26.0"
            ]
          },
          "metadata": {
            "tags": []
          },
          "execution_count": 182
        }
      ]
    },
    {
      "cell_type": "markdown",
      "metadata": {
        "id": "cfDTvdbb3R49"
      },
      "source": [
        "#### Pandas 연습 03-4\n",
        "\n",
        "과목별 가장 큰 값과 작은 값의 차를 구하시오.\n",
        "```\n",
        "과목\n",
        "수학    34.0\n",
        "영어    47.0\n",
        "국어    47.0\n",
        "사회    52.0\n",
        "과학    68.0\n",
        "dtype: float64\n",
        "```\n"
      ]
    },
    {
      "cell_type": "code",
      "metadata": {
        "colab": {
          "base_uri": "https://localhost:8080/"
        },
        "id": "SiLZxhJTDGTb",
        "outputId": "4f6e9691-156e-4935-cde2-317f02522743"
      },
      "source": [
        "#그냥 앞에서 한 거 2개 빼면 됨 ㅠㅠ 위에 거 해놓으면 너무 쉬워..\n",
        "max_arr = score.loc[:'과학',:'4반'].max(axis=1)\n",
        "min_arr = score.loc[:'과학',:'4반'].min(axis=1)\n",
        "\n",
        "max_arr - min_arr"
      ],
      "execution_count": null,
      "outputs": [
        {
          "output_type": "execute_result",
          "data": {
            "text/plain": [
              "과목\n",
              "수학    34.0\n",
              "영어    47.0\n",
              "국어    47.0\n",
              "사회    52.0\n",
              "과학    68.0\n",
              "dtype: float64"
            ]
          },
          "metadata": {
            "tags": []
          },
          "execution_count": 183
        }
      ]
    },
    {
      "cell_type": "markdown",
      "metadata": {
        "id": "HN-aJlaP5JkE"
      },
      "source": [
        "#### apply 변환\n",
        "\n",
        "행이나 열 단위로 더 복잡한 처리를 하고 싶을 때 사용\n",
        "```\n",
        "DataFrame.apply( func, axis = 0)\n",
        "```"
      ]
    },
    {
      "cell_type": "code",
      "metadata": {
        "colab": {
          "base_uri": "https://localhost:8080/",
          "height": 265
        },
        "id": "nm5RBLceDMj9",
        "outputId": "a28b39be-9b66-41d5-c0fe-0ffab28c2c78"
      },
      "source": [
        "#제공되고 있지 않은 것도 함수로 만들어서 쓸 수 있음. \n",
        "score \n",
        "\n",
        "#각 과목별 가장 큰 값과 가장 작은 값의 차"
      ],
      "execution_count": null,
      "outputs": [
        {
          "output_type": "execute_result",
          "data": {
            "text/html": [
              "<div>\n",
              "<style scoped>\n",
              "    .dataframe tbody tr th:only-of-type {\n",
              "        vertical-align: middle;\n",
              "    }\n",
              "\n",
              "    .dataframe tbody tr th {\n",
              "        vertical-align: top;\n",
              "    }\n",
              "\n",
              "    .dataframe thead th {\n",
              "        text-align: right;\n",
              "    }\n",
              "</style>\n",
              "<table border=\"1\" class=\"dataframe\">\n",
              "  <thead>\n",
              "    <tr style=\"text-align: right;\">\n",
              "      <th></th>\n",
              "      <th>1반</th>\n",
              "      <th>2반</th>\n",
              "      <th>3반</th>\n",
              "      <th>4반</th>\n",
              "      <th>평균</th>\n",
              "    </tr>\n",
              "    <tr>\n",
              "      <th>과목</th>\n",
              "      <th></th>\n",
              "      <th></th>\n",
              "      <th></th>\n",
              "      <th></th>\n",
              "      <th></th>\n",
              "    </tr>\n",
              "  </thead>\n",
              "  <tbody>\n",
              "    <tr>\n",
              "      <th>수학</th>\n",
              "      <td>45.0</td>\n",
              "      <td>44.0</td>\n",
              "      <td>73.0</td>\n",
              "      <td>39.0</td>\n",
              "      <td>50.25</td>\n",
              "    </tr>\n",
              "    <tr>\n",
              "      <th>영어</th>\n",
              "      <td>76.0</td>\n",
              "      <td>92.0</td>\n",
              "      <td>45.0</td>\n",
              "      <td>69.0</td>\n",
              "      <td>70.50</td>\n",
              "    </tr>\n",
              "    <tr>\n",
              "      <th>국어</th>\n",
              "      <td>47.0</td>\n",
              "      <td>92.0</td>\n",
              "      <td>45.0</td>\n",
              "      <td>69.0</td>\n",
              "      <td>63.25</td>\n",
              "    </tr>\n",
              "    <tr>\n",
              "      <th>사회</th>\n",
              "      <td>92.0</td>\n",
              "      <td>81.0</td>\n",
              "      <td>85.0</td>\n",
              "      <td>40.0</td>\n",
              "      <td>74.50</td>\n",
              "    </tr>\n",
              "    <tr>\n",
              "      <th>과학</th>\n",
              "      <td>11.0</td>\n",
              "      <td>79.0</td>\n",
              "      <td>47.0</td>\n",
              "      <td>26.0</td>\n",
              "      <td>40.75</td>\n",
              "    </tr>\n",
              "    <tr>\n",
              "      <th>반평균</th>\n",
              "      <td>54.2</td>\n",
              "      <td>77.6</td>\n",
              "      <td>59.0</td>\n",
              "      <td>48.6</td>\n",
              "      <td>59.85</td>\n",
              "    </tr>\n",
              "  </tbody>\n",
              "</table>\n",
              "</div>"
            ],
            "text/plain": [
              "       1반    2반    3반    4반     평균\n",
              "과목                                \n",
              "수학   45.0  44.0  73.0  39.0  50.25\n",
              "영어   76.0  92.0  45.0  69.0  70.50\n",
              "국어   47.0  92.0  45.0  69.0  63.25\n",
              "사회   92.0  81.0  85.0  40.0  74.50\n",
              "과학   11.0  79.0  47.0  26.0  40.75\n",
              "반평균  54.2  77.6  59.0  48.6  59.85"
            ]
          },
          "metadata": {
            "tags": []
          },
          "execution_count": 184
        }
      ]
    },
    {
      "cell_type": "code",
      "metadata": {
        "colab": {
          "base_uri": "https://localhost:8080/"
        },
        "id": "PHNWncLWewoh",
        "outputId": "e65cfe42-85bb-430a-cc61-b8f8f476f378"
      },
      "source": [
        "#각 과목별 가장 큰 값과 가장 작은 값의 차\n",
        "#이걸 apply 적용해서 처리할 수도 있음.\n",
        "\n",
        "def max_min(x):\n",
        "  return x.max() - x.min()\n",
        "\n",
        "score.loc[:'과학',:'4반'].apply(max_min, axis=1)"
      ],
      "execution_count": null,
      "outputs": [
        {
          "output_type": "execute_result",
          "data": {
            "text/plain": [
              "과목\n",
              "수학    34.0\n",
              "영어    47.0\n",
              "국어    47.0\n",
              "사회    52.0\n",
              "과학    68.0\n",
              "dtype: float64"
            ]
          },
          "metadata": {
            "tags": []
          },
          "execution_count": 185
        }
      ]
    },
    {
      "cell_type": "code",
      "metadata": {
        "colab": {
          "base_uri": "https://localhost:8080/"
        },
        "id": "Fw5YOEssDwY8",
        "outputId": "7251bc20-854f-4c43-b981-a9ab6081d6b8"
      },
      "source": [
        "#apply 활용 2회차\n",
        "\n",
        "def max_min(x):\n",
        "  return x.max() - x.min()\n",
        "\n",
        "score.loc[:'과학',:'4반'].apply(max_min, axis=1)"
      ],
      "execution_count": null,
      "outputs": [
        {
          "output_type": "execute_result",
          "data": {
            "text/plain": [
              "과목\n",
              "수학    34.0\n",
              "영어    47.0\n",
              "국어    47.0\n",
              "사회    52.0\n",
              "과학    68.0\n",
              "dtype: float64"
            ]
          },
          "metadata": {
            "tags": []
          },
          "execution_count": 49
        }
      ]
    },
    {
      "cell_type": "code",
      "metadata": {
        "colab": {
          "base_uri": "https://localhost:8080/"
        },
        "id": "aDMgoeGAVVDv",
        "outputId": "59e762e2-0ae2-419f-c937-25ad4455b605"
      },
      "source": [
        "#apply 활용 3회차\n",
        "\n",
        "def max_min(x):\n",
        "  return x.max() - x.min()\n",
        "\n",
        "score.loc[:'과학',:'4반'].apply( max_min, axis = 1 )"
      ],
      "execution_count": null,
      "outputs": [
        {
          "output_type": "execute_result",
          "data": {
            "text/plain": [
              "과목\n",
              "수학    34.0\n",
              "영어    47.0\n",
              "국어    47.0\n",
              "사회    52.0\n",
              "과학    68.0\n",
              "dtype: float64"
            ]
          },
          "metadata": {
            "tags": []
          },
          "execution_count": 23
        }
      ]
    },
    {
      "cell_type": "code",
      "metadata": {
        "colab": {
          "base_uri": "https://localhost:8080/"
        },
        "id": "8MNqoR2Vewcx",
        "outputId": "c62ffeef-b852-4927-b54f-3091639ae889"
      },
      "source": [
        "#같은 거를 람다식으로 쓰면\n",
        "score.loc[:'과학', :'4반'].apply(lambda x: x.max() - x.min(), axis=1)\n",
        "#이건데 이걸 어떻게 하냐 지금 ㅋㅋㅋㅋㅋ"
      ],
      "execution_count": null,
      "outputs": [
        {
          "output_type": "execute_result",
          "data": {
            "text/plain": [
              "과목\n",
              "수학    34.0\n",
              "영어    47.0\n",
              "국어    47.0\n",
              "사회    52.0\n",
              "과학    68.0\n",
              "dtype: float64"
            ]
          },
          "metadata": {
            "tags": []
          },
          "execution_count": 186
        }
      ]
    },
    {
      "cell_type": "code",
      "metadata": {
        "colab": {
          "base_uri": "https://localhost:8080/",
          "height": 204
        },
        "id": "aFWYJm6-fPq4",
        "outputId": "a9e97bea-3806-47bb-e5c6-c0ce394405e6"
      },
      "source": [
        "####pd.value_counts를 해보자.이때까지는 몰랐다. 이 녀석이 제일 중요할 줄은 \n",
        "data_dic = {\"A\":[1,3,3,4,4], \"B\":[1,2,2,3,3], \"C\":[1,2,4,4,5]}\n",
        "df4 = pd.DataFrame(data_dic)\n",
        "df4\n",
        "\n",
        "df4.apply(pd.value_counts) #몇번 등장했는지 쉽게 비교할 수 있는 뭐 그런 거라는데...\n"
      ],
      "execution_count": null,
      "outputs": [
        {
          "output_type": "execute_result",
          "data": {
            "text/html": [
              "<div>\n",
              "<style scoped>\n",
              "    .dataframe tbody tr th:only-of-type {\n",
              "        vertical-align: middle;\n",
              "    }\n",
              "\n",
              "    .dataframe tbody tr th {\n",
              "        vertical-align: top;\n",
              "    }\n",
              "\n",
              "    .dataframe thead th {\n",
              "        text-align: right;\n",
              "    }\n",
              "</style>\n",
              "<table border=\"1\" class=\"dataframe\">\n",
              "  <thead>\n",
              "    <tr style=\"text-align: right;\">\n",
              "      <th></th>\n",
              "      <th>A</th>\n",
              "      <th>B</th>\n",
              "      <th>C</th>\n",
              "    </tr>\n",
              "  </thead>\n",
              "  <tbody>\n",
              "    <tr>\n",
              "      <th>1</th>\n",
              "      <td>1.0</td>\n",
              "      <td>1.0</td>\n",
              "      <td>1.0</td>\n",
              "    </tr>\n",
              "    <tr>\n",
              "      <th>2</th>\n",
              "      <td>NaN</td>\n",
              "      <td>2.0</td>\n",
              "      <td>1.0</td>\n",
              "    </tr>\n",
              "    <tr>\n",
              "      <th>3</th>\n",
              "      <td>2.0</td>\n",
              "      <td>2.0</td>\n",
              "      <td>NaN</td>\n",
              "    </tr>\n",
              "    <tr>\n",
              "      <th>4</th>\n",
              "      <td>2.0</td>\n",
              "      <td>NaN</td>\n",
              "      <td>2.0</td>\n",
              "    </tr>\n",
              "    <tr>\n",
              "      <th>5</th>\n",
              "      <td>NaN</td>\n",
              "      <td>NaN</td>\n",
              "      <td>1.0</td>\n",
              "    </tr>\n",
              "  </tbody>\n",
              "</table>\n",
              "</div>"
            ],
            "text/plain": [
              "     A    B    C\n",
              "1  1.0  1.0  1.0\n",
              "2  NaN  2.0  1.0\n",
              "3  2.0  2.0  NaN\n",
              "4  2.0  NaN  2.0\n",
              "5  NaN  NaN  1.0"
            ]
          },
          "metadata": {
            "tags": []
          },
          "execution_count": 52
        }
      ]
    },
    {
      "cell_type": "code",
      "metadata": {
        "colab": {
          "base_uri": "https://localhost:8080/",
          "height": 204
        },
        "id": "daBZdVaIEJtW",
        "outputId": "e8fb0824-9f1f-4ed5-f8d2-0a9b89d84a3e"
      },
      "source": [
        "#pd.value_counts를 해보자 2회차\n",
        "data_dic = {\"A\":[1,3,3,4,4], \"B\":[1,2,2,3,3], \"C\":[1,2,4,4,5]} #자 이 딕셔너리 키 값을 그거로 넣어줄 거야. pd.DataFrame으로 넣어줄 거임!\n",
        "df4 = pd.DataFrame( data_dic )\n",
        "df4\n",
        "\n",
        "#자 그다음에 pd.value_counts()를 할건데..\n",
        "df4.apply(pd.value_counts) #몇번 등장했는지 쉽게 비교할 수 있는 뭐 그런 거라는데...\n",
        "#apply(func, axis) apply 이 어플라이라는 건 그거같아. 함수를 자동적용 시켜주는? 그런 느낌?"
      ],
      "execution_count": null,
      "outputs": [
        {
          "output_type": "execute_result",
          "data": {
            "text/html": [
              "<div>\n",
              "<style scoped>\n",
              "    .dataframe tbody tr th:only-of-type {\n",
              "        vertical-align: middle;\n",
              "    }\n",
              "\n",
              "    .dataframe tbody tr th {\n",
              "        vertical-align: top;\n",
              "    }\n",
              "\n",
              "    .dataframe thead th {\n",
              "        text-align: right;\n",
              "    }\n",
              "</style>\n",
              "<table border=\"1\" class=\"dataframe\">\n",
              "  <thead>\n",
              "    <tr style=\"text-align: right;\">\n",
              "      <th></th>\n",
              "      <th>A</th>\n",
              "      <th>B</th>\n",
              "      <th>C</th>\n",
              "    </tr>\n",
              "  </thead>\n",
              "  <tbody>\n",
              "    <tr>\n",
              "      <th>1</th>\n",
              "      <td>1.0</td>\n",
              "      <td>1.0</td>\n",
              "      <td>1.0</td>\n",
              "    </tr>\n",
              "    <tr>\n",
              "      <th>2</th>\n",
              "      <td>NaN</td>\n",
              "      <td>2.0</td>\n",
              "      <td>1.0</td>\n",
              "    </tr>\n",
              "    <tr>\n",
              "      <th>3</th>\n",
              "      <td>2.0</td>\n",
              "      <td>2.0</td>\n",
              "      <td>NaN</td>\n",
              "    </tr>\n",
              "    <tr>\n",
              "      <th>4</th>\n",
              "      <td>2.0</td>\n",
              "      <td>NaN</td>\n",
              "      <td>2.0</td>\n",
              "    </tr>\n",
              "    <tr>\n",
              "      <th>5</th>\n",
              "      <td>NaN</td>\n",
              "      <td>NaN</td>\n",
              "      <td>1.0</td>\n",
              "    </tr>\n",
              "  </tbody>\n",
              "</table>\n",
              "</div>"
            ],
            "text/plain": [
              "     A    B    C\n",
              "1  1.0  1.0  1.0\n",
              "2  NaN  2.0  1.0\n",
              "3  2.0  2.0  NaN\n",
              "4  2.0  NaN  2.0\n",
              "5  NaN  NaN  1.0"
            ]
          },
          "metadata": {
            "tags": []
          },
          "execution_count": 54
        }
      ]
    },
    {
      "cell_type": "code",
      "metadata": {
        "colab": {
          "base_uri": "https://localhost:8080/",
          "height": 203
        },
        "id": "NyQ26LD2fhhE",
        "outputId": "bafdb7bd-7c10-4961-b887-f96cda4ec616"
      },
      "source": [
        "df5 = df4.apply(pd.value_counts)\n",
        "df5.fillna(0) #결측치 처리할 때 nan 부분을 다 0으로 채워넣음."
      ],
      "execution_count": null,
      "outputs": [
        {
          "output_type": "execute_result",
          "data": {
            "text/html": [
              "<div>\n",
              "<style scoped>\n",
              "    .dataframe tbody tr th:only-of-type {\n",
              "        vertical-align: middle;\n",
              "    }\n",
              "\n",
              "    .dataframe tbody tr th {\n",
              "        vertical-align: top;\n",
              "    }\n",
              "\n",
              "    .dataframe thead th {\n",
              "        text-align: right;\n",
              "    }\n",
              "</style>\n",
              "<table border=\"1\" class=\"dataframe\">\n",
              "  <thead>\n",
              "    <tr style=\"text-align: right;\">\n",
              "      <th></th>\n",
              "      <th>A</th>\n",
              "      <th>B</th>\n",
              "      <th>C</th>\n",
              "    </tr>\n",
              "  </thead>\n",
              "  <tbody>\n",
              "    <tr>\n",
              "      <th>1</th>\n",
              "      <td>1.0</td>\n",
              "      <td>1.0</td>\n",
              "      <td>1.0</td>\n",
              "    </tr>\n",
              "    <tr>\n",
              "      <th>2</th>\n",
              "      <td>0.0</td>\n",
              "      <td>2.0</td>\n",
              "      <td>1.0</td>\n",
              "    </tr>\n",
              "    <tr>\n",
              "      <th>3</th>\n",
              "      <td>2.0</td>\n",
              "      <td>2.0</td>\n",
              "      <td>0.0</td>\n",
              "    </tr>\n",
              "    <tr>\n",
              "      <th>4</th>\n",
              "      <td>2.0</td>\n",
              "      <td>0.0</td>\n",
              "      <td>2.0</td>\n",
              "    </tr>\n",
              "    <tr>\n",
              "      <th>5</th>\n",
              "      <td>0.0</td>\n",
              "      <td>0.0</td>\n",
              "      <td>1.0</td>\n",
              "    </tr>\n",
              "  </tbody>\n",
              "</table>\n",
              "</div>"
            ],
            "text/plain": [
              "     A    B    C\n",
              "1  1.0  1.0  1.0\n",
              "2  0.0  2.0  1.0\n",
              "3  2.0  2.0  0.0\n",
              "4  2.0  0.0  2.0\n",
              "5  0.0  0.0  1.0"
            ]
          },
          "metadata": {
            "tags": []
          },
          "execution_count": 192
        }
      ]
    },
    {
      "cell_type": "markdown",
      "metadata": {
        "id": "K5NwYgsl6drk"
      },
      "source": [
        "#### 카테고리"
      ]
    },
    {
      "cell_type": "code",
      "metadata": {
        "colab": {
          "base_uri": "https://localhost:8080/"
        },
        "id": "AFb6GwRVRyLc",
        "outputId": "ad858c66-7cf7-41dc-ca0b-cb6fb70cc6ee"
      },
      "source": [
        "ages = [0, 2, 10, 21, 23, 37, 31, 61, 20, 41, 32, 100]\n",
        "bins = [0, 15, 25, 35, 60, 99]\n",
        "labels = [\"미성년자\", \"청년\", \"중년\", \"장년\", \"노년\"] #구간이니까 요소 개수가 하나 적을 수 밖에!\n",
        "\n",
        "#이것도 사실 자료형임. 카테고리 자료형. \n",
        "#카테고리는 판다스에 cut라고 있음.\n",
        "#카테고리는 자주 쓴다...\n",
        "\n",
        "cats = pd.cut(ages, bins, labels=labels)\n",
        "cats"
      ],
      "execution_count": null,
      "outputs": [
        {
          "output_type": "execute_result",
          "data": {
            "text/plain": [
              "[NaN, '미성년자', '미성년자', '청년', '청년', ..., '노년', '청년', '장년', '중년', NaN]\n",
              "Length: 12\n",
              "Categories (5, object): ['미성년자' < '청년' < '중년' < '장년' < '노년']"
            ]
          },
          "metadata": {
            "tags": []
          },
          "execution_count": 194
        }
      ]
    },
    {
      "cell_type": "code",
      "metadata": {
        "colab": {
          "base_uri": "https://localhost:8080/"
        },
        "id": "XaZDGQwzFhDd",
        "outputId": "8bfb918c-ab3c-4995-ac5a-b7cd0f36c41d"
      },
      "source": [
        "#카테고리 2회차\n",
        "ages = [0, 2, 10, 21, 23, 37, 31, 61, 20, 41, 32, 100]\n",
        "bins = [0, 15, 25, 35, 60, 99]\n",
        "age_tag = [\"미성년자\", \"청년\", \"중년\", \"장년\", \"노년\"] #구간이니까 요소 개수가 하나 적을 수 밖에!\n",
        "\n",
        "dogs = pd.cut(ages, bins, labels=age_tag)\n",
        "dogs #주어진 데이터를 카테고리화 시켰고, 그 다음에 이걸 칼럼추가 해야되는구나."
      ],
      "execution_count": null,
      "outputs": [
        {
          "output_type": "execute_result",
          "data": {
            "text/plain": [
              "[NaN, '미성년자', '미성년자', '청년', '청년', ..., '노년', '청년', '장년', '중년', NaN]\n",
              "Length: 12\n",
              "Categories (5, object): ['미성년자' < '청년' < '중년' < '장년' < '노년']"
            ]
          },
          "metadata": {
            "tags": []
          },
          "execution_count": 54
        }
      ]
    },
    {
      "cell_type": "code",
      "metadata": {
        "colab": {
          "base_uri": "https://localhost:8080/"
        },
        "id": "cnR-W5i6abBr",
        "outputId": "c219076b-310e-4733-e8e9-8197350acf72"
      },
      "source": [
        "#카테고리 3회차\n",
        "ages = [0, 2, 10, 21, 23, 37, 31, 61, 20, 41, 32, 100]\n",
        "bins = [0, 15, 25, 35, 60, 99]\n",
        "age_tag = [\"미성년자\", \"청년\", \"중년\", \"장년\", \"노년\"]\n",
        "\n",
        "age_cut = pd.cut(ages, bins, labels=age_tag)\n",
        "age_cut.value_counts()"
      ],
      "execution_count": null,
      "outputs": [
        {
          "output_type": "execute_result",
          "data": {
            "text/plain": [
              "미성년자    2\n",
              "청년      3\n",
              "중년      2\n",
              "장년      2\n",
              "노년      1\n",
              "dtype: int64"
            ]
          },
          "metadata": {
            "tags": []
          },
          "execution_count": 30
        }
      ]
    },
    {
      "cell_type": "code",
      "metadata": {
        "colab": {
          "base_uri": "https://localhost:8080/"
        },
        "id": "6-OGnXOkVqis",
        "outputId": "2a58b3a5-003d-4a7c-d02d-53dadd26270b"
      },
      "source": [
        "#카테고리 3회차\n",
        "ages = [0, 2, 10, 21, 23, 37, 31, 61, 20, 41, 32, 100]\n",
        "bins = [0, 15, 25, 35, 60, 99]\n",
        "age_tag = [\"미성년자\", \"청년\", \"중년\", \"장년\", \"노년\"]\n",
        "\n",
        "age_cuts = pd.cut(ages, bins, labels=age_tag)\n",
        "age_cuts.value_counts()"
      ],
      "execution_count": null,
      "outputs": [
        {
          "output_type": "execute_result",
          "data": {
            "text/plain": [
              "미성년자    2\n",
              "청년      3\n",
              "중년      2\n",
              "장년      2\n",
              "노년      1\n",
              "dtype: int64"
            ]
          },
          "metadata": {
            "tags": []
          },
          "execution_count": 27
        }
      ]
    },
    {
      "cell_type": "code",
      "metadata": {
        "colab": {
          "base_uri": "https://localhost:8080/"
        },
        "id": "SO9cH80_DSRI",
        "outputId": "187e508a-86f6-436c-91c2-50cbc830e54d"
      },
      "source": [
        "cats.categories "
      ],
      "execution_count": null,
      "outputs": [
        {
          "output_type": "execute_result",
          "data": {
            "text/plain": [
              "Index(['미성년자', '청년', '중년', '장년', '노년'], dtype='object')"
            ]
          },
          "metadata": {
            "tags": []
          },
          "execution_count": 195
        }
      ]
    },
    {
      "cell_type": "code",
      "metadata": {
        "colab": {
          "base_uri": "https://localhost:8080/"
        },
        "id": "kDrl0HIAlbRQ",
        "outputId": "b8a034eb-c104-4bd4-ba96-523459f43dfc"
      },
      "source": [
        "age_df = pd.DataFrame(ages, columns=['ages'])\n",
        "age_df['age_cat'] = cats  #카테고리 데이타에 바로 추가\n",
        "age_df['age_cat'].value_counts() #몇번 나왔는지 확인"
      ],
      "execution_count": null,
      "outputs": [
        {
          "output_type": "execute_result",
          "data": {
            "text/plain": [
              "청년      3\n",
              "장년      2\n",
              "중년      2\n",
              "미성년자    2\n",
              "노년      1\n",
              "Name: age_cat, dtype: int64"
            ]
          },
          "metadata": {
            "tags": []
          },
          "execution_count": 198
        }
      ]
    },
    {
      "cell_type": "code",
      "metadata": {
        "colab": {
          "base_uri": "https://localhost:8080/"
        },
        "id": "pzsbCHhLF6k9",
        "outputId": "d5f5bedd-7f3c-4066-c722-2aa9cacb849b"
      },
      "source": [
        "#카테고리 추가하고 찾아보는거 2회차\n",
        "dog_age_df = pd.DataFrame(ages, columns=['ages']) #이것도 칼럼추가, \n",
        "dog_age_df['age_dog'] = dogs #이것도 칼럼 추가. 아까부터 계속했던 그 키:값 넣듯이 넣은 거네.\n",
        "print(dog_age_df)\n",
        "dog_age_df['age_dog'].value_counts() #그 다음 이거는 그 라벨링 했던 거에 얼마나 들어가는지"
      ],
      "execution_count": null,
      "outputs": [
        {
          "output_type": "stream",
          "text": [
            "    ages age_dog\n",
            "0      0     NaN\n",
            "1      2    미성년자\n",
            "2     10    미성년자\n",
            "3     21      청년\n",
            "4     23      청년\n",
            "5     37      장년\n",
            "6     31      중년\n",
            "7     61      노년\n",
            "8     20      청년\n",
            "9     41      장년\n",
            "10    32      중년\n",
            "11   100     NaN\n"
          ],
          "name": "stdout"
        },
        {
          "output_type": "execute_result",
          "data": {
            "text/plain": [
              "청년      3\n",
              "장년      2\n",
              "중년      2\n",
              "미성년자    2\n",
              "노년      1\n",
              "Name: age_dog, dtype: int64"
            ]
          },
          "metadata": {
            "tags": []
          },
          "execution_count": 55
        }
      ]
    },
    {
      "cell_type": "code",
      "metadata": {
        "id": "HHugCmqnPSNL"
      },
      "source": [
        ""
      ],
      "execution_count": null,
      "outputs": []
    },
    {
      "cell_type": "markdown",
      "metadata": {
        "id": "urDCffXNOw7H"
      },
      "source": [
        "#### Pandas 연습 04-1\n",
        "\n",
        "1. 타이타닉호 승객 데이터(train.csv)를 데이터프레임으로 읽어 온다.\n",
        "\n",
        "2. 타이타닉호 승객 데이터의 데이터 개수를 각 열마다 구해본다.\n",
        "\n",
        "```\n",
        "Survived    891\n",
        "Pclass      891\n",
        "Name        891\n",
        "Sex         891\n",
        "Age         714\n",
        "SibSp       891\n",
        "Parch       891\n",
        "Ticket      891\n",
        "Fare        891\n",
        "Cabin       204\n",
        "Embarked    889\n",
        "dtype: int64\n",
        "```\n"
      ]
    },
    {
      "cell_type": "code",
      "metadata": {
        "colab": {
          "base_uri": "https://localhost:8080/"
        },
        "id": "6vQZpLcwW9sY",
        "outputId": "34727063-1e66-4cf4-976a-adb30592c3a3"
      },
      "source": [
        "###타이타닉 04-1 7회차\n",
        "import pandas as pd\n",
        "train = pd.read_csv( drive_path + 'train.csv',index_col='PassengerId' )\n",
        "train.info()"
      ],
      "execution_count": 5,
      "outputs": [
        {
          "output_type": "stream",
          "text": [
            "<class 'pandas.core.frame.DataFrame'>\n",
            "Int64Index: 891 entries, 1 to 891\n",
            "Data columns (total 11 columns):\n",
            " #   Column    Non-Null Count  Dtype  \n",
            "---  ------    --------------  -----  \n",
            " 0   Survived  891 non-null    int64  \n",
            " 1   Pclass    891 non-null    int64  \n",
            " 2   Name      891 non-null    object \n",
            " 3   Sex       891 non-null    object \n",
            " 4   Age       714 non-null    float64\n",
            " 5   SibSp     891 non-null    int64  \n",
            " 6   Parch     891 non-null    int64  \n",
            " 7   Ticket    891 non-null    object \n",
            " 8   Fare      891 non-null    float64\n",
            " 9   Cabin     204 non-null    object \n",
            " 10  Embarked  889 non-null    object \n",
            "dtypes: float64(2), int64(4), object(5)\n",
            "memory usage: 83.5+ KB\n"
          ],
          "name": "stdout"
        }
      ]
    },
    {
      "cell_type": "code",
      "metadata": {
        "colab": {
          "base_uri": "https://localhost:8080/"
        },
        "id": "gz26kdlVWkHk",
        "outputId": "e559504e-e86c-4865-b318-dfc75057454c"
      },
      "source": [
        "###타이타닉 04-1 6회차\n",
        "import pandas as pd\n",
        "\n",
        "\n",
        "train = pd.read_csv( drive_path + 'train.csv', index_col='PassengerId' )\n",
        "train.info()"
      ],
      "execution_count": null,
      "outputs": [
        {
          "output_type": "stream",
          "text": [
            "<class 'pandas.core.frame.DataFrame'>\n",
            "Int64Index: 891 entries, 1 to 891\n",
            "Data columns (total 11 columns):\n",
            " #   Column    Non-Null Count  Dtype  \n",
            "---  ------    --------------  -----  \n",
            " 0   Survived  891 non-null    int64  \n",
            " 1   Pclass    891 non-null    int64  \n",
            " 2   Name      891 non-null    object \n",
            " 3   Sex       891 non-null    object \n",
            " 4   Age       714 non-null    float64\n",
            " 5   SibSp     891 non-null    int64  \n",
            " 6   Parch     891 non-null    int64  \n",
            " 7   Ticket    891 non-null    object \n",
            " 8   Fare      891 non-null    float64\n",
            " 9   Cabin     204 non-null    object \n",
            " 10  Embarked  889 non-null    object \n",
            "dtypes: float64(2), int64(4), object(5)\n",
            "memory usage: 83.5+ KB\n"
          ],
          "name": "stdout"
        }
      ]
    },
    {
      "cell_type": "code",
      "metadata": {
        "colab": {
          "base_uri": "https://localhost:8080/"
        },
        "id": "f9e2XGRwZ3FD",
        "outputId": "c41a92bd-7e00-40ed-cf52-3f3b67cd6aab"
      },
      "source": [
        "###타이타닉 04-1 5회차\n",
        "\n",
        "train = pd.read_csv( drive_path + 'train.csv',index_col='PassengerId' )\n",
        "train.info()"
      ],
      "execution_count": null,
      "outputs": [
        {
          "output_type": "stream",
          "text": [
            "<class 'pandas.core.frame.DataFrame'>\n",
            "Int64Index: 891 entries, 1 to 891\n",
            "Data columns (total 11 columns):\n",
            " #   Column    Non-Null Count  Dtype  \n",
            "---  ------    --------------  -----  \n",
            " 0   Survived  891 non-null    int64  \n",
            " 1   Pclass    891 non-null    int64  \n",
            " 2   Name      891 non-null    object \n",
            " 3   Sex       891 non-null    object \n",
            " 4   Age       714 non-null    float64\n",
            " 5   SibSp     891 non-null    int64  \n",
            " 6   Parch     891 non-null    int64  \n",
            " 7   Ticket    891 non-null    object \n",
            " 8   Fare      891 non-null    float64\n",
            " 9   Cabin     204 non-null    object \n",
            " 10  Embarked  889 non-null    object \n",
            "dtypes: float64(2), int64(4), object(5)\n",
            "memory usage: 83.5+ KB\n"
          ],
          "name": "stdout"
        }
      ]
    },
    {
      "cell_type": "code",
      "metadata": {
        "colab": {
          "base_uri": "https://localhost:8080/"
        },
        "id": "pCAmNyDla1-B",
        "outputId": "5ff28050-7dd6-4b77-9572-7ba1b42029cb"
      },
      "source": [
        "###타이타닉 04-1 4회차\n",
        "\n",
        "train = pd.read_csv(drive_path + 'train.csv', index_col='PassengerId')\n",
        "train.info()"
      ],
      "execution_count": null,
      "outputs": [
        {
          "output_type": "stream",
          "text": [
            "<class 'pandas.core.frame.DataFrame'>\n",
            "Int64Index: 891 entries, 1 to 891\n",
            "Data columns (total 11 columns):\n",
            " #   Column    Non-Null Count  Dtype  \n",
            "---  ------    --------------  -----  \n",
            " 0   Survived  891 non-null    int64  \n",
            " 1   Pclass    891 non-null    int64  \n",
            " 2   Name      891 non-null    object \n",
            " 3   Sex       891 non-null    object \n",
            " 4   Age       714 non-null    float64\n",
            " 5   SibSp     891 non-null    int64  \n",
            " 6   Parch     891 non-null    int64  \n",
            " 7   Ticket    891 non-null    object \n",
            " 8   Fare      891 non-null    float64\n",
            " 9   Cabin     204 non-null    object \n",
            " 10  Embarked  889 non-null    object \n",
            "dtypes: float64(2), int64(4), object(5)\n",
            "memory usage: 83.5+ KB\n"
          ],
          "name": "stdout"
        }
      ]
    },
    {
      "cell_type": "code",
      "metadata": {
        "colab": {
          "base_uri": "https://localhost:8080/"
        },
        "id": "ErvAjq6uSB6U",
        "outputId": "8b01013b-bfc6-460c-8b10-0ac31fa0da55"
      },
      "source": [
        "###타이타닉 04-1 3회차\n",
        "\n",
        "train = pd.read_csv(drive_path + 'train.csv', index_col='PassengerId')\n",
        "train\n",
        "\n",
        "#승객 데이터의 데이터 개수를 각 열마다 구해본다. 보통 데이터 불러오면 불러오자마자 info()부터 하져?\n",
        "train.info()"
      ],
      "execution_count": null,
      "outputs": [
        {
          "output_type": "stream",
          "text": [
            "<class 'pandas.core.frame.DataFrame'>\n",
            "Int64Index: 891 entries, 1 to 891\n",
            "Data columns (total 11 columns):\n",
            " #   Column    Non-Null Count  Dtype  \n",
            "---  ------    --------------  -----  \n",
            " 0   Survived  891 non-null    int64  \n",
            " 1   Pclass    891 non-null    int64  \n",
            " 2   Name      891 non-null    object \n",
            " 3   Sex       891 non-null    object \n",
            " 4   Age       714 non-null    float64\n",
            " 5   SibSp     891 non-null    int64  \n",
            " 6   Parch     891 non-null    int64  \n",
            " 7   Ticket    891 non-null    object \n",
            " 8   Fare      891 non-null    float64\n",
            " 9   Cabin     204 non-null    object \n",
            " 10  Embarked  889 non-null    object \n",
            "dtypes: float64(2), int64(4), object(5)\n",
            "memory usage: 83.5+ KB\n"
          ],
          "name": "stdout"
        }
      ]
    },
    {
      "cell_type": "code",
      "metadata": {
        "colab": {
          "base_uri": "https://localhost:8080/"
        },
        "id": "XW2prX3iHdLZ",
        "outputId": "138e9808-6ae5-4969-be15-60734cf79993"
      },
      "source": [
        "###타이타닉 04-1 2회차\n",
        "\n",
        "##타이타닉호 승객 데이터(train.csv)를 데이터프레임으로 읽어 온다.\n",
        "# 일단 가장 먼저 타이타닉 데이터 호출해야함. 그냥 출력해도 되는데, 난 인덱스 부분 PassengerId로 넣어줄 거임.\n",
        "train = pd.read_csv(drive_path + 'train.csv', index_col='PassengerId') \n",
        "train\n",
        "##타이타닉호 승객 데이터의 데이터 개수를 각 열마다 구해본다.\n",
        "train.info() #info는 진짜 가장 많이 활용하는 것중 하나임."
      ],
      "execution_count": null,
      "outputs": [
        {
          "output_type": "stream",
          "text": [
            "<class 'pandas.core.frame.DataFrame'>\n",
            "Int64Index: 891 entries, 1 to 891\n",
            "Data columns (total 11 columns):\n",
            " #   Column    Non-Null Count  Dtype  \n",
            "---  ------    --------------  -----  \n",
            " 0   Survived  891 non-null    int64  \n",
            " 1   Pclass    891 non-null    int64  \n",
            " 2   Name      891 non-null    object \n",
            " 3   Sex       891 non-null    object \n",
            " 4   Age       714 non-null    float64\n",
            " 5   SibSp     891 non-null    int64  \n",
            " 6   Parch     891 non-null    int64  \n",
            " 7   Ticket    891 non-null    object \n",
            " 8   Fare      891 non-null    float64\n",
            " 9   Cabin     204 non-null    object \n",
            " 10  Embarked  889 non-null    object \n",
            "dtypes: float64(2), int64(4), object(5)\n",
            "memory usage: 83.5+ KB\n"
          ],
          "name": "stdout"
        }
      ]
    },
    {
      "cell_type": "code",
      "metadata": {
        "colab": {
          "base_uri": "https://localhost:8080/",
          "height": 447
        },
        "id": "_G2gQEn5DViu",
        "outputId": "726db1a1-99d1-46d3-af74-ef3c43ad5ae0"
      },
      "source": [
        "train = pd.read_csv( drive_path + 'train.csv' )\n",
        "train #Pclass는 선실 등급. 인덱스 보면 그냥 숫자로 되어있는데, 이걸 난 로드할 때 인덱스 칼럼을 패신저 id로 줄게\n",
        "\n",
        "train = pd.read_csv( drive_path + 'train.csv', index_col='PassengerId' )\n",
        "train #데이터 내용이 너무 길 때, train.T 이렇게 전치행렬해서 바꿔서 보기도 함. 여기서 .head(3) 이런식으로 해서 상위 3개만 보거나 .tail(3)해서 하위 3개만 보거나 하는 걸 자주함.\n",
        "\n"
      ],
      "execution_count": null,
      "outputs": [
        {
          "output_type": "execute_result",
          "data": {
            "text/html": [
              "<div>\n",
              "<style scoped>\n",
              "    .dataframe tbody tr th:only-of-type {\n",
              "        vertical-align: middle;\n",
              "    }\n",
              "\n",
              "    .dataframe tbody tr th {\n",
              "        vertical-align: top;\n",
              "    }\n",
              "\n",
              "    .dataframe thead th {\n",
              "        text-align: right;\n",
              "    }\n",
              "</style>\n",
              "<table border=\"1\" class=\"dataframe\">\n",
              "  <thead>\n",
              "    <tr style=\"text-align: right;\">\n",
              "      <th></th>\n",
              "      <th>Survived</th>\n",
              "      <th>Pclass</th>\n",
              "      <th>Name</th>\n",
              "      <th>Sex</th>\n",
              "      <th>Age</th>\n",
              "      <th>SibSp</th>\n",
              "      <th>Parch</th>\n",
              "      <th>Ticket</th>\n",
              "      <th>Fare</th>\n",
              "      <th>Cabin</th>\n",
              "      <th>Embarked</th>\n",
              "    </tr>\n",
              "    <tr>\n",
              "      <th>PassengerId</th>\n",
              "      <th></th>\n",
              "      <th></th>\n",
              "      <th></th>\n",
              "      <th></th>\n",
              "      <th></th>\n",
              "      <th></th>\n",
              "      <th></th>\n",
              "      <th></th>\n",
              "      <th></th>\n",
              "      <th></th>\n",
              "      <th></th>\n",
              "    </tr>\n",
              "  </thead>\n",
              "  <tbody>\n",
              "    <tr>\n",
              "      <th>1</th>\n",
              "      <td>0</td>\n",
              "      <td>3</td>\n",
              "      <td>Braund, Mr. Owen Harris</td>\n",
              "      <td>male</td>\n",
              "      <td>22.0</td>\n",
              "      <td>1</td>\n",
              "      <td>0</td>\n",
              "      <td>A/5 21171</td>\n",
              "      <td>7.2500</td>\n",
              "      <td>NaN</td>\n",
              "      <td>S</td>\n",
              "    </tr>\n",
              "    <tr>\n",
              "      <th>2</th>\n",
              "      <td>1</td>\n",
              "      <td>1</td>\n",
              "      <td>Cumings, Mrs. John Bradley (Florence Briggs Th...</td>\n",
              "      <td>female</td>\n",
              "      <td>38.0</td>\n",
              "      <td>1</td>\n",
              "      <td>0</td>\n",
              "      <td>PC 17599</td>\n",
              "      <td>71.2833</td>\n",
              "      <td>C85</td>\n",
              "      <td>C</td>\n",
              "    </tr>\n",
              "    <tr>\n",
              "      <th>3</th>\n",
              "      <td>1</td>\n",
              "      <td>3</td>\n",
              "      <td>Heikkinen, Miss. Laina</td>\n",
              "      <td>female</td>\n",
              "      <td>26.0</td>\n",
              "      <td>0</td>\n",
              "      <td>0</td>\n",
              "      <td>STON/O2. 3101282</td>\n",
              "      <td>7.9250</td>\n",
              "      <td>NaN</td>\n",
              "      <td>S</td>\n",
              "    </tr>\n",
              "    <tr>\n",
              "      <th>4</th>\n",
              "      <td>1</td>\n",
              "      <td>1</td>\n",
              "      <td>Futrelle, Mrs. Jacques Heath (Lily May Peel)</td>\n",
              "      <td>female</td>\n",
              "      <td>35.0</td>\n",
              "      <td>1</td>\n",
              "      <td>0</td>\n",
              "      <td>113803</td>\n",
              "      <td>53.1000</td>\n",
              "      <td>C123</td>\n",
              "      <td>S</td>\n",
              "    </tr>\n",
              "    <tr>\n",
              "      <th>5</th>\n",
              "      <td>0</td>\n",
              "      <td>3</td>\n",
              "      <td>Allen, Mr. William Henry</td>\n",
              "      <td>male</td>\n",
              "      <td>35.0</td>\n",
              "      <td>0</td>\n",
              "      <td>0</td>\n",
              "      <td>373450</td>\n",
              "      <td>8.0500</td>\n",
              "      <td>NaN</td>\n",
              "      <td>S</td>\n",
              "    </tr>\n",
              "    <tr>\n",
              "      <th>...</th>\n",
              "      <td>...</td>\n",
              "      <td>...</td>\n",
              "      <td>...</td>\n",
              "      <td>...</td>\n",
              "      <td>...</td>\n",
              "      <td>...</td>\n",
              "      <td>...</td>\n",
              "      <td>...</td>\n",
              "      <td>...</td>\n",
              "      <td>...</td>\n",
              "      <td>...</td>\n",
              "    </tr>\n",
              "    <tr>\n",
              "      <th>887</th>\n",
              "      <td>0</td>\n",
              "      <td>2</td>\n",
              "      <td>Montvila, Rev. Juozas</td>\n",
              "      <td>male</td>\n",
              "      <td>27.0</td>\n",
              "      <td>0</td>\n",
              "      <td>0</td>\n",
              "      <td>211536</td>\n",
              "      <td>13.0000</td>\n",
              "      <td>NaN</td>\n",
              "      <td>S</td>\n",
              "    </tr>\n",
              "    <tr>\n",
              "      <th>888</th>\n",
              "      <td>1</td>\n",
              "      <td>1</td>\n",
              "      <td>Graham, Miss. Margaret Edith</td>\n",
              "      <td>female</td>\n",
              "      <td>19.0</td>\n",
              "      <td>0</td>\n",
              "      <td>0</td>\n",
              "      <td>112053</td>\n",
              "      <td>30.0000</td>\n",
              "      <td>B42</td>\n",
              "      <td>S</td>\n",
              "    </tr>\n",
              "    <tr>\n",
              "      <th>889</th>\n",
              "      <td>0</td>\n",
              "      <td>3</td>\n",
              "      <td>Johnston, Miss. Catherine Helen \"Carrie\"</td>\n",
              "      <td>female</td>\n",
              "      <td>NaN</td>\n",
              "      <td>1</td>\n",
              "      <td>2</td>\n",
              "      <td>W./C. 6607</td>\n",
              "      <td>23.4500</td>\n",
              "      <td>NaN</td>\n",
              "      <td>S</td>\n",
              "    </tr>\n",
              "    <tr>\n",
              "      <th>890</th>\n",
              "      <td>1</td>\n",
              "      <td>1</td>\n",
              "      <td>Behr, Mr. Karl Howell</td>\n",
              "      <td>male</td>\n",
              "      <td>26.0</td>\n",
              "      <td>0</td>\n",
              "      <td>0</td>\n",
              "      <td>111369</td>\n",
              "      <td>30.0000</td>\n",
              "      <td>C148</td>\n",
              "      <td>C</td>\n",
              "    </tr>\n",
              "    <tr>\n",
              "      <th>891</th>\n",
              "      <td>0</td>\n",
              "      <td>3</td>\n",
              "      <td>Dooley, Mr. Patrick</td>\n",
              "      <td>male</td>\n",
              "      <td>32.0</td>\n",
              "      <td>0</td>\n",
              "      <td>0</td>\n",
              "      <td>370376</td>\n",
              "      <td>7.7500</td>\n",
              "      <td>NaN</td>\n",
              "      <td>Q</td>\n",
              "    </tr>\n",
              "  </tbody>\n",
              "</table>\n",
              "<p>891 rows × 11 columns</p>\n",
              "</div>"
            ],
            "text/plain": [
              "             Survived  Pclass  ... Cabin Embarked\n",
              "PassengerId                    ...               \n",
              "1                   0       3  ...   NaN        S\n",
              "2                   1       1  ...   C85        C\n",
              "3                   1       3  ...   NaN        S\n",
              "4                   1       1  ...  C123        S\n",
              "5                   0       3  ...   NaN        S\n",
              "...               ...     ...  ...   ...      ...\n",
              "887                 0       2  ...   NaN        S\n",
              "888                 1       1  ...   B42        S\n",
              "889                 0       3  ...   NaN        S\n",
              "890                 1       1  ...  C148        C\n",
              "891                 0       3  ...   NaN        Q\n",
              "\n",
              "[891 rows x 11 columns]"
            ]
          },
          "metadata": {
            "tags": []
          },
          "execution_count": 202
        }
      ]
    },
    {
      "cell_type": "code",
      "metadata": {
        "colab": {
          "base_uri": "https://localhost:8080/"
        },
        "id": "_1FR3XmgnyUh",
        "outputId": "d7ab97ed-eb6e-4cef-bf2f-68e20a32cf57"
      },
      "source": [
        "#info 를 쓰면 간단한 정보를 보여줌\n",
        "train.T.info\n",
        "#train.info #데이터 수가 들어있음."
      ],
      "execution_count": null,
      "outputs": [
        {
          "output_type": "execute_result",
          "data": {
            "text/plain": [
              "<bound method DataFrame.info of PassengerId                      1    ...                  891\n",
              "Survived                           0  ...                    0\n",
              "Pclass                             3  ...                    3\n",
              "Name         Braund, Mr. Owen Harris  ...  Dooley, Mr. Patrick\n",
              "Sex                             male  ...                 male\n",
              "Age                               22  ...                   32\n",
              "SibSp                              1  ...                    0\n",
              "Parch                              0  ...                    0\n",
              "Ticket                     A/5 21171  ...               370376\n",
              "Fare                            7.25  ...                 7.75\n",
              "Cabin                            NaN  ...                  NaN\n",
              "Embarked                           S  ...                    Q\n",
              "\n",
              "[11 rows x 891 columns]>"
            ]
          },
          "metadata": {
            "tags": []
          },
          "execution_count": 205
        }
      ]
    },
    {
      "cell_type": "code",
      "metadata": {
        "colab": {
          "base_uri": "https://localhost:8080/",
          "height": 295
        },
        "id": "P3pe8dSxoTCx",
        "outputId": "71ee9a66-8c2a-43a8-f149-1311e58068a8"
      },
      "source": [
        "train.describe() #통계치를 한번에 본다고 생각하면 됨. 통계설명"
      ],
      "execution_count": null,
      "outputs": [
        {
          "output_type": "execute_result",
          "data": {
            "text/html": [
              "<div>\n",
              "<style scoped>\n",
              "    .dataframe tbody tr th:only-of-type {\n",
              "        vertical-align: middle;\n",
              "    }\n",
              "\n",
              "    .dataframe tbody tr th {\n",
              "        vertical-align: top;\n",
              "    }\n",
              "\n",
              "    .dataframe thead th {\n",
              "        text-align: right;\n",
              "    }\n",
              "</style>\n",
              "<table border=\"1\" class=\"dataframe\">\n",
              "  <thead>\n",
              "    <tr style=\"text-align: right;\">\n",
              "      <th></th>\n",
              "      <th>Survived</th>\n",
              "      <th>Pclass</th>\n",
              "      <th>Age</th>\n",
              "      <th>SibSp</th>\n",
              "      <th>Parch</th>\n",
              "      <th>Fare</th>\n",
              "    </tr>\n",
              "  </thead>\n",
              "  <tbody>\n",
              "    <tr>\n",
              "      <th>count</th>\n",
              "      <td>891.000000</td>\n",
              "      <td>891.000000</td>\n",
              "      <td>714.000000</td>\n",
              "      <td>891.000000</td>\n",
              "      <td>891.000000</td>\n",
              "      <td>891.000000</td>\n",
              "    </tr>\n",
              "    <tr>\n",
              "      <th>mean</th>\n",
              "      <td>0.383838</td>\n",
              "      <td>2.308642</td>\n",
              "      <td>29.699118</td>\n",
              "      <td>0.523008</td>\n",
              "      <td>0.381594</td>\n",
              "      <td>32.204208</td>\n",
              "    </tr>\n",
              "    <tr>\n",
              "      <th>std</th>\n",
              "      <td>0.486592</td>\n",
              "      <td>0.836071</td>\n",
              "      <td>14.526497</td>\n",
              "      <td>1.102743</td>\n",
              "      <td>0.806057</td>\n",
              "      <td>49.693429</td>\n",
              "    </tr>\n",
              "    <tr>\n",
              "      <th>min</th>\n",
              "      <td>0.000000</td>\n",
              "      <td>1.000000</td>\n",
              "      <td>0.420000</td>\n",
              "      <td>0.000000</td>\n",
              "      <td>0.000000</td>\n",
              "      <td>0.000000</td>\n",
              "    </tr>\n",
              "    <tr>\n",
              "      <th>25%</th>\n",
              "      <td>0.000000</td>\n",
              "      <td>2.000000</td>\n",
              "      <td>20.125000</td>\n",
              "      <td>0.000000</td>\n",
              "      <td>0.000000</td>\n",
              "      <td>7.910400</td>\n",
              "    </tr>\n",
              "    <tr>\n",
              "      <th>50%</th>\n",
              "      <td>0.000000</td>\n",
              "      <td>3.000000</td>\n",
              "      <td>28.000000</td>\n",
              "      <td>0.000000</td>\n",
              "      <td>0.000000</td>\n",
              "      <td>14.454200</td>\n",
              "    </tr>\n",
              "    <tr>\n",
              "      <th>75%</th>\n",
              "      <td>1.000000</td>\n",
              "      <td>3.000000</td>\n",
              "      <td>38.000000</td>\n",
              "      <td>1.000000</td>\n",
              "      <td>0.000000</td>\n",
              "      <td>31.000000</td>\n",
              "    </tr>\n",
              "    <tr>\n",
              "      <th>max</th>\n",
              "      <td>1.000000</td>\n",
              "      <td>3.000000</td>\n",
              "      <td>80.000000</td>\n",
              "      <td>8.000000</td>\n",
              "      <td>6.000000</td>\n",
              "      <td>512.329200</td>\n",
              "    </tr>\n",
              "  </tbody>\n",
              "</table>\n",
              "</div>"
            ],
            "text/plain": [
              "         Survived      Pclass         Age       SibSp       Parch        Fare\n",
              "count  891.000000  891.000000  714.000000  891.000000  891.000000  891.000000\n",
              "mean     0.383838    2.308642   29.699118    0.523008    0.381594   32.204208\n",
              "std      0.486592    0.836071   14.526497    1.102743    0.806057   49.693429\n",
              "min      0.000000    1.000000    0.420000    0.000000    0.000000    0.000000\n",
              "25%      0.000000    2.000000   20.125000    0.000000    0.000000    7.910400\n",
              "50%      0.000000    3.000000   28.000000    0.000000    0.000000   14.454200\n",
              "75%      1.000000    3.000000   38.000000    1.000000    0.000000   31.000000\n",
              "max      1.000000    3.000000   80.000000    8.000000    6.000000  512.329200"
            ]
          },
          "metadata": {
            "tags": []
          },
          "execution_count": 207
        }
      ]
    },
    {
      "cell_type": "markdown",
      "metadata": {
        "id": "h9Jf6jmdxhEf"
      },
      "source": [
        "#### Pandas 연습 04-2\n",
        "\n",
        "1. 타이타닉호 승객 중 성별(Sex) 인원수, 나이별(Age) 인원수, 선실별(Pclass) 인원수, 사망/생존(Survived) 인원수를 구하라.\n",
        "\n",
        "\n",
        "\n",
        "\n"
      ]
    },
    {
      "cell_type": "code",
      "metadata": {
        "colab": {
          "base_uri": "https://localhost:8080/"
        },
        "id": "iG4St4PzXX-b",
        "outputId": "d5eec960-6515-479b-a5d1-392f8423a93c"
      },
      "source": [
        "##타이타닉 04-02 7회차\n",
        "\n",
        "train[ 'Sex' ].value_counts()"
      ],
      "execution_count": 6,
      "outputs": [
        {
          "output_type": "execute_result",
          "data": {
            "text/plain": [
              "male      577\n",
              "female    314\n",
              "Name: Sex, dtype: int64"
            ]
          },
          "metadata": {
            "tags": []
          },
          "execution_count": 6
        }
      ]
    },
    {
      "cell_type": "code",
      "metadata": {
        "colab": {
          "base_uri": "https://localhost:8080/"
        },
        "id": "lWjNoNRNW2re",
        "outputId": "b13b761d-5668-408a-e84c-ee4c9947a37c"
      },
      "source": [
        "##타이타닉 04-02 5회차\n",
        "\n",
        "#train[ ['Sex','Age','Pclass','Survived'] ].value_counts()\n",
        "\n",
        "train[ 'Sex' ].value_counts()"
      ],
      "execution_count": null,
      "outputs": [
        {
          "output_type": "execute_result",
          "data": {
            "text/plain": [
              "male      577\n",
              "female    314\n",
              "Name: Sex, dtype: int64"
            ]
          },
          "metadata": {
            "tags": []
          },
          "execution_count": 7
        }
      ]
    },
    {
      "cell_type": "code",
      "metadata": {
        "colab": {
          "base_uri": "https://localhost:8080/"
        },
        "id": "ksgyVf07aRF-",
        "outputId": "1bd80e8f-871e-4b66-f586-f4532b0474ba"
      },
      "source": [
        "##타이타닉 04-02 4회차\n",
        "\n",
        "train['Sex'].value_counts()\n",
        "train['Age'].value_counts()\n",
        "train['Pclass'].value_counts()\n",
        "train['Survived'].value_counts()\n"
      ],
      "execution_count": null,
      "outputs": [
        {
          "output_type": "execute_result",
          "data": {
            "text/plain": [
              "0    549\n",
              "1    342\n",
              "Name: Survived, dtype: int64"
            ]
          },
          "metadata": {
            "tags": []
          },
          "execution_count": 32
        }
      ]
    },
    {
      "cell_type": "code",
      "metadata": {
        "colab": {
          "base_uri": "https://localhost:8080/"
        },
        "id": "oNoHeYovbWTi",
        "outputId": "e8ba4ceb-3000-4458-d579-63672c88b949"
      },
      "source": [
        "##타이타닉 04-02 3회차\n",
        "\n",
        "#성별인원수 나이인원수 선실별인원수 사망생존인원수\n",
        "\n",
        "#열중심인 거 기억하고!\n",
        "train['Age'].value_counts()\n",
        "train['Sex'].value_counts()\n",
        "train['Pclass'].value_counts()\n",
        "train['Survived'].value_counts()"
      ],
      "execution_count": null,
      "outputs": [
        {
          "output_type": "execute_result",
          "data": {
            "text/plain": [
              "0    549\n",
              "1    342\n",
              "Name: Survived, dtype: int64"
            ]
          },
          "metadata": {
            "tags": []
          },
          "execution_count": 36
        }
      ]
    },
    {
      "cell_type": "code",
      "metadata": {
        "colab": {
          "base_uri": "https://localhost:8080/",
          "height": 449
        },
        "id": "O0RgY4vFTCPk",
        "outputId": "700c9325-bc5c-4cbf-f3e7-fab65bd6d5e9"
      },
      "source": [
        "#타이타닉 04-02 2회차\n",
        "\n",
        "##타이타닉호 승객 중 Sex, Age, Pclass, Survived 인원수 구해라 \n",
        "\n",
        "train['Sex'].value_counts()\n",
        "train[ ['Sex','Age'] ] #이렇게 하면 여러개 갖고 올 수 있다!"
      ],
      "execution_count": null,
      "outputs": [
        {
          "output_type": "execute_result",
          "data": {
            "text/html": [
              "<div>\n",
              "<style scoped>\n",
              "    .dataframe tbody tr th:only-of-type {\n",
              "        vertical-align: middle;\n",
              "    }\n",
              "\n",
              "    .dataframe tbody tr th {\n",
              "        vertical-align: top;\n",
              "    }\n",
              "\n",
              "    .dataframe thead th {\n",
              "        text-align: right;\n",
              "    }\n",
              "</style>\n",
              "<table border=\"1\" class=\"dataframe\">\n",
              "  <thead>\n",
              "    <tr style=\"text-align: right;\">\n",
              "      <th></th>\n",
              "      <th>Sex</th>\n",
              "      <th>Age</th>\n",
              "    </tr>\n",
              "    <tr>\n",
              "      <th>PassengerId</th>\n",
              "      <th></th>\n",
              "      <th></th>\n",
              "    </tr>\n",
              "  </thead>\n",
              "  <tbody>\n",
              "    <tr>\n",
              "      <th>1</th>\n",
              "      <td>male</td>\n",
              "      <td>22.0</td>\n",
              "    </tr>\n",
              "    <tr>\n",
              "      <th>2</th>\n",
              "      <td>female</td>\n",
              "      <td>38.0</td>\n",
              "    </tr>\n",
              "    <tr>\n",
              "      <th>3</th>\n",
              "      <td>female</td>\n",
              "      <td>26.0</td>\n",
              "    </tr>\n",
              "    <tr>\n",
              "      <th>4</th>\n",
              "      <td>female</td>\n",
              "      <td>35.0</td>\n",
              "    </tr>\n",
              "    <tr>\n",
              "      <th>5</th>\n",
              "      <td>male</td>\n",
              "      <td>35.0</td>\n",
              "    </tr>\n",
              "    <tr>\n",
              "      <th>...</th>\n",
              "      <td>...</td>\n",
              "      <td>...</td>\n",
              "    </tr>\n",
              "    <tr>\n",
              "      <th>887</th>\n",
              "      <td>male</td>\n",
              "      <td>27.0</td>\n",
              "    </tr>\n",
              "    <tr>\n",
              "      <th>888</th>\n",
              "      <td>female</td>\n",
              "      <td>19.0</td>\n",
              "    </tr>\n",
              "    <tr>\n",
              "      <th>889</th>\n",
              "      <td>female</td>\n",
              "      <td>NaN</td>\n",
              "    </tr>\n",
              "    <tr>\n",
              "      <th>890</th>\n",
              "      <td>male</td>\n",
              "      <td>26.0</td>\n",
              "    </tr>\n",
              "    <tr>\n",
              "      <th>891</th>\n",
              "      <td>male</td>\n",
              "      <td>32.0</td>\n",
              "    </tr>\n",
              "  </tbody>\n",
              "</table>\n",
              "<p>891 rows × 2 columns</p>\n",
              "</div>"
            ],
            "text/plain": [
              "                Sex   Age\n",
              "PassengerId              \n",
              "1              male  22.0\n",
              "2            female  38.0\n",
              "3            female  26.0\n",
              "4            female  35.0\n",
              "5              male  35.0\n",
              "...             ...   ...\n",
              "887            male  27.0\n",
              "888          female  19.0\n",
              "889          female   NaN\n",
              "890            male  26.0\n",
              "891            male  32.0\n",
              "\n",
              "[891 rows x 2 columns]"
            ]
          },
          "metadata": {
            "tags": []
          },
          "execution_count": 63
        }
      ]
    },
    {
      "cell_type": "code",
      "metadata": {
        "colab": {
          "base_uri": "https://localhost:8080/"
        },
        "id": "F3yf-U3_JeO8",
        "outputId": "ac6df041-224e-429f-eb31-36c8390c3a85"
      },
      "source": [
        "#타이타닉 04-02 2회차\n",
        "\n",
        "##타이타닉호 승객 중 Sex, Age, Pclass, Survived 인원수 구해라\n",
        "\n",
        "train.loc[:,'Sex'].value_counts()\n",
        "train.loc[:,'Age'].value_counts()\n",
        "train.loc[:,'Pclass'].value_counts()\n",
        "train.loc[:,'Survived'].value_counts()"
      ],
      "execution_count": null,
      "outputs": [
        {
          "output_type": "execute_result",
          "data": {
            "text/plain": [
              "0    549\n",
              "1    342\n",
              "Name: Survived, dtype: int64"
            ]
          },
          "metadata": {
            "tags": []
          },
          "execution_count": 74
        }
      ]
    },
    {
      "cell_type": "code",
      "metadata": {
        "colab": {
          "base_uri": "https://localhost:8080/"
        },
        "id": "jzTzKuYLDX1b",
        "outputId": "fcc0ff77-f126-4331-c618-acc921361276"
      },
      "source": [
        "#성별 인원수, 나이별 인원수, 선실별 인원수, 사망/생존 수 구하자\n",
        "#이렇게 할 때 쓰는 게 value_counts()임. 몇번씩 나왔나.. \n",
        "#데이터 분석할 때는 분석 아이디어가 좀 필요함. ~~이 영향을 좀 주지 않았을까?? 하는 식.\n",
        "\n",
        "print(train['Sex'].value_counts())\n",
        "print(train['Age'].value_counts())\n",
        "print(train['Pclass'].value_counts())\n",
        "print(train['Survived'].value_counts())\n"
      ],
      "execution_count": null,
      "outputs": [
        {
          "output_type": "stream",
          "text": [
            "male      577\n",
            "female    314\n",
            "Name: Sex, dtype: int64\n",
            "24.00    30\n",
            "22.00    27\n",
            "18.00    26\n",
            "19.00    25\n",
            "30.00    25\n",
            "         ..\n",
            "55.50     1\n",
            "70.50     1\n",
            "66.00     1\n",
            "23.50     1\n",
            "0.42      1\n",
            "Name: Age, Length: 88, dtype: int64\n",
            "3    491\n",
            "1    216\n",
            "2    184\n",
            "Name: Pclass, dtype: int64\n",
            "0    549\n",
            "1    342\n",
            "Name: Survived, dtype: int64\n"
          ],
          "name": "stdout"
        }
      ]
    },
    {
      "cell_type": "markdown",
      "metadata": {
        "id": "lRrchAKr74vX"
      },
      "source": [
        "#### Pandas 연습 04-3\n",
        "\n",
        "1. 타이타닉호 승객을 사망자와 생존자 그룹으로 나누고 각 그룹에 대해  ‘미성년자‘, ‘청년‘, ‘중년‘, ‘장년‘, ‘노년’ 승객의 비율을 구하라.\n",
        "\n",
        "(단, 그룹별 비율의 전체 합은 1이 되어야 한다.)\n",
        "```\n",
        "bins = [0, 15, 25, 35, 60, 99]\n",
        "labels = [\"미성년자\", \"청년\", \"중년\", \"장년\", \"노년\"]\n",
        "```\n",
        "\n",
        "\n",
        "\n",
        "\n",
        "\n",
        "\n"
      ]
    },
    {
      "cell_type": "code",
      "metadata": {
        "colab": {
          "base_uri": "https://localhost:8080/"
        },
        "id": "86zjolVXXnXn",
        "outputId": "d246f4aa-a513-40bd-86c9-0efbf3fe7278"
      },
      "source": [
        "##타이타닉 04-03 7회차\n",
        "\n",
        "bins = [0, 15, 25, 35, 60, 99]\n",
        "labels = [\"미성년자\", \"청년\", \"중년\", \"장년\", \"노년\"]\n",
        "\n",
        "#생존자\n",
        "#생존자로 나눠서 나이로 구분해야함\n",
        "a = train[train[ 'Survived' ] == 1]['Age']\n",
        "a_c = pd.cut( a, bins, labels=labels )\n",
        "a_c.value_counts() /a_c.count()"
      ],
      "execution_count": 16,
      "outputs": [
        {
          "output_type": "execute_result",
          "data": {
            "text/plain": [
              "중년      0.286207\n",
              "장년      0.268966\n",
              "청년      0.258621\n",
              "미성년자    0.168966\n",
              "노년      0.017241\n",
              "Name: Age, dtype: float64"
            ]
          },
          "metadata": {
            "tags": []
          },
          "execution_count": 16
        }
      ]
    },
    {
      "cell_type": "code",
      "metadata": {
        "colab": {
          "base_uri": "https://localhost:8080/"
        },
        "id": "eR7U-XnIXPVN",
        "outputId": "34314f62-e4ec-4f08-b382-882d56ce5df4"
      },
      "source": [
        "##타이타닉 04-03 5회차\n",
        "\n",
        "bins = [0, 15, 25, 35, 60, 99]\n",
        "labels = [\"미성년자\", \"청년\", \"중년\", \"장년\", \"노년\"]\n",
        "\n",
        "#print(train)\n",
        "#생존자\n",
        "alive = train[train['Survived'] == 1]['Age']\n",
        "alive\n",
        "\n",
        "alive_cut = pd.cut(alive, bins, labels=labels)\n",
        "alive_cut.value_counts()\n",
        "alive_cut.value_counts()/alive_cut.count()"
      ],
      "execution_count": null,
      "outputs": [
        {
          "output_type": "execute_result",
          "data": {
            "text/plain": [
              "중년      0.286207\n",
              "장년      0.268966\n",
              "청년      0.258621\n",
              "미성년자    0.168966\n",
              "노년      0.017241\n",
              "Name: Age, dtype: float64"
            ]
          },
          "metadata": {
            "tags": []
          },
          "execution_count": 12
        }
      ]
    },
    {
      "cell_type": "code",
      "metadata": {
        "colab": {
          "base_uri": "https://localhost:8080/"
        },
        "id": "DOcRs7c1ajha",
        "outputId": "d7af05b6-a038-40ce-97c8-ef9325398478"
      },
      "source": [
        "##타이타닉 04-03 4회차\n",
        "\n",
        "bins = [0, 15, 25, 35, 60, 99]\n",
        "labels = [\"미성년자\", \"청년\", \"중년\", \"장년\", \"노년\"]\n",
        "\n",
        "#생존자\n",
        "alive = train[train['Survived'] == 1]\n",
        "\n",
        "pd.cut(alive['Age'], bins, labels=labels).value_counts() #밸류 카운트 하는 이유. 중년 몇명 미성년자 몇명 청년 몇명인지 보기 위해\n",
        "\n",
        "#사망자"
      ],
      "execution_count": null,
      "outputs": [
        {
          "output_type": "execute_result",
          "data": {
            "text/plain": [
              "중년      83\n",
              "장년      78\n",
              "청년      75\n",
              "미성년자    49\n",
              "노년       5\n",
              "Name: Age, dtype: int64"
            ]
          },
          "metadata": {
            "tags": []
          },
          "execution_count": 38
        }
      ]
    },
    {
      "cell_type": "code",
      "metadata": {
        "colab": {
          "base_uri": "https://localhost:8080/"
        },
        "id": "imwTo_k8b7ti",
        "outputId": "8f332b3f-66b3-49b1-d161-ef53da1f84f4"
      },
      "source": [
        "##타이타닉 04-03 4회차\n",
        "\n",
        "#주어진 조건 힌트 보면 알겠지만 카테고리 쓰는 문제임.\n",
        "bins = [0, 15, 25, 35, 60, 99]\n",
        "labels = [\"미성년자\", \"청년\", \"중년\", \"장년\", \"노년\"]\n",
        "\n",
        "#생존자 그룹\n",
        "age_1 = train[train['Survived'] == 1]['Age']\n",
        "age_1_cut = pd.cut(age_1, bins, labels=labels)\n",
        "age_1_cut.value_counts()\n",
        "\n",
        "#사망자 그룹\n",
        "age_0 = train[train['Survived'] == 0]['Age']\n",
        "age_0_cut = pd.cut(age_0, bins, labels=labels)\n",
        "age_0_cut.value_counts()"
      ],
      "execution_count": null,
      "outputs": [
        {
          "output_type": "execute_result",
          "data": {
            "text/plain": [
              "청년      143\n",
              "장년      117\n",
              "중년      113\n",
              "미성년자     34\n",
              "노년       17\n",
              "Name: Age, dtype: int64"
            ]
          },
          "metadata": {
            "tags": []
          },
          "execution_count": 46
        }
      ]
    },
    {
      "cell_type": "code",
      "metadata": {
        "colab": {
          "base_uri": "https://localhost:8080/",
          "height": 449
        },
        "id": "ks5toz5fTtnz",
        "outputId": "bd003579-bc8f-412b-ecb8-3317c3c32466"
      },
      "source": [
        "##타이타닉 04-03 3회차\n",
        "\n",
        "#여기서는 카테고리 써야함ㅋㅋ\n",
        "\n",
        "bins = [0, 15, 25, 35, 60, 99]\n",
        "labels = [\"미성년자\", \"청년\", \"중년\", \"장년\", \"노년\"]\n",
        "\n",
        "#생존자 그룹\n",
        "#일단 난 생존자부터 불린 인덱스 쓰고 싶음.\n",
        "survivor = train[train['Survived'] == 1]\n",
        "survivor.value_counts()\n",
        "\n",
        "pd.cut(survivor['Age'], bins, labels=labels).value_counts()\n",
        "\n",
        "#비율\n",
        "\n",
        "\n",
        "#사망자 그룹\n",
        "#이것도 불린인덱스 쓸 거임.\n",
        "rip = train[train['Survived'] == 0] #인덱싱하는 것처럼 조건식 넣어주는 거라고 생각하자!\n",
        "pd.cut(rip['Age'], bins, labels=labels).value_counts()\n",
        "\n",
        "#비율\n",
        "\n",
        "\n",
        "##########################\n",
        "\n",
        "#만약에 여러개를 가져오고 싶다면?\n",
        "  #이건 하나 가져온 거고\n",
        "\n",
        "#팬시 인덱스 써서 여러개 가져오면 된다.\n",
        "train[ ['Age','Sex'] ]"
      ],
      "execution_count": null,
      "outputs": [
        {
          "output_type": "execute_result",
          "data": {
            "text/html": [
              "<div>\n",
              "<style scoped>\n",
              "    .dataframe tbody tr th:only-of-type {\n",
              "        vertical-align: middle;\n",
              "    }\n",
              "\n",
              "    .dataframe tbody tr th {\n",
              "        vertical-align: top;\n",
              "    }\n",
              "\n",
              "    .dataframe thead th {\n",
              "        text-align: right;\n",
              "    }\n",
              "</style>\n",
              "<table border=\"1\" class=\"dataframe\">\n",
              "  <thead>\n",
              "    <tr style=\"text-align: right;\">\n",
              "      <th></th>\n",
              "      <th>Age</th>\n",
              "      <th>Sex</th>\n",
              "    </tr>\n",
              "    <tr>\n",
              "      <th>PassengerId</th>\n",
              "      <th></th>\n",
              "      <th></th>\n",
              "    </tr>\n",
              "  </thead>\n",
              "  <tbody>\n",
              "    <tr>\n",
              "      <th>1</th>\n",
              "      <td>22.0</td>\n",
              "      <td>male</td>\n",
              "    </tr>\n",
              "    <tr>\n",
              "      <th>2</th>\n",
              "      <td>38.0</td>\n",
              "      <td>female</td>\n",
              "    </tr>\n",
              "    <tr>\n",
              "      <th>3</th>\n",
              "      <td>26.0</td>\n",
              "      <td>female</td>\n",
              "    </tr>\n",
              "    <tr>\n",
              "      <th>4</th>\n",
              "      <td>35.0</td>\n",
              "      <td>female</td>\n",
              "    </tr>\n",
              "    <tr>\n",
              "      <th>5</th>\n",
              "      <td>35.0</td>\n",
              "      <td>male</td>\n",
              "    </tr>\n",
              "    <tr>\n",
              "      <th>...</th>\n",
              "      <td>...</td>\n",
              "      <td>...</td>\n",
              "    </tr>\n",
              "    <tr>\n",
              "      <th>887</th>\n",
              "      <td>27.0</td>\n",
              "      <td>male</td>\n",
              "    </tr>\n",
              "    <tr>\n",
              "      <th>888</th>\n",
              "      <td>19.0</td>\n",
              "      <td>female</td>\n",
              "    </tr>\n",
              "    <tr>\n",
              "      <th>889</th>\n",
              "      <td>NaN</td>\n",
              "      <td>female</td>\n",
              "    </tr>\n",
              "    <tr>\n",
              "      <th>890</th>\n",
              "      <td>26.0</td>\n",
              "      <td>male</td>\n",
              "    </tr>\n",
              "    <tr>\n",
              "      <th>891</th>\n",
              "      <td>32.0</td>\n",
              "      <td>male</td>\n",
              "    </tr>\n",
              "  </tbody>\n",
              "</table>\n",
              "<p>891 rows × 2 columns</p>\n",
              "</div>"
            ],
            "text/plain": [
              "              Age     Sex\n",
              "PassengerId              \n",
              "1            22.0    male\n",
              "2            38.0  female\n",
              "3            26.0  female\n",
              "4            35.0  female\n",
              "5            35.0    male\n",
              "...           ...     ...\n",
              "887          27.0    male\n",
              "888          19.0  female\n",
              "889           NaN  female\n",
              "890          26.0    male\n",
              "891          32.0    male\n",
              "\n",
              "[891 rows x 2 columns]"
            ]
          },
          "metadata": {
            "tags": []
          },
          "execution_count": 69
        }
      ]
    },
    {
      "cell_type": "code",
      "metadata": {
        "colab": {
          "base_uri": "https://localhost:8080/"
        },
        "id": "CGUbGgtNKgX0",
        "outputId": "0a08a2ca-619e-47b2-8ea8-cb4227e0a54a"
      },
      "source": [
        "##타이타닉 04-03 2회차\n",
        "\n",
        "#여기서는 카테고리 써야함ㅋㅋ\n",
        "\n",
        "bins = [0, 15, 25, 35, 60, 99]\n",
        "labels = [\"미성년자\", \"청년\", \"중년\", \"장년\", \"노년\"]\n",
        "\n",
        "#생존자 그룹\n",
        "#일단 난 생존자부터 불린 인덱스 쓰고 싶음.\n",
        "survivor = train[train.loc[:,'Survived'] == 1]\n",
        "survivor_age = survivor.loc[:,'Age']\n",
        "survivor_group = pd.cut(survivor_age, bins, labels=labels).value_counts()\n",
        "\n",
        "#비율\n",
        "print(survivor_group / pd.cut(survivor_age, bins, labels=labels).count()) #value_counts() / count()\n",
        "\n",
        "\n",
        "#사망자 그룹\n",
        "#이것도 불린인덱스 쓸 거임.\n",
        "rip = train[train.loc[:,'Survived'] == 0]\n",
        "rip_age = rip.loc[:,'Age']\n",
        "rip_group = pd.cut(rip_age, bins, labels=labels).value_counts()\n",
        "\n",
        "#비율\n",
        "print(rip_group / pd.cut(rip_age, bins, labels=labels).count()) #value_counts() / count()\n",
        "\n",
        "\n",
        "##########################\n",
        "\n",
        "#만약에 여러개를 가져오고 싶다면?\n",
        "train['Age']  #이건 하나 가져온 거고\n",
        "\n",
        "#팬시 인덱스 써서 여러개 가져오면 된다.\n",
        "train_p_s_s = train[ ['Pclass','Sex','Survived'] ] #단 여러개 가져올 때 리스트로 가져오는 거 잊지마~\n",
        "train_p_s_s.info()"
      ],
      "execution_count": null,
      "outputs": [
        {
          "output_type": "stream",
          "text": [
            "중년      0.286207\n",
            "장년      0.268966\n",
            "청년      0.258621\n",
            "미성년자    0.168966\n",
            "노년      0.017241\n",
            "Name: Age, dtype: float64\n",
            "청년      0.337264\n",
            "장년      0.275943\n",
            "중년      0.266509\n",
            "미성년자    0.080189\n",
            "노년      0.040094\n",
            "Name: Age, dtype: float64\n"
          ],
          "name": "stdout"
        }
      ]
    },
    {
      "cell_type": "code",
      "metadata": {
        "id": "ZFJh8ACG8O3e"
      },
      "source": [
        "# 생존자 그룹\n",
        "train\n",
        "train1 = train[train['Survived'] == 1]    #불린 활용해서 생존자 그룹 생성\n",
        "\n",
        "train1"
      ],
      "execution_count": null,
      "outputs": []
    },
    {
      "cell_type": "code",
      "metadata": {
        "colab": {
          "base_uri": "https://localhost:8080/"
        },
        "id": "Ej5gttgn9O29",
        "outputId": "8cac56e0-cd8d-4aba-96e4-12dc48e3ee39"
      },
      "source": [
        "# 생존자 그룹 카테고리화\n",
        "#카테고리는 진짜 복습 잘 해야할듯ㅋㅋ\n",
        "\n",
        "bins = [0, 15, 25, 35, 60, 99]\n",
        "labels = [\"미성년자\", \"청년\", \"중년\", \"장년\", \"노년\"]\n",
        "\n",
        "train_1_cuts = pd.cut( train1['Age'], bins, labels = labels ) #카테고리화. 추출해서 비교해보고 싶은 것들은 원하는대로 뽑아올 수 있음!\n",
        "train_1_cuts.value_counts()"
      ],
      "execution_count": null,
      "outputs": [
        {
          "output_type": "execute_result",
          "data": {
            "text/plain": [
              "중년      83\n",
              "장년      78\n",
              "청년      75\n",
              "미성년자    49\n",
              "노년       5\n",
              "Name: Age, dtype: int64"
            ]
          },
          "metadata": {
            "tags": []
          },
          "execution_count": 226
        }
      ]
    },
    {
      "cell_type": "code",
      "metadata": {
        "colab": {
          "base_uri": "https://localhost:8080/"
        },
        "id": "41n5Wn_-9lPE",
        "outputId": "d5bcef55-6b20-45ce-b2db-3064e9967f76"
      },
      "source": [
        "# 비율\n",
        "train_1_cuts.value_counts() / train_1_cuts.count()"
      ],
      "execution_count": null,
      "outputs": [
        {
          "output_type": "execute_result",
          "data": {
            "text/plain": [
              "중년      0.286207\n",
              "장년      0.268966\n",
              "청년      0.258621\n",
              "미성년자    0.168966\n",
              "노년      0.017241\n",
              "Name: Age, dtype: float64"
            ]
          },
          "metadata": {
            "tags": []
          },
          "execution_count": 227
        }
      ]
    },
    {
      "cell_type": "code",
      "metadata": {
        "colab": {
          "base_uri": "https://localhost:8080/",
          "height": 447
        },
        "id": "WytQlvrt8-WT",
        "outputId": "3d8d23f1-5e1b-482e-d788-5681945b4400"
      },
      "source": [
        "# 사망자 그룹\n",
        "train0 = train[train['Survived'] == 0]\n",
        "train0"
      ],
      "execution_count": null,
      "outputs": [
        {
          "output_type": "execute_result",
          "data": {
            "text/html": [
              "<div>\n",
              "<style scoped>\n",
              "    .dataframe tbody tr th:only-of-type {\n",
              "        vertical-align: middle;\n",
              "    }\n",
              "\n",
              "    .dataframe tbody tr th {\n",
              "        vertical-align: top;\n",
              "    }\n",
              "\n",
              "    .dataframe thead th {\n",
              "        text-align: right;\n",
              "    }\n",
              "</style>\n",
              "<table border=\"1\" class=\"dataframe\">\n",
              "  <thead>\n",
              "    <tr style=\"text-align: right;\">\n",
              "      <th></th>\n",
              "      <th>Survived</th>\n",
              "      <th>Pclass</th>\n",
              "      <th>Name</th>\n",
              "      <th>Sex</th>\n",
              "      <th>Age</th>\n",
              "      <th>SibSp</th>\n",
              "      <th>Parch</th>\n",
              "      <th>Ticket</th>\n",
              "      <th>Fare</th>\n",
              "      <th>Cabin</th>\n",
              "      <th>Embarked</th>\n",
              "    </tr>\n",
              "    <tr>\n",
              "      <th>PassengerId</th>\n",
              "      <th></th>\n",
              "      <th></th>\n",
              "      <th></th>\n",
              "      <th></th>\n",
              "      <th></th>\n",
              "      <th></th>\n",
              "      <th></th>\n",
              "      <th></th>\n",
              "      <th></th>\n",
              "      <th></th>\n",
              "      <th></th>\n",
              "    </tr>\n",
              "  </thead>\n",
              "  <tbody>\n",
              "    <tr>\n",
              "      <th>1</th>\n",
              "      <td>0</td>\n",
              "      <td>3</td>\n",
              "      <td>Braund, Mr. Owen Harris</td>\n",
              "      <td>male</td>\n",
              "      <td>22.0</td>\n",
              "      <td>1</td>\n",
              "      <td>0</td>\n",
              "      <td>A/5 21171</td>\n",
              "      <td>7.2500</td>\n",
              "      <td>NaN</td>\n",
              "      <td>S</td>\n",
              "    </tr>\n",
              "    <tr>\n",
              "      <th>5</th>\n",
              "      <td>0</td>\n",
              "      <td>3</td>\n",
              "      <td>Allen, Mr. William Henry</td>\n",
              "      <td>male</td>\n",
              "      <td>35.0</td>\n",
              "      <td>0</td>\n",
              "      <td>0</td>\n",
              "      <td>373450</td>\n",
              "      <td>8.0500</td>\n",
              "      <td>NaN</td>\n",
              "      <td>S</td>\n",
              "    </tr>\n",
              "    <tr>\n",
              "      <th>6</th>\n",
              "      <td>0</td>\n",
              "      <td>3</td>\n",
              "      <td>Moran, Mr. James</td>\n",
              "      <td>male</td>\n",
              "      <td>NaN</td>\n",
              "      <td>0</td>\n",
              "      <td>0</td>\n",
              "      <td>330877</td>\n",
              "      <td>8.4583</td>\n",
              "      <td>NaN</td>\n",
              "      <td>Q</td>\n",
              "    </tr>\n",
              "    <tr>\n",
              "      <th>7</th>\n",
              "      <td>0</td>\n",
              "      <td>1</td>\n",
              "      <td>McCarthy, Mr. Timothy J</td>\n",
              "      <td>male</td>\n",
              "      <td>54.0</td>\n",
              "      <td>0</td>\n",
              "      <td>0</td>\n",
              "      <td>17463</td>\n",
              "      <td>51.8625</td>\n",
              "      <td>E46</td>\n",
              "      <td>S</td>\n",
              "    </tr>\n",
              "    <tr>\n",
              "      <th>8</th>\n",
              "      <td>0</td>\n",
              "      <td>3</td>\n",
              "      <td>Palsson, Master. Gosta Leonard</td>\n",
              "      <td>male</td>\n",
              "      <td>2.0</td>\n",
              "      <td>3</td>\n",
              "      <td>1</td>\n",
              "      <td>349909</td>\n",
              "      <td>21.0750</td>\n",
              "      <td>NaN</td>\n",
              "      <td>S</td>\n",
              "    </tr>\n",
              "    <tr>\n",
              "      <th>...</th>\n",
              "      <td>...</td>\n",
              "      <td>...</td>\n",
              "      <td>...</td>\n",
              "      <td>...</td>\n",
              "      <td>...</td>\n",
              "      <td>...</td>\n",
              "      <td>...</td>\n",
              "      <td>...</td>\n",
              "      <td>...</td>\n",
              "      <td>...</td>\n",
              "      <td>...</td>\n",
              "    </tr>\n",
              "    <tr>\n",
              "      <th>885</th>\n",
              "      <td>0</td>\n",
              "      <td>3</td>\n",
              "      <td>Sutehall, Mr. Henry Jr</td>\n",
              "      <td>male</td>\n",
              "      <td>25.0</td>\n",
              "      <td>0</td>\n",
              "      <td>0</td>\n",
              "      <td>SOTON/OQ 392076</td>\n",
              "      <td>7.0500</td>\n",
              "      <td>NaN</td>\n",
              "      <td>S</td>\n",
              "    </tr>\n",
              "    <tr>\n",
              "      <th>886</th>\n",
              "      <td>0</td>\n",
              "      <td>3</td>\n",
              "      <td>Rice, Mrs. William (Margaret Norton)</td>\n",
              "      <td>female</td>\n",
              "      <td>39.0</td>\n",
              "      <td>0</td>\n",
              "      <td>5</td>\n",
              "      <td>382652</td>\n",
              "      <td>29.1250</td>\n",
              "      <td>NaN</td>\n",
              "      <td>Q</td>\n",
              "    </tr>\n",
              "    <tr>\n",
              "      <th>887</th>\n",
              "      <td>0</td>\n",
              "      <td>2</td>\n",
              "      <td>Montvila, Rev. Juozas</td>\n",
              "      <td>male</td>\n",
              "      <td>27.0</td>\n",
              "      <td>0</td>\n",
              "      <td>0</td>\n",
              "      <td>211536</td>\n",
              "      <td>13.0000</td>\n",
              "      <td>NaN</td>\n",
              "      <td>S</td>\n",
              "    </tr>\n",
              "    <tr>\n",
              "      <th>889</th>\n",
              "      <td>0</td>\n",
              "      <td>3</td>\n",
              "      <td>Johnston, Miss. Catherine Helen \"Carrie\"</td>\n",
              "      <td>female</td>\n",
              "      <td>NaN</td>\n",
              "      <td>1</td>\n",
              "      <td>2</td>\n",
              "      <td>W./C. 6607</td>\n",
              "      <td>23.4500</td>\n",
              "      <td>NaN</td>\n",
              "      <td>S</td>\n",
              "    </tr>\n",
              "    <tr>\n",
              "      <th>891</th>\n",
              "      <td>0</td>\n",
              "      <td>3</td>\n",
              "      <td>Dooley, Mr. Patrick</td>\n",
              "      <td>male</td>\n",
              "      <td>32.0</td>\n",
              "      <td>0</td>\n",
              "      <td>0</td>\n",
              "      <td>370376</td>\n",
              "      <td>7.7500</td>\n",
              "      <td>NaN</td>\n",
              "      <td>Q</td>\n",
              "    </tr>\n",
              "  </tbody>\n",
              "</table>\n",
              "<p>549 rows × 11 columns</p>\n",
              "</div>"
            ],
            "text/plain": [
              "             Survived  Pclass  ... Cabin Embarked\n",
              "PassengerId                    ...               \n",
              "1                   0       3  ...   NaN        S\n",
              "5                   0       3  ...   NaN        S\n",
              "6                   0       3  ...   NaN        Q\n",
              "7                   0       1  ...   E46        S\n",
              "8                   0       3  ...   NaN        S\n",
              "...               ...     ...  ...   ...      ...\n",
              "885                 0       3  ...   NaN        S\n",
              "886                 0       3  ...   NaN        Q\n",
              "887                 0       2  ...   NaN        S\n",
              "889                 0       3  ...   NaN        S\n",
              "891                 0       3  ...   NaN        Q\n",
              "\n",
              "[549 rows x 11 columns]"
            ]
          },
          "metadata": {
            "tags": []
          },
          "execution_count": 228
        }
      ]
    },
    {
      "cell_type": "code",
      "metadata": {
        "colab": {
          "base_uri": "https://localhost:8080/"
        },
        "id": "sHS7sAEJ9-y4",
        "outputId": "0d9b8943-878a-48ba-cddb-d8772c0705ae"
      },
      "source": [
        "# 사망자 그룹 카테고리화\n",
        "bins = [0, 15, 25, 35, 60, 99]\n",
        "labels = [\"미성년자\", \"청년\", \"중년\", \"장년\", \"노년\"]\n",
        "\n",
        "train_0_cuts = pd.cut(train0['Age'],bins, labels = labels)\n",
        "train_0_cuts.value_counts()"
      ],
      "execution_count": null,
      "outputs": [
        {
          "output_type": "execute_result",
          "data": {
            "text/plain": [
              "청년      143\n",
              "장년      117\n",
              "중년      113\n",
              "미성년자     34\n",
              "노년       17\n",
              "Name: Age, dtype: int64"
            ]
          },
          "metadata": {
            "tags": []
          },
          "execution_count": 229
        }
      ]
    },
    {
      "cell_type": "code",
      "metadata": {
        "colab": {
          "base_uri": "https://localhost:8080/"
        },
        "id": "kRwfEWSE-G9e",
        "outputId": "c7ebc9ca-1759-4812-ce53-1a9d5e99223f"
      },
      "source": [
        "# 비율 #나이가 누락된 사람들이 있었기 때문에 수가 딱 떨어지진 않음.\n",
        "train_0_cuts.value_counts() / train_0_cuts.count()"
      ],
      "execution_count": null,
      "outputs": [
        {
          "output_type": "execute_result",
          "data": {
            "text/plain": [
              "청년      0.337264\n",
              "장년      0.275943\n",
              "중년      0.266509\n",
              "미성년자    0.080189\n",
              "노년      0.040094\n",
              "Name: Age, dtype: float64"
            ]
          },
          "metadata": {
            "tags": []
          },
          "execution_count": 230
        }
      ]
    },
    {
      "cell_type": "code",
      "metadata": {
        "colab": {
          "base_uri": "https://localhost:8080/"
        },
        "id": "VlbHh108yEYl",
        "outputId": "617060fd-cab6-42ae-bc25-072691a38d64"
      },
      "source": [
        "#만약에 여러개를 가져오고 싶다면?\n",
        "train['Age']  #이건 하나 가져온 거고\n",
        "\n",
        "#팬시 인덱스 써서 여러개 가져오면 된다.\n",
        "train_p_s_s = train[ ['Pclass','Sex','Survived'] ]\n",
        "train_p_s_s.info()"
      ],
      "execution_count": null,
      "outputs": [
        {
          "output_type": "stream",
          "text": [
            "<class 'pandas.core.frame.DataFrame'>\n",
            "Index: 3 entries, Pclass to Survived\n",
            "Columns: 891 entries, 1 to 891\n",
            "dtypes: object(891)\n",
            "memory usage: 20.9+ KB\n"
          ],
          "name": "stdout"
        }
      ]
    },
    {
      "cell_type": "markdown",
      "metadata": {
        "id": "uo5Q88WYcbhM"
      },
      "source": [
        "#### groupby"
      ]
    },
    {
      "cell_type": "code",
      "metadata": {
        "colab": {
          "base_uri": "https://localhost:8080/",
          "height": 203
        },
        "id": "lU1S7_Yqckrw",
        "outputId": "871e3a8f-e63a-41e2-e428-e317e7ef2d01"
      },
      "source": [
        "#그룹 바이는 묶어주고 싶은 열들끼리 모아서, 연산처리를 하면 그 그룹 내부에 있는 것들끼리 연산이 진행됨. \n",
        "#그룹은 연습을 많이 해야 응용이 좀 될텐데. 어디다 써야하는지는 잘 안떠오름. 연습을 잘해줘야함!\n",
        "\n",
        "df5 = pd.DataFrame({\n",
        "    'key1':['A','A', 'B', 'B', 'A'],\n",
        "    'key2':['one','two','one','two','one'],\n",
        "    'data1': [1, 2, 3, 4, 5],\n",
        "    'data2': [10, 20, 30, 40, 50]\n",
        "})\n",
        "df5"
      ],
      "execution_count": null,
      "outputs": [
        {
          "output_type": "execute_result",
          "data": {
            "text/html": [
              "<div>\n",
              "<style scoped>\n",
              "    .dataframe tbody tr th:only-of-type {\n",
              "        vertical-align: middle;\n",
              "    }\n",
              "\n",
              "    .dataframe tbody tr th {\n",
              "        vertical-align: top;\n",
              "    }\n",
              "\n",
              "    .dataframe thead th {\n",
              "        text-align: right;\n",
              "    }\n",
              "</style>\n",
              "<table border=\"1\" class=\"dataframe\">\n",
              "  <thead>\n",
              "    <tr style=\"text-align: right;\">\n",
              "      <th></th>\n",
              "      <th>key1</th>\n",
              "      <th>key2</th>\n",
              "      <th>data1</th>\n",
              "      <th>data2</th>\n",
              "    </tr>\n",
              "  </thead>\n",
              "  <tbody>\n",
              "    <tr>\n",
              "      <th>0</th>\n",
              "      <td>A</td>\n",
              "      <td>one</td>\n",
              "      <td>1</td>\n",
              "      <td>10</td>\n",
              "    </tr>\n",
              "    <tr>\n",
              "      <th>1</th>\n",
              "      <td>A</td>\n",
              "      <td>two</td>\n",
              "      <td>2</td>\n",
              "      <td>20</td>\n",
              "    </tr>\n",
              "    <tr>\n",
              "      <th>2</th>\n",
              "      <td>B</td>\n",
              "      <td>one</td>\n",
              "      <td>3</td>\n",
              "      <td>30</td>\n",
              "    </tr>\n",
              "    <tr>\n",
              "      <th>3</th>\n",
              "      <td>B</td>\n",
              "      <td>two</td>\n",
              "      <td>4</td>\n",
              "      <td>40</td>\n",
              "    </tr>\n",
              "    <tr>\n",
              "      <th>4</th>\n",
              "      <td>A</td>\n",
              "      <td>one</td>\n",
              "      <td>5</td>\n",
              "      <td>50</td>\n",
              "    </tr>\n",
              "  </tbody>\n",
              "</table>\n",
              "</div>"
            ],
            "text/plain": [
              "  key1 key2  data1  data2\n",
              "0    A  one      1     10\n",
              "1    A  two      2     20\n",
              "2    B  one      3     30\n",
              "3    B  two      4     40\n",
              "4    A  one      5     50"
            ]
          },
          "metadata": {
            "tags": []
          },
          "execution_count": 235
        }
      ]
    },
    {
      "cell_type": "code",
      "metadata": {
        "colab": {
          "base_uri": "https://localhost:8080/"
        },
        "id": "8QSMAu5iDqa6",
        "outputId": "6efb6bd5-7094-42d9-98ac-ddddcd35014a"
      },
      "source": [
        "#딕셔너리 형식으로 만들어져 있는데, 중복되어 있는 값들도 있고. \n",
        "g = df5[ ['key1', 'data2'] ].groupby('key1') #그룹화 됐음\n",
        "\n",
        "for x,y in g:\n",
        "  print(x)\n",
        "  print(y)"
      ],
      "execution_count": null,
      "outputs": [
        {
          "output_type": "stream",
          "text": [
            "A\n",
            "  key1  data2\n",
            "0    A     10\n",
            "1    A     20\n",
            "4    A     50\n",
            "B\n",
            "  key1  data2\n",
            "2    B     30\n",
            "3    B     40\n"
          ],
          "name": "stdout"
        }
      ]
    },
    {
      "cell_type": "code",
      "metadata": {
        "colab": {
          "base_uri": "https://localhost:8080/",
          "height": 142
        },
        "id": "ewMqpDEsza2f",
        "outputId": "0a0dda0c-2e9d-4ffc-9e20-6cd7214264de"
      },
      "source": [
        "g.sum()"
      ],
      "execution_count": null,
      "outputs": [
        {
          "output_type": "execute_result",
          "data": {
            "text/html": [
              "<div>\n",
              "<style scoped>\n",
              "    .dataframe tbody tr th:only-of-type {\n",
              "        vertical-align: middle;\n",
              "    }\n",
              "\n",
              "    .dataframe tbody tr th {\n",
              "        vertical-align: top;\n",
              "    }\n",
              "\n",
              "    .dataframe thead th {\n",
              "        text-align: right;\n",
              "    }\n",
              "</style>\n",
              "<table border=\"1\" class=\"dataframe\">\n",
              "  <thead>\n",
              "    <tr style=\"text-align: right;\">\n",
              "      <th></th>\n",
              "      <th>data2</th>\n",
              "    </tr>\n",
              "    <tr>\n",
              "      <th>key1</th>\n",
              "      <th></th>\n",
              "    </tr>\n",
              "  </thead>\n",
              "  <tbody>\n",
              "    <tr>\n",
              "      <th>A</th>\n",
              "      <td>80</td>\n",
              "    </tr>\n",
              "    <tr>\n",
              "      <th>B</th>\n",
              "      <td>70</td>\n",
              "    </tr>\n",
              "  </tbody>\n",
              "</table>\n",
              "</div>"
            ],
            "text/plain": [
              "      data2\n",
              "key1       \n",
              "A        80\n",
              "B        70"
            ]
          },
          "metadata": {
            "tags": []
          },
          "execution_count": 239
        }
      ]
    },
    {
      "cell_type": "markdown",
      "metadata": {
        "id": "PRLMhXhNcg1e"
      },
      "source": [
        "#### Pandas 연습 04-4\n",
        "\n",
        "1. 선실(Pclass), 성별(Sex)로 생존자 수를 구하라.\n"
      ]
    },
    {
      "cell_type": "code",
      "metadata": {
        "colab": {
          "base_uri": "https://localhost:8080/",
          "height": 265
        },
        "id": "Mzd_6Gx_YAJP",
        "outputId": "60aa9e9c-9522-473d-d9c8-0410462b264a"
      },
      "source": [
        "##타이타닉 04-04 6회차\n",
        "\n",
        "train[ ['Pclass','Sex','Survived'] ].groupby( ['Pclass','Sex'] ).sum()"
      ],
      "execution_count": null,
      "outputs": [
        {
          "output_type": "execute_result",
          "data": {
            "text/html": [
              "<div>\n",
              "<style scoped>\n",
              "    .dataframe tbody tr th:only-of-type {\n",
              "        vertical-align: middle;\n",
              "    }\n",
              "\n",
              "    .dataframe tbody tr th {\n",
              "        vertical-align: top;\n",
              "    }\n",
              "\n",
              "    .dataframe thead th {\n",
              "        text-align: right;\n",
              "    }\n",
              "</style>\n",
              "<table border=\"1\" class=\"dataframe\">\n",
              "  <thead>\n",
              "    <tr style=\"text-align: right;\">\n",
              "      <th></th>\n",
              "      <th></th>\n",
              "      <th>Survived</th>\n",
              "    </tr>\n",
              "    <tr>\n",
              "      <th>Pclass</th>\n",
              "      <th>Sex</th>\n",
              "      <th></th>\n",
              "    </tr>\n",
              "  </thead>\n",
              "  <tbody>\n",
              "    <tr>\n",
              "      <th rowspan=\"2\" valign=\"top\">1</th>\n",
              "      <th>female</th>\n",
              "      <td>91</td>\n",
              "    </tr>\n",
              "    <tr>\n",
              "      <th>male</th>\n",
              "      <td>45</td>\n",
              "    </tr>\n",
              "    <tr>\n",
              "      <th rowspan=\"2\" valign=\"top\">2</th>\n",
              "      <th>female</th>\n",
              "      <td>70</td>\n",
              "    </tr>\n",
              "    <tr>\n",
              "      <th>male</th>\n",
              "      <td>17</td>\n",
              "    </tr>\n",
              "    <tr>\n",
              "      <th rowspan=\"2\" valign=\"top\">3</th>\n",
              "      <th>female</th>\n",
              "      <td>72</td>\n",
              "    </tr>\n",
              "    <tr>\n",
              "      <th>male</th>\n",
              "      <td>47</td>\n",
              "    </tr>\n",
              "  </tbody>\n",
              "</table>\n",
              "</div>"
            ],
            "text/plain": [
              "               Survived\n",
              "Pclass Sex             \n",
              "1      female        91\n",
              "       male          45\n",
              "2      female        70\n",
              "       male          17\n",
              "3      female        72\n",
              "       male          47"
            ]
          },
          "metadata": {
            "tags": []
          },
          "execution_count": 16
        }
      ]
    },
    {
      "cell_type": "code",
      "metadata": {
        "colab": {
          "base_uri": "https://localhost:8080/",
          "height": 263
        },
        "id": "ONRRn1UabvW1",
        "outputId": "71454b81-c6a1-4dbb-da61-aeff8c8be5d1"
      },
      "source": [
        "##타이타닉 04-04 5회차\n",
        "\n",
        "p_s_s = train[ ['Pclass','Sex','Survived'] ]\n",
        "p_s_s.groupby( ['Pclass','Sex'] ).sum()"
      ],
      "execution_count": null,
      "outputs": [
        {
          "output_type": "execute_result",
          "data": {
            "text/html": [
              "<div>\n",
              "<style scoped>\n",
              "    .dataframe tbody tr th:only-of-type {\n",
              "        vertical-align: middle;\n",
              "    }\n",
              "\n",
              "    .dataframe tbody tr th {\n",
              "        vertical-align: top;\n",
              "    }\n",
              "\n",
              "    .dataframe thead th {\n",
              "        text-align: right;\n",
              "    }\n",
              "</style>\n",
              "<table border=\"1\" class=\"dataframe\">\n",
              "  <thead>\n",
              "    <tr style=\"text-align: right;\">\n",
              "      <th></th>\n",
              "      <th></th>\n",
              "      <th>Survived</th>\n",
              "    </tr>\n",
              "    <tr>\n",
              "      <th>Pclass</th>\n",
              "      <th>Sex</th>\n",
              "      <th></th>\n",
              "    </tr>\n",
              "  </thead>\n",
              "  <tbody>\n",
              "    <tr>\n",
              "      <th rowspan=\"2\" valign=\"top\">1</th>\n",
              "      <th>female</th>\n",
              "      <td>91</td>\n",
              "    </tr>\n",
              "    <tr>\n",
              "      <th>male</th>\n",
              "      <td>45</td>\n",
              "    </tr>\n",
              "    <tr>\n",
              "      <th rowspan=\"2\" valign=\"top\">2</th>\n",
              "      <th>female</th>\n",
              "      <td>70</td>\n",
              "    </tr>\n",
              "    <tr>\n",
              "      <th>male</th>\n",
              "      <td>17</td>\n",
              "    </tr>\n",
              "    <tr>\n",
              "      <th rowspan=\"2\" valign=\"top\">3</th>\n",
              "      <th>female</th>\n",
              "      <td>72</td>\n",
              "    </tr>\n",
              "    <tr>\n",
              "      <th>male</th>\n",
              "      <td>47</td>\n",
              "    </tr>\n",
              "  </tbody>\n",
              "</table>\n",
              "</div>"
            ],
            "text/plain": [
              "               Survived\n",
              "Pclass Sex             \n",
              "1      female        91\n",
              "       male          45\n",
              "2      female        70\n",
              "       male          17\n",
              "3      female        72\n",
              "       male          47"
            ]
          },
          "metadata": {
            "tags": []
          },
          "execution_count": 42
        }
      ]
    },
    {
      "cell_type": "code",
      "metadata": {
        "colab": {
          "base_uri": "https://localhost:8080/",
          "height": 265
        },
        "id": "meptP15ddURu",
        "outputId": "969a3163-9ba3-4366-8194-e079d8afcedf"
      },
      "source": [
        "##타이타닉 04-04 4회차\n",
        "##선실(Pclass), 성별(Sex)로 생존자 수를 구하라. 당연히 Survived도 필요함\n",
        "\n",
        "train[ ['Pclass','Sex', 'Survived'] ].value_counts() #이게 뭐지?\n",
        "\n",
        "train[ ['Pclass','Sex', 'Survived'] ].groupby( [ 'Sex','Pclass' ] ).sum() #아하! 그룹바이는 묶어주고 싶은 열들끼리 묶어서 내보내주는구나!!!"
      ],
      "execution_count": null,
      "outputs": [
        {
          "output_type": "execute_result",
          "data": {
            "text/html": [
              "<div>\n",
              "<style scoped>\n",
              "    .dataframe tbody tr th:only-of-type {\n",
              "        vertical-align: middle;\n",
              "    }\n",
              "\n",
              "    .dataframe tbody tr th {\n",
              "        vertical-align: top;\n",
              "    }\n",
              "\n",
              "    .dataframe thead th {\n",
              "        text-align: right;\n",
              "    }\n",
              "</style>\n",
              "<table border=\"1\" class=\"dataframe\">\n",
              "  <thead>\n",
              "    <tr style=\"text-align: right;\">\n",
              "      <th></th>\n",
              "      <th></th>\n",
              "      <th>Survived</th>\n",
              "    </tr>\n",
              "    <tr>\n",
              "      <th>Sex</th>\n",
              "      <th>Pclass</th>\n",
              "      <th></th>\n",
              "    </tr>\n",
              "  </thead>\n",
              "  <tbody>\n",
              "    <tr>\n",
              "      <th rowspan=\"3\" valign=\"top\">female</th>\n",
              "      <th>1</th>\n",
              "      <td>91</td>\n",
              "    </tr>\n",
              "    <tr>\n",
              "      <th>2</th>\n",
              "      <td>70</td>\n",
              "    </tr>\n",
              "    <tr>\n",
              "      <th>3</th>\n",
              "      <td>72</td>\n",
              "    </tr>\n",
              "    <tr>\n",
              "      <th rowspan=\"3\" valign=\"top\">male</th>\n",
              "      <th>1</th>\n",
              "      <td>45</td>\n",
              "    </tr>\n",
              "    <tr>\n",
              "      <th>2</th>\n",
              "      <td>17</td>\n",
              "    </tr>\n",
              "    <tr>\n",
              "      <th>3</th>\n",
              "      <td>47</td>\n",
              "    </tr>\n",
              "  </tbody>\n",
              "</table>\n",
              "</div>"
            ],
            "text/plain": [
              "               Survived\n",
              "Sex    Pclass          \n",
              "female 1             91\n",
              "       2             70\n",
              "       3             72\n",
              "male   1             45\n",
              "       2             17\n",
              "       3             47"
            ]
          },
          "metadata": {
            "tags": []
          },
          "execution_count": 55
        }
      ]
    },
    {
      "cell_type": "code",
      "metadata": {
        "colab": {
          "base_uri": "https://localhost:8080/",
          "height": 265
        },
        "id": "zZYpS1xPVco7",
        "outputId": "6585f8ad-ef9a-41d7-8729-d0ef56d9e2e2"
      },
      "source": [
        "##타이타닉 04-04 3회차\n",
        "##선실(Pclass), 성별(Sex)로 생존자 수를 구하라.\n",
        "\n",
        "#그룹바이를 쓴다는데, 어떻게?\n",
        "#선실, 성별로  생존자 구하기. 아. 3개 팬시 인덱싱으로 갖고 와서, 선실하고 성별 그룹바이 시키고 \n",
        "\n",
        "train[ ['Pclass','Sex','Survived']].groupby( ['Pclass','Sex'] ).sum() #와 이렇게 완벽하게 나온다고?\n",
        "\n"
      ],
      "execution_count": null,
      "outputs": [
        {
          "output_type": "execute_result",
          "data": {
            "text/html": [
              "<div>\n",
              "<style scoped>\n",
              "    .dataframe tbody tr th:only-of-type {\n",
              "        vertical-align: middle;\n",
              "    }\n",
              "\n",
              "    .dataframe tbody tr th {\n",
              "        vertical-align: top;\n",
              "    }\n",
              "\n",
              "    .dataframe thead th {\n",
              "        text-align: right;\n",
              "    }\n",
              "</style>\n",
              "<table border=\"1\" class=\"dataframe\">\n",
              "  <thead>\n",
              "    <tr style=\"text-align: right;\">\n",
              "      <th></th>\n",
              "      <th></th>\n",
              "      <th>Survived</th>\n",
              "    </tr>\n",
              "    <tr>\n",
              "      <th>Pclass</th>\n",
              "      <th>Sex</th>\n",
              "      <th></th>\n",
              "    </tr>\n",
              "  </thead>\n",
              "  <tbody>\n",
              "    <tr>\n",
              "      <th rowspan=\"2\" valign=\"top\">1</th>\n",
              "      <th>female</th>\n",
              "      <td>91</td>\n",
              "    </tr>\n",
              "    <tr>\n",
              "      <th>male</th>\n",
              "      <td>45</td>\n",
              "    </tr>\n",
              "    <tr>\n",
              "      <th rowspan=\"2\" valign=\"top\">2</th>\n",
              "      <th>female</th>\n",
              "      <td>70</td>\n",
              "    </tr>\n",
              "    <tr>\n",
              "      <th>male</th>\n",
              "      <td>17</td>\n",
              "    </tr>\n",
              "    <tr>\n",
              "      <th rowspan=\"2\" valign=\"top\">3</th>\n",
              "      <th>female</th>\n",
              "      <td>72</td>\n",
              "    </tr>\n",
              "    <tr>\n",
              "      <th>male</th>\n",
              "      <td>47</td>\n",
              "    </tr>\n",
              "  </tbody>\n",
              "</table>\n",
              "</div>"
            ],
            "text/plain": [
              "               Survived\n",
              "Pclass Sex             \n",
              "1      female        91\n",
              "       male          45\n",
              "2      female        70\n",
              "       male          17\n",
              "3      female        72\n",
              "       male          47"
            ]
          },
          "metadata": {
            "tags": []
          },
          "execution_count": 77
        }
      ]
    },
    {
      "cell_type": "code",
      "metadata": {
        "colab": {
          "base_uri": "https://localhost:8080/",
          "height": 265
        },
        "id": "jRc1NmcKDtek",
        "outputId": "fc1613de-0abe-403d-a50c-c6995ab785d7"
      },
      "source": [
        "#선실을 키로 잡으면 각 선실 별로 키가 나오고 생존자가 나올 거임. \n",
        "#우린 선실/ 성별/ 생존자 만 필요함.\n",
        "\n",
        "#그룹화는 리스트로 넣으면 순서별로 여러개 만들기 가능.\n",
        "\n",
        "train[ ['Pclass','Sex','Survived'] ].groupby('Pclass').sum()    #3개 한번에 넣고, 그 다음에 그룹바이에 피클래스 넣고, 이걸 더하면 클래스별 생존자가 나옴.\n",
        "train[ ['Pclass','Sex','Survived'] ].groupby( ['Pclass','Sex'] ).sum()    #이렇게 하면 생존자는 1, 사망자는 0이니까 합계로 구하면 => 나온 숫자는 자동으로 생존자수가 됨.\n",
        "                                                                          #한번에 그룹화 2개도 가능하다는 거.\n",
        "\n"
      ],
      "execution_count": null,
      "outputs": [
        {
          "output_type": "execute_result",
          "data": {
            "text/html": [
              "<div>\n",
              "<style scoped>\n",
              "    .dataframe tbody tr th:only-of-type {\n",
              "        vertical-align: middle;\n",
              "    }\n",
              "\n",
              "    .dataframe tbody tr th {\n",
              "        vertical-align: top;\n",
              "    }\n",
              "\n",
              "    .dataframe thead th {\n",
              "        text-align: right;\n",
              "    }\n",
              "</style>\n",
              "<table border=\"1\" class=\"dataframe\">\n",
              "  <thead>\n",
              "    <tr style=\"text-align: right;\">\n",
              "      <th></th>\n",
              "      <th></th>\n",
              "      <th>Survived</th>\n",
              "    </tr>\n",
              "    <tr>\n",
              "      <th>Pclass</th>\n",
              "      <th>Sex</th>\n",
              "      <th></th>\n",
              "    </tr>\n",
              "  </thead>\n",
              "  <tbody>\n",
              "    <tr>\n",
              "      <th rowspan=\"2\" valign=\"top\">1</th>\n",
              "      <th>female</th>\n",
              "      <td>91</td>\n",
              "    </tr>\n",
              "    <tr>\n",
              "      <th>male</th>\n",
              "      <td>45</td>\n",
              "    </tr>\n",
              "    <tr>\n",
              "      <th rowspan=\"2\" valign=\"top\">2</th>\n",
              "      <th>female</th>\n",
              "      <td>70</td>\n",
              "    </tr>\n",
              "    <tr>\n",
              "      <th>male</th>\n",
              "      <td>17</td>\n",
              "    </tr>\n",
              "    <tr>\n",
              "      <th rowspan=\"2\" valign=\"top\">3</th>\n",
              "      <th>female</th>\n",
              "      <td>72</td>\n",
              "    </tr>\n",
              "    <tr>\n",
              "      <th>male</th>\n",
              "      <td>47</td>\n",
              "    </tr>\n",
              "  </tbody>\n",
              "</table>\n",
              "</div>"
            ],
            "text/plain": [
              "               Survived\n",
              "Pclass Sex             \n",
              "1      female        91\n",
              "       male          45\n",
              "2      female        70\n",
              "       male          17\n",
              "3      female        72\n",
              "       male          47"
            ]
          },
          "metadata": {
            "tags": []
          },
          "execution_count": 243
        }
      ]
    },
    {
      "cell_type": "code",
      "metadata": {
        "colab": {
          "base_uri": "https://localhost:8080/",
          "height": 265
        },
        "id": "O-QZbOFLPAym",
        "outputId": "990cd508-d2f3-430d-fcaf-6ac46f230b09"
      },
      "source": [
        "##타이타닉 04-04 2회차\n",
        "##선실(Pclass), 성별(Sex)로 생존자 수를 구하라.\n",
        "\n",
        "#그룹바이 쓸 거야~ 생존자 수 구하는 거잖아?\n",
        "#그럼 나는 Pclass, Sex, Survived만 있으면 돼. 그럼 그거만 train에서 뽑아오자! 어떻게? 팬시 인덱싱으로 리스트 넣어줘서 뽑으면 돼!\n",
        "\n",
        "train_p_s_s = train[ ['Pclass','Sex','Survived'] ]  # 난 근데 지금 이거 뽑아올 수 있는 게 열중심이라 가능하다는 생각이 드네? 만약에 .loc으로 뽑는다면?\n",
        "\n",
        "# 아 이거 궁금한데? 만약에 loc으로 이렇게 뽑아놓았으면 어떻게 .groupby 할 수 있나??\n",
        "t_p = train.loc[ :,'Pclass' ]\n",
        "t_se = train.loc[:, 'Sex']\n",
        "t_su = train.loc[:,'Survived']\n",
        "\n",
        "\n",
        "train_p_s_s.groupby( ['Pclass','Sex'] ).sum() #여기서 Survived 안넣어줘도 되는 이유는 어짜피 더해주면 0이랑 1이랑 더한 거라 나온 수가 생존자 수임.!"
      ],
      "execution_count": null,
      "outputs": [
        {
          "output_type": "execute_result",
          "data": {
            "text/html": [
              "<div>\n",
              "<style scoped>\n",
              "    .dataframe tbody tr th:only-of-type {\n",
              "        vertical-align: middle;\n",
              "    }\n",
              "\n",
              "    .dataframe tbody tr th {\n",
              "        vertical-align: top;\n",
              "    }\n",
              "\n",
              "    .dataframe thead th {\n",
              "        text-align: right;\n",
              "    }\n",
              "</style>\n",
              "<table border=\"1\" class=\"dataframe\">\n",
              "  <thead>\n",
              "    <tr style=\"text-align: right;\">\n",
              "      <th></th>\n",
              "      <th></th>\n",
              "      <th>Survived</th>\n",
              "    </tr>\n",
              "    <tr>\n",
              "      <th>Pclass</th>\n",
              "      <th>Sex</th>\n",
              "      <th></th>\n",
              "    </tr>\n",
              "  </thead>\n",
              "  <tbody>\n",
              "    <tr>\n",
              "      <th rowspan=\"2\" valign=\"top\">1</th>\n",
              "      <th>female</th>\n",
              "      <td>91</td>\n",
              "    </tr>\n",
              "    <tr>\n",
              "      <th>male</th>\n",
              "      <td>45</td>\n",
              "    </tr>\n",
              "    <tr>\n",
              "      <th rowspan=\"2\" valign=\"top\">2</th>\n",
              "      <th>female</th>\n",
              "      <td>70</td>\n",
              "    </tr>\n",
              "    <tr>\n",
              "      <th>male</th>\n",
              "      <td>17</td>\n",
              "    </tr>\n",
              "    <tr>\n",
              "      <th rowspan=\"2\" valign=\"top\">3</th>\n",
              "      <th>female</th>\n",
              "      <td>72</td>\n",
              "    </tr>\n",
              "    <tr>\n",
              "      <th>male</th>\n",
              "      <td>47</td>\n",
              "    </tr>\n",
              "  </tbody>\n",
              "</table>\n",
              "</div>"
            ],
            "text/plain": [
              "               Survived\n",
              "Pclass Sex             \n",
              "1      female        91\n",
              "       male          45\n",
              "2      female        70\n",
              "       male          17\n",
              "3      female        72\n",
              "       male          47"
            ]
          },
          "metadata": {
            "tags": []
          },
          "execution_count": 96
        }
      ]
    },
    {
      "cell_type": "markdown",
      "metadata": {
        "id": "a8CEbpHX9O7R"
      },
      "source": [
        "## Pandas 요약\n"
      ]
    },
    {
      "cell_type": "markdown",
      "metadata": {
        "id": "0FQjvxCA9cru"
      },
      "source": [
        "### 데이터프레임(Dataframe)과 시리즈(Series)"
      ]
    },
    {
      "cell_type": "code",
      "metadata": {
        "id": "YCQKPjrS82-d"
      },
      "source": [
        "# 시리즈와 데이터프레임 두 가지가 기본이다\n",
        "# 자동으로 인덱스가 만들어진다\n",
        "\n",
        "import numpy as np\n",
        "import pandas as pd"
      ],
      "execution_count": null,
      "outputs": []
    },
    {
      "cell_type": "code",
      "metadata": {
        "colab": {
          "base_uri": "https://localhost:8080/",
          "height": 234
        },
        "id": "8BPqhJsjaQdh",
        "outputId": "e01cfa98-a0a5-4101-d311-3e612555b6fe"
      },
      "source": [
        "##판다스 요약 5회차\n",
        "\n",
        "dic = {'city': ['서울', '부산', '대전', '대구', '광주'],\n",
        "        'year': [2017, 2017, 2018, 2018, 2018],\n",
        "        'temp': [18, 20, 19, 21, 20]}\n",
        "\n",
        "\n",
        "#'year', 'city', 'temp'를 가지고 데이터 프레임 만들어라\n",
        "df = pd.DataFrame( dic )\n",
        "df\n",
        "# index -> 'a','b','c','d','e' 인덱스에 이름 추가하라는 이야기\n",
        "df.index = 'a','b','c','d','e'\n",
        "df\n",
        "\n",
        "# columns -> '도시','연도','날씨' 열 부분에 추가하라는 거~\n",
        "df.columns = '도시','연도','날씨'\n",
        "df\n",
        "\n",
        "# index -> '도시'\n",
        "#f.columns.name = '특성'\n",
        "df.index.name = '도시'\n",
        "df.columns.name = '특성'\n",
        "df"
      ],
      "execution_count": 26,
      "outputs": [
        {
          "output_type": "execute_result",
          "data": {
            "text/html": [
              "<div>\n",
              "<style scoped>\n",
              "    .dataframe tbody tr th:only-of-type {\n",
              "        vertical-align: middle;\n",
              "    }\n",
              "\n",
              "    .dataframe tbody tr th {\n",
              "        vertical-align: top;\n",
              "    }\n",
              "\n",
              "    .dataframe thead th {\n",
              "        text-align: right;\n",
              "    }\n",
              "</style>\n",
              "<table border=\"1\" class=\"dataframe\">\n",
              "  <thead>\n",
              "    <tr style=\"text-align: right;\">\n",
              "      <th>특성</th>\n",
              "      <th>도시</th>\n",
              "      <th>연도</th>\n",
              "      <th>날씨</th>\n",
              "    </tr>\n",
              "    <tr>\n",
              "      <th>도시</th>\n",
              "      <th></th>\n",
              "      <th></th>\n",
              "      <th></th>\n",
              "    </tr>\n",
              "  </thead>\n",
              "  <tbody>\n",
              "    <tr>\n",
              "      <th>a</th>\n",
              "      <td>서울</td>\n",
              "      <td>2017</td>\n",
              "      <td>18</td>\n",
              "    </tr>\n",
              "    <tr>\n",
              "      <th>b</th>\n",
              "      <td>부산</td>\n",
              "      <td>2017</td>\n",
              "      <td>20</td>\n",
              "    </tr>\n",
              "    <tr>\n",
              "      <th>c</th>\n",
              "      <td>대전</td>\n",
              "      <td>2018</td>\n",
              "      <td>19</td>\n",
              "    </tr>\n",
              "    <tr>\n",
              "      <th>d</th>\n",
              "      <td>대구</td>\n",
              "      <td>2018</td>\n",
              "      <td>21</td>\n",
              "    </tr>\n",
              "    <tr>\n",
              "      <th>e</th>\n",
              "      <td>광주</td>\n",
              "      <td>2018</td>\n",
              "      <td>20</td>\n",
              "    </tr>\n",
              "  </tbody>\n",
              "</table>\n",
              "</div>"
            ],
            "text/plain": [
              "특성  도시    연도  날씨\n",
              "도시              \n",
              "a   서울  2017  18\n",
              "b   부산  2017  20\n",
              "c   대전  2018  19\n",
              "d   대구  2018  21\n",
              "e   광주  2018  20"
            ]
          },
          "metadata": {
            "tags": []
          },
          "execution_count": 26
        }
      ]
    },
    {
      "cell_type": "code",
      "metadata": {
        "colab": {
          "base_uri": "https://localhost:8080/",
          "height": 234
        },
        "id": "pKNXi_XwYZ21",
        "outputId": "462c8927-a94d-4cb2-db52-4020b6ac0a23"
      },
      "source": [
        "##판다스 요약 4회차\n",
        "\n",
        "dic = {'city': ['서울', '부산', '대전', '대구', '광주'],\n",
        "        'year': [2017, 2017, 2018, 2018, 2018],\n",
        "        'temp': [18, 20, 19, 21, 20]}\n",
        "\n",
        "#'year', 'city', 'temp'를 가지고 데이터 프레임 만들어라\n",
        "df = pd.DataFrame(dic)\n",
        "df\n",
        "\n",
        "# index -> 'a','b','c','d','e' 인덱스에 이름 추가하라는 이야기\n",
        "df.index = ['a','b','c','d','e']\n",
        "df\n",
        "# columns -> '도시','연도','날씨' 열 부분에 추가하라는 거~\n",
        "df.columns = [ '도시','연도','날씨' ]\n",
        "df\n",
        "\n",
        "# index -> '도시'\n",
        "#f.columns.name = '특성'\n",
        "df.index.name = '도시'\n",
        "df.columns.name = '특징'\n",
        "df"
      ],
      "execution_count": null,
      "outputs": [
        {
          "output_type": "execute_result",
          "data": {
            "text/html": [
              "<div>\n",
              "<style scoped>\n",
              "    .dataframe tbody tr th:only-of-type {\n",
              "        vertical-align: middle;\n",
              "    }\n",
              "\n",
              "    .dataframe tbody tr th {\n",
              "        vertical-align: top;\n",
              "    }\n",
              "\n",
              "    .dataframe thead th {\n",
              "        text-align: right;\n",
              "    }\n",
              "</style>\n",
              "<table border=\"1\" class=\"dataframe\">\n",
              "  <thead>\n",
              "    <tr style=\"text-align: right;\">\n",
              "      <th>특징</th>\n",
              "      <th>도시</th>\n",
              "      <th>연도</th>\n",
              "      <th>날씨</th>\n",
              "    </tr>\n",
              "    <tr>\n",
              "      <th>도시</th>\n",
              "      <th></th>\n",
              "      <th></th>\n",
              "      <th></th>\n",
              "    </tr>\n",
              "  </thead>\n",
              "  <tbody>\n",
              "    <tr>\n",
              "      <th>a</th>\n",
              "      <td>서울</td>\n",
              "      <td>2017</td>\n",
              "      <td>18</td>\n",
              "    </tr>\n",
              "    <tr>\n",
              "      <th>b</th>\n",
              "      <td>부산</td>\n",
              "      <td>2017</td>\n",
              "      <td>20</td>\n",
              "    </tr>\n",
              "    <tr>\n",
              "      <th>c</th>\n",
              "      <td>대전</td>\n",
              "      <td>2018</td>\n",
              "      <td>19</td>\n",
              "    </tr>\n",
              "    <tr>\n",
              "      <th>d</th>\n",
              "      <td>대구</td>\n",
              "      <td>2018</td>\n",
              "      <td>21</td>\n",
              "    </tr>\n",
              "    <tr>\n",
              "      <th>e</th>\n",
              "      <td>광주</td>\n",
              "      <td>2018</td>\n",
              "      <td>20</td>\n",
              "    </tr>\n",
              "  </tbody>\n",
              "</table>\n",
              "</div>"
            ],
            "text/plain": [
              "특징  도시    연도  날씨\n",
              "도시              \n",
              "a   서울  2017  18\n",
              "b   부산  2017  20\n",
              "c   대전  2018  19\n",
              "d   대구  2018  21\n",
              "e   광주  2018  20"
            ]
          },
          "metadata": {
            "tags": []
          },
          "execution_count": 21
        }
      ]
    },
    {
      "cell_type": "code",
      "metadata": {
        "colab": {
          "base_uri": "https://localhost:8080/",
          "height": 232
        },
        "id": "7-4I1PikPW93",
        "outputId": "090d4d8f-2452-4ae0-94ae-9b90e96cffd5"
      },
      "source": [
        "##판다스 요약 3회차\n",
        "\n",
        "dic = {'city': ['서울', '부산', '대전', '대구', '광주'],\n",
        "        'year': [2017, 2017, 2018, 2018, 2018],\n",
        "        'temp': [18, 20, 19, 21, 20]}\n",
        "\n",
        "#'year', 'city', 'temp'를 가지고 데이터 프레임 만들어라\n",
        "df = pd.DataFrame( dic )\n",
        "df\n",
        "\n",
        "# index -> 'a','b','c','d','e' 인덱스에 이름 추가하라는 이야기\n",
        "df.index = [ 'a','b','c','d','e' ]\n",
        "df\n",
        "\n",
        "# columns -> '도시','연도','날씨' 열 부분에 추가하라는 거~\n",
        "df.columns = [ '도시','연도','날씨' ]\n",
        "df\n",
        "\n",
        "# index -> '도시'\n",
        "#f.columns.name = '특성'\n",
        "df.index.name = '도시'\n",
        "df\n",
        "df.columns.name = '특성'\n",
        "df"
      ],
      "execution_count": null,
      "outputs": [
        {
          "output_type": "execute_result",
          "data": {
            "text/html": [
              "<div>\n",
              "<style scoped>\n",
              "    .dataframe tbody tr th:only-of-type {\n",
              "        vertical-align: middle;\n",
              "    }\n",
              "\n",
              "    .dataframe tbody tr th {\n",
              "        vertical-align: top;\n",
              "    }\n",
              "\n",
              "    .dataframe thead th {\n",
              "        text-align: right;\n",
              "    }\n",
              "</style>\n",
              "<table border=\"1\" class=\"dataframe\">\n",
              "  <thead>\n",
              "    <tr style=\"text-align: right;\">\n",
              "      <th>특성</th>\n",
              "      <th>도시</th>\n",
              "      <th>연도</th>\n",
              "      <th>날씨</th>\n",
              "    </tr>\n",
              "    <tr>\n",
              "      <th>도시</th>\n",
              "      <th></th>\n",
              "      <th></th>\n",
              "      <th></th>\n",
              "    </tr>\n",
              "  </thead>\n",
              "  <tbody>\n",
              "    <tr>\n",
              "      <th>a</th>\n",
              "      <td>서울</td>\n",
              "      <td>2017</td>\n",
              "      <td>18</td>\n",
              "    </tr>\n",
              "    <tr>\n",
              "      <th>b</th>\n",
              "      <td>부산</td>\n",
              "      <td>2017</td>\n",
              "      <td>20</td>\n",
              "    </tr>\n",
              "    <tr>\n",
              "      <th>c</th>\n",
              "      <td>대전</td>\n",
              "      <td>2018</td>\n",
              "      <td>19</td>\n",
              "    </tr>\n",
              "    <tr>\n",
              "      <th>d</th>\n",
              "      <td>대구</td>\n",
              "      <td>2018</td>\n",
              "      <td>21</td>\n",
              "    </tr>\n",
              "    <tr>\n",
              "      <th>e</th>\n",
              "      <td>광주</td>\n",
              "      <td>2018</td>\n",
              "      <td>20</td>\n",
              "    </tr>\n",
              "  </tbody>\n",
              "</table>\n",
              "</div>"
            ],
            "text/plain": [
              "특성  도시    연도  날씨\n",
              "도시              \n",
              "a   서울  2017  18\n",
              "b   부산  2017  20\n",
              "c   대전  2018  19\n",
              "d   대구  2018  21\n",
              "e   광주  2018  20"
            ]
          },
          "metadata": {
            "tags": []
          },
          "execution_count": 8
        }
      ]
    },
    {
      "cell_type": "code",
      "metadata": {
        "colab": {
          "base_uri": "https://localhost:8080/",
          "height": 234
        },
        "id": "HCWAMtqKeitO",
        "outputId": "60cd8ae4-cf48-4248-b667-81f4fbf9def4"
      },
      "source": [
        "##판다스 요약 2회차\n",
        "\n",
        "dic = {'city': ['서울', '부산', '대전', '대구', '광주'],\n",
        "        'year': [2017, 2017, 2018, 2018, 2018],\n",
        "        'temp': [18, 20, 19, 21, 20]}\n",
        "\n",
        "#'year', 'city', 'temp'를 가지고 데이터 프레임 만들어라\n",
        "df = pd.DataFrame( dic )\n",
        "df\n",
        "\n",
        "# index -> 'a','b','c','d','e' 인덱스에 이름 추가하라는 이야기\n",
        "df.index = ['a','b','c','d','e']\n",
        "df\n",
        "\n",
        "# columns -> '도시','연도','날씨' 열 부분에 추가하라는 거~\n",
        "df.columns = ['도시','연도','날씨']\n",
        "df\n",
        "\n",
        "# index -> '도시'\n",
        "#f.columns.name = '특성'\n",
        "df.index.name = '도시' #이거 리스트로 채워넣으면 Index.name must be a hashable type 이런 오류 뜸. 바른님이 풀어주신 거!!\n",
        "df"
      ],
      "execution_count": null,
      "outputs": [
        {
          "output_type": "execute_result",
          "data": {
            "text/html": [
              "<div>\n",
              "<style scoped>\n",
              "    .dataframe tbody tr th:only-of-type {\n",
              "        vertical-align: middle;\n",
              "    }\n",
              "\n",
              "    .dataframe tbody tr th {\n",
              "        vertical-align: top;\n",
              "    }\n",
              "\n",
              "    .dataframe thead th {\n",
              "        text-align: right;\n",
              "    }\n",
              "</style>\n",
              "<table border=\"1\" class=\"dataframe\">\n",
              "  <thead>\n",
              "    <tr style=\"text-align: right;\">\n",
              "      <th></th>\n",
              "      <th>도시</th>\n",
              "      <th>연도</th>\n",
              "      <th>날씨</th>\n",
              "    </tr>\n",
              "    <tr>\n",
              "      <th>도시</th>\n",
              "      <th></th>\n",
              "      <th></th>\n",
              "      <th></th>\n",
              "    </tr>\n",
              "  </thead>\n",
              "  <tbody>\n",
              "    <tr>\n",
              "      <th>a</th>\n",
              "      <td>서울</td>\n",
              "      <td>2017</td>\n",
              "      <td>18</td>\n",
              "    </tr>\n",
              "    <tr>\n",
              "      <th>b</th>\n",
              "      <td>부산</td>\n",
              "      <td>2017</td>\n",
              "      <td>20</td>\n",
              "    </tr>\n",
              "    <tr>\n",
              "      <th>c</th>\n",
              "      <td>대전</td>\n",
              "      <td>2018</td>\n",
              "      <td>19</td>\n",
              "    </tr>\n",
              "    <tr>\n",
              "      <th>d</th>\n",
              "      <td>대구</td>\n",
              "      <td>2018</td>\n",
              "      <td>21</td>\n",
              "    </tr>\n",
              "    <tr>\n",
              "      <th>e</th>\n",
              "      <td>광주</td>\n",
              "      <td>2018</td>\n",
              "      <td>20</td>\n",
              "    </tr>\n",
              "  </tbody>\n",
              "</table>\n",
              "</div>"
            ],
            "text/plain": [
              "    도시    연도  날씨\n",
              "도시              \n",
              "a   서울  2017  18\n",
              "b   부산  2017  20\n",
              "c   대전  2018  19\n",
              "d   대구  2018  21\n",
              "e   광주  2018  20"
            ]
          },
          "metadata": {
            "tags": []
          },
          "execution_count": 8
        }
      ]
    },
    {
      "cell_type": "code",
      "metadata": {
        "id": "h6LdADOf82-n"
      },
      "source": [
        "dic = {'city': ['서울', '부산', '대전', '대구', '광주'],\n",
        "        'year': [2017, 2017, 2018, 2018, 2018],\n",
        "        'temp': [18, 20, 19, 21, 20]}\n"
      ],
      "execution_count": null,
      "outputs": []
    },
    {
      "cell_type": "code",
      "metadata": {
        "id": "x7A1CnxE82-v",
        "colab": {
          "base_uri": "https://localhost:8080/",
          "height": 204
        },
        "outputId": "756bbcd7-3ee3-4896-f92f-9018555d3d7b"
      },
      "source": [
        "#'year', 'city', 'temp'를 가지고 데이터 프레임 만들어라\n",
        "\n",
        "df = pd.DataFrame( dic )\n",
        "df"
      ],
      "execution_count": null,
      "outputs": [
        {
          "output_type": "execute_result",
          "data": {
            "text/html": [
              "<div>\n",
              "<style scoped>\n",
              "    .dataframe tbody tr th:only-of-type {\n",
              "        vertical-align: middle;\n",
              "    }\n",
              "\n",
              "    .dataframe tbody tr th {\n",
              "        vertical-align: top;\n",
              "    }\n",
              "\n",
              "    .dataframe thead th {\n",
              "        text-align: right;\n",
              "    }\n",
              "</style>\n",
              "<table border=\"1\" class=\"dataframe\">\n",
              "  <thead>\n",
              "    <tr style=\"text-align: right;\">\n",
              "      <th></th>\n",
              "      <th>city</th>\n",
              "      <th>year</th>\n",
              "      <th>temp</th>\n",
              "    </tr>\n",
              "  </thead>\n",
              "  <tbody>\n",
              "    <tr>\n",
              "      <th>0</th>\n",
              "      <td>서울</td>\n",
              "      <td>2017</td>\n",
              "      <td>18</td>\n",
              "    </tr>\n",
              "    <tr>\n",
              "      <th>1</th>\n",
              "      <td>부산</td>\n",
              "      <td>2017</td>\n",
              "      <td>20</td>\n",
              "    </tr>\n",
              "    <tr>\n",
              "      <th>2</th>\n",
              "      <td>대전</td>\n",
              "      <td>2018</td>\n",
              "      <td>19</td>\n",
              "    </tr>\n",
              "    <tr>\n",
              "      <th>3</th>\n",
              "      <td>대구</td>\n",
              "      <td>2018</td>\n",
              "      <td>21</td>\n",
              "    </tr>\n",
              "    <tr>\n",
              "      <th>4</th>\n",
              "      <td>광주</td>\n",
              "      <td>2018</td>\n",
              "      <td>20</td>\n",
              "    </tr>\n",
              "  </tbody>\n",
              "</table>\n",
              "</div>"
            ],
            "text/plain": [
              "  city  year  temp\n",
              "0   서울  2017    18\n",
              "1   부산  2017    20\n",
              "2   대전  2018    19\n",
              "3   대구  2018    21\n",
              "4   광주  2018    20"
            ]
          },
          "metadata": {
            "tags": []
          },
          "execution_count": 85
        }
      ]
    },
    {
      "cell_type": "code",
      "metadata": {
        "id": "mAfSb4Ul82-z",
        "colab": {
          "base_uri": "https://localhost:8080/",
          "height": 204
        },
        "outputId": "be07ebc3-1fac-48c3-b8b8-d9b482ca5841"
      },
      "source": [
        "# index -> 'a','b','c','d','e' 인덱스에 이름 추가하라는 이야기\n",
        "ind = ['a','b','c','d','e']\n",
        "\n",
        "df.index = ind\n",
        "df"
      ],
      "execution_count": null,
      "outputs": [
        {
          "output_type": "execute_result",
          "data": {
            "text/html": [
              "<div>\n",
              "<style scoped>\n",
              "    .dataframe tbody tr th:only-of-type {\n",
              "        vertical-align: middle;\n",
              "    }\n",
              "\n",
              "    .dataframe tbody tr th {\n",
              "        vertical-align: top;\n",
              "    }\n",
              "\n",
              "    .dataframe thead th {\n",
              "        text-align: right;\n",
              "    }\n",
              "</style>\n",
              "<table border=\"1\" class=\"dataframe\">\n",
              "  <thead>\n",
              "    <tr style=\"text-align: right;\">\n",
              "      <th></th>\n",
              "      <th>city</th>\n",
              "      <th>year</th>\n",
              "      <th>temp</th>\n",
              "    </tr>\n",
              "  </thead>\n",
              "  <tbody>\n",
              "    <tr>\n",
              "      <th>a</th>\n",
              "      <td>서울</td>\n",
              "      <td>2017</td>\n",
              "      <td>18</td>\n",
              "    </tr>\n",
              "    <tr>\n",
              "      <th>b</th>\n",
              "      <td>부산</td>\n",
              "      <td>2017</td>\n",
              "      <td>20</td>\n",
              "    </tr>\n",
              "    <tr>\n",
              "      <th>c</th>\n",
              "      <td>대전</td>\n",
              "      <td>2018</td>\n",
              "      <td>19</td>\n",
              "    </tr>\n",
              "    <tr>\n",
              "      <th>d</th>\n",
              "      <td>대구</td>\n",
              "      <td>2018</td>\n",
              "      <td>21</td>\n",
              "    </tr>\n",
              "    <tr>\n",
              "      <th>e</th>\n",
              "      <td>광주</td>\n",
              "      <td>2018</td>\n",
              "      <td>20</td>\n",
              "    </tr>\n",
              "  </tbody>\n",
              "</table>\n",
              "</div>"
            ],
            "text/plain": [
              "  city  year  temp\n",
              "a   서울  2017    18\n",
              "b   부산  2017    20\n",
              "c   대전  2018    19\n",
              "d   대구  2018    21\n",
              "e   광주  2018    20"
            ]
          },
          "metadata": {
            "tags": []
          },
          "execution_count": 87
        }
      ]
    },
    {
      "cell_type": "code",
      "metadata": {
        "id": "Xagl254982-4",
        "colab": {
          "base_uri": "https://localhost:8080/",
          "height": 204
        },
        "outputId": "1355f56c-06df-42de-8966-b7af41643508"
      },
      "source": [
        "# columns -> '도시','연도','날씨' 열 부분에 추가하라는 거~\n",
        "col = ['도시','연도','날씨']\n",
        "df.columns = col\n",
        "df"
      ],
      "execution_count": null,
      "outputs": [
        {
          "output_type": "execute_result",
          "data": {
            "text/html": [
              "<div>\n",
              "<style scoped>\n",
              "    .dataframe tbody tr th:only-of-type {\n",
              "        vertical-align: middle;\n",
              "    }\n",
              "\n",
              "    .dataframe tbody tr th {\n",
              "        vertical-align: top;\n",
              "    }\n",
              "\n",
              "    .dataframe thead th {\n",
              "        text-align: right;\n",
              "    }\n",
              "</style>\n",
              "<table border=\"1\" class=\"dataframe\">\n",
              "  <thead>\n",
              "    <tr style=\"text-align: right;\">\n",
              "      <th></th>\n",
              "      <th>도시</th>\n",
              "      <th>연도</th>\n",
              "      <th>날씨</th>\n",
              "    </tr>\n",
              "  </thead>\n",
              "  <tbody>\n",
              "    <tr>\n",
              "      <th>a</th>\n",
              "      <td>서울</td>\n",
              "      <td>2017</td>\n",
              "      <td>18</td>\n",
              "    </tr>\n",
              "    <tr>\n",
              "      <th>b</th>\n",
              "      <td>부산</td>\n",
              "      <td>2017</td>\n",
              "      <td>20</td>\n",
              "    </tr>\n",
              "    <tr>\n",
              "      <th>c</th>\n",
              "      <td>대전</td>\n",
              "      <td>2018</td>\n",
              "      <td>19</td>\n",
              "    </tr>\n",
              "    <tr>\n",
              "      <th>d</th>\n",
              "      <td>대구</td>\n",
              "      <td>2018</td>\n",
              "      <td>21</td>\n",
              "    </tr>\n",
              "    <tr>\n",
              "      <th>e</th>\n",
              "      <td>광주</td>\n",
              "      <td>2018</td>\n",
              "      <td>20</td>\n",
              "    </tr>\n",
              "  </tbody>\n",
              "</table>\n",
              "</div>"
            ],
            "text/plain": [
              "   도시    연도  날씨\n",
              "a  서울  2017  18\n",
              "b  부산  2017  20\n",
              "c  대전  2018  19\n",
              "d  대구  2018  21\n",
              "e  광주  2018  20"
            ]
          },
          "metadata": {
            "tags": []
          },
          "execution_count": 88
        }
      ]
    },
    {
      "cell_type": "code",
      "metadata": {
        "id": "J05EE-Wd82-9",
        "colab": {
          "base_uri": "https://localhost:8080/",
          "height": 134
        },
        "outputId": "d6a4bff1-e89a-4879-e966-ad0f4246dea5"
      },
      "source": [
        "# index -> '도시'\n",
        "## 여기 모르겠다. 질문해야할 부분\n",
        "\n",
        "df[index_col='도시']\n",
        "df"
      ],
      "execution_count": null,
      "outputs": [
        {
          "output_type": "error",
          "ename": "SyntaxError",
          "evalue": "ignored",
          "traceback": [
            "\u001b[0;36m  File \u001b[0;32m\"<ipython-input-90-bf3698556886>\"\u001b[0;36m, line \u001b[0;32m4\u001b[0m\n\u001b[0;31m    df[index_col='도시']\u001b[0m\n\u001b[0m                ^\u001b[0m\n\u001b[0;31mSyntaxError\u001b[0m\u001b[0;31m:\u001b[0m invalid syntax\n"
          ]
        }
      ]
    },
    {
      "cell_type": "code",
      "metadata": {
        "id": "ATaBZSm8D_J5"
      },
      "source": [
        ""
      ],
      "execution_count": null,
      "outputs": []
    },
    {
      "cell_type": "markdown",
      "metadata": {
        "id": "a6qgmpbi82_1"
      },
      "source": [
        "### 람다 함수"
      ]
    },
    {
      "cell_type": "code",
      "metadata": {
        "colab": {
          "base_uri": "https://localhost:8080/",
          "height": 173
        },
        "id": "eUZWsh-J82_1",
        "outputId": "a64202e8-e6b1-43be-fb9f-22f501d0768f"
      },
      "source": [
        "f = lambda x: x.max() - x.min()\n",
        "\n",
        "df = pd.DataFrame(np.arange(12).reshape(4, 3), \n",
        "                  columns=['A', 'B', 'C'], index=['a', 'b', 'c', 'd'])\n",
        "df"
      ],
      "execution_count": null,
      "outputs": [
        {
          "output_type": "execute_result",
          "data": {
            "text/html": [
              "<div>\n",
              "<style scoped>\n",
              "    .dataframe tbody tr th:only-of-type {\n",
              "        vertical-align: middle;\n",
              "    }\n",
              "\n",
              "    .dataframe tbody tr th {\n",
              "        vertical-align: top;\n",
              "    }\n",
              "\n",
              "    .dataframe thead th {\n",
              "        text-align: right;\n",
              "    }\n",
              "</style>\n",
              "<table border=\"1\" class=\"dataframe\">\n",
              "  <thead>\n",
              "    <tr style=\"text-align: right;\">\n",
              "      <th></th>\n",
              "      <th>A</th>\n",
              "      <th>B</th>\n",
              "      <th>C</th>\n",
              "    </tr>\n",
              "  </thead>\n",
              "  <tbody>\n",
              "    <tr>\n",
              "      <th>a</th>\n",
              "      <td>0</td>\n",
              "      <td>1</td>\n",
              "      <td>2</td>\n",
              "    </tr>\n",
              "    <tr>\n",
              "      <th>b</th>\n",
              "      <td>3</td>\n",
              "      <td>4</td>\n",
              "      <td>5</td>\n",
              "    </tr>\n",
              "    <tr>\n",
              "      <th>c</th>\n",
              "      <td>6</td>\n",
              "      <td>7</td>\n",
              "      <td>8</td>\n",
              "    </tr>\n",
              "    <tr>\n",
              "      <th>d</th>\n",
              "      <td>9</td>\n",
              "      <td>10</td>\n",
              "      <td>11</td>\n",
              "    </tr>\n",
              "  </tbody>\n",
              "</table>\n",
              "</div>"
            ],
            "text/plain": [
              "   A   B   C\n",
              "a  0   1   2\n",
              "b  3   4   5\n",
              "c  6   7   8\n",
              "d  9  10  11"
            ]
          },
          "metadata": {
            "tags": []
          },
          "execution_count": 250
        }
      ]
    },
    {
      "cell_type": "markdown",
      "metadata": {
        "id": "KFjsW44p82_-"
      },
      "source": [
        "### Series"
      ]
    },
    {
      "cell_type": "code",
      "metadata": {
        "colab": {
          "base_uri": "https://localhost:8080/"
        },
        "id": "Xz2_joUI82_-",
        "outputId": "ea2d9ee9-5795-489e-f8fc-73970c95ec98"
      },
      "source": [
        "# 파이썬 기본 타입인  딕셔너리로부터 시리즈를 만들 수 있다\n",
        "dic = {'서울':800, '부산':150, '대구': 100}\n",
        "dic"
      ],
      "execution_count": null,
      "outputs": [
        {
          "output_type": "execute_result",
          "data": {
            "text/plain": [
              "{'대구': 100, '부산': 150, '서울': 800}"
            ]
          },
          "metadata": {
            "tags": []
          },
          "execution_count": 252
        }
      ]
    },
    {
      "cell_type": "markdown",
      "metadata": {
        "id": "D3gEBrkiYnFx"
      },
      "source": [
        "##데이터 프레임 응용"
      ]
    },
    {
      "cell_type": "code",
      "metadata": {
        "id": "pFpk-M2HYpNE"
      },
      "source": [
        ""
      ],
      "execution_count": null,
      "outputs": []
    },
    {
      "cell_type": "markdown",
      "metadata": {
        "id": "tfxAL57T7YYS"
      },
      "source": [
        "### 데이터 프레임 열 재구성 (열 순서 변경)"
      ]
    },
    {
      "cell_type": "code",
      "metadata": {
        "colab": {
          "base_uri": "https://localhost:8080/",
          "height": 203
        },
        "id": "0ksXZJZ9YukU",
        "outputId": "19bc0cdd-25e7-4b50-f3d4-a8460ad85d12"
      },
      "source": [
        "#데이터 프레임 순서 바꾸기. 출력되는 열의 순서를 바꾸고 싶을 때! 열의 순서를 재구성하고 싶을 때!\n",
        "#이거 복습 좀 해야겠다 ㅋㅋ 뭔 개소린지 모르겠네!\n",
        "import seaborn as sns\n",
        "\n",
        "df = sns.load_dataset( 'titanic' )\n",
        "df.head(3)\n",
        "\n",
        "#df.loc[0:4, ] #왜 0부터 4가 되냐면, 인덱스 이름이 0~4라서 그래. 그러니까. 서울 부산 이런 것처럼 걍 0 4 이런 거라서 그럼. 이상 이하 그런 게 아니고. \n",
        "\n",
        "df = df.loc[0:4, 'survived':'age']\n",
        "\n",
        "columns = list(df.columns.values) #이렇게 하면 열들의 이름이 리스트로 바뀜. 세팅되어있는 값을 리스트로 가져오고 싶을 때\n",
        "\n",
        "#컬럼을 sort하고 싶다면?\n",
        "col_sorted = sorted(columns)\n",
        "df[ col_sorted ]\n",
        "\n",
        "#이걸 뒤집고 싶다면?\n",
        "df[ reversed(col_sorted) ]"
      ],
      "execution_count": null,
      "outputs": [
        {
          "output_type": "execute_result",
          "data": {
            "text/html": [
              "<div>\n",
              "<style scoped>\n",
              "    .dataframe tbody tr th:only-of-type {\n",
              "        vertical-align: middle;\n",
              "    }\n",
              "\n",
              "    .dataframe tbody tr th {\n",
              "        vertical-align: top;\n",
              "    }\n",
              "\n",
              "    .dataframe thead th {\n",
              "        text-align: right;\n",
              "    }\n",
              "</style>\n",
              "<table border=\"1\" class=\"dataframe\">\n",
              "  <thead>\n",
              "    <tr style=\"text-align: right;\">\n",
              "      <th></th>\n",
              "      <th>survived</th>\n",
              "      <th>sex</th>\n",
              "      <th>pclass</th>\n",
              "      <th>age</th>\n",
              "    </tr>\n",
              "  </thead>\n",
              "  <tbody>\n",
              "    <tr>\n",
              "      <th>0</th>\n",
              "      <td>0</td>\n",
              "      <td>male</td>\n",
              "      <td>3</td>\n",
              "      <td>22.0</td>\n",
              "    </tr>\n",
              "    <tr>\n",
              "      <th>1</th>\n",
              "      <td>1</td>\n",
              "      <td>female</td>\n",
              "      <td>1</td>\n",
              "      <td>38.0</td>\n",
              "    </tr>\n",
              "    <tr>\n",
              "      <th>2</th>\n",
              "      <td>1</td>\n",
              "      <td>female</td>\n",
              "      <td>3</td>\n",
              "      <td>26.0</td>\n",
              "    </tr>\n",
              "    <tr>\n",
              "      <th>3</th>\n",
              "      <td>1</td>\n",
              "      <td>female</td>\n",
              "      <td>1</td>\n",
              "      <td>35.0</td>\n",
              "    </tr>\n",
              "    <tr>\n",
              "      <th>4</th>\n",
              "      <td>0</td>\n",
              "      <td>male</td>\n",
              "      <td>3</td>\n",
              "      <td>35.0</td>\n",
              "    </tr>\n",
              "  </tbody>\n",
              "</table>\n",
              "</div>"
            ],
            "text/plain": [
              "   survived     sex  pclass   age\n",
              "0         0    male       3  22.0\n",
              "1         1  female       1  38.0\n",
              "2         1  female       3  26.0\n",
              "3         1  female       1  35.0\n",
              "4         0    male       3  35.0"
            ]
          },
          "metadata": {
            "tags": []
          },
          "execution_count": 9
        }
      ]
    },
    {
      "cell_type": "code",
      "metadata": {
        "colab": {
          "base_uri": "https://localhost:8080/",
          "height": 665
        },
        "id": "zihNqRw7EPMp",
        "outputId": "4bbd5a21-3012-41c8-927c-2422259c2e47"
      },
      "source": [
        "df = pd.read_excel(drive_path + '주가데이터.xlsx')\n",
        "df"
      ],
      "execution_count": null,
      "outputs": [
        {
          "output_type": "execute_result",
          "data": {
            "text/html": [
              "<div>\n",
              "<style scoped>\n",
              "    .dataframe tbody tr th:only-of-type {\n",
              "        vertical-align: middle;\n",
              "    }\n",
              "\n",
              "    .dataframe tbody tr th {\n",
              "        vertical-align: top;\n",
              "    }\n",
              "\n",
              "    .dataframe thead th {\n",
              "        text-align: right;\n",
              "    }\n",
              "</style>\n",
              "<table border=\"1\" class=\"dataframe\">\n",
              "  <thead>\n",
              "    <tr style=\"text-align: right;\">\n",
              "      <th></th>\n",
              "      <th>연월일</th>\n",
              "      <th>당일종가</th>\n",
              "      <th>전일종가</th>\n",
              "      <th>시가</th>\n",
              "      <th>고가</th>\n",
              "      <th>저가</th>\n",
              "      <th>거래량</th>\n",
              "    </tr>\n",
              "  </thead>\n",
              "  <tbody>\n",
              "    <tr>\n",
              "      <th>0</th>\n",
              "      <td>2018-07-02</td>\n",
              "      <td>10100</td>\n",
              "      <td>600</td>\n",
              "      <td>10850</td>\n",
              "      <td>10900</td>\n",
              "      <td>10000</td>\n",
              "      <td>137977</td>\n",
              "    </tr>\n",
              "    <tr>\n",
              "      <th>1</th>\n",
              "      <td>2018-06-29</td>\n",
              "      <td>10700</td>\n",
              "      <td>300</td>\n",
              "      <td>10550</td>\n",
              "      <td>10900</td>\n",
              "      <td>9990</td>\n",
              "      <td>170253</td>\n",
              "    </tr>\n",
              "    <tr>\n",
              "      <th>2</th>\n",
              "      <td>2018-06-28</td>\n",
              "      <td>10400</td>\n",
              "      <td>500</td>\n",
              "      <td>10900</td>\n",
              "      <td>10950</td>\n",
              "      <td>10150</td>\n",
              "      <td>155769</td>\n",
              "    </tr>\n",
              "    <tr>\n",
              "      <th>3</th>\n",
              "      <td>2018-06-27</td>\n",
              "      <td>10900</td>\n",
              "      <td>100</td>\n",
              "      <td>10800</td>\n",
              "      <td>11050</td>\n",
              "      <td>10500</td>\n",
              "      <td>133548</td>\n",
              "    </tr>\n",
              "    <tr>\n",
              "      <th>4</th>\n",
              "      <td>2018-06-26</td>\n",
              "      <td>10800</td>\n",
              "      <td>350</td>\n",
              "      <td>10900</td>\n",
              "      <td>11000</td>\n",
              "      <td>10700</td>\n",
              "      <td>63039</td>\n",
              "    </tr>\n",
              "    <tr>\n",
              "      <th>5</th>\n",
              "      <td>2018-06-25</td>\n",
              "      <td>11150</td>\n",
              "      <td>150</td>\n",
              "      <td>11400</td>\n",
              "      <td>11450</td>\n",
              "      <td>11000</td>\n",
              "      <td>55519</td>\n",
              "    </tr>\n",
              "    <tr>\n",
              "      <th>6</th>\n",
              "      <td>2018-06-22</td>\n",
              "      <td>11300</td>\n",
              "      <td>100</td>\n",
              "      <td>11250</td>\n",
              "      <td>11450</td>\n",
              "      <td>10750</td>\n",
              "      <td>134805</td>\n",
              "    </tr>\n",
              "    <tr>\n",
              "      <th>7</th>\n",
              "      <td>2018-06-21</td>\n",
              "      <td>11200</td>\n",
              "      <td>350</td>\n",
              "      <td>11350</td>\n",
              "      <td>11750</td>\n",
              "      <td>11200</td>\n",
              "      <td>133002</td>\n",
              "    </tr>\n",
              "    <tr>\n",
              "      <th>8</th>\n",
              "      <td>2018-06-20</td>\n",
              "      <td>11550</td>\n",
              "      <td>250</td>\n",
              "      <td>11200</td>\n",
              "      <td>11600</td>\n",
              "      <td>10900</td>\n",
              "      <td>308596</td>\n",
              "    </tr>\n",
              "    <tr>\n",
              "      <th>9</th>\n",
              "      <td>2018-06-19</td>\n",
              "      <td>11300</td>\n",
              "      <td>700</td>\n",
              "      <td>11850</td>\n",
              "      <td>11950</td>\n",
              "      <td>11300</td>\n",
              "      <td>180656</td>\n",
              "    </tr>\n",
              "    <tr>\n",
              "      <th>10</th>\n",
              "      <td>2018-06-18</td>\n",
              "      <td>12000</td>\n",
              "      <td>1400</td>\n",
              "      <td>13400</td>\n",
              "      <td>13400</td>\n",
              "      <td>12000</td>\n",
              "      <td>309787</td>\n",
              "    </tr>\n",
              "    <tr>\n",
              "      <th>11</th>\n",
              "      <td>2018-06-15</td>\n",
              "      <td>13400</td>\n",
              "      <td>50</td>\n",
              "      <td>13600</td>\n",
              "      <td>13600</td>\n",
              "      <td>12900</td>\n",
              "      <td>201376</td>\n",
              "    </tr>\n",
              "    <tr>\n",
              "      <th>12</th>\n",
              "      <td>2018-06-14</td>\n",
              "      <td>13450</td>\n",
              "      <td>250</td>\n",
              "      <td>13200</td>\n",
              "      <td>13700</td>\n",
              "      <td>13150</td>\n",
              "      <td>347451</td>\n",
              "    </tr>\n",
              "    <tr>\n",
              "      <th>13</th>\n",
              "      <td>2018-06-12</td>\n",
              "      <td>13200</td>\n",
              "      <td>1250</td>\n",
              "      <td>12200</td>\n",
              "      <td>13300</td>\n",
              "      <td>12050</td>\n",
              "      <td>558148</td>\n",
              "    </tr>\n",
              "    <tr>\n",
              "      <th>14</th>\n",
              "      <td>2018-06-11</td>\n",
              "      <td>11950</td>\n",
              "      <td>0</td>\n",
              "      <td>12000</td>\n",
              "      <td>12250</td>\n",
              "      <td>11950</td>\n",
              "      <td>62293</td>\n",
              "    </tr>\n",
              "    <tr>\n",
              "      <th>15</th>\n",
              "      <td>2018-06-08</td>\n",
              "      <td>11950</td>\n",
              "      <td>0</td>\n",
              "      <td>11950</td>\n",
              "      <td>12200</td>\n",
              "      <td>11800</td>\n",
              "      <td>59258</td>\n",
              "    </tr>\n",
              "    <tr>\n",
              "      <th>16</th>\n",
              "      <td>2018-06-07</td>\n",
              "      <td>11950</td>\n",
              "      <td>200</td>\n",
              "      <td>12200</td>\n",
              "      <td>12300</td>\n",
              "      <td>11900</td>\n",
              "      <td>49088</td>\n",
              "    </tr>\n",
              "    <tr>\n",
              "      <th>17</th>\n",
              "      <td>2018-06-05</td>\n",
              "      <td>12150</td>\n",
              "      <td>250</td>\n",
              "      <td>11800</td>\n",
              "      <td>12250</td>\n",
              "      <td>11800</td>\n",
              "      <td>42485</td>\n",
              "    </tr>\n",
              "    <tr>\n",
              "      <th>18</th>\n",
              "      <td>2018-06-04</td>\n",
              "      <td>11900</td>\n",
              "      <td>0</td>\n",
              "      <td>11900</td>\n",
              "      <td>12200</td>\n",
              "      <td>11700</td>\n",
              "      <td>25171</td>\n",
              "    </tr>\n",
              "    <tr>\n",
              "      <th>19</th>\n",
              "      <td>2018-06-01</td>\n",
              "      <td>11900</td>\n",
              "      <td>100</td>\n",
              "      <td>11800</td>\n",
              "      <td>12100</td>\n",
              "      <td>11750</td>\n",
              "      <td>32062</td>\n",
              "    </tr>\n",
              "  </tbody>\n",
              "</table>\n",
              "</div>"
            ],
            "text/plain": [
              "          연월일   당일종가  전일종가     시가     고가     저가     거래량\n",
              "0  2018-07-02  10100   600  10850  10900  10000  137977\n",
              "1  2018-06-29  10700   300  10550  10900   9990  170253\n",
              "2  2018-06-28  10400   500  10900  10950  10150  155769\n",
              "3  2018-06-27  10900   100  10800  11050  10500  133548\n",
              "4  2018-06-26  10800   350  10900  11000  10700   63039\n",
              "5  2018-06-25  11150   150  11400  11450  11000   55519\n",
              "6  2018-06-22  11300   100  11250  11450  10750  134805\n",
              "7  2018-06-21  11200   350  11350  11750  11200  133002\n",
              "8  2018-06-20  11550   250  11200  11600  10900  308596\n",
              "9  2018-06-19  11300   700  11850  11950  11300  180656\n",
              "10 2018-06-18  12000  1400  13400  13400  12000  309787\n",
              "11 2018-06-15  13400    50  13600  13600  12900  201376\n",
              "12 2018-06-14  13450   250  13200  13700  13150  347451\n",
              "13 2018-06-12  13200  1250  12200  13300  12050  558148\n",
              "14 2018-06-11  11950     0  12000  12250  11950   62293\n",
              "15 2018-06-08  11950     0  11950  12200  11800   59258\n",
              "16 2018-06-07  11950   200  12200  12300  11900   49088\n",
              "17 2018-06-05  12150   250  11800  12250  11800   42485\n",
              "18 2018-06-04  11900     0  11900  12200  11700   25171\n",
              "19 2018-06-01  11900   100  11800  12100  11750   32062"
            ]
          },
          "metadata": {
            "tags": []
          },
          "execution_count": 244
        }
      ]
    },
    {
      "cell_type": "code",
      "metadata": {
        "id": "6dXPdDwE7fIo"
      },
      "source": [
        "df['연월일'] #날짜로 분리하면 힘들고, str로 바꿔서 자릿수로 쪼갤 거임.\n",
        "df['연월일'].astype('str')\n",
        "df['연월일'] = df['연월일'].astype('str')\n"
      ],
      "execution_count": null,
      "outputs": []
    },
    {
      "cell_type": "code",
      "metadata": {
        "id": "cNXt0lBG7fL7"
      },
      "source": [
        "df['연월일'].str #이렇게 하면 split 할 수가 있음. str은 split이 가능이니까.\n",
        "dates = df['연월일'].str.split('-') #보통 시계열 데이터 처리할 때 공식처럼 이렇게 많이 사용함. 공식처럼."
      ],
      "execution_count": null,
      "outputs": []
    },
    {
      "cell_type": "code",
      "metadata": {
        "colab": {
          "base_uri": "https://localhost:8080/",
          "height": 203
        },
        "id": "2Utc83qN8wOg",
        "outputId": "968f1236-5802-4a3c-8fce-ba9883fa481e"
      },
      "source": [
        "dates.str.get(0) #0번째 거 갖고 오기\n",
        "df['연'] = dates.str.get(0)\n",
        "df['월'] = dates.str.get(1)\n",
        "df['일'] = dates.str.get(2)\n",
        "\n",
        "df.head() #head() 하면 5개씩 나옴. "
      ],
      "execution_count": null,
      "outputs": [
        {
          "output_type": "execute_result",
          "data": {
            "text/html": [
              "<div>\n",
              "<style scoped>\n",
              "    .dataframe tbody tr th:only-of-type {\n",
              "        vertical-align: middle;\n",
              "    }\n",
              "\n",
              "    .dataframe tbody tr th {\n",
              "        vertical-align: top;\n",
              "    }\n",
              "\n",
              "    .dataframe thead th {\n",
              "        text-align: right;\n",
              "    }\n",
              "</style>\n",
              "<table border=\"1\" class=\"dataframe\">\n",
              "  <thead>\n",
              "    <tr style=\"text-align: right;\">\n",
              "      <th></th>\n",
              "      <th>연월일</th>\n",
              "      <th>당일종가</th>\n",
              "      <th>전일종가</th>\n",
              "      <th>시가</th>\n",
              "      <th>고가</th>\n",
              "      <th>저가</th>\n",
              "      <th>거래량</th>\n",
              "      <th>연</th>\n",
              "      <th>월</th>\n",
              "      <th>일</th>\n",
              "    </tr>\n",
              "  </thead>\n",
              "  <tbody>\n",
              "    <tr>\n",
              "      <th>0</th>\n",
              "      <td>2018-07-02</td>\n",
              "      <td>10100</td>\n",
              "      <td>600</td>\n",
              "      <td>10850</td>\n",
              "      <td>10900</td>\n",
              "      <td>10000</td>\n",
              "      <td>137977</td>\n",
              "      <td>2018</td>\n",
              "      <td>07</td>\n",
              "      <td>02</td>\n",
              "    </tr>\n",
              "    <tr>\n",
              "      <th>1</th>\n",
              "      <td>2018-06-29</td>\n",
              "      <td>10700</td>\n",
              "      <td>300</td>\n",
              "      <td>10550</td>\n",
              "      <td>10900</td>\n",
              "      <td>9990</td>\n",
              "      <td>170253</td>\n",
              "      <td>2018</td>\n",
              "      <td>06</td>\n",
              "      <td>29</td>\n",
              "    </tr>\n",
              "    <tr>\n",
              "      <th>2</th>\n",
              "      <td>2018-06-28</td>\n",
              "      <td>10400</td>\n",
              "      <td>500</td>\n",
              "      <td>10900</td>\n",
              "      <td>10950</td>\n",
              "      <td>10150</td>\n",
              "      <td>155769</td>\n",
              "      <td>2018</td>\n",
              "      <td>06</td>\n",
              "      <td>28</td>\n",
              "    </tr>\n",
              "    <tr>\n",
              "      <th>3</th>\n",
              "      <td>2018-06-27</td>\n",
              "      <td>10900</td>\n",
              "      <td>100</td>\n",
              "      <td>10800</td>\n",
              "      <td>11050</td>\n",
              "      <td>10500</td>\n",
              "      <td>133548</td>\n",
              "      <td>2018</td>\n",
              "      <td>06</td>\n",
              "      <td>27</td>\n",
              "    </tr>\n",
              "    <tr>\n",
              "      <th>4</th>\n",
              "      <td>2018-06-26</td>\n",
              "      <td>10800</td>\n",
              "      <td>350</td>\n",
              "      <td>10900</td>\n",
              "      <td>11000</td>\n",
              "      <td>10700</td>\n",
              "      <td>63039</td>\n",
              "      <td>2018</td>\n",
              "      <td>06</td>\n",
              "      <td>26</td>\n",
              "    </tr>\n",
              "  </tbody>\n",
              "</table>\n",
              "</div>"
            ],
            "text/plain": [
              "          연월일   당일종가  전일종가     시가     고가     저가     거래량     연   월   일\n",
              "0  2018-07-02  10100   600  10850  10900  10000  137977  2018  07  02\n",
              "1  2018-06-29  10700   300  10550  10900   9990  170253  2018  06  29\n",
              "2  2018-06-28  10400   500  10900  10950  10150  155769  2018  06  28\n",
              "3  2018-06-27  10900   100  10800  11050  10500  133548  2018  06  27\n",
              "4  2018-06-26  10800   350  10900  11000  10700   63039  2018  06  26"
            ]
          },
          "metadata": {
            "tags": []
          },
          "execution_count": 258
        }
      ]
    },
    {
      "cell_type": "markdown",
      "metadata": {
        "id": "WxVAkdCp_2NX"
      },
      "source": [
        "### 데이터프레임 합치기\n",
        "\n",
        "* concat(), merge(), join()"
      ]
    },
    {
      "cell_type": "code",
      "metadata": {
        "colab": {
          "base_uri": "https://localhost:8080/"
        },
        "id": "aOZPkdmN8xSG",
        "outputId": "cb43b624-5219-42b8-c8ea-a372179080e5"
      },
      "source": [
        "df1 = pd.DataFrame({'a': ['a0', 'a1', 'a2', 'a3'],\n",
        "                    'b': ['b0', 'b1', 'b2', 'b3'],\n",
        "                    'c': ['c0', 'c1', 'c2', 'c3']},\n",
        "                    index=[0, 1, 2, 3])\n",
        " \n",
        "df2 = pd.DataFrame({'a': ['a2', 'a3', 'a4', 'a5'],\n",
        "                    'b': ['b2', 'b3', 'b4', 'b5'],\n",
        "                    'c': ['c2', 'c3', 'c4', 'c5'],\n",
        "                    'd': ['d2', 'd3', 'd4', 'd5']},\n",
        "                    index=[2, 3, 4, 5])\n",
        "print(df1)"
      ],
      "execution_count": null,
      "outputs": [
        {
          "output_type": "stream",
          "text": [
            "    a   b   c\n",
            "0  a0  b0  c0\n",
            "1  a1  b1  c1\n",
            "2  a2  b2  c2\n",
            "3  a3  b3  c3\n"
          ],
          "name": "stdout"
        }
      ]
    },
    {
      "cell_type": "code",
      "metadata": {
        "colab": {
          "base_uri": "https://localhost:8080/",
          "height": 295
        },
        "id": "9TJ9e-5X8xeb",
        "outputId": "43860662-dafc-471f-e114-b1e9b8d0f0e9"
      },
      "source": [
        "#어떻게 합치냐면, 위 아래로 합칠 때. 행방향으로 합칠 때. 축이 0일 때!\n",
        "\n",
        "pd.concat( [df1, df2] ) #하나만 합치는 게 아니라 여러개 합치기도 가능. 데이터프레임 목록을 리스트로 넣어주면 전체를 합쳐줌"
      ],
      "execution_count": null,
      "outputs": [
        {
          "output_type": "execute_result",
          "data": {
            "text/html": [
              "<div>\n",
              "<style scoped>\n",
              "    .dataframe tbody tr th:only-of-type {\n",
              "        vertical-align: middle;\n",
              "    }\n",
              "\n",
              "    .dataframe tbody tr th {\n",
              "        vertical-align: top;\n",
              "    }\n",
              "\n",
              "    .dataframe thead th {\n",
              "        text-align: right;\n",
              "    }\n",
              "</style>\n",
              "<table border=\"1\" class=\"dataframe\">\n",
              "  <thead>\n",
              "    <tr style=\"text-align: right;\">\n",
              "      <th></th>\n",
              "      <th>a</th>\n",
              "      <th>b</th>\n",
              "      <th>c</th>\n",
              "      <th>d</th>\n",
              "    </tr>\n",
              "  </thead>\n",
              "  <tbody>\n",
              "    <tr>\n",
              "      <th>0</th>\n",
              "      <td>a0</td>\n",
              "      <td>b0</td>\n",
              "      <td>c0</td>\n",
              "      <td>NaN</td>\n",
              "    </tr>\n",
              "    <tr>\n",
              "      <th>1</th>\n",
              "      <td>a1</td>\n",
              "      <td>b1</td>\n",
              "      <td>c1</td>\n",
              "      <td>NaN</td>\n",
              "    </tr>\n",
              "    <tr>\n",
              "      <th>2</th>\n",
              "      <td>a2</td>\n",
              "      <td>b2</td>\n",
              "      <td>c2</td>\n",
              "      <td>NaN</td>\n",
              "    </tr>\n",
              "    <tr>\n",
              "      <th>3</th>\n",
              "      <td>a3</td>\n",
              "      <td>b3</td>\n",
              "      <td>c3</td>\n",
              "      <td>NaN</td>\n",
              "    </tr>\n",
              "    <tr>\n",
              "      <th>2</th>\n",
              "      <td>a2</td>\n",
              "      <td>b2</td>\n",
              "      <td>c2</td>\n",
              "      <td>d2</td>\n",
              "    </tr>\n",
              "    <tr>\n",
              "      <th>3</th>\n",
              "      <td>a3</td>\n",
              "      <td>b3</td>\n",
              "      <td>c3</td>\n",
              "      <td>d3</td>\n",
              "    </tr>\n",
              "    <tr>\n",
              "      <th>4</th>\n",
              "      <td>a4</td>\n",
              "      <td>b4</td>\n",
              "      <td>c4</td>\n",
              "      <td>d4</td>\n",
              "    </tr>\n",
              "    <tr>\n",
              "      <th>5</th>\n",
              "      <td>a5</td>\n",
              "      <td>b5</td>\n",
              "      <td>c5</td>\n",
              "      <td>d5</td>\n",
              "    </tr>\n",
              "  </tbody>\n",
              "</table>\n",
              "</div>"
            ],
            "text/plain": [
              "    a   b   c    d\n",
              "0  a0  b0  c0  NaN\n",
              "1  a1  b1  c1  NaN\n",
              "2  a2  b2  c2  NaN\n",
              "3  a3  b3  c3  NaN\n",
              "2  a2  b2  c2   d2\n",
              "3  a3  b3  c3   d3\n",
              "4  a4  b4  c4   d4\n",
              "5  a5  b5  c5   d5"
            ]
          },
          "metadata": {
            "tags": []
          },
          "execution_count": 261
        }
      ]
    },
    {
      "cell_type": "code",
      "metadata": {
        "id": "aBo915YV8AOk"
      },
      "source": [
        "#위에는 인덱스가 좀 이상한데, 인덱스를 새로 구성하고 싶다하면 ignore_index=True 라는 옵션이 있음.\n",
        "pd.concat( [df1,df2], ignore_index=True) #ignore_index=True 이거는 기존 인덱스 무시한다는 이야기임."
      ],
      "execution_count": null,
      "outputs": []
    },
    {
      "cell_type": "code",
      "metadata": {
        "colab": {
          "base_uri": "https://localhost:8080/",
          "height": 234
        },
        "id": "jFG52QgV8AR-",
        "outputId": "74289c73-c438-4f05-a1a0-861dbe269246"
      },
      "source": [
        "#행방향으로 연결할 때, 0번째 축. \n",
        "pd.concat( [df1,df2], ignore_index=True)\n",
        "\n",
        "#열방향으로 연결할 때, 1번째 축.\n",
        "pd.concat( [df1,df2], axis = 1 ) #문제는 인덱스에 맞춰서 연결하는 거라 Nan이 등장함. 인덱스에 맞춰서 합치는 거라.. 없는 거는 없다고 뜨는 거임"
      ],
      "execution_count": null,
      "outputs": [
        {
          "output_type": "execute_result",
          "data": {
            "text/html": [
              "<div>\n",
              "<style scoped>\n",
              "    .dataframe tbody tr th:only-of-type {\n",
              "        vertical-align: middle;\n",
              "    }\n",
              "\n",
              "    .dataframe tbody tr th {\n",
              "        vertical-align: top;\n",
              "    }\n",
              "\n",
              "    .dataframe thead th {\n",
              "        text-align: right;\n",
              "    }\n",
              "</style>\n",
              "<table border=\"1\" class=\"dataframe\">\n",
              "  <thead>\n",
              "    <tr style=\"text-align: right;\">\n",
              "      <th></th>\n",
              "      <th>a</th>\n",
              "      <th>b</th>\n",
              "      <th>c</th>\n",
              "      <th>a</th>\n",
              "      <th>b</th>\n",
              "      <th>c</th>\n",
              "      <th>d</th>\n",
              "    </tr>\n",
              "  </thead>\n",
              "  <tbody>\n",
              "    <tr>\n",
              "      <th>0</th>\n",
              "      <td>a0</td>\n",
              "      <td>b0</td>\n",
              "      <td>c0</td>\n",
              "      <td>NaN</td>\n",
              "      <td>NaN</td>\n",
              "      <td>NaN</td>\n",
              "      <td>NaN</td>\n",
              "    </tr>\n",
              "    <tr>\n",
              "      <th>1</th>\n",
              "      <td>a1</td>\n",
              "      <td>b1</td>\n",
              "      <td>c1</td>\n",
              "      <td>NaN</td>\n",
              "      <td>NaN</td>\n",
              "      <td>NaN</td>\n",
              "      <td>NaN</td>\n",
              "    </tr>\n",
              "    <tr>\n",
              "      <th>2</th>\n",
              "      <td>a2</td>\n",
              "      <td>b2</td>\n",
              "      <td>c2</td>\n",
              "      <td>a2</td>\n",
              "      <td>b2</td>\n",
              "      <td>c2</td>\n",
              "      <td>d2</td>\n",
              "    </tr>\n",
              "    <tr>\n",
              "      <th>3</th>\n",
              "      <td>a3</td>\n",
              "      <td>b3</td>\n",
              "      <td>c3</td>\n",
              "      <td>a3</td>\n",
              "      <td>b3</td>\n",
              "      <td>c3</td>\n",
              "      <td>d3</td>\n",
              "    </tr>\n",
              "    <tr>\n",
              "      <th>4</th>\n",
              "      <td>NaN</td>\n",
              "      <td>NaN</td>\n",
              "      <td>NaN</td>\n",
              "      <td>a4</td>\n",
              "      <td>b4</td>\n",
              "      <td>c4</td>\n",
              "      <td>d4</td>\n",
              "    </tr>\n",
              "    <tr>\n",
              "      <th>5</th>\n",
              "      <td>NaN</td>\n",
              "      <td>NaN</td>\n",
              "      <td>NaN</td>\n",
              "      <td>a5</td>\n",
              "      <td>b5</td>\n",
              "      <td>c5</td>\n",
              "      <td>d5</td>\n",
              "    </tr>\n",
              "  </tbody>\n",
              "</table>\n",
              "</div>"
            ],
            "text/plain": [
              "     a    b    c    a    b    c    d\n",
              "0   a0   b0   c0  NaN  NaN  NaN  NaN\n",
              "1   a1   b1   c1  NaN  NaN  NaN  NaN\n",
              "2   a2   b2   c2   a2   b2   c2   d2\n",
              "3   a3   b3   c3   a3   b3   c3   d3\n",
              "4  NaN  NaN  NaN   a4   b4   c4   d4\n",
              "5  NaN  NaN  NaN   a5   b5   c5   d5"
            ]
          },
          "metadata": {
            "tags": []
          },
          "execution_count": 262
        }
      ]
    },
    {
      "cell_type": "code",
      "metadata": {
        "id": "ffKyKtovAn-S"
      },
      "source": [
        "#concat의 옵션 중에 교집합으로 합치는 것도 있다.\n",
        "#join 옵션이 있는데, 기본적으로 join은 outer임. 근데 join = 'inner' 이렇게 하면\n",
        "pd.concat( [df1,df2], axis=1, ignore_index=True) #이걸 왜 하냐면, 데이터베이스 과목에 아마 나올 거임.\n"
      ],
      "execution_count": null,
      "outputs": []
    },
    {
      "cell_type": "code",
      "metadata": {
        "id": "DF05V913BX32"
      },
      "source": [
        "#교집합\n",
        "pd.concat( [df1,df2], axis=1, ignore_index=True, join = 'inner')"
      ],
      "execution_count": null,
      "outputs": []
    },
    {
      "cell_type": "markdown",
      "metadata": {
        "id": "doTkTHrXBwU2"
      },
      "source": [
        "#데이터프레임 병합"
      ]
    },
    {
      "cell_type": "code",
      "metadata": {
        "colab": {
          "base_uri": "https://localhost:8080/"
        },
        "id": "cF5gjAIwBr7A",
        "outputId": "bd3a7d61-a3f0-4b56-de67-825c14e10a02"
      },
      "source": [
        "#merge를 활용할 거에요!\n",
        "\n",
        "df1 = pd.read_excel(drive_path + 'stock price.xlsx')\n",
        "df2 = pd.read_excel(drive_path + 'stock valuation.xlsx')\n",
        "print(df1)\n",
        "print(df2)"
      ],
      "execution_count": null,
      "outputs": [
        {
          "output_type": "stream",
          "text": [
            "       id stock_name          value   price\n",
            "0  128940       한미약품   59385.666667  421000\n",
            "1  130960     CJ E&M   58540.666667   98900\n",
            "2  138250      엔에스쇼핑   14558.666667   13200\n",
            "3  139480        이마트  239230.833333  254500\n",
            "4  142280     녹십자엠에스     468.833333   10200\n",
            "5  145990        삼양사   82750.000000   82000\n",
            "6  185750        종근당   40293.666667  100500\n",
            "7  192400      쿠쿠홀딩스  179204.666667  177500\n",
            "8  199800         툴젠   -2514.333333  115400\n",
            "9  204210     모두투어리츠    3093.333333    3475\n",
            "       id       name           eps     bps        per       pbr\n",
            "0  130960     CJ E&M   6301.333333   54068  15.695091  1.829178\n",
            "1  136480         하림    274.166667    3551  11.489362  0.887074\n",
            "2  138040    메리츠금융지주   2122.333333   14894   6.313806  0.899691\n",
            "3  139480        이마트  18268.166667  295780  13.931338  0.860437\n",
            "4  145990        삼양사   5741.000000  108090  14.283226  0.758627\n",
            "5  161390      한국타이어   5648.500000   51341   7.453306  0.820007\n",
            "6  181710  NHN엔터테인먼트   2110.166667   78434  30.755864  0.827447\n",
            "7  185750        종근당   3990.333333   40684  25.185866  2.470259\n",
            "8  204210     모두투어리츠     85.166667    5335  40.802348  0.651359\n",
            "9  207940   삼성바이오로직스   4644.166667   60099  89.790059  6.938551\n"
          ],
          "name": "stdout"
        }
      ]
    },
    {
      "cell_type": "code",
      "metadata": {
        "colab": {
          "base_uri": "https://localhost:8080/",
          "height": 357
        },
        "id": "4OwCGiWHB72T",
        "outputId": "071977ba-0dfc-4381-e726-627dfee1846b"
      },
      "source": [
        "#그냥 이런 게 있구나 하고 넘어가는 거야~ 수업 듣는 것에 의의를 두자 ㅎㅎ\n",
        "\n",
        "#교집합을 해보자. join = 'inner'\n",
        "pd.merge(df1, df2)  #이렇게 조인이 됨. 오른쪽에 붙힌 것. 얘는 기본적으로 그냥 합치면 교집합으로 합쳐짐. join = 'inner'가 기본으로 됨.\n",
        "\n",
        "#합집합\n",
        "pd.merge(df1, df2, how='outer', on='id') #합집합은 똑같은데 뒤에 옵션이 붙음. 얘는 join이 아니라 how로 됨. 실제 프로젝트 할 때는 데이터가 난리남.\n",
        "\n",
        "#왼쪽 기준, 키 값 분리. 왼쪽 기준으로 하면 how가 left로 바뀐다.\n",
        "pd.merge(df1, df2, how='left', left_on='stock_name', right_on='name') #id말고 다른 거로 매칭하려고 하는데..그럼 on에 오른쪽 왼쪽 이렇게 들어감.\n",
        "\n",
        "#오른쪽 기준으로 키와 값 분리한다면? how만 right로 바꾸면 됨.\n",
        "pd.merge(df1, df2, how='right', left_on='stock_name', right_on='name') #오른쪽은 값이 다 있는데, 왼쪽에 없는 게 생기지"
      ],
      "execution_count": null,
      "outputs": [
        {
          "output_type": "execute_result",
          "data": {
            "text/html": [
              "<div>\n",
              "<style scoped>\n",
              "    .dataframe tbody tr th:only-of-type {\n",
              "        vertical-align: middle;\n",
              "    }\n",
              "\n",
              "    .dataframe tbody tr th {\n",
              "        vertical-align: top;\n",
              "    }\n",
              "\n",
              "    .dataframe thead th {\n",
              "        text-align: right;\n",
              "    }\n",
              "</style>\n",
              "<table border=\"1\" class=\"dataframe\">\n",
              "  <thead>\n",
              "    <tr style=\"text-align: right;\">\n",
              "      <th></th>\n",
              "      <th>id_x</th>\n",
              "      <th>stock_name</th>\n",
              "      <th>value</th>\n",
              "      <th>price</th>\n",
              "      <th>id_y</th>\n",
              "      <th>name</th>\n",
              "      <th>eps</th>\n",
              "      <th>bps</th>\n",
              "      <th>per</th>\n",
              "      <th>pbr</th>\n",
              "    </tr>\n",
              "  </thead>\n",
              "  <tbody>\n",
              "    <tr>\n",
              "      <th>0</th>\n",
              "      <td>130960.0</td>\n",
              "      <td>CJ E&amp;M</td>\n",
              "      <td>58540.666667</td>\n",
              "      <td>98900.0</td>\n",
              "      <td>130960</td>\n",
              "      <td>CJ E&amp;M</td>\n",
              "      <td>6301.333333</td>\n",
              "      <td>54068</td>\n",
              "      <td>15.695091</td>\n",
              "      <td>1.829178</td>\n",
              "    </tr>\n",
              "    <tr>\n",
              "      <th>1</th>\n",
              "      <td>NaN</td>\n",
              "      <td>NaN</td>\n",
              "      <td>NaN</td>\n",
              "      <td>NaN</td>\n",
              "      <td>136480</td>\n",
              "      <td>하림</td>\n",
              "      <td>274.166667</td>\n",
              "      <td>3551</td>\n",
              "      <td>11.489362</td>\n",
              "      <td>0.887074</td>\n",
              "    </tr>\n",
              "    <tr>\n",
              "      <th>2</th>\n",
              "      <td>NaN</td>\n",
              "      <td>NaN</td>\n",
              "      <td>NaN</td>\n",
              "      <td>NaN</td>\n",
              "      <td>138040</td>\n",
              "      <td>메리츠금융지주</td>\n",
              "      <td>2122.333333</td>\n",
              "      <td>14894</td>\n",
              "      <td>6.313806</td>\n",
              "      <td>0.899691</td>\n",
              "    </tr>\n",
              "    <tr>\n",
              "      <th>3</th>\n",
              "      <td>139480.0</td>\n",
              "      <td>이마트</td>\n",
              "      <td>239230.833333</td>\n",
              "      <td>254500.0</td>\n",
              "      <td>139480</td>\n",
              "      <td>이마트</td>\n",
              "      <td>18268.166667</td>\n",
              "      <td>295780</td>\n",
              "      <td>13.931338</td>\n",
              "      <td>0.860437</td>\n",
              "    </tr>\n",
              "    <tr>\n",
              "      <th>4</th>\n",
              "      <td>145990.0</td>\n",
              "      <td>삼양사</td>\n",
              "      <td>82750.000000</td>\n",
              "      <td>82000.0</td>\n",
              "      <td>145990</td>\n",
              "      <td>삼양사</td>\n",
              "      <td>5741.000000</td>\n",
              "      <td>108090</td>\n",
              "      <td>14.283226</td>\n",
              "      <td>0.758627</td>\n",
              "    </tr>\n",
              "    <tr>\n",
              "      <th>5</th>\n",
              "      <td>NaN</td>\n",
              "      <td>NaN</td>\n",
              "      <td>NaN</td>\n",
              "      <td>NaN</td>\n",
              "      <td>161390</td>\n",
              "      <td>한국타이어</td>\n",
              "      <td>5648.500000</td>\n",
              "      <td>51341</td>\n",
              "      <td>7.453306</td>\n",
              "      <td>0.820007</td>\n",
              "    </tr>\n",
              "    <tr>\n",
              "      <th>6</th>\n",
              "      <td>NaN</td>\n",
              "      <td>NaN</td>\n",
              "      <td>NaN</td>\n",
              "      <td>NaN</td>\n",
              "      <td>181710</td>\n",
              "      <td>NHN엔터테인먼트</td>\n",
              "      <td>2110.166667</td>\n",
              "      <td>78434</td>\n",
              "      <td>30.755864</td>\n",
              "      <td>0.827447</td>\n",
              "    </tr>\n",
              "    <tr>\n",
              "      <th>7</th>\n",
              "      <td>185750.0</td>\n",
              "      <td>종근당</td>\n",
              "      <td>40293.666667</td>\n",
              "      <td>100500.0</td>\n",
              "      <td>185750</td>\n",
              "      <td>종근당</td>\n",
              "      <td>3990.333333</td>\n",
              "      <td>40684</td>\n",
              "      <td>25.185866</td>\n",
              "      <td>2.470259</td>\n",
              "    </tr>\n",
              "    <tr>\n",
              "      <th>8</th>\n",
              "      <td>204210.0</td>\n",
              "      <td>모두투어리츠</td>\n",
              "      <td>3093.333333</td>\n",
              "      <td>3475.0</td>\n",
              "      <td>204210</td>\n",
              "      <td>모두투어리츠</td>\n",
              "      <td>85.166667</td>\n",
              "      <td>5335</td>\n",
              "      <td>40.802348</td>\n",
              "      <td>0.651359</td>\n",
              "    </tr>\n",
              "    <tr>\n",
              "      <th>9</th>\n",
              "      <td>NaN</td>\n",
              "      <td>NaN</td>\n",
              "      <td>NaN</td>\n",
              "      <td>NaN</td>\n",
              "      <td>207940</td>\n",
              "      <td>삼성바이오로직스</td>\n",
              "      <td>4644.166667</td>\n",
              "      <td>60099</td>\n",
              "      <td>89.790059</td>\n",
              "      <td>6.938551</td>\n",
              "    </tr>\n",
              "  </tbody>\n",
              "</table>\n",
              "</div>"
            ],
            "text/plain": [
              "       id_x stock_name          value  ...     bps        per       pbr\n",
              "0  130960.0     CJ E&M   58540.666667  ...   54068  15.695091  1.829178\n",
              "1       NaN        NaN            NaN  ...    3551  11.489362  0.887074\n",
              "2       NaN        NaN            NaN  ...   14894   6.313806  0.899691\n",
              "3  139480.0        이마트  239230.833333  ...  295780  13.931338  0.860437\n",
              "4  145990.0        삼양사   82750.000000  ...  108090  14.283226  0.758627\n",
              "5       NaN        NaN            NaN  ...   51341   7.453306  0.820007\n",
              "6       NaN        NaN            NaN  ...   78434  30.755864  0.827447\n",
              "7  185750.0        종근당   40293.666667  ...   40684  25.185866  2.470259\n",
              "8  204210.0     모두투어리츠    3093.333333  ...    5335  40.802348  0.651359\n",
              "9       NaN        NaN            NaN  ...   60099  89.790059  6.938551\n",
              "\n",
              "[10 rows x 10 columns]"
            ]
          },
          "metadata": {
            "tags": []
          },
          "execution_count": 269
        }
      ]
    },
    {
      "cell_type": "markdown",
      "metadata": {
        "id": "96EpvWG6EpnL"
      },
      "source": [
        "###데이터프레임 결합"
      ]
    },
    {
      "cell_type": "code",
      "metadata": {
        "colab": {
          "base_uri": "https://localhost:8080/",
          "height": 49
        },
        "id": "_Oud7q0ICnVF",
        "outputId": "b730d04f-f086-4f45-a183-c16f3218d924"
      },
      "source": [
        "#결합(join)\n",
        "df1 = pd.read_excel(drive_path + 'stock price.xlsx', index_col='id') #기본적으로 인덱스를 가지고 join을 함. join은 인덱스에 있는 걸 기준으로 합친다.\n",
        "df2 = pd.read_excel(drive_path + 'stock valuation.xlsx')\n",
        "\n",
        "df1.join(df2) #합집합 된 것.\n",
        "\n",
        "#교집합\n",
        "df1.join(df2, how='inner')"
      ],
      "execution_count": null,
      "outputs": [
        {
          "output_type": "execute_result",
          "data": {
            "text/html": [
              "<div>\n",
              "<style scoped>\n",
              "    .dataframe tbody tr th:only-of-type {\n",
              "        vertical-align: middle;\n",
              "    }\n",
              "\n",
              "    .dataframe tbody tr th {\n",
              "        vertical-align: top;\n",
              "    }\n",
              "\n",
              "    .dataframe thead th {\n",
              "        text-align: right;\n",
              "    }\n",
              "</style>\n",
              "<table border=\"1\" class=\"dataframe\">\n",
              "  <thead>\n",
              "    <tr style=\"text-align: right;\">\n",
              "      <th></th>\n",
              "      <th>stock_name</th>\n",
              "      <th>value</th>\n",
              "      <th>price</th>\n",
              "      <th>id</th>\n",
              "      <th>name</th>\n",
              "      <th>eps</th>\n",
              "      <th>bps</th>\n",
              "      <th>per</th>\n",
              "      <th>pbr</th>\n",
              "    </tr>\n",
              "  </thead>\n",
              "  <tbody>\n",
              "  </tbody>\n",
              "</table>\n",
              "</div>"
            ],
            "text/plain": [
              "Empty DataFrame\n",
              "Columns: [stock_name, value, price, id, name, eps, bps, per, pbr]\n",
              "Index: []"
            ]
          },
          "metadata": {
            "tags": []
          },
          "execution_count": 271
        }
      ]
    },
    {
      "cell_type": "markdown",
      "metadata": {
        "id": "ysr3wETfGPfx"
      },
      "source": [
        "#멀티 인덱스"
      ]
    },
    {
      "cell_type": "code",
      "metadata": {
        "colab": {
          "base_uri": "https://localhost:8080/"
        },
        "id": "eUBDEFi6CnYf",
        "outputId": "81f8f472-0b00-49b2-bcef-cf0aa9c0140b"
      },
      "source": [
        "import seaborn as sns\n",
        "\n",
        "#시각화하는 그거인데, 최신 타이타닉 데이터 갖고 오기 위해서임.\n",
        "\n",
        "titanic = sns.load_dataset('titanic') #타이타닉 데이터를 갖고 오기\n",
        "titanic.info()    #나이, 성별, 클래스, 요금, 생존 이렇게 5개 인덱스 활용할 거임."
      ],
      "execution_count": null,
      "outputs": [
        {
          "output_type": "stream",
          "text": [
            "<class 'pandas.core.frame.DataFrame'>\n",
            "RangeIndex: 891 entries, 0 to 890\n",
            "Data columns (total 15 columns):\n",
            " #   Column       Non-Null Count  Dtype   \n",
            "---  ------       --------------  -----   \n",
            " 0   survived     891 non-null    int64   \n",
            " 1   pclass       891 non-null    int64   \n",
            " 2   sex          891 non-null    object  \n",
            " 3   age          714 non-null    float64 \n",
            " 4   sibsp        891 non-null    int64   \n",
            " 5   parch        891 non-null    int64   \n",
            " 6   fare         891 non-null    float64 \n",
            " 7   embarked     889 non-null    object  \n",
            " 8   class        891 non-null    category\n",
            " 9   who          891 non-null    object  \n",
            " 10  adult_male   891 non-null    bool    \n",
            " 11  deck         203 non-null    category\n",
            " 12  embark_town  889 non-null    object  \n",
            " 13  alive        891 non-null    object  \n",
            " 14  alone        891 non-null    bool    \n",
            "dtypes: bool(2), category(2), float64(2), int64(4), object(5)\n",
            "memory usage: 80.6+ KB\n"
          ],
          "name": "stdout"
        }
      ]
    },
    {
      "cell_type": "code",
      "metadata": {
        "colab": {
          "base_uri": "https://localhost:8080/",
          "height": 417
        },
        "id": "WN1PiJVEGo12",
        "outputId": "9e0d089f-da70-4918-fe82-25bb8480a1f3"
      },
      "source": [
        "titanic[['sex','age','class','fare','survived']]    #여러개 뽑을 때는 리스트로 뽑아주자구!"
      ],
      "execution_count": null,
      "outputs": [
        {
          "output_type": "execute_result",
          "data": {
            "text/html": [
              "<div>\n",
              "<style scoped>\n",
              "    .dataframe tbody tr th:only-of-type {\n",
              "        vertical-align: middle;\n",
              "    }\n",
              "\n",
              "    .dataframe tbody tr th {\n",
              "        vertical-align: top;\n",
              "    }\n",
              "\n",
              "    .dataframe thead th {\n",
              "        text-align: right;\n",
              "    }\n",
              "</style>\n",
              "<table border=\"1\" class=\"dataframe\">\n",
              "  <thead>\n",
              "    <tr style=\"text-align: right;\">\n",
              "      <th></th>\n",
              "      <th>sex</th>\n",
              "      <th>age</th>\n",
              "      <th>class</th>\n",
              "      <th>fare</th>\n",
              "      <th>survived</th>\n",
              "    </tr>\n",
              "  </thead>\n",
              "  <tbody>\n",
              "    <tr>\n",
              "      <th>0</th>\n",
              "      <td>male</td>\n",
              "      <td>22.0</td>\n",
              "      <td>Third</td>\n",
              "      <td>7.2500</td>\n",
              "      <td>0</td>\n",
              "    </tr>\n",
              "    <tr>\n",
              "      <th>1</th>\n",
              "      <td>female</td>\n",
              "      <td>38.0</td>\n",
              "      <td>First</td>\n",
              "      <td>71.2833</td>\n",
              "      <td>1</td>\n",
              "    </tr>\n",
              "    <tr>\n",
              "      <th>2</th>\n",
              "      <td>female</td>\n",
              "      <td>26.0</td>\n",
              "      <td>Third</td>\n",
              "      <td>7.9250</td>\n",
              "      <td>1</td>\n",
              "    </tr>\n",
              "    <tr>\n",
              "      <th>3</th>\n",
              "      <td>female</td>\n",
              "      <td>35.0</td>\n",
              "      <td>First</td>\n",
              "      <td>53.1000</td>\n",
              "      <td>1</td>\n",
              "    </tr>\n",
              "    <tr>\n",
              "      <th>4</th>\n",
              "      <td>male</td>\n",
              "      <td>35.0</td>\n",
              "      <td>Third</td>\n",
              "      <td>8.0500</td>\n",
              "      <td>0</td>\n",
              "    </tr>\n",
              "    <tr>\n",
              "      <th>...</th>\n",
              "      <td>...</td>\n",
              "      <td>...</td>\n",
              "      <td>...</td>\n",
              "      <td>...</td>\n",
              "      <td>...</td>\n",
              "    </tr>\n",
              "    <tr>\n",
              "      <th>886</th>\n",
              "      <td>male</td>\n",
              "      <td>27.0</td>\n",
              "      <td>Second</td>\n",
              "      <td>13.0000</td>\n",
              "      <td>0</td>\n",
              "    </tr>\n",
              "    <tr>\n",
              "      <th>887</th>\n",
              "      <td>female</td>\n",
              "      <td>19.0</td>\n",
              "      <td>First</td>\n",
              "      <td>30.0000</td>\n",
              "      <td>1</td>\n",
              "    </tr>\n",
              "    <tr>\n",
              "      <th>888</th>\n",
              "      <td>female</td>\n",
              "      <td>NaN</td>\n",
              "      <td>Third</td>\n",
              "      <td>23.4500</td>\n",
              "      <td>0</td>\n",
              "    </tr>\n",
              "    <tr>\n",
              "      <th>889</th>\n",
              "      <td>male</td>\n",
              "      <td>26.0</td>\n",
              "      <td>First</td>\n",
              "      <td>30.0000</td>\n",
              "      <td>1</td>\n",
              "    </tr>\n",
              "    <tr>\n",
              "      <th>890</th>\n",
              "      <td>male</td>\n",
              "      <td>32.0</td>\n",
              "      <td>Third</td>\n",
              "      <td>7.7500</td>\n",
              "      <td>0</td>\n",
              "    </tr>\n",
              "  </tbody>\n",
              "</table>\n",
              "<p>891 rows × 5 columns</p>\n",
              "</div>"
            ],
            "text/plain": [
              "        sex   age   class     fare  survived\n",
              "0      male  22.0   Third   7.2500         0\n",
              "1    female  38.0   First  71.2833         1\n",
              "2    female  26.0   Third   7.9250         1\n",
              "3    female  35.0   First  53.1000         1\n",
              "4      male  35.0   Third   8.0500         0\n",
              "..      ...   ...     ...      ...       ...\n",
              "886    male  27.0  Second  13.0000         0\n",
              "887  female  19.0   First  30.0000         1\n",
              "888  female   NaN   Third  23.4500         0\n",
              "889    male  26.0   First  30.0000         1\n",
              "890    male  32.0   Third   7.7500         0\n",
              "\n",
              "[891 rows x 5 columns]"
            ]
          },
          "metadata": {
            "tags": []
          },
          "execution_count": 274
        }
      ]
    },
    {
      "cell_type": "code",
      "metadata": {
        "colab": {
          "base_uri": "https://localhost:8080/"
        },
        "id": "clLvLOeDHKUm",
        "outputId": "27cfb5f6-fe36-4ead-ba12-2b114e685afa"
      },
      "source": [
        "#그룹바이 쓸 건데, .groupby() 안에 여러개 넣을 때는 리스트로 넣어주는 거 잊지마! \n",
        "#아까 했던 거 잠깐 복습한 고임!\n",
        "\n",
        "df = titanic[['sex','age','class','fare','survived']]\n",
        "\n",
        "#titanic[['sex','age','class','fare','survived']].groupby( ['sex','age'] ).sum()\n",
        "df.groupby( ['class','sex'] ).sum() #그룹에 관련돼서 모든 열들이 각각의 합계를 구하게 됐음. 나이를 다 합치거나 운임 다 합치는 건 별 의미가 없잖아?\n",
        "df_g = df.groupby( ['class','sex'] )\n",
        "df_g"
      ],
      "execution_count": null,
      "outputs": [
        {
          "output_type": "execute_result",
          "data": {
            "text/plain": [
              "<pandas.core.groupby.generic.DataFrameGroupBy object at 0x7f52ccae3950>"
            ]
          },
          "metadata": {
            "tags": []
          },
          "execution_count": 282
        }
      ]
    },
    {
      "cell_type": "code",
      "metadata": {
        "colab": {
          "base_uri": "https://localhost:8080/",
          "height": 265
        },
        "id": "82faCovdHZFL",
        "outputId": "c66f5b9f-51d4-43bc-ace0-d492185ee733"
      },
      "source": [
        "#이건 좀 더 의미가 있겠지? 나이 평균과 운임 평균. 평균과 합계를 가장 많이 사용함. \n",
        "df_g.mean()"
      ],
      "execution_count": null,
      "outputs": [
        {
          "output_type": "execute_result",
          "data": {
            "text/html": [
              "<div>\n",
              "<style scoped>\n",
              "    .dataframe tbody tr th:only-of-type {\n",
              "        vertical-align: middle;\n",
              "    }\n",
              "\n",
              "    .dataframe tbody tr th {\n",
              "        vertical-align: top;\n",
              "    }\n",
              "\n",
              "    .dataframe thead th {\n",
              "        text-align: right;\n",
              "    }\n",
              "</style>\n",
              "<table border=\"1\" class=\"dataframe\">\n",
              "  <thead>\n",
              "    <tr style=\"text-align: right;\">\n",
              "      <th></th>\n",
              "      <th></th>\n",
              "      <th>age</th>\n",
              "      <th>fare</th>\n",
              "      <th>survived</th>\n",
              "    </tr>\n",
              "    <tr>\n",
              "      <th>class</th>\n",
              "      <th>sex</th>\n",
              "      <th></th>\n",
              "      <th></th>\n",
              "      <th></th>\n",
              "    </tr>\n",
              "  </thead>\n",
              "  <tbody>\n",
              "    <tr>\n",
              "      <th rowspan=\"2\" valign=\"top\">First</th>\n",
              "      <th>female</th>\n",
              "      <td>34.611765</td>\n",
              "      <td>106.125798</td>\n",
              "      <td>0.968085</td>\n",
              "    </tr>\n",
              "    <tr>\n",
              "      <th>male</th>\n",
              "      <td>41.281386</td>\n",
              "      <td>67.226127</td>\n",
              "      <td>0.368852</td>\n",
              "    </tr>\n",
              "    <tr>\n",
              "      <th rowspan=\"2\" valign=\"top\">Second</th>\n",
              "      <th>female</th>\n",
              "      <td>28.722973</td>\n",
              "      <td>21.970121</td>\n",
              "      <td>0.921053</td>\n",
              "    </tr>\n",
              "    <tr>\n",
              "      <th>male</th>\n",
              "      <td>30.740707</td>\n",
              "      <td>19.741782</td>\n",
              "      <td>0.157407</td>\n",
              "    </tr>\n",
              "    <tr>\n",
              "      <th rowspan=\"2\" valign=\"top\">Third</th>\n",
              "      <th>female</th>\n",
              "      <td>21.750000</td>\n",
              "      <td>16.118810</td>\n",
              "      <td>0.500000</td>\n",
              "    </tr>\n",
              "    <tr>\n",
              "      <th>male</th>\n",
              "      <td>26.507589</td>\n",
              "      <td>12.661633</td>\n",
              "      <td>0.135447</td>\n",
              "    </tr>\n",
              "  </tbody>\n",
              "</table>\n",
              "</div>"
            ],
            "text/plain": [
              "                     age        fare  survived\n",
              "class  sex                                    \n",
              "First  female  34.611765  106.125798  0.968085\n",
              "       male    41.281386   67.226127  0.368852\n",
              "Second female  28.722973   21.970121  0.921053\n",
              "       male    30.740707   19.741782  0.157407\n",
              "Third  female  21.750000   16.118810  0.500000\n",
              "       male    26.507589   12.661633  0.135447"
            ]
          },
          "metadata": {
            "tags": []
          },
          "execution_count": 283
        }
      ]
    },
    {
      "cell_type": "code",
      "metadata": {
        "colab": {
          "base_uri": "https://localhost:8080/",
          "height": 172
        },
        "id": "IyTb1ILvJENv",
        "outputId": "c39784c8-5243-4179-a74a-588332144c3b"
      },
      "source": [
        "#이거자체가 데이터 프레임이라서 loc으로 가져올 수가 있음\n",
        "#퍼스트에서 여성인 데이터만 가지고 오겠다! 멀티 인덱스로 조건을 거는 거임.\n",
        "\n",
        "df_g.mean().loc[ ('First','female') ]\n",
        "\n",
        "#남성만 중간에서 가져오고 싶다면..? \n",
        "df_g.mean().xs('male', level = 'sex') #이렇게 하면 성별에 남성이 있는 것들만 모아줌. 이건 진짜 모야...... 진짜 모야 이게!!!!!!!!!!!!"
      ],
      "execution_count": null,
      "outputs": [
        {
          "output_type": "execute_result",
          "data": {
            "text/html": [
              "<div>\n",
              "<style scoped>\n",
              "    .dataframe tbody tr th:only-of-type {\n",
              "        vertical-align: middle;\n",
              "    }\n",
              "\n",
              "    .dataframe tbody tr th {\n",
              "        vertical-align: top;\n",
              "    }\n",
              "\n",
              "    .dataframe thead th {\n",
              "        text-align: right;\n",
              "    }\n",
              "</style>\n",
              "<table border=\"1\" class=\"dataframe\">\n",
              "  <thead>\n",
              "    <tr style=\"text-align: right;\">\n",
              "      <th></th>\n",
              "      <th>age</th>\n",
              "      <th>fare</th>\n",
              "      <th>survived</th>\n",
              "    </tr>\n",
              "    <tr>\n",
              "      <th>class</th>\n",
              "      <th></th>\n",
              "      <th></th>\n",
              "      <th></th>\n",
              "    </tr>\n",
              "  </thead>\n",
              "  <tbody>\n",
              "    <tr>\n",
              "      <th>First</th>\n",
              "      <td>41.281386</td>\n",
              "      <td>67.226127</td>\n",
              "      <td>0.368852</td>\n",
              "    </tr>\n",
              "    <tr>\n",
              "      <th>Second</th>\n",
              "      <td>30.740707</td>\n",
              "      <td>19.741782</td>\n",
              "      <td>0.157407</td>\n",
              "    </tr>\n",
              "    <tr>\n",
              "      <th>Third</th>\n",
              "      <td>26.507589</td>\n",
              "      <td>12.661633</td>\n",
              "      <td>0.135447</td>\n",
              "    </tr>\n",
              "  </tbody>\n",
              "</table>\n",
              "</div>"
            ],
            "text/plain": [
              "              age       fare  survived\n",
              "class                                 \n",
              "First   41.281386  67.226127  0.368852\n",
              "Second  30.740707  19.741782  0.157407\n",
              "Third   26.507589  12.661633  0.135447"
            ]
          },
          "metadata": {
            "tags": []
          },
          "execution_count": 285
        }
      ]
    },
    {
      "cell_type": "markdown",
      "metadata": {
        "id": "fLeCVS0VFEDJ"
      },
      "source": [
        "#데이터 사전 처리\n",
        "\n",
        "이 아래부터 있는 것들은 이제 데이터 전처리할 때 체크리스트처럼 쓰면 좋아. 이상 없다는 거 확인하는 그런 느낌?"
      ]
    },
    {
      "cell_type": "markdown",
      "metadata": {
        "id": "HGHGVBqPFPrJ"
      },
      "source": [
        "결측치(누락 데이터) 처리"
      ]
    },
    {
      "cell_type": "code",
      "metadata": {
        "colab": {
          "base_uri": "https://localhost:8080/"
        },
        "id": "1cvEIKLzJSnT",
        "outputId": "e62742dc-6347-417a-e89d-3cfc1d46aa9e"
      },
      "source": [
        "import pandas as pd\n",
        "import seaborn as sns\n",
        "\n",
        "df = sns.load_dataset('titanic')\n",
        "df.info()"
      ],
      "execution_count": null,
      "outputs": [
        {
          "output_type": "stream",
          "text": [
            "<class 'pandas.core.frame.DataFrame'>\n",
            "RangeIndex: 891 entries, 0 to 890\n",
            "Data columns (total 15 columns):\n",
            " #   Column       Non-Null Count  Dtype   \n",
            "---  ------       --------------  -----   \n",
            " 0   survived     891 non-null    int64   \n",
            " 1   pclass       891 non-null    int64   \n",
            " 2   sex          891 non-null    object  \n",
            " 3   age          714 non-null    float64 \n",
            " 4   sibsp        891 non-null    int64   \n",
            " 5   parch        891 non-null    int64   \n",
            " 6   fare         891 non-null    float64 \n",
            " 7   embarked     889 non-null    object  \n",
            " 8   class        891 non-null    category\n",
            " 9   who          891 non-null    object  \n",
            " 10  adult_male   891 non-null    bool    \n",
            " 11  deck         203 non-null    category\n",
            " 12  embark_town  889 non-null    object  \n",
            " 13  alive        891 non-null    object  \n",
            " 14  alone        891 non-null    bool    \n",
            "dtypes: bool(2), category(2), float64(2), int64(4), object(5)\n",
            "memory usage: 80.6+ KB\n"
          ],
          "name": "stdout"
        }
      ]
    },
    {
      "cell_type": "code",
      "metadata": {
        "colab": {
          "background_save": true
        },
        "id": "1VCnTSpnFaXC",
        "outputId": "4e1175e8-5309-4380-cfff-d92b0adf9ec8"
      },
      "source": [
        "#결측치가 가장 많은 deck 이 녀석부터 한번 보자\n",
        "\n",
        "df[ 'deck' ].value_counts()\n",
        "#null data는 안나오고 있음. 이걸 나오게 하려면 dropna=False 해주면 됨. 결측치 떨궈주는 걸 False로 바꿔줬으니까!\n",
        "df[ 'deck' ].value_counts(dropna=False)"
      ],
      "execution_count": null,
      "outputs": [
        {
          "output_type": "execute_result",
          "data": {
            "text/plain": [
              "NaN    688\n",
              "C       59\n",
              "B       47\n",
              "D       33\n",
              "E       32\n",
              "A       15\n",
              "F       13\n",
              "G        4\n",
              "Name: deck, dtype: int64"
            ]
          },
          "metadata": {
            "tags": []
          },
          "execution_count": 0
        }
      ]
    },
    {
      "cell_type": "code",
      "metadata": {
        "colab": {
          "base_uri": "https://localhost:8080/",
          "height": 203
        },
        "id": "FMEFgGrJFvSW",
        "outputId": "ddf98272-224a-4b55-ce9d-e671b18959ae"
      },
      "source": [
        "#결측치가 얼마나 바뀌었는지 보고 싶다면\n",
        "df.head().isnull() #null 위치는 True로 나옴. null인 녀석들은 True로 나옴."
      ],
      "execution_count": null,
      "outputs": [
        {
          "output_type": "execute_result",
          "data": {
            "text/html": [
              "<div>\n",
              "<style scoped>\n",
              "    .dataframe tbody tr th:only-of-type {\n",
              "        vertical-align: middle;\n",
              "    }\n",
              "\n",
              "    .dataframe tbody tr th {\n",
              "        vertical-align: top;\n",
              "    }\n",
              "\n",
              "    .dataframe thead th {\n",
              "        text-align: right;\n",
              "    }\n",
              "</style>\n",
              "<table border=\"1\" class=\"dataframe\">\n",
              "  <thead>\n",
              "    <tr style=\"text-align: right;\">\n",
              "      <th></th>\n",
              "      <th>survived</th>\n",
              "      <th>pclass</th>\n",
              "      <th>sex</th>\n",
              "      <th>age</th>\n",
              "      <th>sibsp</th>\n",
              "      <th>parch</th>\n",
              "      <th>fare</th>\n",
              "      <th>embarked</th>\n",
              "      <th>class</th>\n",
              "      <th>who</th>\n",
              "      <th>adult_male</th>\n",
              "      <th>deck</th>\n",
              "      <th>embark_town</th>\n",
              "      <th>alive</th>\n",
              "      <th>alone</th>\n",
              "    </tr>\n",
              "  </thead>\n",
              "  <tbody>\n",
              "    <tr>\n",
              "      <th>0</th>\n",
              "      <td>False</td>\n",
              "      <td>False</td>\n",
              "      <td>False</td>\n",
              "      <td>False</td>\n",
              "      <td>False</td>\n",
              "      <td>False</td>\n",
              "      <td>False</td>\n",
              "      <td>False</td>\n",
              "      <td>False</td>\n",
              "      <td>False</td>\n",
              "      <td>False</td>\n",
              "      <td>True</td>\n",
              "      <td>False</td>\n",
              "      <td>False</td>\n",
              "      <td>False</td>\n",
              "    </tr>\n",
              "    <tr>\n",
              "      <th>1</th>\n",
              "      <td>False</td>\n",
              "      <td>False</td>\n",
              "      <td>False</td>\n",
              "      <td>False</td>\n",
              "      <td>False</td>\n",
              "      <td>False</td>\n",
              "      <td>False</td>\n",
              "      <td>False</td>\n",
              "      <td>False</td>\n",
              "      <td>False</td>\n",
              "      <td>False</td>\n",
              "      <td>False</td>\n",
              "      <td>False</td>\n",
              "      <td>False</td>\n",
              "      <td>False</td>\n",
              "    </tr>\n",
              "    <tr>\n",
              "      <th>2</th>\n",
              "      <td>False</td>\n",
              "      <td>False</td>\n",
              "      <td>False</td>\n",
              "      <td>False</td>\n",
              "      <td>False</td>\n",
              "      <td>False</td>\n",
              "      <td>False</td>\n",
              "      <td>False</td>\n",
              "      <td>False</td>\n",
              "      <td>False</td>\n",
              "      <td>False</td>\n",
              "      <td>True</td>\n",
              "      <td>False</td>\n",
              "      <td>False</td>\n",
              "      <td>False</td>\n",
              "    </tr>\n",
              "    <tr>\n",
              "      <th>3</th>\n",
              "      <td>False</td>\n",
              "      <td>False</td>\n",
              "      <td>False</td>\n",
              "      <td>False</td>\n",
              "      <td>False</td>\n",
              "      <td>False</td>\n",
              "      <td>False</td>\n",
              "      <td>False</td>\n",
              "      <td>False</td>\n",
              "      <td>False</td>\n",
              "      <td>False</td>\n",
              "      <td>False</td>\n",
              "      <td>False</td>\n",
              "      <td>False</td>\n",
              "      <td>False</td>\n",
              "    </tr>\n",
              "    <tr>\n",
              "      <th>4</th>\n",
              "      <td>False</td>\n",
              "      <td>False</td>\n",
              "      <td>False</td>\n",
              "      <td>False</td>\n",
              "      <td>False</td>\n",
              "      <td>False</td>\n",
              "      <td>False</td>\n",
              "      <td>False</td>\n",
              "      <td>False</td>\n",
              "      <td>False</td>\n",
              "      <td>False</td>\n",
              "      <td>True</td>\n",
              "      <td>False</td>\n",
              "      <td>False</td>\n",
              "      <td>False</td>\n",
              "    </tr>\n",
              "  </tbody>\n",
              "</table>\n",
              "</div>"
            ],
            "text/plain": [
              "   survived  pclass    sex    age  ...   deck  embark_town  alive  alone\n",
              "0     False   False  False  False  ...   True        False  False  False\n",
              "1     False   False  False  False  ...  False        False  False  False\n",
              "2     False   False  False  False  ...   True        False  False  False\n",
              "3     False   False  False  False  ...  False        False  False  False\n",
              "4     False   False  False  False  ...   True        False  False  False\n",
              "\n",
              "[5 rows x 15 columns]"
            ]
          },
          "metadata": {
            "tags": []
          },
          "execution_count": 5
        }
      ]
    },
    {
      "cell_type": "code",
      "metadata": {
        "colab": {
          "base_uri": "https://localhost:8080/"
        },
        "id": "GYQiWEhPGE1C",
        "outputId": "382dea03-cba3-4a41-c57d-e086f95830fe"
      },
      "source": [
        "#누락 데이터 합계가 몇개인지 확인하고 싶을 때! \n",
        "df.isnull().sum()"
      ],
      "execution_count": null,
      "outputs": [
        {
          "output_type": "execute_result",
          "data": {
            "text/plain": [
              "survived         0\n",
              "pclass           0\n",
              "sex              0\n",
              "age            177\n",
              "sibsp            0\n",
              "parch            0\n",
              "fare             0\n",
              "embarked         2\n",
              "class            0\n",
              "who              0\n",
              "adult_male       0\n",
              "deck           688\n",
              "embark_town      2\n",
              "alive            0\n",
              "alone            0\n",
              "dtype: int64"
            ]
          },
          "metadata": {
            "tags": []
          },
          "execution_count": 6
        }
      ]
    },
    {
      "cell_type": "code",
      "metadata": {
        "id": "0VPimmv9GWAO"
      },
      "source": [
        "#누락데이터는 채우는 방법도 있고 제거하는 방법도 있다. 아니면 그 열 자체를 사용하지 않는 방법도 있음"
      ],
      "execution_count": null,
      "outputs": []
    },
    {
      "cell_type": "markdown",
      "metadata": {
        "id": "l4wWtmQPGh6W"
      },
      "source": [
        "누락 데이터 제거"
      ]
    },
    {
      "cell_type": "code",
      "metadata": {
        "colab": {
          "base_uri": "https://localhost:8080/",
          "height": 80
        },
        "id": "hm2oI2ypGkI5",
        "outputId": "fab17f3b-2fec-4992-ab18-52438482ccf8"
      },
      "source": [
        "#샘플데이터 만들어서 제거해보겠음!\n",
        "\n",
        "df_rc = pd.DataFrame({'name':['kim', 'lee', 'park'],\n",
        "                      'age':[10, 20, 30],\n",
        "                      'height':[170, 160, 180]})\n",
        "\n",
        "df_rc.drop( [0,1], axis=0 ) #뭐가 삭제됐나요? 원본엔 영향을 주지 않는다. 0과 1의 행을 삭제했다. 이건 계속 얘기하지만 팬시 인덱싱임.\n",
        "df_rc.drop( ['name'], axis=1 ) #name만 삭제하고 싶다. 한 열을 삭제하고 싶을 때."
      ],
      "execution_count": null,
      "outputs": [
        {
          "output_type": "execute_result",
          "data": {
            "text/html": [
              "<div>\n",
              "<style scoped>\n",
              "    .dataframe tbody tr th:only-of-type {\n",
              "        vertical-align: middle;\n",
              "    }\n",
              "\n",
              "    .dataframe tbody tr th {\n",
              "        vertical-align: top;\n",
              "    }\n",
              "\n",
              "    .dataframe thead th {\n",
              "        text-align: right;\n",
              "    }\n",
              "</style>\n",
              "<table border=\"1\" class=\"dataframe\">\n",
              "  <thead>\n",
              "    <tr style=\"text-align: right;\">\n",
              "      <th></th>\n",
              "      <th>name</th>\n",
              "      <th>age</th>\n",
              "      <th>height</th>\n",
              "    </tr>\n",
              "  </thead>\n",
              "  <tbody>\n",
              "    <tr>\n",
              "      <th>2</th>\n",
              "      <td>park</td>\n",
              "      <td>30</td>\n",
              "      <td>180</td>\n",
              "    </tr>\n",
              "  </tbody>\n",
              "</table>\n",
              "</div>"
            ],
            "text/plain": [
              "   name  age  height\n",
              "2  park   30     180"
            ]
          },
          "metadata": {
            "tags": []
          },
          "execution_count": 7
        }
      ]
    },
    {
      "cell_type": "code",
      "metadata": {
        "colab": {
          "base_uri": "https://localhost:8080/",
          "height": 142
        },
        "id": "B7Zr1qyxJjcp",
        "outputId": "547a7067-907a-428f-b3ba-ed07eaa0ae6f"
      },
      "source": [
        "#타이타닉에서 결측치 \n",
        "#보통 몇개 이상의 null 있으면 그냥 그 열은 사용하지 않겠다! 이렇게 많이 함.\n",
        "df.isnull()\n",
        "\n",
        "#dropna() 자주 사용함.\n",
        "#데이터가 500개 이상 있는 경우를 제외하고는 삭제해라! 500개 이상 없으면 삭제하라는 이야기. \n",
        "df.dropna(axis=1, thresh=500).head(3) #축을 1로, 1방향으로 하고..  thresh= 이거는 데이터가 몇개이상인 것만 남겨놓고 나저민 삭제해라!. 이거 돌리면 deck은 삭제됨"
      ],
      "execution_count": null,
      "outputs": [
        {
          "output_type": "execute_result",
          "data": {
            "text/html": [
              "<div>\n",
              "<style scoped>\n",
              "    .dataframe tbody tr th:only-of-type {\n",
              "        vertical-align: middle;\n",
              "    }\n",
              "\n",
              "    .dataframe tbody tr th {\n",
              "        vertical-align: top;\n",
              "    }\n",
              "\n",
              "    .dataframe thead th {\n",
              "        text-align: right;\n",
              "    }\n",
              "</style>\n",
              "<table border=\"1\" class=\"dataframe\">\n",
              "  <thead>\n",
              "    <tr style=\"text-align: right;\">\n",
              "      <th></th>\n",
              "      <th>survived</th>\n",
              "      <th>pclass</th>\n",
              "      <th>sex</th>\n",
              "      <th>age</th>\n",
              "      <th>sibsp</th>\n",
              "      <th>parch</th>\n",
              "      <th>fare</th>\n",
              "      <th>embarked</th>\n",
              "      <th>class</th>\n",
              "      <th>who</th>\n",
              "      <th>adult_male</th>\n",
              "      <th>embark_town</th>\n",
              "      <th>alive</th>\n",
              "      <th>alone</th>\n",
              "    </tr>\n",
              "  </thead>\n",
              "  <tbody>\n",
              "    <tr>\n",
              "      <th>0</th>\n",
              "      <td>0</td>\n",
              "      <td>3</td>\n",
              "      <td>male</td>\n",
              "      <td>22.0</td>\n",
              "      <td>1</td>\n",
              "      <td>0</td>\n",
              "      <td>7.2500</td>\n",
              "      <td>S</td>\n",
              "      <td>Third</td>\n",
              "      <td>man</td>\n",
              "      <td>True</td>\n",
              "      <td>Southampton</td>\n",
              "      <td>no</td>\n",
              "      <td>False</td>\n",
              "    </tr>\n",
              "    <tr>\n",
              "      <th>1</th>\n",
              "      <td>1</td>\n",
              "      <td>1</td>\n",
              "      <td>female</td>\n",
              "      <td>38.0</td>\n",
              "      <td>1</td>\n",
              "      <td>0</td>\n",
              "      <td>71.2833</td>\n",
              "      <td>C</td>\n",
              "      <td>First</td>\n",
              "      <td>woman</td>\n",
              "      <td>False</td>\n",
              "      <td>Cherbourg</td>\n",
              "      <td>yes</td>\n",
              "      <td>False</td>\n",
              "    </tr>\n",
              "    <tr>\n",
              "      <th>2</th>\n",
              "      <td>1</td>\n",
              "      <td>3</td>\n",
              "      <td>female</td>\n",
              "      <td>26.0</td>\n",
              "      <td>0</td>\n",
              "      <td>0</td>\n",
              "      <td>7.9250</td>\n",
              "      <td>S</td>\n",
              "      <td>Third</td>\n",
              "      <td>woman</td>\n",
              "      <td>False</td>\n",
              "      <td>Southampton</td>\n",
              "      <td>yes</td>\n",
              "      <td>True</td>\n",
              "    </tr>\n",
              "  </tbody>\n",
              "</table>\n",
              "</div>"
            ],
            "text/plain": [
              "   survived  pclass     sex   age  ...  adult_male  embark_town  alive  alone\n",
              "0         0       3    male  22.0  ...        True  Southampton     no  False\n",
              "1         1       1  female  38.0  ...       False    Cherbourg    yes  False\n",
              "2         1       3  female  26.0  ...       False  Southampton    yes   True\n",
              "\n",
              "[3 rows x 14 columns]"
            ]
          },
          "metadata": {
            "tags": []
          },
          "execution_count": 10
        }
      ]
    },
    {
      "cell_type": "markdown",
      "metadata": {
        "id": "dHu4yFhgK2O8"
      },
      "source": [
        "누락데이터 치환"
      ]
    },
    {
      "cell_type": "code",
      "metadata": {
        "colab": {
          "base_uri": "https://localhost:8080/"
        },
        "id": "refmOGDfJ7AR",
        "outputId": "d08632c0-abd3-4ebf-a61e-6cf98915b2b4"
      },
      "source": [
        "#1) 누락데이터를 평균으로 바꾸기\n",
        "\n",
        "df['age'].value_counts(dropna=False)\n",
        "\n",
        "age_mean = df['age'].mean()\n",
        "df['age'].fillna(age_mean.inplace=True) #True면 원본 수정하겠다\n",
        "\n",
        "df['age'].value_counts(dropna=False)  #값이 바뀌어있는 걸 볼 수 있다. 평균 연산을 해서 나이대가 다 소수점으로 들어감.\n"
      ],
      "execution_count": null,
      "outputs": [
        {
          "output_type": "execute_result",
          "data": {
            "text/plain": [
              "NaN      177\n",
              "24.00     30\n",
              "22.00     27\n",
              "18.00     26\n",
              "28.00     25\n",
              "        ... \n",
              "36.50      1\n",
              "55.50      1\n",
              "66.00      1\n",
              "23.50      1\n",
              "0.42       1\n",
              "Name: age, Length: 89, dtype: int64"
            ]
          },
          "metadata": {
            "tags": []
          },
          "execution_count": 12
        }
      ]
    },
    {
      "cell_type": "code",
      "metadata": {
        "colab": {
          "base_uri": "https://localhost:8080/"
        },
        "id": "J_6yFccaK2Jg",
        "outputId": "f07f6d29-1ead-491d-ab43-0620d012f738"
      },
      "source": [
        "#2) 빈도수로 누락 데이터 치환\n",
        "\n",
        "embark_town_idxmax = df['embark_town'].value_counts().idxmax() #idxxmax()빈도수가 가장 많이 나왔던 녀석으로 치환 기본값은 inplace = False​이다. (기본값이기 때문에 따로 입력하지 않아도 된다)\n",
        "                                            #inplace = False을 써주면 데이터가 업데이트되는 게 아니라 복사본을 출력한다.\n",
        "df['embark_town'].fillna(embark_town_idxmax, inplace=True)\n",
        "df.isnull().sum()"
      ],
      "execution_count": null,
      "outputs": [
        {
          "output_type": "execute_result",
          "data": {
            "text/plain": [
              "survived         0\n",
              "pclass           0\n",
              "sex              0\n",
              "age            177\n",
              "sibsp            0\n",
              "parch            0\n",
              "fare             0\n",
              "embarked         2\n",
              "class            0\n",
              "who              0\n",
              "adult_male       0\n",
              "deck           688\n",
              "embark_town      0\n",
              "alive            0\n",
              "alone            0\n",
              "dtype: int64"
            ]
          },
          "metadata": {
            "tags": []
          },
          "execution_count": 15
        }
      ]
    },
    {
      "cell_type": "code",
      "metadata": {
        "id": "j8OeniiyMQZZ"
      },
      "source": [
        "#3) 이웃하는 값 찾기\n",
        "df['embarked'].fillna(method= 'ffill',inplace=True)  #method= 'ffill 이거 해주면 바로 앞에 있는 거로 체크해줘야함. 근데 이거 할 때 가장 첫번째 값이 공란이 아닌 걸 확인해줘야함.\n",
        "df.isnull().sum()   #메꿀 수 없을 때는 이런 값이라도 써야지. 데이터 수집하기가 어려워서 버릴 수가 없음.."
      ],
      "execution_count": null,
      "outputs": []
    },
    {
      "cell_type": "markdown",
      "metadata": {
        "id": "Cw-s_ZijNpgo"
      },
      "source": [
        "###중복데이터 처리"
      ]
    },
    {
      "cell_type": "code",
      "metadata": {
        "colab": {
          "base_uri": "https://localhost:8080/"
        },
        "id": "GdxwR0xkNimc",
        "outputId": "c4c663f2-60e0-415a-963d-8d37540347ab"
      },
      "source": [
        "#데이터에서 자주 발생하는 것 중 하나가 중복 데이터. 카운팅이 2번 들어가니까 이것도 좀 제거해줘야함.\n",
        "\n",
        "#중복 데이터 확인하는 법\n",
        "df.duplicated() #중복된 녀석들은 True라고 나옴. 어디가 중복됐는지 열 이름을 쓰면 좀 더 편하겠지? 뭐 나이라든가 ..\n"
      ],
      "execution_count": null,
      "outputs": [
        {
          "output_type": "execute_result",
          "data": {
            "text/plain": [
              "0      False\n",
              "1      False\n",
              "2      False\n",
              "3      False\n",
              "4      False\n",
              "       ...  \n",
              "886     True\n",
              "887    False\n",
              "888    False\n",
              "889    False\n",
              "890    False\n",
              "Length: 891, dtype: bool"
            ]
          },
          "metadata": {
            "tags": []
          },
          "execution_count": 16
        }
      ]
    },
    {
      "cell_type": "code",
      "metadata": {
        "colab": {
          "base_uri": "https://localhost:8080/"
        },
        "id": "urVOA_mrOHBO",
        "outputId": "87a6f40b-18a0-4439-8edc-1ae75eed56ee"
      },
      "source": [
        "#샘플데이터 만들어서 해보자\n",
        "\n",
        "# 중복 데이터 확인\n",
        "df_dup = pd.DataFrame({'c1':['a', 'a', 'b', 'a', 'b'],\n",
        "                       'c2':[1, 1, 1, 2, 2],\n",
        "                       'c3':[1, 1, 2, 2, 2]})\n",
        "df_dup.duplicated()\n"
      ],
      "execution_count": null,
      "outputs": [
        {
          "output_type": "execute_result",
          "data": {
            "text/plain": [
              "0    False\n",
              "1     True\n",
              "2    False\n",
              "3    False\n",
              "4    False\n",
              "dtype: bool"
            ]
          },
          "metadata": {
            "tags": []
          },
          "execution_count": 17
        }
      ]
    },
    {
      "cell_type": "code",
      "metadata": {
        "colab": {
          "base_uri": "https://localhost:8080/",
          "height": 172
        },
        "id": "FYrZgJuJN3bB",
        "outputId": "f873bb35-9ea5-4483-932f-489f984ba985"
      },
      "source": [
        "#중복 데이터 제거\n",
        "\n",
        "df_dup.drop_duplicates(inplace=True) #이렇게 하먄 삭제되서 나오고, inplace=True까지 해주면 원본데이터까지 바꿔줌.\n",
        "df_dup"
      ],
      "execution_count": null,
      "outputs": [
        {
          "output_type": "execute_result",
          "data": {
            "text/html": [
              "<div>\n",
              "<style scoped>\n",
              "    .dataframe tbody tr th:only-of-type {\n",
              "        vertical-align: middle;\n",
              "    }\n",
              "\n",
              "    .dataframe tbody tr th {\n",
              "        vertical-align: top;\n",
              "    }\n",
              "\n",
              "    .dataframe thead th {\n",
              "        text-align: right;\n",
              "    }\n",
              "</style>\n",
              "<table border=\"1\" class=\"dataframe\">\n",
              "  <thead>\n",
              "    <tr style=\"text-align: right;\">\n",
              "      <th></th>\n",
              "      <th>c1</th>\n",
              "      <th>c2</th>\n",
              "      <th>c3</th>\n",
              "    </tr>\n",
              "  </thead>\n",
              "  <tbody>\n",
              "    <tr>\n",
              "      <th>0</th>\n",
              "      <td>a</td>\n",
              "      <td>1</td>\n",
              "      <td>1</td>\n",
              "    </tr>\n",
              "    <tr>\n",
              "      <th>2</th>\n",
              "      <td>b</td>\n",
              "      <td>1</td>\n",
              "      <td>2</td>\n",
              "    </tr>\n",
              "    <tr>\n",
              "      <th>3</th>\n",
              "      <td>a</td>\n",
              "      <td>2</td>\n",
              "      <td>2</td>\n",
              "    </tr>\n",
              "    <tr>\n",
              "      <th>4</th>\n",
              "      <td>b</td>\n",
              "      <td>2</td>\n",
              "      <td>2</td>\n",
              "    </tr>\n",
              "  </tbody>\n",
              "</table>\n",
              "</div>"
            ],
            "text/plain": [
              "  c1  c2  c3\n",
              "0  a   1   1\n",
              "2  b   1   2\n",
              "3  a   2   2\n",
              "4  b   2   2"
            ]
          },
          "metadata": {
            "tags": []
          },
          "execution_count": 20
        }
      ]
    },
    {
      "cell_type": "markdown",
      "metadata": {
        "id": "F2jEseGyPPlX"
      },
      "source": [
        "## 데이터 표준화\n",
        "\n",
        "- 데이터 포맷을 일관성 있게 표준화\n",
        "\n",
        "\n",
        "\n"
      ]
    },
    {
      "cell_type": "code",
      "metadata": {
        "colab": {
          "base_uri": "https://localhost:8080/"
        },
        "id": "q16CnbemOsLg",
        "outputId": "7a426fd9-2fba-45dc-cfdb-f764cf102b99"
      },
      "source": [
        "#데이터 표준화\n",
        "\n",
        "#1) 단위 환산. 단위를 통일시켜주고 싶을 때. 이건 어렵지 않고 단위환산을 어떻게 할 것인가에 대한 부분임.\n",
        "# ex) mpg(mile per galion) -> kpl(killometer per liter)\n",
        "mpg_to_kpl = 1.60934 / 3.78541 #뭐 이런 거...\n",
        "\n",
        "#소수점 건드리기\n",
        "df['age'].round(2) #소수점 둘째자리까지 나옴 df타이타닉임 ㅋㅋ"
      ],
      "execution_count": null,
      "outputs": [
        {
          "output_type": "execute_result",
          "data": {
            "text/plain": [
              "0      22.0\n",
              "1      38.0\n",
              "2      26.0\n",
              "3      35.0\n",
              "4      35.0\n",
              "       ... \n",
              "886    27.0\n",
              "887    19.0\n",
              "888     NaN\n",
              "889    26.0\n",
              "890    32.0\n",
              "Name: age, Length: 891, dtype: float64"
            ]
          },
          "metadata": {
            "tags": []
          },
          "execution_count": 21
        }
      ]
    },
    {
      "cell_type": "code",
      "metadata": {
        "id": "GWruquK7Qj4e"
      },
      "source": [
        "#자료형 변환, 즉 자료형 통일\n"
      ],
      "execution_count": null,
      "outputs": []
    },
    {
      "cell_type": "markdown",
      "metadata": {
        "id": "1N6LCG7vQxoW"
      },
      "source": [
        "### 범주형(카테고리) 데이터 처리"
      ]
    },
    {
      "cell_type": "markdown",
      "metadata": {
        "id": "UrNFF7jNQ8U7"
      },
      "source": [
        "구간 분할\n",
        " - 연속 데이터를 그대로 사용하지 않고 일정 구간(bin)으로 나눠서 분석 -> 효율적일 경우\n",
        "\n",
        " 원핫인코딩\n",
        " - 범주형 데이터를 0과 1로만 구성된 것으로 변환(원핫 벡터). 선형대수에선 희귀벡터라고 하기도 함."
      ]
    },
    {
      "cell_type": "code",
      "metadata": {
        "id": "8T5LaYFoQ1-b"
      },
      "source": [
        "#카테고리 써서 했던 것들이 범주형 데이터 처리임! 효율적인 경우에만 씀!!!\n",
        "#매직넘버라고 하는데, 5 ~ 8개 정도가 범주화 시키기 제일 좋음. \n",
        "\n",
        "#원핫인코딩 "
      ],
      "execution_count": null,
      "outputs": []
    },
    {
      "cell_type": "markdown",
      "metadata": {
        "id": "FD44mbHkR7Qi"
      },
      "source": [
        "###정규화 \n",
        "\n",
        "- 숫자 데이터의 상대적인 크기 차이를 제거"
      ]
    },
    {
      "cell_type": "code",
      "metadata": {
        "colab": {
          "base_uri": "https://localhost:8080/"
        },
        "id": "v5ce9kkySKWV",
        "outputId": "fab0f1b6-b3ed-4fb5-9694-d5fc515d2dc0"
      },
      "source": [
        "#이거 하기엔 연비하는 게 좋으니까 시본에서 mpg 갖고와볼게 \n",
        "df = sns.load_dataset('mpg')\n",
        "df['horsepower'] / abs( df['horsepower'].max() )\n",
        "\n",
        "#df.info()"
      ],
      "execution_count": null,
      "outputs": [
        {
          "output_type": "execute_result",
          "data": {
            "text/plain": [
              "0      0.565217\n",
              "1      0.717391\n",
              "2      0.652174\n",
              "3      0.652174\n",
              "4      0.608696\n",
              "         ...   \n",
              "393    0.373913\n",
              "394    0.226087\n",
              "395    0.365217\n",
              "396    0.343478\n",
              "397    0.356522\n",
              "Name: horsepower, Length: 398, dtype: float64"
            ]
          },
          "metadata": {
            "tags": []
          },
          "execution_count": 23
        }
      ]
    },
    {
      "cell_type": "code",
      "metadata": {
        "colab": {
          "base_uri": "https://localhost:8080/"
        },
        "id": "GIXH1dpWSY3G",
        "outputId": "c60dc943-03b2-405c-ad59-dd7e8890e32d"
      },
      "source": [
        "min_x = df['horsepower'] - df['horsepower'].min()\n",
        "min_x.max()"
      ],
      "execution_count": null,
      "outputs": [
        {
          "output_type": "execute_result",
          "data": {
            "text/plain": [
              "184.0"
            ]
          },
          "metadata": {
            "tags": []
          },
          "execution_count": 28
        }
      ]
    },
    {
      "cell_type": "code",
      "metadata": {
        "id": "gJ_2PPA1TWar"
      },
      "source": [
        "#오늘도 수업 때 안졸고 잘 버텼다... 집 가서 복습하면 어떻게든 될 거야. 안되도 괜찮아. 내일 또 하면 되지. 내일 안돼? 그럼 내일 모레에 또하고. 그 다음에 또하고 ㅋㅋㅋ 그렇게 하면 돼 ㅎㅎ\n",
        "#데이터 분석하는 건 재밌어. 진짜 재밌는 것 같아. 캐글 보는 것도 재밌고. 데이터 분석은 진짜 재밌어. 지금 뭐가 너무 많아서 그렇고. 이거"
      ],
      "execution_count": null,
      "outputs": []
    },
    {
      "cell_type": "markdown",
      "metadata": {
        "id": "eQGMuFkQesdo"
      },
      "source": [
        "## 판다스 시계열 데이터 처리\n",
        "\n",
        "- 판다스 시간 표시 유형\n",
        "1. TImestamp : 특정한 시점을 기록\n",
        "2. period : 두 시점 사이의 일정한 기간을 표시\n"
      ]
    }
  ]
}