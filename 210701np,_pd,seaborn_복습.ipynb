{
  "nbformat": 4,
  "nbformat_minor": 0,
  "metadata": {
    "colab": {
      "name": "210701np, pd,seaborn 복습.ipynb",
      "provenance": [],
      "authorship_tag": "ABX9TyP0HVhhXXxx3OE4lPJ7Yg8f",
      "include_colab_link": true
    },
    "kernelspec": {
      "name": "python3",
      "display_name": "Python 3"
    },
    "language_info": {
      "name": "python"
    }
  },
  "cells": [
    {
      "cell_type": "markdown",
      "metadata": {
        "id": "view-in-github",
        "colab_type": "text"
      },
      "source": [
        "<a href=\"https://colab.research.google.com/github/JAEILJEON/JAEIL_DATA/blob/main/210701np%2C_pd%2Cseaborn_%EB%B3%B5%EC%8A%B5.ipynb\" target=\"_parent\"><img src=\"https://colab.research.google.com/assets/colab-badge.svg\" alt=\"Open In Colab\"/></a>"
      ]
    },
    {
      "cell_type": "code",
      "metadata": {
        "colab": {
          "base_uri": "https://localhost:8080/"
        },
        "id": "cVAHpXjQB3yo",
        "outputId": "0b679500-1286-4d86-ebb7-203a85686552"
      },
      "source": [
        "# 구글드라이브 연동\n",
        "from google.colab import drive\n",
        "drive.mount('/gdrive', force_remount=True)\n",
        "\n",
        "# 구글 드라이브 파일 확인\n",
        "!ls '/gdrive/My Drive/temp/'\n",
        "\n",
        "# 반복되는 드라이브 경로 변수화\n",
        "drive_path = '/gdrive/My Drive/temp/'"
      ],
      "execution_count": 1,
      "outputs": [
        {
          "output_type": "stream",
          "text": [
            "Mounted at /gdrive\n",
            " 매수종목1.txt\t\t   little-char.png\t   seoul_map.html\n",
            " 매수종목2.txt\t\t   ml_class.png\t\t   sonar.csv\n",
            " adult.data\t\t   pca_1.png\t\t   stock-data.csv\n",
            " auto-mpg.csv\t\t   pca_2.png\t\t  'stock price.xlsx'\n",
            " bmi_500.csv\t\t   pca_3.png\t\t  'stock valuation.xlsx'\n",
            " citibike.csv\t\t   Picture1.png\t\t   test.db.db\n",
            " 매수종목.csv\t\t   population_number.csv   test.txt\n",
            " data_mine.csv\t\t   ram_price.csv\t   ThoraricSurgery.csv\n",
            " data_population.csv\t   ratings_small.txt\t   titanic.xls\n",
            " data_studentlist_en.csv   ratings_test.txt\t   tmdb_5000_credits.csv\n",
            " demo.docx\t\t   ratings_train.txt\t   tmdb_5000_movies.csv\n",
            " diabetes.csv\t\t   sample1.pdf\t\t   Traffic_Accident_2017.csv\n",
            " example.docx\t\t   sample2.pdf\t\t   train.csv\n",
            " height_weight.txt\t   sample.docx\t\t   user_id_mean.csv\n",
            " HelloWorld.xlsx\t   sample_merge.pdf\t   wine.csv\n",
            " house_price.csv\t   sample.xlsx\t\t   주가데이터.xlsx\n",
            " lenna.png\t\t   score.csv\t\t   남북한발전전력량.xlsx\n"
          ],
          "name": "stdout"
        }
      ]
    },
    {
      "cell_type": "code",
      "metadata": {
        "id": "2Khk6sbFC1aO"
      },
      "source": [
        "import numpy as np\n",
        "import pandas as pd\n",
        "import seaborn as sns"
      ],
      "execution_count": 2,
      "outputs": []
    },
    {
      "cell_type": "code",
      "metadata": {
        "id": "WRlmyQd1zDv3",
        "colab": {
          "base_uri": "https://localhost:8080/"
        },
        "outputId": "85c39209-a4c8-44f9-f76d-93e58766357e"
      },
      "source": [
        "### 영화 평점 구하기 ### 12회차\n",
        "###이거 완전히 이해해서 안보고 아예 줄줄줄 쓸 수 있으면 복습 끝임.###\n",
        "#data = np.loadtxt(drive_path + 'ratings_small.txt', delimiter='::',dtype=np.int64)\n",
        "#data\n",
        "\n",
        "##데이터 분석해보기\n",
        "##전체 평점 구하기\n",
        "data[:,2]\n",
        "\n",
        "##각 사용자별 평점 평균 구하기\n",
        "##1) 1번 사용자의 평균 평점 구하기\n",
        "data[data[:,0]==1][:,2].mean()\n",
        "\n",
        "##각 사용자별 평점 평균.\n",
        "#각 사용자 구할 때 unique() 함수 써서 하나씩 전체 구분. sql에서 distinct, group by 같은 느낌.\n",
        "aui = np.unique(data[:,0])\n",
        "aui\n",
        "auim = []\n",
        "for i in aui:\n",
        "  auim.append([i,data[data[:,0] == i][:,2].mean()])\n",
        "auim\n",
        "\n",
        "###4점 이상 사용자 출력하기\n",
        "### 대박쓰다\n",
        "auim = np.array(auim, dtype = int)\n",
        "auim[auim[:,1] >= 4][:,0]\n"
      ],
      "execution_count": 10,
      "outputs": [
        {
          "output_type": "execute_result",
          "data": {
            "text/plain": [
              "array([   1,    4,    7,   10,   17,   20,   27,   36,   43,   46,   53,\n",
              "         54,   55,   64,   65,   67,   69,   74,   75,   76,   81,   82,\n",
              "         86,   88,   91,   97,  101,  103,  105,  106,  109,  112,  121,\n",
              "        124,  125,  126,  128,  129,  130,  138,  150,  152,  153,  156,\n",
              "        158,  161,  162,  164,  171,  177,  183,  184,  186,  187,  189,\n",
              "        196,  205,  210,  213,  215,  220,  222,  228,  230,  231,  233,\n",
              "        234,  235,  239,  244,  246,  248,  252,  255,  257,  259,  265,\n",
              "        266,  270,  274,  275,  283,  285,  288,  291,  297,  299,  300,\n",
              "        307,  309,  311,  313,  316,  320,  322,  325,  330,  332,  336,\n",
              "        339,  341,  343,  345,  346,  356,  366,  367,  372,  374,  375,\n",
              "        376,  379,  381,  382,  399,  404,  408,  412,  413,  417,  420,\n",
              "        421,  427,  434,  437,  444,  446,  447,  450,  451,  452,  455,\n",
              "        466,  469,  472,  473,  485,  486,  494,  496,  502,  503,  505,\n",
              "        514,  518,  521,  523,  525,  527,  529,  530,  537,  538,  543,\n",
              "        553,  564,  567,  568,  574,  577,  582,  583,  584,  586,  588,\n",
              "        589,  590,  592,  594,  597,  605,  606,  607,  609,  615,  617,\n",
              "        623,  625,  626,  630,  634,  635,  636,  638,  640,  641,  642,\n",
              "        645,  653,  657,  661,  664,  671,  674,  681,  682,  690,  691,\n",
              "        703,  711,  714,  716,  725,  733,  739,  740,  750,  755,  758,\n",
              "        760,  761,  764,  767,  768,  775,  784,  786,  790,  797,  806,\n",
              "        809,  811,  814,  815,  817,  829,  831,  833,  834,  838,  840,\n",
              "        848,  852,  857,  858,  863,  864,  875,  878,  879,  882,  884,\n",
              "        885,  894,  898,  902,  914,  917,  926,  928,  931,  932,  942,\n",
              "        943,  946,  951,  953,  957,  962,  965,  968,  969,  979,  982,\n",
              "        983,  985,  987,  989,  994,  998, 1000, 1002, 1003, 1005, 1007,\n",
              "       1018, 1021, 1023, 1026, 1031, 1036, 1040, 1041, 1048, 1052, 1062,\n",
              "       1063, 1071, 1072, 1073, 1075, 1077, 1081, 1082, 1089, 1092, 1095,\n",
              "       1098, 1108, 1110, 1111, 1129, 1131, 1132, 1134, 1143, 1157, 1170,\n",
              "       1171, 1175, 1176, 1180, 1186, 1188, 1190, 1191, 1192, 1197, 1208,\n",
              "       1213, 1215, 1217, 1224, 1225, 1229, 1232, 1234, 1241, 1245, 1250,\n",
              "       1252, 1254, 1256, 1258, 1268, 1269, 1271, 1275, 1276, 1278, 1282,\n",
              "       1289, 1290, 1302, 1305, 1306, 1307, 1315, 1320, 1322, 1324, 1330,\n",
              "       1336, 1338, 1343, 1349, 1351, 1355, 1361, 1363, 1364, 1368, 1371,\n",
              "       1378, 1382, 1388, 1393, 1400, 1401, 1402, 1407, 1409, 1410, 1423,\n",
              "       1428, 1430, 1437, 1443, 1446, 1452, 1456, 1459, 1469, 1477, 1479,\n",
              "       1481, 1488, 1490, 1507, 1511, 1513, 1518, 1520, 1526, 1528, 1532,\n",
              "       1536, 1539, 1541, 1555, 1558, 1561, 1568, 1569, 1577, 1578, 1586,\n",
              "       1588, 1590, 1591, 1595, 1602, 1604, 1618, 1619, 1623, 1638, 1643,\n",
              "       1645, 1654, 1663, 1668, 1670, 1673, 1681, 1682, 1684, 1692, 1697,\n",
              "       1699, 1702, 1703, 1704, 1707, 1718, 1720, 1722, 1724, 1727, 1728,\n",
              "       1732, 1734, 1740, 1744, 1746, 1751, 1764, 1771])"
            ]
          },
          "metadata": {
            "tags": []
          },
          "execution_count": 10
        }
      ]
    },
    {
      "cell_type": "code",
      "metadata": {
        "id": "TwIXing98zhO",
        "colab": {
          "base_uri": "https://localhost:8080/",
          "height": 265
        },
        "outputId": "22a9a36a-d453-4268-e8ec-eaff2b8da546"
      },
      "source": [
        "### 판다스 타이타닉 ### 10회차\n",
        "\n",
        "## Pandas 연습 04-1\n",
        "#1. 타이타닉호 승객 데이터(train.csv)를 데이터프레임으로 읽어 온다.\n",
        "train = pd.read_csv(drive_path + 'train.csv', index_col='PassengerId')\n",
        "train.head()#\n",
        "\n",
        "#2. 타이타닉호 승객 데이터의 데이터 개수를 각 열마다 구해본다.\n",
        "#train.info()\n",
        "\n",
        "\n",
        "## Pandas 연습 04-2\n",
        "#1. 타이타닉호 승객 중 성별(Sex) 인원수, 나이별(Age) 인원수, 선실별(Pclass) 인원수, 사망/생존(Survived) 인원수를 구하라.\n",
        "train['Sex'].value_counts()\n",
        "\n",
        "## Pandas 연습 04-3\n",
        "#1. 타이타닉호 승객을 사망자와 생존자 그룹으로 나누고 각 그룹에 대해  ‘미성년자‘, ‘청년‘, ‘중년‘, ‘장년‘, ‘노년’ 승객의 비율을 구하라.\n",
        "#(단, 그룹별 비율의 전체 합은 1이 되어야 한다.)\n",
        "\n",
        "bins = [0, 15, 25, 35, 60, 99]\n",
        "labels = [\"미성년자\", \"청년\", \"중년\", \"장년\", \"노년\"]\n",
        "#생존자\n",
        "a = train[train['Survived']==1]['Age']\n",
        "ac = pd.cut(a,bins,labels=labels)\n",
        "ac.value_counts()\n",
        "\n",
        "## Pandas 연습 04-4\n",
        "#1. 선실(Pclass), 성별(Sex)로 생존자 수를 구하라.\n",
        "#group by 를 쓰게 되는데, \n",
        "\n",
        "train[ ['Pclass','Sex','Survived'] ].groupby( ['Pclass','Sex'] ).sum()\n",
        "\n",
        "\n",
        "\n",
        "\n",
        "\n"
      ],
      "execution_count": 22,
      "outputs": [
        {
          "output_type": "execute_result",
          "data": {
            "text/html": [
              "<div>\n",
              "<style scoped>\n",
              "    .dataframe tbody tr th:only-of-type {\n",
              "        vertical-align: middle;\n",
              "    }\n",
              "\n",
              "    .dataframe tbody tr th {\n",
              "        vertical-align: top;\n",
              "    }\n",
              "\n",
              "    .dataframe thead th {\n",
              "        text-align: right;\n",
              "    }\n",
              "</style>\n",
              "<table border=\"1\" class=\"dataframe\">\n",
              "  <thead>\n",
              "    <tr style=\"text-align: right;\">\n",
              "      <th></th>\n",
              "      <th></th>\n",
              "      <th>Survived</th>\n",
              "    </tr>\n",
              "    <tr>\n",
              "      <th>Pclass</th>\n",
              "      <th>Sex</th>\n",
              "      <th></th>\n",
              "    </tr>\n",
              "  </thead>\n",
              "  <tbody>\n",
              "    <tr>\n",
              "      <th rowspan=\"2\" valign=\"top\">1</th>\n",
              "      <th>female</th>\n",
              "      <td>91</td>\n",
              "    </tr>\n",
              "    <tr>\n",
              "      <th>male</th>\n",
              "      <td>45</td>\n",
              "    </tr>\n",
              "    <tr>\n",
              "      <th rowspan=\"2\" valign=\"top\">2</th>\n",
              "      <th>female</th>\n",
              "      <td>70</td>\n",
              "    </tr>\n",
              "    <tr>\n",
              "      <th>male</th>\n",
              "      <td>17</td>\n",
              "    </tr>\n",
              "    <tr>\n",
              "      <th rowspan=\"2\" valign=\"top\">3</th>\n",
              "      <th>female</th>\n",
              "      <td>72</td>\n",
              "    </tr>\n",
              "    <tr>\n",
              "      <th>male</th>\n",
              "      <td>47</td>\n",
              "    </tr>\n",
              "  </tbody>\n",
              "</table>\n",
              "</div>"
            ],
            "text/plain": [
              "               Survived\n",
              "Pclass Sex             \n",
              "1      female        91\n",
              "       male          45\n",
              "2      female        70\n",
              "       male          17\n",
              "3      female        72\n",
              "       male          47"
            ]
          },
          "metadata": {
            "tags": []
          },
          "execution_count": 22
        }
      ]
    },
    {
      "cell_type": "code",
      "metadata": {
        "colab": {
          "base_uri": "https://localhost:8080/",
          "height": 234
        },
        "id": "8RII6imUCj2B",
        "outputId": "b1785696-f929-4e13-c4fe-817b471591bc"
      },
      "source": [
        "##판다스 요약 6회차\n",
        "\n",
        "dic = {'city': ['서울', '부산', '대전', '대구', '광주'],\n",
        "        'year': [2017, 2017, 2018, 2018, 2018],\n",
        "        'temp': [18, 20, 19, 21, 20]}\n",
        "\n",
        "\n",
        "#'year', 'city', 'temp'를 가지고 데이터 프레임 만들어라\n",
        "\n",
        "# index -> 'a','b','c','d','e' 인덱스에 이름 추가하라는 이야기\n",
        "\n",
        "\n",
        "# columns -> '도시','연도','날씨' 열 부분에 추가하라는 거~\n",
        "\n",
        "\n",
        "# index -> '도시'\n",
        "#f.columns.name = '특성'\n",
        "\n",
        "\n",
        "df\n"
      ],
      "execution_count": null,
      "outputs": [
        {
          "output_type": "execute_result",
          "data": {
            "text/html": [
              "<div>\n",
              "<style scoped>\n",
              "    .dataframe tbody tr th:only-of-type {\n",
              "        vertical-align: middle;\n",
              "    }\n",
              "\n",
              "    .dataframe tbody tr th {\n",
              "        vertical-align: top;\n",
              "    }\n",
              "\n",
              "    .dataframe thead th {\n",
              "        text-align: right;\n",
              "    }\n",
              "</style>\n",
              "<table border=\"1\" class=\"dataframe\">\n",
              "  <thead>\n",
              "    <tr style=\"text-align: right;\">\n",
              "      <th>특성</th>\n",
              "      <th>도시</th>\n",
              "      <th>연도</th>\n",
              "      <th>날씨</th>\n",
              "    </tr>\n",
              "    <tr>\n",
              "      <th>도시</th>\n",
              "      <th></th>\n",
              "      <th></th>\n",
              "      <th></th>\n",
              "    </tr>\n",
              "  </thead>\n",
              "  <tbody>\n",
              "    <tr>\n",
              "      <th>a</th>\n",
              "      <td>서울</td>\n",
              "      <td>2017</td>\n",
              "      <td>18</td>\n",
              "    </tr>\n",
              "    <tr>\n",
              "      <th>b</th>\n",
              "      <td>부산</td>\n",
              "      <td>2017</td>\n",
              "      <td>20</td>\n",
              "    </tr>\n",
              "    <tr>\n",
              "      <th>c</th>\n",
              "      <td>대전</td>\n",
              "      <td>2018</td>\n",
              "      <td>19</td>\n",
              "    </tr>\n",
              "    <tr>\n",
              "      <th>d</th>\n",
              "      <td>대구</td>\n",
              "      <td>2018</td>\n",
              "      <td>21</td>\n",
              "    </tr>\n",
              "    <tr>\n",
              "      <th>e</th>\n",
              "      <td>광주</td>\n",
              "      <td>2018</td>\n",
              "      <td>20</td>\n",
              "    </tr>\n",
              "  </tbody>\n",
              "</table>\n",
              "</div>"
            ],
            "text/plain": [
              "특성  도시    연도  날씨\n",
              "도시              \n",
              "a   서울  2017  18\n",
              "b   부산  2017  20\n",
              "c   대전  2018  19\n",
              "d   대구  2018  21\n",
              "e   광주  2018  20"
            ]
          },
          "metadata": {
            "tags": []
          },
          "execution_count": 19
        }
      ]
    },
    {
      "cell_type": "code",
      "metadata": {
        "id": "wpobgp7WG1IP"
      },
      "source": [
        "### SEABORN 시각화 ### 이건 복습 안해씀 ㅠ\n",
        "\n",
        "#seaborn이 그렇게 편하다면서?\n",
        "import seaborn as sns\n",
        "\n",
        "df = sns.load_dataset('mpg')\n",
        "df.info()\n",
        "\n",
        "# 히스토그램\n",
        "\n",
        "sns.displot( df['mpg'], bins=50, kde=True, color='r' )   #자료를 넣어줘야하니까 데이터프레임의 mpg를 쓰겠다고 하면 mpg에 대해서만 만들어짐\n",
        "#kde는 커널밀도 함수를 통한 곡선을 그려줌.\n",
        "#색상은 컬러로 바꾸면 됨.\n",
        "plt.show()\n",
        "\n",
        "# Hex\n",
        "#헥사로 했기 때문에 6각형이 나오는 거임.\n",
        "\n",
        "#sns.jointplot(kind = 'hex', data=df)    #이러면 y값이 없다고 오류가 뜬다.\n",
        "sns.jointplot(kind = 'hex', data=df, x='weight', y='mpg', color='green', ) #분명 무게와 연비의 상관관계를 다루겠다는 이야기였는데요...\n",
        "                                                          #위에는 히스토그램임. 히스토그램과 산점도를 동시에 보여준다..\n",
        "\n",
        "\n",
        "# kde\n",
        "#만약에 hex가 아니라 kde로 바꾸면?!\n",
        "sns.jointplot(kind='kde', data=df, x='weight', y='mpg', color='green')\n",
        "plt.show()\n",
        "\n",
        "\n",
        "# box\n",
        "sns.boxplot(data=df, y='mpg')\n",
        "\n",
        "\n",
        "#만약에 박스를 여러개 그려주고 싶다면?!\n",
        "sns.boxplot(data=df, y='mpg', x='origin')\n",
        "plt.show()\n",
        "\n",
        "\n",
        "# 바이올린\n",
        "sns.violinplot(data=df, y='mpg', x='origin')\n",
        "\n",
        "\n",
        "#붓꽃 품종 건드리는 거..\n",
        "\n",
        "df = sns.load_dataset('iris')\n",
        "df.head()\n",
        "\n",
        "# 산점도 행렬\n",
        "#산점도는 2개만 비교할 수 있음. 근데 붓꽃은 요소가 4개잖아? 4x4. 많은 요소가 있을 때 어떤 요소들이 제일 연관도가 높느냐! 이런 것을 좀 봄. \n",
        "sns.pairplot(df)\n",
        "\n",
        "#예쁘게 그려보기\n",
        "\n",
        "sns.pairplot(df, hue='species') #분류용으로 사용하기 좋은 녀석임. 분류용으로 산점도 자주 활용함"
      ],
      "execution_count": null,
      "outputs": []
    }
  ]
}