{
  "nbformat": 4,
  "nbformat_minor": 0,
  "metadata": {
    "colab": {
      "name": "210629 딥러닝 수업 전혀 이해 못함!.ipynb",
      "provenance": [],
      "collapsed_sections": [],
      "authorship_tag": "ABX9TyPtxQXad5O8BEnMhA/zK7pp",
      "include_colab_link": true
    },
    "kernelspec": {
      "name": "python3",
      "display_name": "Python 3"
    },
    "language_info": {
      "name": "python"
    }
  },
  "cells": [
    {
      "cell_type": "markdown",
      "metadata": {
        "id": "view-in-github",
        "colab_type": "text"
      },
      "source": [
        "<a href=\"https://colab.research.google.com/github/JAEILJEON/JAEIL_DATA/blob/main/210629_%EB%94%A5%EB%9F%AC%EB%8B%9D_%EC%88%98%EC%97%85_%EC%A0%84%ED%98%80_%EC%9D%B4%ED%95%B4_%EB%AA%BB%ED%95%A8!.ipynb\" target=\"_parent\"><img src=\"https://colab.research.google.com/assets/colab-badge.svg\" alt=\"Open In Colab\"/></a>"
      ]
    },
    {
      "cell_type": "code",
      "metadata": {
        "colab": {
          "base_uri": "https://localhost:8080/"
        },
        "id": "xFAzyvMslpRG",
        "outputId": "05f16db7-0b5f-42fc-98bd-49dc3f091aa8"
      },
      "source": [
        "#판다스는 데이터 정제, 드랍시키거나 할 때\n",
        "#넘파이는 연산할 때\n",
        "#텐서플로는 신경망 모델 다룰 때\n",
        "\n",
        "#우리 수업은 넘파이와 텐서플로를 활용한 신경망 구축을 할 거다!\n",
        "\n",
        "\n",
        "import tensorflow as tf\n",
        "mnist = tf.keras.datasets.mnist\n",
        "\n",
        "(x_train, y_train),(x_test, y_test) = mnist.load_data()\n",
        "x_train, x_test = x_train / 255.0, x_test / 255.0\n",
        "\n",
        "model = tf.keras.models.Sequential([\n",
        "  tf.keras.layers.Flatten(input_shape=(28, 28)),\n",
        "  tf.keras.layers.Dense(128, activation='relu'),\n",
        "  tf.keras.layers.Dropout(0.2),\n",
        "  tf.keras.layers.Dense(10, activation='softmax')\n",
        "])\n",
        "\n",
        "model.compile(optimizer='adam',\n",
        "              loss='sparse_categorical_crossentropy',\n",
        "              metrics=['accuracy'])\n",
        "\n",
        "model.fit(x_train, y_train, epochs=5)\n",
        "model.evaluate(x_test, y_test)\n",
        "\n",
        "# 에폭 epoch : 학습을 몇번 반복할 것이냐?\n",
        "# 로스 loss :실제값과 예측값이 존재하는데, 그 두가지의 값으로 현재 신경망의 성능을 얼마나 개선시켜야하는지 정량적 지표로 보여주는 것!"
      ],
      "execution_count": 1,
      "outputs": [
        {
          "output_type": "stream",
          "text": [
            "Downloading data from https://storage.googleapis.com/tensorflow/tf-keras-datasets/mnist.npz\n",
            "11493376/11490434 [==============================] - 0s 0us/step\n",
            "Epoch 1/5\n",
            "1875/1875 [==============================] - 5s 2ms/step - loss: 0.2937 - accuracy: 0.9154\n",
            "Epoch 2/5\n",
            "1875/1875 [==============================] - 4s 2ms/step - loss: 0.1416 - accuracy: 0.9582\n",
            "Epoch 3/5\n",
            "1875/1875 [==============================] - 4s 2ms/step - loss: 0.1065 - accuracy: 0.9676\n",
            "Epoch 4/5\n",
            "1875/1875 [==============================] - 4s 2ms/step - loss: 0.0872 - accuracy: 0.9729\n",
            "Epoch 5/5\n",
            "1875/1875 [==============================] - 4s 2ms/step - loss: 0.0759 - accuracy: 0.9754\n",
            "313/313 [==============================] - 1s 1ms/step - loss: 0.0742 - accuracy: 0.9784\n"
          ],
          "name": "stdout"
        },
        {
          "output_type": "execute_result",
          "data": {
            "text/plain": [
              "[0.07416906207799911, 0.9783999919891357]"
            ]
          },
          "metadata": {
            "tags": []
          },
          "execution_count": 1
        }
      ]
    },
    {
      "cell_type": "code",
      "metadata": {
        "colab": {
          "base_uri": "https://localhost:8080/"
        },
        "id": "g275U_dLltHG",
        "outputId": "d5d90b54-7c88-460a-9805-0e19abf90176"
      },
      "source": [
        "theta_0 = 0.123\n",
        "theta_1 = 1.324\n",
        "\n",
        "x = 0.455\n",
        "y_label = 15 #실제 값\n",
        "\n",
        "y_hat = theta_0 + (theta_1*x)\n",
        "\n",
        "print( 'y_label : {}'.format(y_label) )\n",
        "print( 'y_hat : {}'.format(y_hat) )"
      ],
      "execution_count": 3,
      "outputs": [
        {
          "output_type": "stream",
          "text": [
            "y_label : 15\n",
            "y_hat : 0.7254200000000001\n"
          ],
          "name": "stdout"
        }
      ]
    },
    {
      "cell_type": "markdown",
      "metadata": {
        "id": "ia8PQKOoovXu"
      },
      "source": [
        ""
      ]
    },
    {
      "cell_type": "code",
      "metadata": {
        "colab": {
          "base_uri": "https://localhost:8080/"
        },
        "id": "_SxYp-tToH9p",
        "outputId": "d2a38e72-d9f6-407c-d759-e27d9666596d"
      },
      "source": [
        "#월드컵\n",
        "#강사가 풀어준 것\n",
        "import numpy as np\n",
        "\n",
        "y_1 = 21\n",
        "y_2 = 10\n",
        "y_3 = 14\n",
        "\n",
        "y_hat_1 = 15\n",
        "y_hat_2 = 12\n",
        "y_hat_3 = 18\n",
        "\n",
        "\n",
        "a = (y_1 - y_hat_1) ** 2\n",
        "b = (y_2 - y_hat_2) ** 2\n",
        "c = (y_3 - y_hat_3) ** 2\n",
        "\n",
        "n = 3\n",
        "mse = (a+b+c)/n\n",
        "print( 'MSE:{}'.format( np.round(mse,3) ) ) #소수점 몇자리까지 올릴 건지 round 함수 사용가능\n",
        "\n"
      ],
      "execution_count": 11,
      "outputs": [
        {
          "output_type": "stream",
          "text": [
            "MSE:18.667\n"
          ],
          "name": "stdout"
        }
      ]
    },
    {
      "cell_type": "code",
      "metadata": {
        "id": "h_Kg1hmBp7Vu"
      },
      "source": [
        "import tensorflow as tf\n",
        "import numpy as np"
      ],
      "execution_count": 8,
      "outputs": []
    },
    {
      "cell_type": "code",
      "metadata": {
        "id": "N5j0h5MKwl_B"
      },
      "source": [
        "x = np.array([[1,1],[0,1],[1,0],[0,0]])\n",
        "y = np.array([[0],[1],[1],[0]])"
      ],
      "execution_count": 28,
      "outputs": []
    },
    {
      "cell_type": "markdown",
      "metadata": {
        "id": "BxcjuJsQxHzV"
      },
      "source": [
        ""
      ]
    },
    {
      "cell_type": "code",
      "metadata": {
        "id": "n2w2STHSxIaT"
      },
      "source": [
        "#모델 만들기. 2가지 방식이 있음. \n",
        "#1) 순서대로 쌓는 방식\n",
        "#2) 함수형으로 쌓는 방식. 내 맘대로 쌓는다는 이야기 => 함수형 모델링\n",
        "\n",
        "#이건 순서. keras는 뭐임? 신경망도 신경망을 만드는 2가지 라이브러리가 텐서플로와 케라스였음. 지금은 텐서플로2에선 케라스를 쓸 수 있음.\n",
        "\n",
        "# 완전 연결계층. 전부다  연결되는 거. 이건 dense\n",
        "\n",
        "model = tf.keras.Sequential( [\n",
        "                              tf.keras.layers.Dense(units = 2, activation='elu',input_shape = (2,)), #튜플은 값이 하나일 때 값 쓰고 컴마 찍음. 우리도 (2, ) 이렇게 할 거. 이게 레이어 한개 쌓음.\n",
        "                              tf.keras.layers.Dense(units = 5, activation='elu'),    #2번째 레이어 유닛 5개\n",
        "                              tf.keras.layers.Dense(units = 7, activation='elu'),    #3번째 레이어 유닛 7개\n",
        "                              tf.keras.layers.Dense(units = 1, activation='sigmoid')    #4번째 레이어 유닛 1개, 시그모이드 함수 사용\n",
        "                              ] ) "
      ],
      "execution_count": 21,
      "outputs": []
    },
    {
      "cell_type": "markdown",
      "metadata": {
        "id": "MHp5tIoBzhJx"
      },
      "source": [
        "학습률 : 학습을 얼마나 정교하게 할 것이며, 그 정교함을 수치로 표현하는 것. learning rate => lr"
      ]
    },
    {
      "cell_type": "code",
      "metadata": {
        "id": "gr1OSnHmy8Pu"
      },
      "source": [
        "#어떠한 방식으로 최적화를 할 것인가. 뭘 쓸 건지를 알려주면 된다\n",
        "\n",
        "model.compile(optimizer =tf.keras.optimizers.Adam(learning_rate=0.001),loss = 'mse')\n",
        "\n",
        "history = model.fit(x,y,epochs=1000) #에폭은 적절히가 제일 좋겠지!"
      ],
      "execution_count": null,
      "outputs": []
    },
    {
      "cell_type": "code",
      "metadata": {
        "id": "d2ogBr_h0ngS"
      },
      "source": [
        "#이 함수가 모든 걸 처리할 거임. 이 한줄로!\n",
        "history = model.fit(x,y,epochs=1000) #에폭은 적절히가 제일 좋겠지"
      ],
      "execution_count": null,
      "outputs": []
    },
    {
      "cell_type": "code",
      "metadata": {
        "id": "U3boL_OyzwJs"
      },
      "source": [
        "print(model.predict(x))   #예측한 거 출력하기 "
      ],
      "execution_count": null,
      "outputs": []
    },
    {
      "cell_type": "code",
      "metadata": {
        "colab": {
          "base_uri": "https://localhost:8080/"
        },
        "id": "BqJHceh22WBx",
        "outputId": "f9768c23-2cee-4e42-efa3-69f5b14682f7"
      },
      "source": [
        "\n",
        "row1 = [ 'I',0.455,0.365,0.095 ]\n",
        "row2 = [ 'F',0.455,0.365,0.095 ]\n",
        "row3 = [ 'M',0.455,0.365,0.095 ]\n",
        "\n",
        "np.array( [row1,row2,row3] )\n",
        "\n",
        "#np.zeros\n",
        "\n",
        "#텐서플로를 왜 써야하는지 공부하자."
      ],
      "execution_count": 17,
      "outputs": [
        {
          "output_type": "execute_result",
          "data": {
            "text/plain": [
              "array([['I', '0.455', '0.365', '0.095'],\n",
              "       ['F', '0.455', '0.365', '0.095'],\n",
              "       ['M', '0.455', '0.365', '0.095']], dtype='<U5')"
            ]
          },
          "metadata": {
            "tags": []
          },
          "execution_count": 17
        }
      ]
    },
    {
      "cell_type": "code",
      "metadata": {
        "id": "STW1wtHy2nMN"
      },
      "source": [
        ""
      ],
      "execution_count": null,
      "outputs": []
    }
  ]
}