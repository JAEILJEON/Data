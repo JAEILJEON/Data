{
  "nbformat": 4,
  "nbformat_minor": 0,
  "metadata": {
    "colab": {
      "name": "210630 np, pd,seaborn 복습.ipynb",
      "provenance": [],
      "authorship_tag": "ABX9TyO+iYhdvLNQROh0mpZwVdZ+",
      "include_colab_link": true
    },
    "kernelspec": {
      "name": "python3",
      "display_name": "Python 3"
    },
    "language_info": {
      "name": "python"
    }
  },
  "cells": [
    {
      "cell_type": "markdown",
      "metadata": {
        "id": "view-in-github",
        "colab_type": "text"
      },
      "source": [
        "<a href=\"https://colab.research.google.com/github/JAEILJEON/JAEIL_DATA/blob/main/210630_np%2C_pd%2Cseaborn_%EB%B3%B5%EC%8A%B5.ipynb\" target=\"_parent\"><img src=\"https://colab.research.google.com/assets/colab-badge.svg\" alt=\"Open In Colab\"/></a>"
      ]
    },
    {
      "cell_type": "code",
      "metadata": {
        "colab": {
          "base_uri": "https://localhost:8080/"
        },
        "id": "cVAHpXjQB3yo",
        "outputId": "71d85ecc-813d-414b-9dc7-5d47a1bc4a91"
      },
      "source": [
        "# 구글드라이브 연동\n",
        "from google.colab import drive\n",
        "drive.mount('/gdrive', force_remount=True)\n",
        "\n",
        "# 구글 드라이브 파일 확인\n",
        "!ls '/gdrive/My Drive/temp/'\n",
        "\n",
        "# 반복되는 드라이브 경로 변수화\n",
        "drive_path = '/gdrive/My Drive/temp/'"
      ],
      "execution_count": 1,
      "outputs": [
        {
          "output_type": "stream",
          "text": [
            "Mounted at /gdrive\n",
            " 매수종목1.txt\t\t   little-char.png\t   seoul_map.html\n",
            " 매수종목2.txt\t\t   ml_class.png\t\t   sonar.csv\n",
            " adult.data\t\t   pca_1.png\t\t   stock-data.csv\n",
            " auto-mpg.csv\t\t   pca_2.png\t\t  'stock price.xlsx'\n",
            " bmi_500.csv\t\t   pca_3.png\t\t  'stock valuation.xlsx'\n",
            " citibike.csv\t\t   Picture1.png\t\t   test.db.db\n",
            " 매수종목.csv\t\t   population_number.csv   test.txt\n",
            " data_mine.csv\t\t   ram_price.csv\t   ThoraricSurgery.csv\n",
            " data_population.csv\t   ratings_small.txt\t   titanic.xls\n",
            " data_studentlist_en.csv   ratings_test.txt\t   tmdb_5000_credits.csv\n",
            " demo.docx\t\t   ratings_train.txt\t   tmdb_5000_movies.csv\n",
            " diabetes.csv\t\t   sample1.pdf\t\t   Traffic_Accident_2017.csv\n",
            " example.docx\t\t   sample2.pdf\t\t   train.csv\n",
            " height_weight.txt\t   sample.docx\t\t   user_id_mean.csv\n",
            " HelloWorld.xlsx\t   sample_merge.pdf\t   wine.csv\n",
            " house_price.csv\t   sample.xlsx\t\t   주가데이터.xlsx\n",
            " lenna.png\t\t   score.csv\t\t   남북한발전전력량.xlsx\n"
          ],
          "name": "stdout"
        }
      ]
    },
    {
      "cell_type": "code",
      "metadata": {
        "id": "2Khk6sbFC1aO"
      },
      "source": [
        "import numpy as np\n",
        "import pandas as pd\n",
        "import seaborn as sns"
      ],
      "execution_count": 2,
      "outputs": []
    },
    {
      "cell_type": "code",
      "metadata": {
        "id": "WRlmyQd1zDv3"
      },
      "source": [
        "### 영화 평점 구하기 ### 11회차\n",
        "###이거 완전히 이해해서 안보고 아예 줄줄줄 쓸 수 있으면 복습 끝임.###\n",
        "data = np.loadtxt(drive_path + 'ratings_small.txt', delimiter='::',dtype=np.int64)\n",
        "data\n",
        "\n",
        "##데이터 분석해보기\n",
        "##전체 평점 구하기\n",
        "data[:,2].mean()\n",
        "\n",
        "##각 사용자별 평점 평균 구하기\n",
        "##1) 1번 사용자의 평균 평점 구하기\n",
        "data[data[:,0]==1][:,2].mean()\n",
        "\n",
        "##각 사용자별 평점 평균.\n",
        "#각 사용자 구할 때 unique 쓰고, 그거로 하나하나씩 해서 빈 리스트에 값 넣어주기\n",
        "aui = np.unique(data[:,0])\n",
        "aui\n",
        "auim = []\n",
        "for i in aui:\n",
        "  auim.append([i, data[data[:,0]==i][:,2].mean()])\n",
        "\n",
        "auim\n",
        "\n",
        "\n",
        "###4점 이상 사용자 출력하기\n",
        "### 대박쓰다\n",
        "auim = np.array( auim, dtype=int )\n",
        "auim[auim[:,1] >=4][:,0]\n"
      ],
      "execution_count": null,
      "outputs": []
    },
    {
      "cell_type": "code",
      "metadata": {
        "id": "TwIXing98zhO"
      },
      "source": [
        "### 판다스 타이타닉 ### 9회차\n",
        "\n",
        "## Pandas 연습 04-1\n",
        "#1. 타이타닉호 승객 데이터(train.csv)를 데이터프레임으로 읽어 온다.\n",
        "#train = pd.read_csv(drive_path + 'train.csv', index_col='PassengerId')\n",
        "#train.head()\n",
        "\n",
        "#2. 타이타닉호 승객 데이터의 데이터 개수를 각 열마다 구해본다.\n",
        "#train.info()\n",
        "\n",
        "\n",
        "## Pandas 연습 04-2\n",
        "#1. 타이타닉호 승객 중 성별(Sex) 인원수, 나이별(Age) 인원수, 선실별(Pclass) 인원수, 사망/생존(Survived) 인원수를 구하라.\n",
        "train['Sex'].value_counts()\n",
        "train['Age'].value_counts()\n",
        "\n",
        "## Pandas 연습 04-3\n",
        "#1. 타이타닉호 승객을 사망자와 생존자 그룹으로 나누고 각 그룹에 대해  ‘미성년자‘, ‘청년‘, ‘중년‘, ‘장년‘, ‘노년’ 승객의 비율을 구하라.\n",
        "#(단, 그룹별 비율의 전체 합은 1이 되어야 한다.)\n",
        "\n",
        "bins = [0, 15, 25, 35, 60, 99]\n",
        "labels = [\"미성년자\", \"청년\", \"중년\", \"장년\", \"노년\"]\n",
        "#생존자\n",
        "age = train[train['Survived']==1]['Age']\n",
        "age_cut = pd.cut(age,bins,labels=labels)\n",
        "age_cut.value_counts()/age_cut.count()\n",
        "\n",
        "\n",
        "## Pandas 연습 04-4\n",
        "#1. 선실(Pclass), 성별(Sex)로 생존자 수를 구하라.\n",
        "train[ ['Pclass','Sex','Survived'] ].groupby( ['Pclass','Sex'] ).sum()\n",
        "\n",
        "\n",
        "\n",
        "\n",
        "\n"
      ],
      "execution_count": null,
      "outputs": []
    },
    {
      "cell_type": "code",
      "metadata": {
        "colab": {
          "base_uri": "https://localhost:8080/",
          "height": 234
        },
        "id": "8RII6imUCj2B",
        "outputId": "b1785696-f929-4e13-c4fe-817b471591bc"
      },
      "source": [
        "##판다스 요약 6회차\n",
        "\n",
        "dic = {'city': ['서울', '부산', '대전', '대구', '광주'],\n",
        "        'year': [2017, 2017, 2018, 2018, 2018],\n",
        "        'temp': [18, 20, 19, 21, 20]}\n",
        "\n",
        "\n",
        "#'year', 'city', 'temp'를 가지고 데이터 프레임 만들어라\n",
        "df = pd.DataFrame(dic)\n",
        "df\n",
        "\n",
        "# index -> 'a','b','c','d','e' 인덱스에 이름 추가하라는 이야기\n",
        "df.index = 'a','b','c','d','e'\n",
        "\n",
        "# columns -> '도시','연도','날씨' 열 부분에 추가하라는 거~\n",
        "df.columns = '도시','연도','날씨'\n",
        "\n",
        "# index -> '도시'\n",
        "#f.columns.name = '특성'\n",
        "df.index.name = '도시'\n",
        "df.columns.name = '특성'\n",
        "\n",
        "df\n"
      ],
      "execution_count": 19,
      "outputs": [
        {
          "output_type": "execute_result",
          "data": {
            "text/html": [
              "<div>\n",
              "<style scoped>\n",
              "    .dataframe tbody tr th:only-of-type {\n",
              "        vertical-align: middle;\n",
              "    }\n",
              "\n",
              "    .dataframe tbody tr th {\n",
              "        vertical-align: top;\n",
              "    }\n",
              "\n",
              "    .dataframe thead th {\n",
              "        text-align: right;\n",
              "    }\n",
              "</style>\n",
              "<table border=\"1\" class=\"dataframe\">\n",
              "  <thead>\n",
              "    <tr style=\"text-align: right;\">\n",
              "      <th>특성</th>\n",
              "      <th>도시</th>\n",
              "      <th>연도</th>\n",
              "      <th>날씨</th>\n",
              "    </tr>\n",
              "    <tr>\n",
              "      <th>도시</th>\n",
              "      <th></th>\n",
              "      <th></th>\n",
              "      <th></th>\n",
              "    </tr>\n",
              "  </thead>\n",
              "  <tbody>\n",
              "    <tr>\n",
              "      <th>a</th>\n",
              "      <td>서울</td>\n",
              "      <td>2017</td>\n",
              "      <td>18</td>\n",
              "    </tr>\n",
              "    <tr>\n",
              "      <th>b</th>\n",
              "      <td>부산</td>\n",
              "      <td>2017</td>\n",
              "      <td>20</td>\n",
              "    </tr>\n",
              "    <tr>\n",
              "      <th>c</th>\n",
              "      <td>대전</td>\n",
              "      <td>2018</td>\n",
              "      <td>19</td>\n",
              "    </tr>\n",
              "    <tr>\n",
              "      <th>d</th>\n",
              "      <td>대구</td>\n",
              "      <td>2018</td>\n",
              "      <td>21</td>\n",
              "    </tr>\n",
              "    <tr>\n",
              "      <th>e</th>\n",
              "      <td>광주</td>\n",
              "      <td>2018</td>\n",
              "      <td>20</td>\n",
              "    </tr>\n",
              "  </tbody>\n",
              "</table>\n",
              "</div>"
            ],
            "text/plain": [
              "특성  도시    연도  날씨\n",
              "도시              \n",
              "a   서울  2017  18\n",
              "b   부산  2017  20\n",
              "c   대전  2018  19\n",
              "d   대구  2018  21\n",
              "e   광주  2018  20"
            ]
          },
          "metadata": {
            "tags": []
          },
          "execution_count": 19
        }
      ]
    },
    {
      "cell_type": "code",
      "metadata": {
        "id": "wpobgp7WG1IP"
      },
      "source": [
        "### SEABORN 시각화 ### 이건 복습 안해씀 ㅠ\n",
        "\n",
        "#seaborn이 그렇게 편하다면서?\n",
        "import seaborn as sns\n",
        "\n",
        "df = sns.load_dataset('mpg')\n",
        "df.info()\n",
        "\n",
        "# 히스토그램\n",
        "\n",
        "sns.displot( df['mpg'], bins=50, kde=True, color='r' )   #자료를 넣어줘야하니까 데이터프레임의 mpg를 쓰겠다고 하면 mpg에 대해서만 만들어짐\n",
        "#kde는 커널밀도 함수를 통한 곡선을 그려줌.\n",
        "#색상은 컬러로 바꾸면 됨.\n",
        "plt.show()\n",
        "\n",
        "# Hex\n",
        "#헥사로 했기 때문에 6각형이 나오는 거임.\n",
        "\n",
        "#sns.jointplot(kind = 'hex', data=df)    #이러면 y값이 없다고 오류가 뜬다.\n",
        "sns.jointplot(kind = 'hex', data=df, x='weight', y='mpg', color='green', ) #분명 무게와 연비의 상관관계를 다루겠다는 이야기였는데요...\n",
        "                                                          #위에는 히스토그램임. 히스토그램과 산점도를 동시에 보여준다..\n",
        "\n",
        "\n",
        "# kde\n",
        "#만약에 hex가 아니라 kde로 바꾸면?!\n",
        "sns.jointplot(kind='kde', data=df, x='weight', y='mpg', color='green')\n",
        "plt.show()\n",
        "\n",
        "\n",
        "# box\n",
        "sns.boxplot(data=df, y='mpg')\n",
        "\n",
        "\n",
        "#만약에 박스를 여러개 그려주고 싶다면?!\n",
        "sns.boxplot(data=df, y='mpg', x='origin')\n",
        "plt.show()\n",
        "\n",
        "\n",
        "# 바이올린\n",
        "sns.violinplot(data=df, y='mpg', x='origin')\n",
        "\n",
        "\n",
        "#붓꽃 품종 건드리는 거..\n",
        "\n",
        "df = sns.load_dataset('iris')\n",
        "df.head()\n",
        "\n",
        "# 산점도 행렬\n",
        "#산점도는 2개만 비교할 수 있음. 근데 붓꽃은 요소가 4개잖아? 4x4. 많은 요소가 있을 때 어떤 요소들이 제일 연관도가 높느냐! 이런 것을 좀 봄. \n",
        "sns.pairplot(df)\n",
        "\n",
        "#예쁘게 그려보기\n",
        "\n",
        "sns.pairplot(df, hue='species') #분류용으로 사용하기 좋은 녀석임. 분류용으로 산점도 자주 활용함"
      ],
      "execution_count": null,
      "outputs": []
    }
  ]
}