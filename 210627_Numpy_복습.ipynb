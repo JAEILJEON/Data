{
  "nbformat": 4,
  "nbformat_minor": 0,
  "metadata": {
    "colab": {
      "name": "210627 Numpy 복습.ipynb",
      "provenance": [],
      "collapsed_sections": [],
      "include_colab_link": true
    },
    "kernelspec": {
      "name": "python3",
      "display_name": "Python 3"
    }
  },
  "cells": [
    {
      "cell_type": "markdown",
      "metadata": {
        "id": "view-in-github",
        "colab_type": "text"
      },
      "source": [
        "<a href=\"https://colab.research.google.com/github/JAEILJEON/JAEIL_DATA/blob/main/210627_Numpy_%EB%B3%B5%EC%8A%B5.ipynb\" target=\"_parent\"><img src=\"https://colab.research.google.com/assets/colab-badge.svg\" alt=\"Open In Colab\"/></a>"
      ]
    },
    {
      "cell_type": "markdown",
      "metadata": {
        "id": "_r0l51R-X1FV"
      },
      "source": [
        "### 구글드라이브 연동\n",
        "\n"
      ]
    },
    {
      "cell_type": "code",
      "metadata": {
        "id": "GQk2rKa8HLiG",
        "colab": {
          "base_uri": "https://localhost:8080/"
        },
        "outputId": "bd856fba-7e76-481e-a2de-d71efe1c7bcb"
      },
      "source": [
        "# 구글드라이브 연동\n",
        "from google.colab import drive\n",
        "drive.mount('/gdrive', force_remount=True)\n",
        "\n",
        "# 구글 드라이브 파일 확인\n",
        "!ls '/gdrive/My Drive/temp/'\n",
        "\n",
        "# 반복되는 드라이브 경로 변수화\n",
        "drive_path = '/gdrive/My Drive/temp/'"
      ],
      "execution_count": null,
      "outputs": [
        {
          "output_type": "stream",
          "text": [
            "Mounted at /gdrive\n",
            " 매수종목1.txt\t\t   little-char.png\t   seoul_map.html\n",
            " 매수종목2.txt\t\t   ml_class.png\t\t   sonar.csv\n",
            " adult.data\t\t   pca_1.png\t\t   stock-data.csv\n",
            " auto-mpg.csv\t\t   pca_2.png\t\t  'stock price.xlsx'\n",
            " bmi_500.csv\t\t   pca_3.png\t\t  'stock valuation.xlsx'\n",
            " citibike.csv\t\t   Picture1.png\t\t   test.db.db\n",
            " 매수종목.csv\t\t   population_number.csv   test.txt\n",
            " data_mine.csv\t\t   ram_price.csv\t   ThoraricSurgery.csv\n",
            " data_population.csv\t   ratings_small.txt\t   titanic.xls\n",
            " data_studentlist_en.csv   ratings_test.txt\t   tmdb_5000_credits.csv\n",
            " demo.docx\t\t   ratings_train.txt\t   tmdb_5000_movies.csv\n",
            " diabetes.csv\t\t   sample1.pdf\t\t   Traffic_Accident_2017.csv\n",
            " example.docx\t\t   sample2.pdf\t\t   train.csv\n",
            " height_weight.txt\t   sample.docx\t\t   user_id_mean.csv\n",
            " HelloWorld.xlsx\t   sample_merge.pdf\t   wine.csv\n",
            " house_price.csv\t   sample.xlsx\t\t   주가데이터.xlsx\n",
            " lenna.png\t\t   score.csv\t\t   남북한발전전력량.xlsx\n"
          ],
          "name": "stdout"
        }
      ]
    },
    {
      "cell_type": "markdown",
      "metadata": {
        "id": "eLakI-RDZZjX"
      },
      "source": [
        "### 파이썬 머신러닝을 위한 모듈(라이브러리)\n"
      ]
    },
    {
      "cell_type": "markdown",
      "metadata": {
        "id": "K9CLJpX8ZeZK"
      },
      "source": [
        "* 머신러닝 라이브러리\n",
        " * 사이킷런(Scikit-Learn)\n",
        "* 행렬/선형대수/통계 라이브러리\n",
        "  * **넘파이(NumPy): 고성능 과학계산을 위한 데이터 분석**(행렬, 선형대수)\n",
        "  * 사이파이(SciPy): 자연과학, 통계\n",
        "* 데이터 핸들링\n",
        " * 판다스(Pandas): 행과 열로 구성된 표 형식의 데이터(2차원 데이터 처리)\n",
        "* 시각화\n",
        " * 맷플롯립(Matplotlib): 2D 그래프로 시각화\n",
        " * 시본(Seaborn): 다양한 색상 테마로 시각화"
      ]
    },
    {
      "cell_type": "markdown",
      "metadata": {
        "collapsed": true,
        "id": "4VbNtUCVa9hn"
      },
      "source": [
        "# Numpy (Numerical Python)\n",
        "- 벡터 및 행렬 연산에 있어서 매우 편리한 기능을 제공\n",
        "- 빠르고 효율적인 벡터 산술연산을 제공하는 n 차원 배열 (ndarray)\n",
        "- 반복문 없이 전체 데이터 배열 연산이 가능한 표준 수학 함수 (sum(), sqrt(), mean())\n",
        "- 선형대수, 난수 생성, 푸리에 변환"
      ]
    },
    {
      "cell_type": "markdown",
      "metadata": {
        "id": "PKEIAPgaaYjK"
      },
      "source": [
        "## Numpy 기초\n"
      ]
    },
    {
      "cell_type": "code",
      "metadata": {
        "id": "yRpo3bf_aiy2"
      },
      "source": [
        "# Numpy 모듈(라이브러리)를 import하고 np 라는 이름으로 부르는 것이 관례\n",
        "# 넘파이 왕이 되겠다. 진짜 완벽히 체화시키자. 매일 복습하고!\n",
        "import numpy as np\n"
      ],
      "execution_count": null,
      "outputs": []
    },
    {
      "cell_type": "code",
      "metadata": {
        "colab": {
          "base_uri": "https://localhost:8080/",
          "height": 37
        },
        "id": "XD9kSl4cbKnv",
        "outputId": "6ca41143-2337-4162-bfd6-8fec7474c688"
      },
      "source": [
        "#대부분 .__version__ 하면 버전이 나온다. 대부분! tensorflow도 마찬가지!\n",
        "#라이브러리 버전을 넣고 검색하면 훨씬 편함\n",
        "np.__version__"
      ],
      "execution_count": null,
      "outputs": [
        {
          "output_type": "execute_result",
          "data": {
            "application/vnd.google.colaboratory.intrinsic+json": {
              "type": "string"
            },
            "text/plain": [
              "'1.19.5'"
            ]
          },
          "metadata": {
            "tags": []
          },
          "execution_count": 2
        }
      ]
    },
    {
      "cell_type": "markdown",
      "metadata": {
        "id": "EwbbaXIkbKMy"
      },
      "source": [
        "numpy.ndarray\n",
        "\n",
        "- 동일한 자료형을 가지는 값들이 배열 형태로 존재함\n",
        "- N 차원 형태로 구성이 가능하다.\n",
        "- 각 값들은 양의 정수로 색인(index)가 부여되어 있다.\n",
        "- Numpy에서 차원(Dimension)을 rank, axis라고 부르기도 한다.\n",
        "- ndarray를 줄여서 array로 표현한다.\n"
      ]
    },
    {
      "cell_type": "code",
      "metadata": {
        "colab": {
          "base_uri": "https://localhost:8080/"
        },
        "id": "px21426trZ7j",
        "outputId": "3facdfed-859b-4067-d5fd-c80efb38da16"
      },
      "source": [
        "#np.ndarray() 를 쓰는 법\n",
        "#ndarray는 n dimension 이잖아? 이건 n차원 문제임. n차원. 방향성. 만약 2차원이면 방향이 2개. 방향성이 2개임! 랭크로 이야기하기도 하고. 이거 깨봉수학에서 아침에 했잖아~\n",
        "#난 그래서 np.array 할 때 처음에 리스트 형태로 넣어주는 이유가 차원 형성 때문인 것 같음. \n",
        "\n",
        "list = [1,2,3]\n",
        "array1 = np.array(list)\n",
        "print( type(array1), array1.shape )\n",
        "#type은 ndarray로 나옴. \n",
        "#3개짜리 요소가 들어있는 1차원 배열이다. 이게 shape 내가 아는 shape은 차원(축) 별로 포함된 원소 개수임. 지금은 호 3개.\n",
        "\n",
        "array2 = np.array( [[1,2,3],\n",
        "                    [4,5,6]] ) # 리스트 안에 리스트. 이게 2차원 배열. 2차원 배열은 층 호잖아? 이렇게 하면 눈으로 볼 때 훨씬 편함. 2층에 3호씩. \n",
        "print( array2, array2.shape  ) #array2.shape하니까 (2,3) 이렇게 나오잖아. 2층에 3호씩이니까 ! \n",
        "\n",
        "array3 = np.array( [[1,2,3]] )\n",
        "\n",
        "print( array3 )\n",
        "print( array3.shape ) #내 예상. (1,3). 1층에 3호니까~ 이게 1행 3열인 거지~ 모양, 크기. 이렇게 하고 tuple 형태로 출력이 됨. \n",
        "                      #shape은 차원별로 몇개씩 원소가 들어있는지 알게 되니까~ "
      ],
      "execution_count": null,
      "outputs": [
        {
          "output_type": "stream",
          "text": [
            "<class 'numpy.ndarray'> (3,)\n",
            "[[1 2 3]\n",
            " [4 5 6]] (2, 3)\n",
            "(1, 3)\n"
          ],
          "name": "stdout"
        }
      ]
    },
    {
      "cell_type": "code",
      "metadata": {
        "colab": {
          "base_uri": "https://localhost:8080/"
        },
        "id": "HTiKTa0QtvSu",
        "outputId": "082d9d97-dba1-40cc-e41f-6598e49a6204"
      },
      "source": [
        "#.ndim을 활용해서 몇 차원인지 확인하기\n",
        "array1.ndim"
      ],
      "execution_count": null,
      "outputs": [
        {
          "output_type": "execute_result",
          "data": {
            "text/plain": [
              "(3, 6, 3)"
            ]
          },
          "metadata": {
            "tags": []
          },
          "execution_count": 10
        }
      ]
    },
    {
      "cell_type": "code",
      "metadata": {
        "id": "2eFb2Q0iuHyu"
      },
      "source": [
        "# 원소의 총 개수 구하기\n",
        "array1.size, array2.size, array3.size #size가 총 요소 개수. shape가 차원별 요소 개수."
      ],
      "execution_count": null,
      "outputs": []
    },
    {
      "cell_type": "markdown",
      "metadata": {
        "id": "I2T6p8UydKPf"
      },
      "source": [
        "ndarray.shape\n",
        "\n",
        "해당 array의 크기를 알 수 있다.\n",
        "\n",
        "- ndarray의 차원과 크기를 튜플(tuple) 형태로 출력\n",
        "\n",
        "- shape 을 확인함으로써 몇개의 데이터가 있는지, 몇 차원으로 존재하는지 등을 확인할 수 있다.\n",
        "\n",
        "- 위에서 array1.shape의 결과는 (3,) 으로써, 1차원의 데이터이며 총 3라는 크기를 갖고 있음을 알 수 있다.\n",
        "\n",
        "- array2.shape의 결과는 (2,3) 으로써, 2차원의 데이터이며 2 * 3 크기를 갖고 있는 array 이다.\n"
      ]
    },
    {
      "cell_type": "code",
      "metadata": {
        "id": "IsCuGZgA-HOH"
      },
      "source": [
        "#np.ndarray() 를 쓰는 법\n",
        "\n",
        "list = [1,2,3]\n",
        "array1 = np.array(list)\n",
        "print( type(array1), array1.shape )\n",
        "#type은 ndarray로 나옴. \n",
        "#3개짜리 요소가 들어있는 1차원 배열이다. 이게 shape 내가 아는 shape은 차원(축) 별로 포함된 원소 개수임. 지금은 호 3개.\n",
        "\n",
        "array2 = np.array( [[1,2,3],\n",
        "                    [4,5,6]] ) # 리스트 안에 리스트. 이게 2차원 배열. 2차원 배열은 층 호잖아? 이렇게 하면 눈으로 볼 때 훨씬 편함. 2층에 3호씩. \n",
        "print( array2, array2.shape  ) #array2.shape하니까 (2,3) 이렇게 나오잖아. 2층에 3호씩이니까 ! \n",
        "\n",
        "array3 = np.array( [[1,2,3]] )\n",
        "\n",
        "print( array3 )\n",
        "print( array3.shape ) #내 예상. (1,3). 1층에 3호니까~ 이게 1행 3열인 거지~ 모양, 크기. 이렇게 하고 tuple 형태로 출력이 됨. \n",
        "                      #shape은 차원별로 몇개씩 원소가 들어있는지 알게 되니까~ "
      ],
      "execution_count": null,
      "outputs": []
    },
    {
      "cell_type": "markdown",
      "metadata": {
        "id": "J6Cp3YuUe4Pe"
      },
      "source": [
        "numpy에서 사용되는 자료형\n",
        "\n",
        "- 부호가 있는 정수 int(8, 16, 32, 64)\n",
        "- 부호가 없는 정수 uint(8 ,16, 32, 54)\n",
        "- 실수 float(16, 32, 64, 128)\n",
        "- 복소수 complex(64, 128, 256)\n",
        "- 불리언 bool\n",
        "- 문자열 string_\n",
        "- 파이썬 오프젝트 object\n",
        "- 유니코드 unicode_\n"
      ]
    },
    {
      "cell_type": "code",
      "metadata": {
        "id": "hsBT6cYS-Kz_",
        "colab": {
          "base_uri": "https://localhost:8080/"
        },
        "outputId": "e509bac9-24c5-46f6-907f-51826af79de3"
      },
      "source": [
        "# 8 16 32 64 이건 비트 이야기임. 거의 다 64임.\n",
        "# uint는 unsigned int 임. 숫자를 더 많이 쓸 수 있다.\n",
        "# 파이썬에서 사용하는 자료형은 거의 다 된다. 하지만 오브젝트가 들어가면 계산은 어려워짐~\n",
        "\n",
        "list1 = [1,2,3]\n",
        "print(type(list1))\n",
        "\n",
        "array1 = np.array(list1)\n",
        "array1.dtype #dtype은 ndarray의 속성임. 64비트"
      ],
      "execution_count": null,
      "outputs": [
        {
          "output_type": "stream",
          "text": [
            "<class 'list'>\n"
          ],
          "name": "stdout"
        },
        {
          "output_type": "execute_result",
          "data": {
            "text/plain": [
              "dtype('int64')"
            ]
          },
          "metadata": {
            "tags": []
          },
          "execution_count": 11
        }
      ]
    },
    {
      "cell_type": "code",
      "metadata": {
        "colab": {
          "base_uri": "https://localhost:8080/"
        },
        "id": "nsUi6oSVve0C",
        "outputId": "31734088-5427-4b7a-8902-9bb2d262e20e"
      },
      "source": [
        "#다른 타입 혼용 #가장 크게 호환할 수 있는 거로 다 바뀜.\n",
        "import numpy as np\n",
        "\n",
        "list2 = [1,2, 'test']\n",
        "print( type(list2) )\n",
        "\n",
        "array2 = np.array(list2)  #내부 코드를 저장할 때 str은 자체 구조를 만듦. 아스키 구조. 유니코드는 유니코드로 바뀌고, str은 아스키 코드로 바뀐다. 그 차이임.\n",
        "array2.dtype, array2    #np.array로 바꾸니까, 전부다 str로 바뀜. 문자는 int가 될 수 없지만 숫자는 str이 될 수 있어서 다 포함 가능한 str로 바뀐 것"
      ],
      "execution_count": null,
      "outputs": [
        {
          "output_type": "stream",
          "text": [
            "<class 'list'>\n"
          ],
          "name": "stdout"
        },
        {
          "output_type": "execute_result",
          "data": {
            "text/plain": [
              "(dtype('<U21'), array(['1', '2', 'test'], dtype='<U21'))"
            ]
          },
          "metadata": {
            "tags": []
          },
          "execution_count": 3
        }
      ]
    },
    {
      "cell_type": "code",
      "metadata": {
        "colab": {
          "base_uri": "https://localhost:8080/"
        },
        "id": "Cggyms_Yv6tX",
        "outputId": "1483b138-cfce-42f0-f210-9d4d7668e76a"
      },
      "source": [
        "list3 = [1, 2, 3.1]\n",
        "array3 = np.array(list3)\n",
        "array3.dtype\n",
        "\n",
        "print( 'array3',array3.dtype, array3 )  #데이터 변형시 전체를 포함할 수 있는 형태로 바꿔버림. 그래서 여기선 float으로 바뀐 것."
      ],
      "execution_count": null,
      "outputs": [
        {
          "output_type": "stream",
          "text": [
            "array3 float64 [1.  2.  3.1]\n"
          ],
          "name": "stdout"
        }
      ]
    },
    {
      "cell_type": "markdown",
      "metadata": {
        "id": "puoGBh3phGZK"
      },
      "source": [
        "- 리스트와 다르게 ndarray는 같은 데이터 타입만 가능.\n",
        "- 서로 다른 데이터 타입이 섞여 있을 경우 큰 데이터 타입으로 형 변환을 일괄 적용"
      ]
    },
    {
      "cell_type": "code",
      "metadata": {
        "id": "lY6uJC2R-MuW",
        "colab": {
          "base_uri": "https://localhost:8080/"
        },
        "outputId": "6b041753-9d2f-4f68-c6e9-0ad54c463c3b"
      },
      "source": [
        "#큰 데이터 타입이라는 건 가장 포괄적인 데이터 타입으로 변환된다는 것. \n",
        "#타입을 바꿀 수 없나? \n",
        "#타입 변경\n",
        "\n",
        "array_int = np.array( [1,2,3] )\n",
        "print(array_int, array_int.dtype)\n",
        "#이거 중요함. \n",
        "array_float = array_int.astype('float64')   # astype()정수형이었던 것을 전부 실수형으로 바꿔주는 것. 가장 많이 쓰이는 속성 중 하나. 이걸 정수형으로 바꾼다면? .astype('int64') 이렇게 바꿔주면 됨.\n",
        "print( array_float.dtype )"
      ],
      "execution_count": null,
      "outputs": [
        {
          "output_type": "stream",
          "text": [
            "[1 2 3] int64\n",
            "float64\n"
          ],
          "name": "stdout"
        }
      ]
    },
    {
      "cell_type": "code",
      "metadata": {
        "colab": {
          "base_uri": "https://localhost:8080/"
        },
        "id": "mAXrz7X_xccr",
        "outputId": "b7c8c64e-a37a-4ced-ae10-f3698fb2435a"
      },
      "source": [
        "#생성할 때부터 아예 타입을 지정하여 생성하고 싶다면?\n",
        "\n",
        "array_int = np.array( [1.1, 2.1, 3.1], dtype=np.int64 ) #아예 실수형으로 입력 받아보자 처음부터. 이걸 처음부터 int형으로 지정해주고 싶다면?\n",
        "\n",
        "print(array_int)\n",
        "print(array_int.dtype)"
      ],
      "execution_count": null,
      "outputs": [
        {
          "output_type": "stream",
          "text": [
            "[1 2 3]\n",
            "int64\n"
          ],
          "name": "stdout"
        }
      ]
    },
    {
      "cell_type": "markdown",
      "metadata": {
        "id": "g1hWpxYolBGe"
      },
      "source": [
        "#### Numpy 예제 01\n",
        "Numpy를 이용해 다음과 같은 3차원 배열을 만들고 배열의 크기, 차원, 전체 요소 개수을 확인해보자 \n",
        "```\n",
        "array([[[1,2],\n",
        "        [3,4]],\n",
        "        \n",
        "       [[5,6],\n",
        "        [7,8]]])\n",
        "```\n",
        "```\n",
        "배열의 크기: (2, 2, 2)\n",
        "배열의 차원: 3\n",
        "배열의 개수: 8\n",
        "```\n"
      ]
    },
    {
      "cell_type": "code",
      "metadata": {
        "id": "9tbuaoVE-OSO",
        "colab": {
          "base_uri": "https://localhost:8080/"
        },
        "outputId": "09296e67-9f0b-4005-baf9-e1326454e46c"
      },
      "source": [
        "#예제 내가 푼 것\n",
        "\n",
        "array_3d = np.array( [[[1,2],\n",
        "                       [3,4]],\n",
        "                      \n",
        "                      [[5,6],\n",
        "                       [7,8]]] )\n",
        "\n",
        "print(array_3d)\n",
        "print( '배열의 크기' ,array_3d.shape )\n",
        "print( array_3d.ndim )\n",
        "print( array_3d.size )\n"
      ],
      "execution_count": null,
      "outputs": [
        {
          "output_type": "stream",
          "text": [
            "[[[1 2]\n",
            "  [3 4]]\n",
            "\n",
            " [[5 6]\n",
            "  [7 8]]]\n",
            "배열의 크기 (2, 2, 2)\n",
            "3\n",
            "8\n"
          ],
          "name": "stdout"
        }
      ]
    },
    {
      "cell_type": "markdown",
      "metadata": {
        "id": "tE_voqsBmuHl"
      },
      "source": [
        "### ndarray 생성"
      ]
    },
    {
      "cell_type": "code",
      "metadata": {
        "id": "bm3kKxiv-Rks",
        "colab": {
          "base_uri": "https://localhost:8080/"
        },
        "outputId": "64c57a64-e307-4c9d-cfd8-6cd624e18ca6"
      },
      "source": [
        "#여기서 아마 np.arange() 쓸 것 같은데? \n",
        "#ndarray() 생성.\n",
        "#연속값으로 생성. \n",
        "seq_array = np.arange(10) #range()하고 사용법은 거의 비슷함.\n",
        "seq_array, seq_array.dtype, seq_array.shape #대충 눈으로만 확인하고 싶을 때 print() 안하고 그냥할 때"
      ],
      "execution_count": null,
      "outputs": [
        {
          "output_type": "execute_result",
          "data": {
            "text/plain": [
              "(array([0, 1, 2, 3, 4, 5, 6, 7, 8, 9]), dtype('int64'), (10,))"
            ]
          },
          "metadata": {
            "tags": []
          },
          "execution_count": 27
        }
      ]
    },
    {
      "cell_type": "code",
      "metadata": {
        "colab": {
          "base_uri": "https://localhost:8080/"
        },
        "id": "P7Fq_Slq0fLR",
        "outputId": "cd2f6386-6920-4cfb-f342-4d084616b3c7"
      },
      "source": [
        "#0으로 가득찬 녀석을 만들고 싶을 때. 초기화라고 하기도 함. \n",
        "#np.zeros() 0으로 다 채운 녀석을 만들 수 있음. 모양만 넣어주면 돼. 2x2인지, 3x3인지 뭐 행열 지정해주면 돼\n",
        "#쉼표 마침표. 마침표는 내부 속성 사용할 때 사용함. 단순 나열은 쉼표!\n",
        "\n",
        "zero_array = np.zeros( (3,2), dtype=np.int64 )\n",
        "zero_array, zero_array.shape    #모양도 아주 깔끔하게 만들어주네 ㅎㅎ"
      ],
      "execution_count": null,
      "outputs": [
        {
          "output_type": "execute_result",
          "data": {
            "text/plain": [
              "(array([[0, 0],\n",
              "        [0, 0],\n",
              "        [0, 0]]), (3, 2))"
            ]
          },
          "metadata": {
            "tags": []
          },
          "execution_count": 28
        }
      ]
    },
    {
      "cell_type": "code",
      "metadata": {
        "colab": {
          "base_uri": "https://localhost:8080/"
        },
        "id": "vUiuwdJT0_qL",
        "outputId": "bbea9661-c556-46de-dbb3-3a0458964eb7"
      },
      "source": [
        "#0말고 1로 채울 수도 있음\n",
        "#np.ones()를 하면 1로 채워진 녀석을 만들 수 있다.\n",
        "\n",
        "one_array = np.ones( (3,4), dtype=np.float64 ) #이건 float형으로 넣어봐야지\n",
        "one_array, one_array.shape"
      ],
      "execution_count": null,
      "outputs": [
        {
          "output_type": "execute_result",
          "data": {
            "text/plain": [
              "(array([[1., 1., 1., 1.],\n",
              "        [1., 1., 1., 1.],\n",
              "        [1., 1., 1., 1.]]), (3, 4))"
            ]
          },
          "metadata": {
            "tags": []
          },
          "execution_count": 29
        }
      ]
    },
    {
      "cell_type": "code",
      "metadata": {
        "colab": {
          "base_uri": "https://localhost:8080/"
        },
        "id": "nH5a0TyqNxJP",
        "outputId": "d21d2bd0-36fc-4304-fe07-af9f01d423c1"
      },
      "source": [
        "#특정값으로 초기화. 별로 많이 쓰진 않음.\n",
        "import numpy as np\n",
        "\n",
        "full_array = np.full( (5,5), 7 )   #난 5x5 배열을 7로 가득 채우겠다!"
      ],
      "execution_count": null,
      "outputs": [
        {
          "output_type": "execute_result",
          "data": {
            "text/plain": [
              "array([[7, 7, 7, 7, 7],\n",
              "       [7, 7, 7, 7, 7],\n",
              "       [7, 7, 7, 7, 7],\n",
              "       [7, 7, 7, 7, 7],\n",
              "       [7, 7, 7, 7, 7]])"
            ]
          },
          "metadata": {
            "tags": []
          },
          "execution_count": 30
        }
      ]
    },
    {
      "cell_type": "code",
      "metadata": {
        "id": "32Y26h-DOyxG"
      },
      "source": [
        "#랜덤 초기화\n",
        "\n",
        "np.random.seed(10) #seed 값을 넣는데, 10을 하면 항상 10번째 랜덤수부터 제공되는 것임. 보통 초기화 시킬 때, 넘파이 랜덤과 텐서플로우 랜덤 초기화 둘 다 씀."
      ],
      "execution_count": null,
      "outputs": []
    },
    {
      "cell_type": "code",
      "metadata": {
        "colab": {
          "base_uri": "https://localhost:8080/"
        },
        "id": "r2Zd4NaeOQsF",
        "outputId": "1a05f87b-d999-4b1e-9063-a64dbe9c6912"
      },
      "source": [
        "#random값으로 초기화 시키기! \n",
        "#넘파이 랜덤으로 보통 초기화시킴. 랜덤이 실행되는 순서대로 같은 값이 나와야 함.\n",
        "#랜덤으로 초기화 시켜야 매번 같은 값이 나오는 걸 확인할 수 있음.\n",
        "\n",
        "#랜덤은 가상 데이터 만들어서 테스트 시킬 때도 씀.\n",
        "\n",
        "a = np.random.randint( 2, 10, size=(2,3) ) #2~10 사이 수로, 2행 3열로.\n",
        "print( a, a.dtype )"
      ],
      "execution_count": null,
      "outputs": [
        {
          "output_type": "stream",
          "text": [
            "[[9 4 8]\n",
            " [5 8 7]] int64\n"
          ],
          "name": "stdout"
        }
      ]
    },
    {
      "cell_type": "markdown",
      "metadata": {
        "id": "uwkaaf-8dLud"
      },
      "source": [
        "#### Numpy 예제 02\n",
        "1,2,3,....,50 이 담긴 배열을 생성하시오."
      ]
    },
    {
      "cell_type": "code",
      "metadata": {
        "id": "i7Hpj1la-ULj",
        "colab": {
          "base_uri": "https://localhost:8080/"
        },
        "outputId": "99b3469a-8654-45ae-c097-9f84d10d0738"
      },
      "source": [
        "seq_array = np.arange(1, 51).reshape(5,10) #.reshape()로 차원 축도 막 생성시킬 수 있네. #이건 5행 10열이니까 1,11,21,31,41 행  / 1~10 열\n",
        "seq_array"
      ],
      "execution_count": null,
      "outputs": [
        {
          "output_type": "execute_result",
          "data": {
            "text/plain": [
              "array([[ 1,  2,  3,  4,  5,  6,  7,  8,  9, 10],\n",
              "       [11, 12, 13, 14, 15, 16, 17, 18, 19, 20],\n",
              "       [21, 22, 23, 24, 25, 26, 27, 28, 29, 30],\n",
              "       [31, 32, 33, 34, 35, 36, 37, 38, 39, 40],\n",
              "       [41, 42, 43, 44, 45, 46, 47, 48, 49, 50]])"
            ]
          },
          "metadata": {
            "tags": []
          },
          "execution_count": 36
        }
      ]
    },
    {
      "cell_type": "markdown",
      "metadata": {
        "id": "Jck1YMkXeYPB"
      },
      "source": [
        "### ndarray 차원과 크기 변경"
      ]
    },
    {
      "cell_type": "code",
      "metadata": {
        "id": "Ga3KNSi1-WpG",
        "colab": {
          "base_uri": "https://localhost:8080/"
        },
        "outputId": "239403ed-dee9-457d-e9e8-c8fa067e64a6"
      },
      "source": [
        "#모양 바꾸기\n",
        "#.reshape() 쓸 것 같은데?\n",
        "\n",
        "array1 = np.arange(10)\n",
        "print(array1)\n",
        "\n",
        "array2 = array1.reshape(2,5)\n",
        "print(array2)\n",
        "\n",
        "array3 = array1.reshape(5,2)\n",
        "print(array3)\n",
        "\n",
        "#reshape에서 많이 쓰는 경우 중 하나가 -1 쓰는 것. -1을 쓰면 그 부분에 맞춰서 알아서 써줌.\n",
        "#자동으로 호환가능하게.\n",
        "\n",
        "array4 = array1.reshape(-1, 2)\n",
        "print(array4)\n",
        "\n",
        "array5 = array1.reshape(5, -1)\n",
        "print(array4)\n"
      ],
      "execution_count": null,
      "outputs": [
        {
          "output_type": "stream",
          "text": [
            "[0 1 2 3 4 5 6 7 8 9]\n",
            "[[0 1 2 3 4]\n",
            " [5 6 7 8 9]]\n",
            "[[0 1]\n",
            " [2 3]\n",
            " [4 5]\n",
            " [6 7]\n",
            " [8 9]]\n",
            "[[0 1]\n",
            " [2 3]\n",
            " [4 5]\n",
            " [6 7]\n",
            " [8 9]]\n",
            "[[0 1]\n",
            " [2 3]\n",
            " [4 5]\n",
            " [6 7]\n",
            " [8 9]]\n"
          ],
          "name": "stdout"
        }
      ]
    },
    {
      "cell_type": "code",
      "metadata": {
        "colab": {
          "base_uri": "https://localhost:8080/"
        },
        "id": "ipU1tEYzRcSq",
        "outputId": "b8df5e8b-c94f-4908-a1e1-42a8fba86cdc"
      },
      "source": [
        "#8개짜리 만들어서 3차원으로 만들어보기\n",
        "\n",
        "array1 = np.arange(8)\n",
        "array3d = array1.reshape(2,2,2)\n",
        "print( array3d.tolist() )  #tolist는 뭐지? tolist 활용해서 리스트로 뽑기.\n",
        "\n",
        "#이걸 8,1이 되도록 2차원으로 바꾼다면 어떻게 바꿀까?\n",
        "array5 = array3d.reshape(-1,1)\n",
        "print(array5)\n",
        "\n",
        "#얘도 이렇게 가능\n",
        "print(array1.reshape(-1,1)) #배열만 같으면 연산 가능임.\n",
        "\n",
        "#넘파이는 사기적이다. 프로그래머스에서도 이거 사용 가능임ㅋㅋ"
      ],
      "execution_count": null,
      "outputs": [
        {
          "output_type": "stream",
          "text": [
            "[[[0, 1], [2, 3]], [[4, 5], [6, 7]]]\n",
            "[[0]\n",
            " [1]\n",
            " [2]\n",
            " [3]\n",
            " [4]\n",
            " [5]\n",
            " [6]\n",
            " [7]]\n",
            "[[0]\n",
            " [1]\n",
            " [2]\n",
            " [3]\n",
            " [4]\n",
            " [5]\n",
            " [6]\n",
            " [7]]\n"
          ],
          "name": "stdout"
        }
      ]
    },
    {
      "cell_type": "markdown",
      "metadata": {
        "id": "8aB0WahjrMEf"
      },
      "source": [
        "### ndarray 인덱싱 & 슬라이싱\n",
        "- 특정 데이터 추출\n",
        "- 슬라이싱(Slicing) : 연속된 데이터 추출\n",
        "- 팬시 인덱싱(Fancy Indexing) : 리스트 또는 ndarray 형태의 인덱싱 집합을 이용하여 여러 데이터를 추출\n",
        "- 불린 인덱싱(Boolean Indexing) : True/False 값 인덱싱 집합을 이용하여 해당 인덱스 위치에 있는 데이터를 추출"
      ]
    },
    {
      "cell_type": "code",
      "metadata": {
        "colab": {
          "base_uri": "https://localhost:8080/"
        },
        "id": "5GPcnyX5RZGA",
        "outputId": "a4fd9e99-d25f-44d6-ef22-861e9d5a1358"
      },
      "source": [
        "#인덱싱은 서치하는 것. for 문이나 뭐 이런 거 안쓰고도 바로 접근 가능한 것.\n",
        "#인덱싱은 데이터 추출. 기존과 일치함.\n",
        "#팬시와 불린은 중간중간 조건에 맞으면 갖고 올 수 있음.\n",
        "\n",
        "array = np.arange(1,10)\n",
        "print(array)"
      ],
      "execution_count": null,
      "outputs": [
        {
          "output_type": "stream",
          "text": [
            "[1 2 3 4 5 6 7 8 9]\n"
          ],
          "name": "stdout"
        }
      ]
    },
    {
      "cell_type": "code",
      "metadata": {
        "colab": {
          "base_uri": "https://localhost:8080/"
        },
        "id": "fG7lSqzqUWxi",
        "outputId": "20587993-d6fe-4970-d996-2010fdee3cb2"
      },
      "source": [
        "#인덱스 사용하는 부분은 리스트하고 똑같음\n",
        "array[-1], array[-2], array[2], array[0]\n"
      ],
      "execution_count": null,
      "outputs": [
        {
          "output_type": "execute_result",
          "data": {
            "text/plain": [
              "(9, 8, 3, 1)"
            ]
          },
          "metadata": {
            "tags": []
          },
          "execution_count": 52
        }
      ]
    },
    {
      "cell_type": "code",
      "metadata": {
        "id": "uu1Lzh6r-Zed",
        "colab": {
          "base_uri": "https://localhost:8080/"
        },
        "outputId": "b031c934-c7fe-4cbb-efae-0933f1780a6b"
      },
      "source": [
        "#데이터가 수정하고 싶을 때\n",
        "array[0] = 10 #0번 자리를 10으로 바꾸고 싶을 때. 리스트 사용하는 것과 동일하게 직접 접근해서 바꿀 수 있음.\n",
        "print(array)\n",
        "\n",
        "array[0] = 1\n",
        "print(array)"
      ],
      "execution_count": null,
      "outputs": [
        {
          "output_type": "stream",
          "text": [
            "[10  2  3  4  5  6  7  8  9]\n",
            "[1 2 3 4 5 6 7 8 9]\n"
          ],
          "name": "stdout"
        }
      ]
    },
    {
      "cell_type": "code",
      "metadata": {
        "colab": {
          "base_uri": "https://localhost:8080/"
        },
        "id": "x8dfesheU2gy",
        "outputId": "0a2e179a-bd1e-45cd-8572-eb6203fe72bd"
      },
      "source": [
        "#2차원 인덱싱\n",
        "\n",
        "array1d = np.arange(1,10)     #굳이 이렇게 2번 나눠서 안하고  np.arange(1,10).reshape(3,3) 이렇게 해도 됨.\n",
        "array2d = array1d.reshape(3,3)\n",
        "print(array2d)\n",
        "print(array2d[0][1]) #0층에 1호. 그럼 [1,2,3] 에서 1번 위치니까 2반환. 근데 이렇게 하면 비효율적이니까\n",
        "print(array2d[0,1]) #바로 윗코드하고 동일한데, 이게 더 효율적임."
      ],
      "execution_count": null,
      "outputs": [
        {
          "output_type": "stream",
          "text": [
            "[[1 2 3]\n",
            " [4 5 6]\n",
            " [7 8 9]]\n",
            "2\n"
          ],
          "name": "stdout"
        }
      ]
    },
    {
      "cell_type": "code",
      "metadata": {
        "colab": {
          "base_uri": "https://localhost:8080/"
        },
        "id": "G-ibvfTmU3kA",
        "outputId": "c3fe9830-560f-471f-d2c7-0d102815cb72"
      },
      "source": [
        "print(array2d[0,1]) #이걸 하면 2가 나오지. 0층, 1호. 0행 1열. \n",
        "print(array2d[1,0]) #이걸 하면 4가 나오지. 1층 0호 1행 0열\n",
        "print(array2d[2,2]) #이걸 하면 9가 나오지. 2층 2호 2행 2열\n",
        "\n",
        "#3차원도 2차원으로 변형시켜서 하면 되니까 3차원일 땐 하지마 ㅜㅠ 2차원으로 변형시켜서 해\n"
      ],
      "execution_count": null,
      "outputs": [
        {
          "output_type": "stream",
          "text": [
            "2\n"
          ],
          "name": "stdout"
        }
      ]
    },
    {
      "cell_type": "markdown",
      "metadata": {
        "id": "7wJD8jMM2ZJa"
      },
      "source": [
        "슬라이싱\n",
        "- ':' 기호 앞에 시작 인덱스를 생략하면 맨 처음 인덱스인 0으로 간주\n",
        "- ':' 기호 뒤에 종료 인덱스를 생략하면 맨 마지막 인덱스로 간주\n",
        "- ':' 기호 앞/뒤에 시작/종료 인덱스를 생략하면 맨 처음/마지막 인덱스로 간주\n",
        "\n"
      ]
    },
    {
      "cell_type": "code",
      "metadata": {
        "colab": {
          "base_uri": "https://localhost:8080/"
        },
        "id": "x5WT-f7sU3z0",
        "outputId": "f397e8ae-666d-4fd9-d9a2-806eef1d6c9f"
      },
      "source": [
        "#얘도 이상 이하야. 슬라이싱 할 때도 이상 이하임. arange()도 이상 이하고.\n",
        "\n",
        "#1차원 슬라이싱\n",
        "arr = np.arange(1,10)\n",
        "\n",
        "print( arr )\n",
        "print( arr[0:3] )\n",
        "print( arr[:3] )\n",
        "print( arr[3:] )"
      ],
      "execution_count": null,
      "outputs": [
        {
          "output_type": "stream",
          "text": [
            "[1 2 3 4 5 6 7 8 9]\n",
            "[1 2 3]\n",
            "[1 2 3]\n",
            "[4 5 6 7 8 9]\n"
          ],
          "name": "stdout"
        }
      ]
    },
    {
      "cell_type": "code",
      "metadata": {
        "colab": {
          "base_uri": "https://localhost:8080/"
        },
        "id": "RSnxHlUuWiX4",
        "outputId": "b9bd98b6-0772-4608-f0be-a58335c806c5"
      },
      "source": [
        "#2차원 슬라이싱\n",
        "#이건 진짜 중요하니까 잊지마. numpy는 진짜 많이 쓴다!!\n",
        "\n",
        "arr = np.arange(1,10).reshape(3,-1) #바로 이렇게 한 줄로 만들어주는 것.\n",
        "print(arr)\n",
        "\n",
        "#[4,5,6]만 가져오고 싶다면 어떻게 할까?\n",
        "#print(arr[1,:])\n",
        "#print(arr[1:2,:])\n",
        "\n",
        "#만약에 [ 1, 2 ]\n",
        "      # [ 4, 5 ] 이렇게 가져오고 싶다면 어떻게 할까?\n",
        "#print(arr[ 0:2 , 0:2 ])  #앞에가 0번째 축, 뒤에가 1번째 축임. 층, 호 라는 이야기. 층을 몇번까지 쓸 건지 정한 다음에, 호를 몇번까지 쓸 건지 결정.\n",
        "\n",
        "#[[4,5,6],\n",
        "# [7,8,9]] 이렇게 가져오고 싶다면?\n",
        "#print(arr[1: , : ])\n",
        "\n",
        "#[[5],\n",
        "# [8]] 이렇게 가져오고 싶다면?\n",
        "#print(arr[ 1: , 1:2 ])\n",
        "\n",
        "#[[2,3],\n",
        "# [5,6]] 이렇게 가져오고 싶다면?\n",
        "print(arr[:2,1:])"
      ],
      "execution_count": null,
      "outputs": [
        {
          "output_type": "stream",
          "text": [
            "[[1 2 3]\n",
            " [4 5 6]\n",
            " [7 8 9]]\n",
            "[[2 3]\n",
            " [5 6]]\n"
          ],
          "name": "stdout"
        }
      ]
    },
    {
      "cell_type": "markdown",
      "metadata": {
        "id": "kUcrzo9xd--a"
      },
      "source": [
        "팬시 인덱싱"
      ]
    },
    {
      "cell_type": "code",
      "metadata": {
        "colab": {
          "base_uri": "https://localhost:8080/"
        },
        "id": "FScfhYDXd1Sw",
        "outputId": "9b1ff185-a84b-4497-b3cd-c15f09422adf"
      },
      "source": [
        "#1차원 팬시 인덱싱\n",
        "import numpy as np\n",
        "\n",
        "arr = np.arange(1,10)\n",
        "print(arr)\n",
        "print(arr[[3,4,7]]) #인덱싱을 목록으로 제공한 것. 인덱스 안에 리스트나 ndarray로 넣어주는 것. 임의의 위치에서 값을 가져오고 싶을 때 사용하는 게 팬시 인덱싱과 불린 인덱싱임.\n",
        "                    #원래 인덱스는 숫자 하나로 들어가는데, 팬시 인덱싱에서는 여러 인덱스를 넣으니까 값을 리스트로 받음.\n",
        "                    #뭐 그리 어려운 개념은 아님. 1차원이잖아 아직?\n"
      ],
      "execution_count": null,
      "outputs": [
        {
          "output_type": "stream",
          "text": [
            "[1 2 3 4 5 6 7 8 9]\n",
            "[4 5 8]\n"
          ],
          "name": "stdout"
        }
      ]
    },
    {
      "cell_type": "code",
      "metadata": {
        "colab": {
          "base_uri": "https://localhost:8080/"
        },
        "id": "VVFPUuOuWinK",
        "outputId": "07768c08-0e6a-43dd-e1ef-75c74a029e9b"
      },
      "source": [
        "#이거는 복습 잘해야함\n",
        "#이것도 한번 더 풀어보자~\n",
        "\n",
        "import numpy as np\n",
        "#2차원 팬시 인덱싱\n",
        "arr = np.arange(1,10).reshape(3,3)\n",
        "print(arr)\n",
        "\n",
        "#2차원은 2개 들어가잖아. 층에 대한 인덱스 하나, 호에 대한 인덱스 하나. 뭐 행에 대한 거 하나 열에 관한 거 하나라는 이야기임.\n",
        "#print(arr[[1,2],[2,1]]) #아 이것도 똑같네. 앞에가 층이고 뒤에가 호고. [[층,호],[층,호]] 뭐 이런식이잖아. 몇층에 몇호, 몇층에 몇호.\n",
        "\n",
        "#팬시인덱싱과 범위 인덱싱을 섞어서도 사용할 수 있음.\n",
        "#print(arr[[1,2],:2])\n",
        "\n",
        "#[1,2,3]\n",
        "#[7,8,9] 이렇게 가져오려면 어떻게 해야할까?\n",
        "#print(arr[[0,2],:]) #여기 층 부분 이렇게 되는 이유가 [0,2]이게 지금 arange()도 아니고 range()도 아니잖아? 심지어 범위도 아님. 그냥 0번 인덱스, 2번 인덱스임. np에서 arr[0][2] 이거 한거랑 a[0,2] 이거랑 같은 거 ㅇㅋ?\n",
        "arr[ [0,2] ,: ]"
      ],
      "execution_count": null,
      "outputs": [
        {
          "output_type": "stream",
          "text": [
            "[[1 2 3]\n",
            " [4 5 6]\n",
            " [7 8 9]]\n"
          ],
          "name": "stdout"
        },
        {
          "output_type": "execute_result",
          "data": {
            "text/plain": [
              "array([[1, 2, 3],\n",
              "       [7, 8, 9]])"
            ]
          },
          "metadata": {
            "tags": []
          },
          "execution_count": 3
        }
      ]
    },
    {
      "cell_type": "code",
      "metadata": {
        "colab": {
          "base_uri": "https://localhost:8080/"
        },
        "id": "Pnqp9OKS1gye",
        "outputId": "907e52f9-0fe0-4166-d922-91c2e383bce8"
      },
      "source": [
        "#2회차\n",
        "\n",
        "#[1,2,3]\n",
        "#[7,8,9] 이렇게 가져오려면 어떻게 해야할까?\n",
        "\n",
        "arr = np.arange(1,10).reshape(3,3)\n",
        "\n",
        "arr[ [0,2],: ]\n",
        "\n",
        "#생각해야할 기본개념같은 게 파이썬에서 슬라이싱할 때는 늘 [,] 대괄호 안에서 슬라이싱 했다. 단지 대괄호 속에 리스트로 들어가는 것 뿐이야. "
      ],
      "execution_count": null,
      "outputs": [
        {
          "output_type": "execute_result",
          "data": {
            "text/plain": [
              "array([[1, 2, 3],\n",
              "       [7, 8, 9]])"
            ]
          },
          "metadata": {
            "tags": []
          },
          "execution_count": 4
        }
      ]
    },
    {
      "cell_type": "markdown",
      "metadata": {
        "id": "f4wvms5KgcSR"
      },
      "source": [
        "불린 인덱싱"
      ]
    },
    {
      "cell_type": "code",
      "metadata": {
        "colab": {
          "base_uri": "https://localhost:8080/"
        },
        "id": "w0z6Ii9uU3qf",
        "outputId": "a47cf61c-1327-4c83-fe25-3adc89af18dc"
      },
      "source": [
        "#1차원\n",
        "#불린 인덱싱은 True와 False 이거 두개로 되는 건데, 그 중에서 True 요소인 것만 가져오는 것임\n",
        "arr = np.arange(1,10)\n",
        "print(arr)\n",
        "print(arr[arr > 5]) # ndarray에서 5보다 큰 거만 뽑아서 출력해보자. 원본에는 손 안대고. 지금 여기에 조건식 넣어준 거임.\n",
        "print(arr[arr > 5])  #그래 이 부분. 이 부분이 잘 이해가 안돼.==> 원본에는 손 안대고 조건에 맞는 것만 출력해주는 거!!!!!\n",
        " \n",
        "print( arr > 5 ) #조건식들. 이 조건식들을 통해 True False가 어떻게 바뀌는지 잘 확인해보자. \n",
        "\n",
        "#일부분만 갖고 오고 싶다면, 그 부분만 True로 바꿔주고 가져오면 되잖아? "
      ],
      "execution_count": null,
      "outputs": [
        {
          "output_type": "stream",
          "text": [
            "[1 2 3 4 5 6 7 8 9]\n",
            "[6 7 8 9]\n",
            "[6 7 8 9]\n",
            "[1 2 3 4 5 6 7 8 9]\n"
          ],
          "name": "stdout"
        }
      ]
    },
    {
      "cell_type": "code",
      "metadata": {
        "colab": {
          "base_uri": "https://localhost:8080/"
        },
        "id": "Im8PRjLzhQNE",
        "outputId": "cf174eac-8f45-408b-ee2e-bdc448b21de0"
      },
      "source": [
        "#얘도 복습 열심히 해야겠다. 이해하려면. 갑자기 이렇게 빵 어려워져서 당황스러움.\n",
        "\n",
        "name = np.array([ '홍길동','박철수', '이혜슈', '김영원','을지문덕' ])\n",
        "name_score = np.array( [[60,60],[70,70],[80,80],[90,90],[100,100]] ) #name_score라는 2차원 ndarray 만들었음. \n",
        "#이 두개 ndarray가 지금 원소 인덱스 위치가 딱 맞잖아? 지금 약간 키값 대응되듯 된 거임.\n",
        "print(name)\n",
        "name_score"
      ],
      "execution_count": null,
      "outputs": [
        {
          "output_type": "stream",
          "text": [
            "['홍길동' '박철수' '이혜슈' '김영원' '을지문덕']\n"
          ],
          "name": "stdout"
        },
        {
          "output_type": "execute_result",
          "data": {
            "text/plain": [
              "array([[ 60,  60],\n",
              "       [ 70,  70],\n",
              "       [ 80,  80],\n",
              "       [ 90,  90],\n",
              "       [100, 100]])"
            ]
          },
          "metadata": {
            "tags": []
          },
          "execution_count": 8
        }
      ]
    },
    {
      "cell_type": "code",
      "metadata": {
        "id": "H4B6fC3E-dUh",
        "colab": {
          "base_uri": "https://localhost:8080/"
        },
        "outputId": "17528557-1984-446f-85fc-e6f93b1d423a"
      },
      "source": [
        "#name에서 홍길동만 가져오고 싶을 때. -> name에서 홍길동을 제외한 건 다 False로 출력하겠다.\n",
        "name == '홍길동' #근데 이게 name의 원본 데이터를 건드리는 건 아님. 그냥 이째로 출력하면.. 아 이걸 조건식으로 걸고 출력해볼까?\n",
        "#print(name[name == '홍길동']) #name == '홍길동' 이게 조건식일 때 이걸 만족하는 홍길동만 지금 출력해준 건데. 홍길동 빼고 다 false로 나오는 걸 따로 저장할 순 없을까?\n",
        "print(name == '홍길동')\n",
        "#print(player)\n",
        "\n",
        "#name에서 홍길동 점수만 가져오고 싶을 때\n",
        "name_score[ name == '홍길동' ]\n"
      ],
      "execution_count": null,
      "outputs": [
        {
          "output_type": "stream",
          "text": [
            "[ True False False False False]\n"
          ],
          "name": "stdout"
        }
      ]
    },
    {
      "cell_type": "code",
      "metadata": {
        "colab": {
          "base_uri": "https://localhost:8080/"
        },
        "id": "yiGe31GF2RDD",
        "outputId": "653be1be-792f-4170-c832-61bc229aad0c"
      },
      "source": [
        "#홍길동 2회차 ?????\n",
        "##name에서 홍길동만 가져올 때\n",
        "print(name[name == '홍길동'])"
      ],
      "execution_count": null,
      "outputs": [
        {
          "output_type": "stream",
          "text": [
            "['홍길동']\n"
          ],
          "name": "stdout"
        }
      ]
    },
    {
      "cell_type": "markdown",
      "metadata": {
        "id": "xZy_t6sQHWzM"
      },
      "source": [
        "#### Numpy 예제 03 \n",
        "\n",
        "BMI 구하기\n",
        "\n",
        "10명에 대한 키와 몸무게가 들어있는 파일 ‘height_weight.txt’을 읽어 각 사람별 BMI 지수를 구하시오.\n",
        "```\n",
        "data = np.loadtxt(drive_path + \"height_weight.txt\", delimiter = \",\") # delimiter : 구분자\n",
        "data\n",
        "```\n",
        "  \\\\( BMI지수=\\frac { 몸무게(kg) }{ 키(m) \\times 키(m) } \\\\)\n",
        "```\n",
        "# 제곱 계산\n",
        "# **2 or np.square()\n",
        "```"
      ]
    },
    {
      "cell_type": "code",
      "metadata": {
        "id": "9OBevrBV-gq9",
        "colab": {
          "base_uri": "https://localhost:8080/"
        },
        "outputId": "79468d9a-472c-40b9-a126-c1ab61317d95"
      },
      "source": [
        "#bmi 구하기 내가 푼 것 => 이게 numpy 스럽게 만들어준 것. 통째로 계산되는 거! 똑같은 크기면 각각 요소들끼리 계산이 된다!\n",
        "#numpy를 쓰면 속도도 빠름 ㅋㅋ\n",
        "\n",
        "data = np.loadtxt(drive_path + \"height_weight.txt\", delimiter = \",\")  #구글 연동 먼저하고, 데이터 불러오기 한 것.\n",
        "print(data)\n",
        "\n",
        "height = data[0,:] / 100\n",
        "weight = data[1,:]\n",
        "\n",
        "bmi = weight / height **2\n",
        "print(bmi)\n",
        "\n",
        "#만약에 키에 대해 20 더하고 싶다면, data[0] + 20 이렇게 하면 됨. 이게 행렬에 대한 연산. 모든 요소가 동일한 연산이 수행됨. 아. 행렬에 더하기 하면 이렇잖아. 행렬 더하기 활용한 거네.\n",
        "#키와 몸무게 크기가 같으니까(들어있는 차원과 요소 개수) 그러니까 그냥 통째로 연산 수행해도 상관 없네. 행렬이니까 통째로 연산 수행하는 게 가능한 거야."
      ],
      "execution_count": null,
      "outputs": [
        {
          "output_type": "stream",
          "text": [
            "[[175.2 180.3 175.  169.2 185.2 188.  177.6 178.2 177.  179. ]\n",
            " [ 65.6  88.   79.2  69.3  55.   71.2  73.   68.9  74.   82. ]]\n",
            "[21.37153104 27.07018468 25.86122449 24.20652885 16.03543423 20.14486193\n",
            " 23.14392095 21.69720651 23.62028791 25.59220998]\n"
          ],
          "name": "stdout"
        }
      ]
    },
    {
      "cell_type": "code",
      "metadata": {
        "colab": {
          "base_uri": "https://localhost:8080/"
        },
        "id": "mjCoYMaXjhSW",
        "outputId": "b72c0438-83d5-4aba-f064-48ebe4c8e0b3"
      },
      "source": [
        "#bmi 구하기. 리스트 활용해서!\n",
        "\n",
        "data = np.loadtxt(drive_path + \"height_weight.txt\", delimiter = \",\")  #구글 연동 먼저하고, 데이터 불러오기 한 것.\n",
        "print(data)\n",
        "\n",
        "bmi = []\n",
        "for i in range(0,10):  #요소 하나하나씩 불러오면서 할 때. \n",
        "  bmi.append(data[1,0] / ((data[0,0]**2) / 100))\n",
        "\n",
        "bmi"
      ],
      "execution_count": null,
      "outputs": [
        {
          "output_type": "stream",
          "text": [
            "[[175.2 180.3 175.  169.2 185.2 188.  177.6 178.2 177.  179. ]\n",
            " [ 65.6  88.   79.2  69.3  55.   71.2  73.   68.9  74.   82. ]]\n"
          ],
          "name": "stdout"
        },
        {
          "output_type": "execute_result",
          "data": {
            "text/plain": [
              "[0.2137153103563312,\n",
              " 0.2137153103563312,\n",
              " 0.2137153103563312,\n",
              " 0.2137153103563312,\n",
              " 0.2137153103563312,\n",
              " 0.2137153103563312,\n",
              " 0.2137153103563312,\n",
              " 0.2137153103563312,\n",
              " 0.2137153103563312,\n",
              " 0.2137153103563312]"
            ]
          },
          "metadata": {
            "tags": []
          },
          "execution_count": 116
        }
      ]
    },
    {
      "cell_type": "markdown",
      "metadata": {
        "id": "7nozJyiiQo1I"
      },
      "source": [
        "### 행렬의 정렬\n",
        "- sort() : 정렬\n",
        "- argsort() : 정렬된 행렬의 원본 행렬 원소에 대한 인덱스를 반환"
      ]
    },
    {
      "cell_type": "code",
      "metadata": {
        "id": "a-lSRMRD-lPl",
        "colab": {
          "base_uri": "https://localhost:8080/"
        },
        "outputId": "4a258aea-f9ab-40a6-e7b6-d1294e556a19"
      },
      "source": [
        "#ndarray가 정렬하고 뭐 비슷하다고 봐도 됨.\n",
        "#argsort()는 원본 행렬의 위치가 원래 어땠었다~ 라는 걸 알려주는 거임\n",
        "\n",
        "org_array = np.array( [3,1,8,5] )\n",
        "\n",
        "#sort()는 오름차순으로 바뀌고, 원본은 변경하지 않고 그대로 둠.\n",
        "sort_array = np.sort(org_array)\n",
        "print(org_array)\n",
        "print(sort_array)\n",
        "\n",
        "# array.sort()하면 자기 자신이 바뀌기 때문에 원본이 바뀜.\n",
        "#org_array.sort()  #원본은 대부분 보존하려 하니까 이렇게 쓰지마. 원본은 바꾸지 않는 게 거의 좋음.\n",
        "\n",
        "org_array[::-1] #내림차순과 똑같은 효과임\n",
        "np.sort(org_array)[::-1]"
      ],
      "execution_count": null,
      "outputs": [
        {
          "output_type": "stream",
          "text": [
            "[3 1 8 5]\n",
            "[1 3 5 8]\n"
          ],
          "name": "stdout"
        },
        {
          "output_type": "execute_result",
          "data": {
            "text/plain": [
              "array([8, 5, 3, 1])"
            ]
          },
          "metadata": {
            "tags": []
          },
          "execution_count": 121
        }
      ]
    },
    {
      "cell_type": "code",
      "metadata": {
        "colab": {
          "base_uri": "https://localhost:8080/"
        },
        "id": "OitUgSx1s3nz",
        "outputId": "a46bf73f-0a5c-484e-e692-43a3f4198a18"
      },
      "source": [
        "#2차원 정렬\n",
        "array = np.array( [[8,12],\n",
        "                   [7,1]] )\n",
        "\n",
        "np.sort(array) #2차원같은 경우는 방향이 2방향이잖아. 행방향 열방향으로. 이 방향을 보통 '축'이라고 부름.\n",
        "\n",
        "print(np.sort(array, axis=0))  #0방향은 행방향. 1방향은 열방향임.\n",
        "print(np.sort(array, axis=1))  #0방향은 행방향. 1방향은 열방향임.\n"
      ],
      "execution_count": null,
      "outputs": [
        {
          "output_type": "stream",
          "text": [
            "[[ 7  1]\n",
            " [ 8 12]]\n",
            "[[ 8 12]\n",
            " [ 1  7]]\n"
          ],
          "name": "stdout"
        }
      ]
    },
    {
      "cell_type": "code",
      "metadata": {
        "colab": {
          "base_uri": "https://localhost:8080/"
        },
        "id": "meYKMcDbtsK-",
        "outputId": "65670b8f-ea89-4554-c43e-f239346f47de"
      },
      "source": [
        "#argsort를 써보자.\n",
        "\n",
        "org_array = np.array( [3,1,8,5] )\n",
        "np.argsort(org_array) #원본 인덱스 위치를 정렬 시켜주는 것임. 원본에서의 위치 인덱스가 어디였는지 확인 가능. 원래대로였으면, 오름차순으로 정렬 상태였으면 위치가 어떻게 됐을지 보여주는 것.\n",
        "                      #어디다 써먹냐 이거? 팬시 인덱싱으로 쓸 수 있음. 소팅 이전의 위치대로 값을 가져올 수 있으니까"
      ],
      "execution_count": null,
      "outputs": [
        {
          "output_type": "execute_result",
          "data": {
            "text/plain": [
              "array([1, 0, 3, 2])"
            ]
          },
          "metadata": {
            "tags": []
          },
          "execution_count": 126
        }
      ]
    },
    {
      "cell_type": "code",
      "metadata": {
        "colab": {
          "base_uri": "https://localhost:8080/"
        },
        "id": "OWTVhHuBrWy-",
        "outputId": "3393ddcd-cffe-4749-c41b-cac86c967c07"
      },
      "source": [
        "#argsort()의 활용\n",
        "#소팅 된 위치를 가져올 수 있다~\n",
        "#복습 때 여기 잘 이해해보자\n",
        "\n",
        "name = np.array([ '홍길동','박철수', '이혜슈', '김영원','을지문덕' ])\n",
        "name_score = np.array( [78, 95, 84, 98, 88] )\n",
        "\n",
        "sort_index = np.argsort( name_score )   #sorting을 한다는 건 점수순대로 소팅하겠다는 거임. 소팅한 순서가 이름대로 들어가겠지. 그거대로 이름을 나열시키면?\n",
        "\n",
        "sort_index = np.argsort( name_score )[::-1] #역순으로 한 것.  \n",
        "\n",
        "print( sort_index )\n",
        "print( name[sort_index] )"
      ],
      "execution_count": null,
      "outputs": [
        {
          "output_type": "stream",
          "text": [
            "[3 1 4 2 0]\n",
            "['김영원' '박철수' '을지문덕' '이혜슈' '홍길동']\n"
          ],
          "name": "stdout"
        }
      ]
    },
    {
      "cell_type": "code",
      "metadata": {
        "id": "UiYdUBBrrW-_"
      },
      "source": [
        ""
      ],
      "execution_count": null,
      "outputs": []
    },
    {
      "cell_type": "markdown",
      "metadata": {
        "id": "QBO6DurIejVc"
      },
      "source": [
        "### ndarray 연산\n",
        "- 일반연산 : 산술연산, 비교연산 ...\n",
        "- 선형대수 연산 : 행렬 내적과 전치 행렬"
      ]
    },
    {
      "cell_type": "code",
      "metadata": {
        "id": "fymYlKLH-oZA",
        "colab": {
          "base_uri": "https://localhost:8080/"
        },
        "outputId": "82ce5cf8-2577-419c-c7b2-1c4ac7791d15"
      },
      "source": [
        "#행렬 일반 연산\n",
        "array = np.array( [1,2,3] )\n",
        "array + 100   #이게 되는 건 행렬 연산이니까 가능.\n",
        "\n",
        "array + array #이것도 같은 위치끼리 더함. 왜냐? 행렬 연산이니까.\n",
        "\n",
        "array * array #행렬은 곱셈이 2개임. 행렬곱과 그냥 요소들끼리 곱이 있음. 이건 그냥 요소들끼리의 곱임. \n",
        "\n",
        "array - array #같은 값에서 같은 값 빼면 다 0되지 ㅋㅋㅋ"
      ],
      "execution_count": null,
      "outputs": [
        {
          "output_type": "execute_result",
          "data": {
            "text/plain": [
              "array([0, 0, 0])"
            ]
          },
          "metadata": {
            "tags": []
          },
          "execution_count": 132
        }
      ]
    },
    {
      "cell_type": "code",
      "metadata": {
        "colab": {
          "base_uri": "https://localhost:8080/"
        },
        "id": "HY0LtJXEwsTV",
        "outputId": "2b38ebae-81e2-4158-d337-6a4effad382e"
      },
      "source": [
        "array == 1 #이건 불린 연산. array == 1 이렇게 하면 자동으로 for문 돌아가짐. 자동으로 for문 돌아가면서 True인지 False인지 찾아주는 거임.\n",
        "array == array #이건 다 True로 나온다."
      ],
      "execution_count": null,
      "outputs": [
        {
          "output_type": "execute_result",
          "data": {
            "text/plain": [
              "array([ True, False, False])"
            ]
          },
          "metadata": {
            "tags": []
          },
          "execution_count": 133
        }
      ]
    },
    {
      "cell_type": "code",
      "metadata": {
        "colab": {
          "base_uri": "https://localhost:8080/"
        },
        "id": "lULFvPLMxAaS",
        "outputId": "de481c63-508d-4b1e-c117-bc69bdfad486"
      },
      "source": [
        "#특수한 행렬 곱. 행렬곱, 행렬의 내적.\n",
        "#dot()\n",
        "#행렬과 벡터의 곱이 dot()임. \n",
        "#1차원에서의 행렬 곱은 행벡터는 열벡터는 어짜피 방향은 하나. 차원은 하나임. 방향이 하나니까. 그냥 내적 구하듯 곱하면 된다. 그러면 하나가 나옴. 지금 14 이렇게.\n",
        "\n",
        "np.dot(array, array) "
      ],
      "execution_count": null,
      "outputs": [
        {
          "output_type": "execute_result",
          "data": {
            "text/plain": [
              "14"
            ]
          },
          "metadata": {
            "tags": []
          },
          "execution_count": 134
        }
      ]
    },
    {
      "cell_type": "code",
      "metadata": {
        "colab": {
          "base_uri": "https://localhost:8080/"
        },
        "id": "vrYRrVTBx4n5",
        "outputId": "ee704f9e-2058-4830-bf82-32d97ed03407"
      },
      "source": [
        "#2차원에서의 곱. 행렬곱은 행렬의 내적이다. 정사각형으로 할 때랑 직사각형으로 할 때랑 다름. 내가 했던 방법은 정사각형으로 구하는 것이었다. 벡터 행렬곱 다시 보자.\n",
        "\n",
        "\n",
        "a = np.array([[1,2,3],\n",
        "              [4,5,6]])\n",
        "\n",
        "b = np.array([[7,8],\n",
        "              [9,10],\n",
        "              [11,12]])\n",
        "\n",
        "np.dot(a,b)"
      ],
      "execution_count": null,
      "outputs": [
        {
          "output_type": "execute_result",
          "data": {
            "text/plain": [
              "array([[ 58,  64],\n",
              "       [139, 154]])"
            ]
          },
          "metadata": {
            "tags": []
          },
          "execution_count": 135
        }
      ]
    },
    {
      "cell_type": "code",
      "metadata": {
        "id": "BO7uF2bTya-y"
      },
      "source": [
        "#전치 행렬  #그냥 가로 세로 축만 바뀌는 거임. 전치행렬 두번 바꾸면 그대로임.ㅋㅋ\n",
        "#np.transpose()\n",
        "\n",
        "np.transpose(a) #a의 행과 열의 위치를 교환해준다.\n",
        "a.T   #이렇게 하면 바로 행과 열을 바꿔준다.\n",
        "a.T.T #이렇게 하면 다시 바꾸니까 그대로됨~"
      ],
      "execution_count": null,
      "outputs": []
    },
    {
      "cell_type": "markdown",
      "metadata": {
        "id": "iJ8ZGnMWaF_t"
      },
      "source": [
        "### Universal 함수\n",
        "- sin(), cos()다양한 수학함수를 제공\n",
        "- 스칼라값을 입력으로 하는 math 패키지와 달리 배열에 대해 요소별로 적용"
      ]
    },
    {
      "cell_type": "code",
      "metadata": {
        "id": "UbAo9wHL-qOO"
      },
      "source": [
        "array = np.arange(1,11)\n",
        "array.sum()   #sum() 함수 쓰면 한번에 다 더해줌.\n",
        "array.mean()  #mean() 평균 구하기\n"
      ],
      "execution_count": null,
      "outputs": []
    },
    {
      "cell_type": "code",
      "metadata": {
        "colab": {
          "base_uri": "https://localhost:8080/"
        },
        "id": "hM6y8aU2zyk1",
        "outputId": "68ea721b-7727-442f-b7c3-928b4e2ee6be"
      },
      "source": [
        "array = np.array( [-1,-2,3,4,-5] )\n",
        "#numpy에 있는 abs() 함수를 쓰면 전부 다 절댓값으로 바뀜. for문을 써서 하나씩 바꿔줄 필요가 없음.\n",
        "np.abs(array)\n",
        "\n",
        "#numpy는 진짜 개쩌넹. for문도 없어주고 numpy는 문서를 한번 열심히 들여다봐야겠다."
      ],
      "execution_count": null,
      "outputs": [
        {
          "output_type": "execute_result",
          "data": {
            "text/plain": [
              "array([1, 2, 3, 4, 5])"
            ]
          },
          "metadata": {
            "tags": []
          },
          "execution_count": 136
        }
      ]
    },
    {
      "cell_type": "markdown",
      "metadata": {
        "id": "KvMs00LYdYeH"
      },
      "source": [
        "##### Numpy 예제 04\n",
        "\n",
        "영화평점 데이터 분석 ###이거만 완전히 이해하고 제대로 복습해도 되겠다."
      ]
    },
    {
      "cell_type": "code",
      "metadata": {
        "id": "vIYsPAMb-raO",
        "colab": {
          "base_uri": "https://localhost:8080/"
        },
        "outputId": "6746fcd9-686a-467c-9069-4b522c35b8ab"
      },
      "source": [
        "data = np.loadtxt(drive_path + 'ratings_small.txt', delimiter='::', dtype=np.int64)      #txt는 csv나 엑셀에서 그런 것들 불러올 때 많이 쓰임\n",
        "data\n",
        "\n"
      ],
      "execution_count": null,
      "outputs": [
        {
          "output_type": "execute_result",
          "data": {
            "text/plain": [
              "array([[        1,      1193,         5, 978300760],\n",
              "       [        1,       661,         3, 978302109],\n",
              "       [        1,       914,         3, 978301968],\n",
              "       ...,\n",
              "       [     1779,      2502,         4, 998699749],\n",
              "       [     1779,      3160,         5, 977032398],\n",
              "       [     1779,      3168,         4, 977033232]])"
            ]
          },
          "metadata": {
            "tags": []
          },
          "execution_count": 140
        }
      ]
    },
    {
      "cell_type": "markdown",
      "metadata": {
        "id": "0u4drffYV294"
      },
      "source": [
        "##### 데이터 분석하기\n",
        "```\n",
        "print(data.ndim)\n",
        "print(data.shape)\n",
        "print(data.size)\n",
        "```"
      ]
    },
    {
      "cell_type": "code",
      "metadata": {
        "colab": {
          "base_uri": "https://localhost:8080/"
        },
        "id": "27nwTdkJ2m5f",
        "outputId": "4f31348e-ec63-42d1-88bf-aa82e40b9ff5"
      },
      "source": [
        "print(data.ndim)\n",
        "print(data.shape) #층에 39만 1개, 호가 4개\n",
        "print(data.size)  #총 개수는 12만 4개"
      ],
      "execution_count": null,
      "outputs": [
        {
          "output_type": "stream",
          "text": [
            "2\n",
            "(300001, 4)\n",
            "1200004\n"
          ],
          "name": "stdout"
        }
      ]
    },
    {
      "cell_type": "markdown",
      "metadata": {
        "id": "4555yr6wV-qB"
      },
      "source": [
        "##### 전체 평점 평균 구하기\n",
        "1. 평점 데이터만 추출 (인덱싱, 슬라이싱)\n",
        "2. 평균 구하기 (mean)"
      ]
    },
    {
      "cell_type": "code",
      "metadata": {
        "id": "bsI6QnTw-w2N",
        "colab": {
          "base_uri": "https://localhost:8080/"
        },
        "outputId": "7ca659a8-74b0-4681-802f-575b7aa34af4"
      },
      "source": [
        "#1. 평점 데이터만 추출\n",
        "rating_all = data[:, 2]   # 층은 전체, 호는 범위 연산자를 사용한 게 아니니까 2번만 가져옴. 즉, 평점만 가져온다는 이야기\n",
        "\n",
        "#rating_all.mean()\n",
        "\n",
        "#추출해서 평균 구하기\n",
        "np.mean( data[:,2] )"
      ],
      "execution_count": null,
      "outputs": [
        {
          "output_type": "execute_result",
          "data": {
            "text/plain": [
              "3.5613081289729034"
            ]
          },
          "metadata": {
            "tags": []
          },
          "execution_count": 142
        }
      ]
    },
    {
      "cell_type": "markdown",
      "metadata": {
        "id": "NyWvFfFpWhXF"
      },
      "source": [
        "##### 각 사용자별 평점 평균 구하기\n",
        "1번 사용자의 평균 평점 구하기\n",
        "1. 1번 사용자의 데이터만 Boolean Indexing 추출\n",
        "2. 1번 사용자의 데이터에서 평점만 추출 (인덱싱, 슬라이싱)\n",
        "3. 평균 구하기\n",
        "\n",
        "참고\n",
        "```\n",
        "# 중복된 성분을 제외한 array를 반환\n",
        "np.unique( ndarray )\n",
        "```"
      ]
    },
    {
      "cell_type": "code",
      "metadata": {
        "id": "CFGxQIME-z_s",
        "colab": {
          "base_uri": "https://localhost:8080/"
        },
        "outputId": "303e699e-9027-424a-f27d-6177bebda51f"
      },
      "source": [
        "#unique 함수. 중복없이 카운팅 해주는 것. 사용자가 1번 부터 몇번까지 있는지 확인 가능\n",
        "user_id_all = np.unique( data[:,0] )\n",
        "user_id_all.shape"
      ],
      "execution_count": null,
      "outputs": [
        {
          "output_type": "execute_result",
          "data": {
            "text/plain": [
              "(1779,)"
            ]
          },
          "metadata": {
            "tags": []
          },
          "execution_count": 144
        }
      ]
    },
    {
      "cell_type": "code",
      "metadata": {
        "id": "EgkJOmKK4fim"
      },
      "source": [
        "#1번 사용자의 데이터만 boolean index 추출\n",
        "user_1 = data[ data[:,0] == 1 ]   #######중요#############  data 여기서 조건에 맞는 것만 추출해주는 거임!! data 원본에 영향을 주지 않고!\n"
      ],
      "execution_count": null,
      "outputs": []
    },
    {
      "cell_type": "code",
      "metadata": {
        "colab": {
          "base_uri": "https://localhost:8080/"
        },
        "id": "-XqhVr1t5HKO",
        "outputId": "69c7d3b7-1559-4860-aa4f-f942632dce12"
      },
      "source": [
        "#1번 사용자의 평점 평균 구하기\n",
        "#1번 사용자의 데이터에서 평점만 추출 (인덱싱, 슬라이싱)\n",
        "user_1 #user1에 대한 데이터임. 위에서 평균 구한 것과 똑같은 방향으로 구할 수 있음.\n",
        "\n",
        "data[ data[:,0] == i ][:,2].mean()] #1번 사용자의 평점평균 구하기\n",
        "\n",
        "np.mean( user_1[:,2] )"
      ],
      "execution_count": null,
      "outputs": [
        {
          "output_type": "execute_result",
          "data": {
            "text/plain": [
              "4.188679245283019"
            ]
          },
          "metadata": {
            "tags": []
          },
          "execution_count": 149
        }
      ]
    },
    {
      "cell_type": "code",
      "metadata": {
        "colab": {
          "base_uri": "https://localhost:8080/"
        },
        "id": "GQ-_WlYf6Sat",
        "outputId": "b2159fb3-b0a3-46f5-b64a-6f5f0e924e11"
      },
      "source": [
        "#내가 푼 것!!!\n",
        "\n",
        "#각 사용자별 평점 평균\n",
        "score_mean = []\n",
        "\n",
        "#user_id_all로 for문 돌리면 되잖아.\n",
        "\n",
        "for i in user_id_all:\n",
        "  score_mean.append( [i, data[ data[:, 0] == i ][:, 2].mean()] )\n",
        "\n",
        "#평점은 구했는데 사용자 id정보가 누락되어있음. => 지금은 i로 id 정보 포함되어있음\n",
        "\n",
        "print(score_mean)"
      ],
      "execution_count": null,
      "outputs": [
        {
          "output_type": "stream",
          "text": [
            "[[1, 4.188679245283019], [2, 3.7131782945736433], [3, 3.9019607843137254], [4, 4.190476190476191], [5, 3.1464646464646466], [6, 3.9014084507042255], [7, 4.32258064516129], [8, 3.884892086330935], [9, 3.7358490566037736], [10, 4.114713216957606], [11, 3.2773722627737225], [12, 3.8260869565217392], [13, 3.388888888888889], [14, 3.32], [15, 3.3233830845771144], [16, 3.0285714285714285], [17, 4.075829383886256], [18, 3.6491803278688524], [19, 3.5725490196078433], [20, 4.083333333333333], [21, 2.909090909090909], [22, 3.0673400673400675], [23, 3.3157894736842106], [24, 3.948529411764706], [25, 3.7411764705882353], [26, 2.96], [27, 4.171428571428572], [28, 3.7570093457943927], [29, 3.5833333333333335], [30, 3.488372093023256], [31, 3.73109243697479], [32, 3.625], [33, 3.498721227621483], [34, 3.8658536585365852], [35, 3.54040404040404], [36, 4.199430199430199], [37, 3.69811320754717], [38, 3.58], [39, 3.564516129032258], [40, 3.4479166666666665], [41, 3.48], [42, 3.74025974025974], [43, 4.125], [44, 3.6321243523316062], [45, 2.946127946127946], [46, 4.219512195121951], [47, 3.909090909090909], [48, 3.068561872909699], [49, 3.712962962962963], [50, 3.0697674418604652], [51, 3.825], [52, 3.5569620253164556], [53, 4.2368421052631575], [54, 4.025], [55, 4.12], [56, 3.970149253731343], [57, 2.90625], [58, 3.9725400457665905], [59, 3.4741784037558685], [60, 3.414285714285714], [61, 2.7777777777777777], [62, 3.566265060240964], [63, 3.4285714285714284], [64, 4.148148148148148], [65, 4.347107438016529], [66, 3.8461538461538463], [67, 4.296875], [68, 3.75], [69, 4.153846153846154], [70, 3.7037037037037037], [71, 3.7586206896551726], [72, 3.697674418604651], [73, 3.364705882352941], [74, 4.046511627906977], [75, 4.005714285714285], [76, 4.172413793103448], [77, 2.948717948717949], [78, 3.657142857142857], [79, 3.6451612903225805], [80, 3.8958333333333335], [81, 4.4186046511627906], [82, 4.016949152542373], [83, 3.5757575757575757], [84, 3.838709677419355], [85, 3.1025641025641026], [86, 4.3125], [87, 2.8135593220338984], [88, 4.147058823529412], [89, 3.238095238095238], [90, 3.511111111111111], [91, 4.704545454545454], [92, 2.7581395348837208], [93, 2.9727272727272727], [94, 3.857142857142857], [95, 3.595959595959596], [96, 3.6049382716049383], [97, 4.474025974025974], [98, 3.8], [99, 3.2149532710280373], [100, 3.026315789473684], [101, 4.679245283018868], [102, 3.128787878787879], [103, 4.052173913043478], [104, 3.347826086956522], [105, 4.295081967213115], [106, 4.0212765957446805], [107, 3.743801652892562], [108, 3.135135135135135], [109, 4.0], [110, 3.25], [111, 3.7282608695652173], [112, 4.183333333333334], [113, 3.5], [114, 3.693877551020408], [115, 3.8421052631578947], [116, 3.802325581395349], [117, 3.299009900990099], [118, 3.767857142857143], [119, 3.5428571428571427], [120, 3.619047619047619], [121, 4.416666666666667], [122, 2.9649122807017543], [123, 3.401315789473684], [124, 4.173913043478261], [125, 4.098591549295775], [126, 4.0], [127, 3.8448275862068964], [128, 4.363636363636363], [129, 4.025316455696203], [130, 4.311111111111111], [131, 3.3966101694915256], [132, 3.966292134831461], [133, 3.7705882352941176], [134, 2.7158469945355193], [135, 3.657142857142857], [136, 3.074074074074074], [137, 3.611940298507463], [138, 4.492307692307692], [139, 3.8816326530612244], [140, 3.8181818181818183], [141, 3.6956521739130435], [142, 3.3404255319148937], [143, 3.5441176470588234], [144, 3.46875], [145, 3.0], [146, 3.7699530516431925], [147, 3.5026737967914436], [148, 3.733974358974359], [149, 3.9408783783783785], [150, 4.021551724137931], [151, 3.653927813163482], [152, 4.125], [153, 4.076923076923077], [154, 3.090909090909091], [155, 2.96875], [156, 4.236486486486487], [157, 3.718969555035129], [158, 4.0], [159, 3.7777777777777777], [160, 3.5], [161, 4.4713804713804715], [162, 4.121495327102804], [163, 2.1828793774319064], [164, 4.384615384615385], [165, 3.981818181818182], [166, 3.6878048780487807], [167, 2.9310344827586206], [168, 3.8461538461538463], [169, 3.5670289855072466], [170, 3.9885057471264367], [171, 4.0], [172, 3.608695652173913], [173, 3.9679144385026737], [174, 3.649484536082474], [175, 3.9810725552050474], [176, 3.6153846153846154], [177, 4.113636363636363], [178, 3.8434782608695652], [179, 2.6545454545454548], [180, 3.694915254237288], [181, 3.604651162790698], [182, 3.8313253012048194], [183, 4.099009900990099], [184, 4.083333333333333], [185, 3.588235294117647], [186, 4.254098360655738], [187, 4.083932853717027], [188, 3.1690140845070425], [189, 4.0], [190, 3.6993464052287583], [191, 3.3333333333333335], [192, 3.0914285714285716], [193, 3.677685950413223], [194, 3.983050847457627], [195, 3.889294403892944], [196, 4.0625], [197, 3.909090909090909], [198, 3.7493403693931397], [199, 3.2761194029850746], [200, 3.423076923076923], [201, 3.954022988505747], [202, 3.2492537313432837], [203, 2.2913385826771653], [204, 3.5560538116591927], [205, 4.0588235294117645], [206, 3.066666666666667], [207, 3.5217391304347827], [208, 3.652173913043478], [209, 3.16], [210, 4.027272727272727], [211, 3.857142857142857], [212, 3.8545454545454545], [213, 4.2272727272727275], [214, 3.1626506024096384], [215, 4.5588235294117645], [216, 3.2317380352644838], [217, 3.7], [218, 3.0930232558139537], [219, 3.3333333333333335], [220, 4.215686274509804], [221, 3.2413793103448274], [222, 4.0875], [223, 3.44140625], [224, 3.4019607843137254], [225, 3.4330708661417324], [226, 3.5714285714285716], [227, 3.2857142857142856], [228, 4.0], [229, 3.4292452830188678], [230, 4.094972067039106], [231, 4.22680412371134], [232, 3.566666666666667], [233, 4.584905660377358], [234, 4.310344827586207], [235, 4.086363636363636], [236, 3.693548387096774], [237, 3.4036144578313254], [238, 3.7868217054263567], [239, 4.140845070422535], [240, 3.300699300699301], [241, 3.9649122807017543], [242, 3.2051282051282053], [243, 3.606060606060606], [244, 4.105882352941176], [245, 2.6714659685863875], [246, 4.0], [247, 3.935483870967742], [248, 4.205882352941177], [249, 3.9454545454545453], [250, 3.75], [251, 3.5753424657534247], [252, 4.016666666666667], [253, 3.9245283018867925], [254, 3.782608695652174], [255, 4.016393442622951], [256, 3.8526315789473684], [257, 4.452830188679245], [258, 3.717241379310345], [259, 4.0359712230215825], [260, 3.311688311688312], [261, 3.5762711864406778], [262, 3.330188679245283], [263, 3.6630434782608696], [264, 2.785416666666667], [265, 4.1938775510204085], [266, 4.52], [267, 3.3893129770992365], [268, 3.3946360153256707], [269, 3.8], [270, 4.198412698412699], [271, 3.9583333333333335], [272, 3.6535269709543567], [273, 3.727272727272727], [274, 4.243243243243243], [275, 4.247191011235955], [276, 3.5217391304347827], [277, 3.727272727272727], [278, 3.9646464646464645], [279, 2.872340425531915], [280, 3.94], [281, 3.891891891891892], [282, 3.5172413793103448], [283, 4.962962962962963], [284, 3.021231422505308], [285, 4.16546762589928], [286, 3.883720930232558], [287, 3.70873786407767], [288, 4.589285714285714], [289, 3.9054054054054053], [290, 3.303030303030303], [291, 4.137254901960785], [292, 3.7560975609756095], [293, 3.2460567823343847], [294, 3.489795918367347], [295, 3.764397905759162], [296, 3.597938144329897], [297, 4.0], [298, 3.925925925925926], [299, 4.163461538461538], [300, 4.180722891566265], [301, 3.8011204481792715], [302, 2.8692893401015227], [303, 3.861244019138756], [304, 3.5555555555555554], [305, 2.5605095541401273], [306, 3.937823834196891], [307, 4.593406593406593], [308, 3.385996409335727], [309, 4.040650406504065], [310, 3.4260089686098656], [311, 4.15], [312, 3.736842105263158], [313, 4.038461538461538], [314, 3.696245733788396], [315, 3.8636363636363638], [316, 4.116883116883117], [317, 3.8095238095238093], [318, 3.9523809523809526], [319, 3.263522884882108], [320, 4.238095238095238], [321, 3.2612612612612613], [322, 4.45], [323, 3.788135593220339], [324, 3.3289473684210527], [325, 4.046511627906977], [326, 3.3350923482849604], [327, 3.669491525423729], [328, 3.032258064516129], [329, 2.7264397905759163], [330, 4.0131578947368425], [331, 3.7654109589041096], [332, 4.2835820895522385], [333, 3.352422907488987], [334, 3.9508196721311477], [335, 2.5], [336, 4.308411214953271], [337, 3.525252525252525], [338, 3.665745856353591], [339, 4.024193548387097], [340, 3.5277777777777777], [341, 4.2], [342, 3.6910569105691056], [343, 4.047138047138047], [344, 2.9555555555555557], [345, 4.4], [346, 4.307420494699647], [347, 3.878787878787879], [348, 3.78], [349, 3.25], [350, 3.9375], [351, 3.7572815533980584], [352, 3.4793103448275864], [353, 3.9166666666666665], [354, 3.586206896551724], [355, 3.4463007159904535], [356, 4.380952380952381], [357, 3.293103448275862], [358, 3.8472222222222223], [359, 3.857142857142857], [360, 3.6417910447761193], [361, 3.5384615384615383], [362, 3.290909090909091], [363, 3.744186046511628], [364, 3.142857142857143], [365, 3.3404255319148937], [366, 4.06949806949807], [367, 4.25], [368, 3.78125], [369, 3.1954022988505746], [370, 3.75], [371, 3.5], [372, 4.553571428571429], [373, 3.5555555555555554], [374, 4.403846153846154], [375, 4.078431372549019], [376, 4.111111111111111], [377, 3.9044117647058822], [378, 3.5128205128205128], [379, 4.234375], [380, 3.7246376811594204], [381, 4.114285714285714], [382, 4.017857142857143], [383, 3.5714285714285716], [384, 3.590909090909091], [385, 3.9562043795620436], [386, 3.3230769230769233], [387, 3.676470588235294], [388, 3.8813559322033897], [389, 3.5616438356164384], [390, 3.6728971962616823], [391, 3.728395061728395], [392, 3.4743326488706368], [393, 3.581081081081081], [394, 3.3421052631578947], [395, 3.608695652173913], [396, 3.560693641618497], [397, 3.8823529411764706], [398, 3.8133333333333335], [399, 4.15625], [400, 3.875], [401, 3.871794871794872], [402, 3.591549295774648], [403, 3.8035714285714284], [404, 4.14], [405, 3.795918367346939], [406, 3.306122448979592], [407, 3.4375], [408, 4.352564102564102], [409, 3.9158249158249157], [410, 3.96875], [411, 3.280314960629921], [412, 4.401260504201681], [413, 4.404040404040404], [414, 3.0701754385964914], [415, 3.874538745387454], [416, 3.7580645161290325], [417, 4.045454545454546], [418, 3.549019607843137], [419, 3.962962962962963], [420, 4.359375], [421, 4.25], [422, 3.297872340425532], [423, 2.5], [424, 3.735725938009788], [425, 3.6613756613756614], [426, 3.7573221757322175], [427, 4.111111111111111], [428, 3.9], [429, 3.346820809248555], [430, 3.9682539682539684], [431, 3.630952380952381], [432, 2.9863013698630136], [433, 3.391304347826087], [434, 4.023255813953488], [435, 3.8333333333333335], [436, 3.8345864661654137], [437, 4.3076923076923075], [438, 3.528239202657807], [439, 3.902173913043478], [440, 3.586206896551724], [441, 3.9574468085106385], [442, 3.8486997635933804], [443, 3.823529411764706], [444, 4.0], [445, 3.3181818181818183], [446, 4.8431372549019605], [447, 4.837837837837838], [448, 3.4347826086956523], [449, 3.7222222222222223], [450, 4.196078431372549], [451, 4.511961722488039], [452, 4.431818181818182], [453, 3.66497461928934], [454, 3.218045112781955], [455, 4.2], [456, 3.394904458598726], [457, 3.7130801687763713], [458, 3.5348837209302326], [459, 3.6875], [460, 3.3617021276595747], [461, 3.224609375], [462, 3.536723163841808], [463, 3.0], [464, 3.6097560975609757], [465, 3.5405405405405403], [466, 4.14070351758794], [467, 3.2028985507246377], [468, 3.730769230769231], [469, 4.326530612244898], [470, 3.8088235294117645], [471, 3.6285714285714286], [472, 4.022222222222222], [473, 4.163265306122449], [474, 3.380503144654088], [475, 3.8299595141700404], [476, 3.8375870069605567], [477, 3.5829383886255926], [478, 3.869565217391304], [479, 3.827956989247312], [480, 3.411214953271028], [481, 3.696969696969697], [482, 3.2606060606060607], [483, 2.9310344827586206], [484, 3.735294117647059], [485, 4.044444444444444], [486, 4.051282051282051], [487, 3.34], [488, 3.56], [489, 3.3333333333333335], [490, 3.7662337662337664], [491, 3.68], [492, 3.9375], [493, 3.848101265822785], [494, 4.157068062827225], [495, 3.7954545454545454], [496, 4.294117647058823], [497, 3.5833333333333335], [498, 3.6511627906976742], [499, 3.9748743718592965], [500, 3.633663366336634], [501, 3.417910447761194], [502, 4.083333333333333], [503, 4.448275862068965], [504, 3.8055555555555554], [505, 4.217391304347826], [506, 3.422222222222222], [507, 3.9523809523809526], [508, 3.3221476510067114], [509, 3.3139695712309822], [510, 3.8282828282828283], [511, 3.740740740740741], [512, 3.8378378378378377], [513, 3.1474358974358974], [514, 4.2025316455696204], [515, 3.728395061728395], [516, 2.931972789115646], [517, 3.963855421686747], [518, 4.3478260869565215], [519, 3.3777777777777778], [520, 3.9363057324840764], [521, 4.2926829268292686], [522, 3.8448275862068964], [523, 4.06], [524, 3.608267716535433], [525, 4.025], [526, 3.896551724137931], [527, 4.08], [528, 3.3551724137931034], [529, 4.19672131147541], [530, 4.0], [531, 3.1591695501730106], [532, 3.86046511627907], [533, 3.3401015228426396], [534, 3.7475728155339807], [535, 3.5714285714285716], [536, 3.942857142857143], [537, 4.3061224489795915], [538, 4.458333333333333], [539, 3.9242424242424243], [540, 3.230769230769231], [541, 3.1894736842105265], [542, 3.764705882352941], [543, 4.078986587183309], [544, 3.7777777777777777], [545, 3.4827586206896552], [546, 3.231818181818182], [547, 3.858974358974359], [548, 3.093220338983051], [549, 3.7569444444444446], [550, 3.578076525336091], [551, 3.8201754385964914], [552, 3.7628865979381443], [553, 4.15625], [554, 3.511627906976744], [555, 3.8157894736842106], [556, 3.5], [557, 3.8793103448275863], [558, 3.6804123711340204], [559, 3.0], [560, 3.897810218978102], [561, 3.7222222222222223], [562, 3.7027027027027026], [563, 2.7023121387283235], [564, 4.0], [565, 3.44], [566, 2.6273408239700373], [567, 4.583333333333333], [568, 4.44], [569, 3.52], [570, 3.329113924050633], [571, 3.7054794520547945], [572, 3.05], [573, 3.9722222222222223], [574, 4.095238095238095], [575, 3.6564417177914113], [576, 3.6666666666666665], [577, 4.487341772151899], [578, 3.9642857142857144], [579, 3.8550724637681157], [580, 3.347826086956522], [581, 3.6666666666666665], [582, 4.282051282051282], [583, 4.040229885057471], [584, 4.2894736842105265], [585, 3.4662162162162162], [586, 4.485714285714286], [587, 3.0077922077922077], [588, 4.057395143487859], [589, 4.0], [590, 4.13855421686747], [591, 3.231404958677686], [592, 4.391304347826087], [593, 3.641509433962264], [594, 4.29559748427673], [595, 3.95], [596, 2.9523809523809526], [597, 4.473684210526316], [598, 3.3157894736842106], [599, 3.8518518518518516], [600, 3.652173913043478], [601, 3.1501340482573728], [602, 3.396103896103896], [603, 3.5238095238095237], [604, 3.0940766550522647], [605, 4.049180327868853], [606, 4.03030303030303], [607, 4.16], [608, 3.1882352941176473], [609, 4.346153846153846], [610, 3.484126984126984], [611, 3.9393939393939394], [612, 3.5], [613, 3.5849056603773586], [614, 3.8333333333333335], [615, 4.127659574468085], [616, 3.9545454545454546], [617, 4.086956521739131], [618, 3.0], [619, 3.909090909090909], [620, 3.3240223463687153], [621, 3.0416666666666665], [622, 3.912280701754386], [623, 4.226744186046512], [624, 3.6801075268817205], [625, 4.0], [626, 4.055555555555555], [627, 3.5625], [628, 3.9038461538461537], [629, 3.371308016877637], [630, 4.254237288135593], [631, 3.7948717948717947], [632, 3.7941176470588234], [633, 3.5813953488372094], [634, 4.014925373134329], [635, 4.3107344632768365], [636, 4.058139534883721], [637, 3.7559681697612732], [638, 4.175438596491228], [639, 3.705], [640, 4.333333333333333], [641, 4.008264462809917], [642, 4.111111111111111], [643, 2.7142857142857144], [644, 3.1203703703703702], [645, 4.4772727272727275], [646, 3.8031496062992125], [647, 3.103896103896104], [648, 3.7231638418079096], [649, 3.6619718309859155], [650, 3.8947368421052633], [651, 3.6129707112970713], [652, 2.8863636363636362], [653, 4.142857142857143], [654, 3.4324324324324325], [655, 2.733009708737864], [656, 3.8700564971751414], [657, 4.016949152542373], [658, 3.096774193548387], [659, 3.7], [660, 3.0170697012802274], [661, 4.647887323943662], [662, 3.141732283464567], [663, 3.580357142857143], [664, 4.025316455696203], [665, 3.5], [666, 3.8932038834951457], [667, 3.0935672514619883], [668, 3.5833333333333335], [669, 3.847255369928401], [670, 3.2444444444444445], [671, 4.2592592592592595], [672, 3.872340425531915], [673, 3.13151364764268], [674, 4.2784810126582276], [675, 3.3095238095238093], [676, 3.128205128205128], [677, 3.892682926829268], [678, 3.6776776776776776], [679, 3.926829268292683], [680, 3.5714285714285716], [681, 4.2368421052631575], [682, 4.733333333333333], [683, 3.586206896551724], [684, 3.8947368421052633], [685, 3.2357142857142858], [686, 3.7777777777777777], [687, 3.4873417721518987], [688, 3.75], [689, 3.3925925925925924], [690, 4.311111111111111], [691, 4.174757281553398], [692, 3.8240887480190175], [693, 3.8857142857142857], [694, 3.625], [695, 3.513089005235602], [696, 3.802992518703242], [697, 3.8], [698, 3.551851851851852], [699, 3.0534124629080117], [700, 3.875], [701, 3.5], [702, 3.3027139874739038], [703, 4.1], [704, 3.081081081081081], [705, 3.371212121212121], [706, 3.556291390728477], [707, 3.6153846153846154], [708, 3.85], [709, 2.8292682926829267], [710, 3.4271186440677965], [711, 4.0], [712, 3.475177304964539], [713, 3.446280991735537], [714, 4.1635071090047395], [715, 3.8877551020408165], [716, 4.198979591836735], [717, 3.1538461538461537], [718, 3.775147928994083], [719, 3.5], [720, 2.9098712446351933], [721, 3.551051051051051], [722, 3.909090909090909], [723, 3.8333333333333335], [724, 3.643312101910828], [725, 4.197530864197531], [726, 3.9315068493150687], [727, 3.6987951807228914], [728, 3.311377245508982], [729, 3.5273972602739727], [730, 3.7735849056603774], [731, 3.778816199376947], [732, 3.4285714285714284], [733, 4.05982905982906], [734, 3.727272727272727], [735, 3.590330788804071], [736, 3.9298245614035086], [737, 3.5668202764976957], [738, 3.303030303030303], [739, 4.354330708661418], [740, 4.243243243243243], [741, 3.324675324675325], [742, 3.9523809523809526], [743, 3.38255033557047], [744, 3.3703703703703702], [745, 2.64], [746, 2.634433962264151], [747, 3.59375], [748, 3.9753086419753085], [749, 3.3246187363834423], [750, 4.321428571428571], [751, 3.88], [752, 2.8291015625], [753, 3.7752293577981653], [754, 3.7770700636942673], [755, 4.111111111111111], [756, 3.9714285714285715], [757, 3.225806451612903], [758, 4.0], [759, 3.5876288659793816], [760, 4.265625], [761, 4.55], [762, 3.717391304347826], [763, 3.730769230769231], [764, 4.525179856115108], [765, 3.574626865671642], [766, 3.9361702127659575], [767, 4.023529411764706], [768, 4.4375], [769, 3.8208955223880596], [770, 2.935441370223979], [771, 3.769230769230769], [772, 3.479591836734694], [773, 3.5918367346938775], [774, 3.2142857142857144], [775, 4.0], [776, 3.766990291262136], [777, 2.5796812749003983], [778, 3.785276073619632], [779, 3.3333333333333335], [780, 3.45703125], [781, 3.1709401709401708], [782, 3.4347826086956523], [783, 3.5210084033613445], [784, 4.066666666666666], [785, 3.2358490566037736], [786, 4.063492063492063], [787, 3.58974358974359], [788, 3.5255102040816326], [789, 2.9043478260869566], [790, 4.3478260869565215], [791, 3.966463414634146], [792, 3.4597701149425286], [793, 3.486666666666667], [794, 3.953488372093023], [795, 3.442953020134228], [796, 2.9717391304347824], [797, 4.036144578313253], [798, 3.149847094801223], [799, 3.6], [800, 3.4849624060150375], [801, 3.6596491228070174], [802, 3.938735177865613], [803, 3.7115384615384617], [804, 3.272727272727273], [805, 3.835616438356164], [806, 4.166666666666667], [807, 3.9696969696969697], [808, 3.1236363636363635], [809, 4.031914893617022], [810, 3.8174603174603177], [811, 4.184615384615385], [812, 3.739130434782609], [813, 3.343283582089552], [814, 4.055555555555555], [815, 4.068965517241379], [816, 3.6974358974358976], [817, 4.010050251256281], [818, 3.7251461988304095], [819, 3.3225806451612905], [820, 3.4134615384615383], [821, 2.9523809523809526], [822, 3.7226027397260273], [823, 3.8677685950413223], [824, 3.646103896103896], [825, 3.619047619047619], [826, 3.2857142857142856], [827, 3.9545454545454546], [828, 3.4434782608695653], [829, 4.231884057971015], [830, 3.6149425287356323], [831, 4.105263157894737], [832, 3.558139534883721], [833, 4.0476190476190474], [834, 4.16], [835, 2.75], [836, 2.4], [837, 3.260869565217391], [838, 4.090909090909091], [839, 3.988372093023256], [840, 4.219123505976095], [841, 3.576923076923077], [842, 3.8378378378378377], [843, 3.9444444444444446], [844, 3.4523809523809526], [845, 3.980769230769231], [846, 3.91699604743083], [847, 3.6129032258064515], [848, 4.178571428571429], [849, 3.264957264957265], [850, 3.5613718411552346], [851, 3.5921052631578947], [852, 4.117647058823529], [853, 3.890909090909091], [854, 3.027667984189723], [855, 3.4126984126984126], [856, 3.490566037735849], [857, 4.171428571428572], [858, 4.189473684210526], [859, 3.450980392156863], [860, 3.1666666666666665], [861, 3.9375], [862, 3.6724137931034484], [863, 4.225806451612903], [864, 4.050724637681159], [865, 3.8095238095238093], [866, 3.3333333333333335], [867, 3.659090909090909], [868, 3.6], [869, 3.5154394299287413], [870, 3.611111111111111], [871, 3.9069767441860463], [872, 3.635514018691589], [873, 3.8430232558139537], [874, 3.7857142857142856], [875, 4.083333333333333], [876, 3.828828828828829], [877, 3.308056872037915], [878, 4.142857142857143], [879, 4.025], [880, 3.4956521739130433], [881, 2.9354485776805253], [882, 4.0886075949367084], [883, 3.4166666666666665], [884, 4.01010101010101], [885, 4.140625], [886, 3.6285714285714286], [887, 3.5104166666666665], [888, 3.7777777777777777], [889, 2.8405797101449277], [890, 3.969298245614035], [891, 3.7443946188340806], [892, 3.911764705882353], [893, 3.2], [894, 4.442857142857143], [895, 3.953125], [896, 3.984375], [897, 3.5566502463054186], [898, 4.083333333333333], [899, 3.523219814241486], [900, 3.576923076923077], [901, 3.606060606060606], [902, 4.28], [903, 3.4594594594594597], [904, 3.3008130081300813], [905, 3.7886178861788617], [906, 3.5238095238095237], [907, 3.9523809523809526], [908, 3.3076923076923075], [909, 3.9014084507042255], [910, 3.6012269938650308], [911, 3.8685714285714288], [912, 3.7209302325581395], [913, 3.2888888888888888], [914, 4.278688524590164], [915, 2.831578947368421], [916, 3.9454545454545453], [917, 4.068965517241379], [918, 2.9583333333333335], [919, 3.9355828220858897], [920, 3.4615384615384617], [921, 3.6962025316455698], [922, 3.5830903790087465], [923, 3.608695652173913], [924, 3.9899497487437188], [925, 3.1323529411764706], [926, 4.247619047619048], [927, 3.230366492146597], [928, 4.3254716981132075], [929, 3.6816901408450704], [930, 3.0510204081632653], [931, 4.031847133757962], [932, 4.45], [933, 3.7096774193548385], [934, 2.9859437751004014], [935, 3.4896907216494846], [936, 3.5113636363636362], [937, 3.7327586206896552], [938, 3.870967741935484], [939, 3.757575757575758], [940, 3.1923076923076925], [941, 2.2857142857142856], [942, 4.04], [943, 4.296296296296297], [944, 3.8444444444444446], [945, 3.6196319018404908], [946, 4.303030303030303], [947, 3.0], [948, 3.7408123791102517], [949, 3.9295392953929538], [950, 2.963636363636364], [951, 4.523809523809524], [952, 3.9936305732484074], [953, 4.6878306878306875], [954, 3.7777777777777777], [955, 3.5798816568047336], [956, 3.990740740740741], [957, 4.271341463414634], [958, 3.9050632911392404], [959, 3.7395833333333335], [960, 3.9375], [961, 3.74], [962, 4.03921568627451], [963, 3.4339622641509435], [964, 3.717948717948718], [965, 4.116883116883117], [966, 3.5636363636363635], [967, 3.5384615384615383], [968, 4.131147540983607], [969, 4.115384615384615], [970, 3.1493624772313296], [971, 3.3318385650224216], [972, 3.3714285714285714], [973, 3.3963133640552994], [974, 3.7333333333333334], [975, 3.25990099009901], [976, 3.3636363636363638], [977, 3.7625], [978, 3.8863636363636362], [979, 4.04054054054054], [980, 3.2222222222222223], [981, 3.3303964757709252], [982, 4.176470588235294], [983, 4.115384615384615], [984, 3.5417867435158503], [985, 4.212328767123288], [986, 3.772727272727273], [987, 4.017045454545454], [988, 3.8493150684931505], [989, 4.681818181818182], [990, 3.549019607843137], [991, 3.75], [992, 3.4193548387096775], [993, 3.3448275862068964], [994, 4.153846153846154], [995, 3.8979591836734695], [996, 3.935810810810811], [997, 3.933333333333333], [998, 4.118518518518519], [999, 3.186893203883495], [1000, 4.130952380952381], [1001, 3.6525198938992043], [1002, 4.136363636363637], [1003, 4.137931034482759], [1004, 3.1600831600831603], [1005, 4.141304347826087], [1006, 3.0681818181818183], [1007, 4.21875], [1008, 3.84], [1009, 3.826923076923077], [1010, 2.4750996015936253], [1011, 3.7027027027027026], [1012, 3.3636363636363638], [1013, 3.847826086956522], [1014, 3.4871794871794872], [1015, 3.7262830482115086], [1016, 3.7880794701986753], [1017, 3.251439539347409], [1018, 4.155737704918033], [1019, 3.0107758620689653], [1020, 3.9886363636363638], [1021, 4.694656488549619], [1022, 3.5616438356164384], [1023, 4.073170731707317], [1024, 3.697674418604651], [1025, 3.757575757575758], [1026, 4.0], [1027, 3.8260869565217392], [1028, 3.9672131147540983], [1029, 3.1953125], [1030, 3.5789473684210527], [1031, 4.070967741935484], [1032, 3.941747572815534], [1033, 3.288659793814433], [1034, 3.483679525222552], [1035, 3.8241758241758244], [1036, 4.32], [1037, 3.5789473684210527], [1038, 3.9324324324324325], [1039, 2.892857142857143], [1040, 4.235521235521236], [1041, 4.317647058823529], [1042, 2.7555555555555555], [1043, 3.9166666666666665], [1044, 3.763888888888889], [1045, 3.5405405405405403], [1046, 3.8846153846153846], [1047, 3.8815789473684212], [1048, 4.0], [1049, 3.5833333333333335], [1050, 2.900709219858156], [1051, 3.4663573085846866], [1052, 4.343283582089552], [1053, 3.343283582089552], [1054, 3.8897637795275593], [1055, 3.448717948717949], [1056, 3.473684210526316], [1057, 3.7262569832402233], [1058, 3.795518207282913], [1059, 2.888888888888889], [1060, 3.35], [1061, 3.980392156862745], [1062, 4.484536082474227], [1063, 4.18], [1064, 3.70873786407767], [1065, 3.715909090909091], [1066, 3.5327868852459017], [1067, 3.96875], [1068, 3.7336683417085426], [1069, 2.87192118226601], [1070, 3.619047619047619], [1071, 4.426573426573427], [1072, 4.0476190476190474], [1073, 4.146551724137931], [1074, 3.4479166666666665], [1075, 4.048780487804878], [1076, 3.2439024390243905], [1077, 4.019417475728155], [1078, 3.984251968503937], [1079, 3.5867768595041323], [1080, 3.740740740740741], [1081, 4.147058823529412], [1082, 4.333333333333333], [1083, 2.6923076923076925], [1084, 3.15], [1085, 3.7142857142857144], [1086, 3.8621794871794872], [1087, 3.7908163265306123], [1088, 3.3375850340136055], [1089, 4.0], [1090, 3.3698630136986303], [1091, 2.696969696969697], [1092, 4.0588235294117645], [1093, 3.3857142857142857], [1094, 3.6219512195121952], [1095, 4.0], [1096, 2.58955223880597], [1097, 3.4702380952380953], [1098, 4.1875], [1099, 3.5106382978723403], [1100, 2.1988188976377954], [1101, 3.324324324324324], [1102, 2.259259259259259], [1103, 3.533333333333333], [1104, 3.8333333333333335], [1105, 3.9316770186335406], [1106, 3.78125], [1107, 3.7051282051282053], [1108, 4.113636363636363], [1109, 3.0878048780487806], [1110, 4.326530612244898], [1111, 4.03030303030303], [1112, 3.4418262150220915], [1113, 3.9749216300940438], [1114, 3.462686567164179], [1115, 3.1743119266055047], [1116, 3.8661971830985915], [1117, 3.777188328912467], [1118, 3.6666666666666665], [1119, 3.787341772151899], [1120, 3.764625850340136], [1121, 3.9550173010380623], [1122, 3.2280701754385963], [1123, 3.3666666666666667], [1124, 3.7712082262210798], [1125, 3.222413793103448], [1126, 3.761904761904762], [1127, 3.2213740458015265], [1128, 3.216867469879518], [1129, 4.145631067961165], [1130, 3.849462365591398], [1131, 4.796116504854369], [1132, 4.343558282208589], [1133, 3.386904761904762], [1134, 4.42], [1135, 3.813953488372093], [1136, 3.267857142857143], [1137, 3.74468085106383], [1138, 3.662921348314607], [1139, 3.9065934065934065], [1140, 3.7566844919786098], [1141, 3.3090128755364807], [1142, 3.3726235741444865], [1143, 4.30188679245283], [1144, 3.772727272727273], [1145, 3.3684210526315788], [1146, 2.798941798941799], [1147, 3.4654654654654653], [1148, 3.7966101694915255], [1149, 3.3146067415730336], [1150, 2.5906298003072195], [1151, 3.772727272727273], [1152, 2.5704697986577183], [1153, 2.736842105263158], [1154, 3.375], [1155, 3.1923076923076925], [1156, 3.5833333333333335], [1157, 4.2727272727272725], [1158, 3.640625], [1159, 2.56198347107438], [1160, 3.074766355140187], [1161, 3.968421052631579], [1162, 3.551282051282051], [1163, 3.640625], [1164, 3.441048034934498], [1165, 3.574468085106383], [1166, 3.5], [1167, 3.4285714285714284], [1168, 3.4463519313304722], [1169, 2.7711864406779663], [1170, 4.011627906976744], [1171, 4.321428571428571], [1172, 3.5169300225733635], [1173, 3.2493074792243766], [1174, 3.125], [1175, 4.208333333333333], [1176, 4.142857142857143], [1177, 3.9746835443037973], [1178, 3.5], [1179, 3.6623931623931623], [1180, 4.45945945945946], [1181, 2.815910585141354], [1182, 3.357142857142857], [1183, 3.682795698924731], [1184, 3.338129496402878], [1185, 3.6444444444444444], [1186, 4.296116504854369], [1187, 3.3870967741935485], [1188, 4.161290322580645], [1189, 3.76], [1190, 4.037037037037037], [1191, 4.295238095238095], [1192, 4.379310344827586], [1193, 2.782608695652174], [1194, 3.325115562403698], [1195, 3.71875], [1196, 3.8839285714285716], [1197, 4.166666666666667], [1198, 3.656862745098039], [1199, 3.631284916201117], [1200, 3.5641025641025643], [1201, 3.5757575757575757], [1202, 3.5365384615384614], [1203, 3.707152496626181], [1204, 3.485294117647059], [1205, 3.9411764705882355], [1206, 3.5602836879432624], [1207, 2.394822006472492], [1208, 4.020833333333333], [1209, 3.411764705882353], [1210, 3.8974358974358974], [1211, 3.863979848866499], [1212, 3.8550724637681157], [1213, 4.041666666666667], [1214, 3.0217391304347827], [1215, 4.034782608695652], [1216, 3.6948356807511735], [1217, 4.235294117647059], [1218, 3.4553191489361703], [1219, 3.6205357142857144], [1220, 3.353846153846154], [1221, 3.9638009049773757], [1222, 3.2205882352941178], [1223, 3.9246575342465753], [1224, 4.046712802768166], [1225, 4.035714285714286], [1226, 3.2857142857142856], [1227, 3.792207792207792], [1228, 3.7768924302788847], [1229, 4.0], [1230, 3.9367588932806323], [1231, 3.8454545454545452], [1232, 4.229629629629629], [1233, 3.8852459016393444], [1234, 4.291666666666667], [1235, 3.7], [1236, 3.375], [1237, 3.7666666666666666], [1238, 3.7111111111111112], [1239, 3.8636363636363638], [1240, 3.066666666666667], [1241, 4.247422680412371], [1242, 3.6396103896103895], [1243, 3.608695652173913], [1244, 3.3812154696132595], [1245, 4.333333333333333], [1246, 3.56993006993007], [1247, 3.8055555555555554], [1248, 3.595744680851064], [1249, 3.96], [1250, 4.190476190476191], [1251, 3.3777777777777778], [1252, 4.02542372881356], [1253, 3.5405405405405403], [1254, 4.118181818181818], [1255, 3.7787234042553193], [1256, 4.34375], [1257, 3.36734693877551], [1258, 4.261904761904762], [1259, 3.9833333333333334], [1260, 3.787819253438114], [1261, 3.7487179487179487], [1262, 3.4240506329113924], [1263, 3.139784946236559], [1264, 3.586497890295359], [1265, 3.183673469387755], [1266, 3.3415977961432506], [1267, 3.6], [1268, 4.257425742574258], [1269, 4.25], [1270, 3.0344827586206895], [1271, 4.2823529411764705], [1272, 3.535211267605634], [1273, 3.9820359281437128], [1274, 3.8494077834179357], [1275, 4.466666666666667], [1276, 4.1558441558441555], [1277, 3.675675675675676], [1278, 4.0], [1279, 2.958448753462604], [1280, 3.72], [1281, 3.4791666666666665], [1282, 4.095238095238095], [1283, 3.347826086956522], [1284, 3.4220907297830374], [1285, 3.9064685314685317], [1286, 3.5], [1287, 3.9468085106382977], [1288, 3.75968992248062], [1289, 4.3076923076923075], [1290, 4.181818181818182], [1291, 3.802120141342756], [1292, 3.3958333333333335], [1293, 3.426470588235294], [1294, 3.9272030651340994], [1295, 3.575], [1296, 3.8958333333333335], [1297, 3.4455852156057496], [1298, 3.8273615635179152], [1299, 3.7905982905982905], [1300, 3.4819277108433737], [1301, 3.774410774410774], [1302, 4.266666666666667], [1303, 3.3205317577548006], [1304, 3.9642857142857144], [1305, 4.333333333333333], [1306, 4.1475054229934925], [1307, 4.333333333333333], [1308, 3.606741573033708], [1309, 3.7083333333333335], [1310, 3.75], [1311, 3.478723404255319], [1312, 3.270967741935484], [1313, 3.6551724137931036], [1314, 2.789473684210526], [1315, 4.505376344086022], [1316, 3.236842105263158], [1317, 3.6620775969962454], [1318, 3.0476190476190474], [1319, 3.2142857142857144], [1320, 4.017094017094017], [1321, 3.2923976608187133], [1322, 4.1171875], [1323, 3.7027027027027026], [1324, 4.037037037037037], [1325, 3.9858156028368796], [1326, 3.918918918918919], [1327, 3.507042253521127], [1328, 3.552], [1329, 3.2853658536585364], [1330, 4.260869565217392], [1331, 3.98], [1332, 3.5], [1333, 3.6965888689407542], [1334, 3.9152542372881354], [1335, 3.0749185667752443], [1336, 4.086956521739131], [1337, 3.8153846153846156], [1338, 4.03030303030303], [1339, 2.788732394366197], [1340, 2.1627329192546583], [1341, 2.3793103448275863], [1342, 2.9782608695652173], [1343, 4.415770609318996], [1344, 3.72], [1345, 3.7195767195767195], [1346, 3.5357142857142856], [1347, 3.778481012658228], [1348, 3.7985611510791366], [1349, 4.651162790697675], [1350, 3.7589285714285716], [1351, 4.2], [1352, 3.5759493670886076], [1353, 3.0317460317460316], [1354, 3.404970760233918], [1355, 4.169811320754717], [1356, 2.633405639913232], [1357, 2.7966101694915255], [1358, 3.16017316017316], [1359, 3.6458333333333335], [1360, 3.5533980582524274], [1361, 4.135338345864661], [1362, 3.4474885844748857], [1363, 4.380952380952381], [1364, 4.0], [1365, 3.626865671641791], [1366, 3.5104895104895104], [1367, 3.7772511848341233], [1368, 4.113636363636363], [1369, 3.782178217821782], [1370, 3.141891891891892], [1371, 4.2727272727272725], [1372, 3.0], [1373, 3.810810810810811], [1374, 3.9223300970873787], [1375, 3.9], [1376, 3.882978723404255], [1377, 2.8214971209213053], [1378, 4.5344827586206895], [1379, 3.25], [1380, 3.316205533596838], [1381, 3.4057971014492754], [1382, 4.138888888888889], [1383, 3.329683698296837], [1384, 3.4545454545454546], [1385, 3.727272727272727], [1386, 3.951219512195122], [1387, 3.6591928251121075], [1388, 4.018867924528302], [1389, 3.812652068126521], [1390, 3.838187702265372], [1391, 3.4688995215311005], [1392, 3.403292181069959], [1393, 4.128440366972477], [1394, 3.0], [1395, 3.826923076923077], [1396, 3.725806451612903], [1397, 3.490566037735849], [1398, 3.710526315789474], [1399, 3.6527777777777777], [1400, 4.172413793103448], [1401, 4.017857142857143], [1402, 4.122448979591836], [1403, 3.8461538461538463], [1404, 2.7951807228915664], [1405, 3.7333333333333334], [1406, 3.8], [1407, 4.082417582417582], [1408, 3.139705882352941], [1409, 4.214285714285714], [1410, 4.064102564102564], [1411, 3.566666666666667], [1412, 3.3333333333333335], [1413, 3.8324324324324324], [1414, 3.7837837837837838], [1415, 3.7150837988826817], [1416, 3.5454545454545454], [1417, 3.413793103448276], [1418, 2.9510489510489513], [1419, 2.6470588235294117], [1420, 3.7311827956989245], [1421, 3.758974358974359], [1422, 3.0123626373626373], [1423, 4.1875], [1424, 3.409090909090909], [1425, 3.647814910025707], [1426, 3.494764397905759], [1427, 3.6470588235294117], [1428, 4.211538461538462], [1429, 3.2916666666666665], [1430, 4.163793103448276], [1431, 3.380952380952381], [1432, 3.5428571428571427], [1433, 3.337078651685393], [1434, 2.4050179211469533], [1435, 3.4571428571428573], [1436, 3.9696969696969697], [1437, 4.541935483870968], [1438, 3.477272727272727], [1439, 3.9], [1440, 3.3529411764705883], [1441, 3.627450980392157], [1442, 3.3], [1443, 4.25], [1444, 3.689655172413793], [1445, 2.903225806451613], [1446, 4.453608247422681], [1447, 3.2383838383838386], [1448, 3.775529865125241], [1449, 2.8061142397425582], [1450, 2.9908256880733943], [1451, 3.8974700399467377], [1452, 4.15], [1453, 3.5714285714285716], [1454, 3.8636363636363638], [1455, 3.7540983606557377], [1456, 4.045454545454546], [1457, 3.95114006514658], [1458, 3.9896907216494846], [1459, 4.0476190476190474], [1460, 3.0357142857142856], [1461, 3.34], [1462, 3.5], [1463, 3.5948275862068964], [1464, 3.675925925925926], [1465, 3.741407528641571], [1466, 3.630952380952381], [1467, 3.534090909090909], [1468, 3.519607843137255], [1469, 4.0625], [1470, 2.6943661971830988], [1471, 3.814814814814815], [1472, 3.6008583690987126], [1473, 2.970833333333333], [1474, 3.7846153846153845], [1475, 3.8987341772151898], [1476, 3.757142857142857], [1477, 4.0606060606060606], [1478, 3.9375], [1479, 4.103448275862069], [1480, 3.395348837209302], [1481, 4.38], [1482, 3.2295081967213113], [1483, 3.0968992248062017], [1484, 3.6146496815286624], [1485, 3.9130434782608696], [1486, 3.5833333333333335], [1487, 3.2195121951219514], [1488, 4.095238095238095], [1489, 2.443762781186094], [1490, 4.1], [1491, 3.2490118577075098], [1492, 3.2149532710280373], [1493, 3.75], [1494, 3.795918367346939], [1495, 2.620879120879121], [1496, 2.85929648241206], [1497, 3.864321608040201], [1498, 3.8275862068965516], [1499, 3.9384615384615387], [1500, 3.9043478260869566], [1501, 3.726937269372694], [1502, 3.399267399267399], [1503, 3.5073529411764706], [1504, 3.642857142857143], [1505, 3.738993710691824], [1506, 3.8095238095238093], [1507, 4.185185185185185], [1508, 3.310344827586207], [1509, 2.983164983164983], [1510, 3.606060606060606], [1511, 4.087912087912088], [1512, 3.235294117647059], [1513, 4.055944055944056], [1514, 3.763779527559055], [1515, 3.75], [1516, 3.1164383561643834], [1517, 3.609375], [1518, 4.48], [1519, 3.528735632183908], [1520, 4.0], [1521, 3.263888888888889], [1522, 3.641025641025641], [1523, 3.717391304347826], [1524, 3.7351778656126484], [1525, 3.6633663366336635], [1526, 4.15625], [1527, 3.1538461538461537], [1528, 4.086956521739131], [1529, 3.7666666666666666], [1530, 3.8514851485148514], [1531, 3.4615384615384617], [1532, 4.095238095238095], [1533, 3.84], [1534, 3.619047619047619], [1535, 3.896551724137931], [1536, 4.222222222222222], [1537, 3.763157894736842], [1538, 3.989247311827957], [1539, 4.37037037037037], [1540, 3.805084745762712], [1541, 4.423076923076923], [1542, 3.6723549488054608], [1543, 3.46242774566474], [1544, 3.690909090909091], [1545, 3.1013824884792625], [1546, 3.754385964912281], [1547, 3.9328358208955225], [1548, 3.5833333333333335], [1549, 3.619047619047619], [1550, 3.9310344827586206], [1551, 3.9397590361445785], [1552, 3.6862745098039214], [1553, 3.7209302325581395], [1554, 3.806451612903226], [1555, 4.3544303797468356], [1556, 3.208695652173913], [1557, 3.982456140350877], [1558, 4.115384615384615], [1559, 3.588235294117647], [1560, 3.4939024390243905], [1561, 4.0062111801242235], [1562, 2.8684210526315788], [1563, 3.8095238095238093], [1564, 3.056451612903226], [1565, 3.74468085106383], [1566, 3.5], [1567, 3.89], [1568, 4.0], [1569, 4.588888888888889], [1570, 3.5454545454545454], [1571, 3.947712418300654], [1572, 3.1777777777777776], [1573, 3.689655172413793], [1574, 3.5961538461538463], [1575, 3.8703703703703702], [1576, 3.875], [1577, 4.104], [1578, 4.161290322580645], [1579, 3.4496732026143793], [1580, 3.5405405405405403], [1581, 3.2195121951219514], [1582, 3.6363636363636362], [1583, 3.730769230769231], [1584, 3.3253796095444685], [1585, 3.607142857142857], [1586, 4.424096385542168], [1587, 3.332129963898917], [1588, 4.170212765957447], [1589, 3.7777777777777777], [1590, 4.0], [1591, 4.340764331210191], [1592, 3.6209150326797386], [1593, 3.0388349514563107], [1594, 3.727891156462585], [1595, 4.045112781954887], [1596, 3.5652173913043477], [1597, 3.5565217391304347], [1598, 3.494565217391304], [1599, 3.3018181818181818], [1600, 3.431472081218274], [1601, 3.9073170731707316], [1602, 4.1], [1603, 3.842857142857143], [1604, 4.166666666666667], [1605, 3.3122406639004147], [1606, 3.79126213592233], [1607, 3.1847826086956523], [1608, 2.0833333333333335], [1609, 3.4206128133704734], [1610, 3.9642857142857144], [1611, 3.573741007194245], [1612, 3.652173913043478], [1613, 3.4264150943396228], [1614, 3.3934426229508197], [1615, 3.0476190476190474], [1616, 3.1338582677165356], [1617, 3.0833333333333335], [1618, 4.208791208791209], [1619, 4.03030303030303], [1620, 3.9444444444444446], [1621, 3.1363636363636362], [1622, 3.730769230769231], [1623, 4.214285714285714], [1624, 3.005714285714286], [1625, 3.3555555555555556], [1626, 3.4391143911439115], [1627, 2.9791666666666665], [1628, 3.745011086474501], [1629, 3.4923076923076923], [1630, 2.264957264957265], [1631, 3.8423076923076924], [1632, 2.7760416666666665], [1633, 2.9705882352941178], [1634, 3.5849056603773586], [1635, 3.780580075662043], [1636, 2.8], [1637, 3.988235294117647], [1638, 4.205128205128205], [1639, 3.658802177858439], [1640, 2.472049689440994], [1641, 2.6810344827586206], [1642, 3.5], [1643, 4.28755364806867], [1644, 3.0625], [1645, 4.061302681992337], [1646, 3.064516129032258], [1647, 3.2301587301587302], [1648, 3.442953020134228], [1649, 3.8421052631578947], [1650, 3.647887323943662], [1651, 3.2], [1652, 3.3703703703703702], [1653, 3.92], [1654, 4.446808510638298], [1655, 3.8], [1656, 3.48], [1657, 3.888888888888889], [1658, 3.419597989949749], [1659, 2.7719298245614037], [1660, 3.967741935483871], [1661, 3.891891891891892], [1662, 3.64], [1663, 4.130434782608695], [1664, 3.4], [1665, 3.6825396825396823], [1666, 3.3425692695214106], [1667, 3.4128256513026054], [1668, 4.0], [1669, 3.7333333333333334], [1670, 4.714285714285714], [1671, 3.8620689655172415], [1672, 3.7435897435897436], [1673, 4.37037037037037], [1674, 3.727272727272727], [1675, 3.208849557522124], [1676, 3.492485549132948], [1677, 3.558139534883721], [1678, 3.4508196721311477], [1679, 3.926829268292683], [1680, 3.5556756756756758], [1681, 4.132231404958677], [1682, 4.407407407407407], [1683, 3.4857142857142858], [1684, 4.032258064516129], [1685, 3.574418604651163], [1686, 3.5357142857142856], [1687, 3.5318066157760812], [1688, 3.5757575757575757], [1689, 3.609375], [1690, 3.5167785234899327], [1691, 3.52], [1692, 4.478260869565218], [1693, 3.7419354838709675], [1694, 3.741206030150754], [1695, 3.6530612244897958], [1696, 3.621019108280255], [1697, 4.18361581920904], [1698, 3.9310344827586206], [1699, 4.313218390804598], [1700, 3.533333333333333], [1701, 3.5543478260869565], [1702, 4.55], [1703, 4.076923076923077], [1704, 4.194444444444445], [1705, 3.6941176470588237], [1706, 3.8], [1707, 4.329545454545454], [1708, 3.8636363636363638], [1709, 3.704761904761905], [1710, 3.6582278481012658], [1711, 3.6206896551724137], [1712, 3.512720156555773], [1713, 3.3333333333333335], [1714, 3.510948905109489], [1715, 3.4565217391304346], [1716, 3.476923076923077], [1717, 3.8160377358490565], [1718, 4.46875], [1719, 2.769230769230769], [1720, 4.021739130434782], [1721, 2.365217391304348], [1722, 4.242718446601942], [1723, 3.671232876712329], [1724, 4.10062893081761], [1725, 3.75], [1726, 2.350785340314136], [1727, 4.035019455252918], [1728, 4.212765957446808], [1729, 3.086206896551724], [1730, 3.5], [1731, 3.3970588235294117], [1732, 4.470588235294118], [1733, 3.5280095351609058], [1734, 4.27027027027027], [1735, 3.2337662337662336], [1736, 3.235897435897436], [1737, 3.410322580645161], [1738, 3.7313432835820897], [1739, 3.769230769230769], [1740, 4.0], [1741, 3.9757575757575756], [1742, 3.617021276595745], [1743, 3.968421052631579], [1744, 4.064285714285714], [1745, 3.7142857142857144], [1746, 4.404907975460123], [1747, 2.138888888888889], [1748, 3.4906621392190154], [1749, 2.9181494661921707], [1750, 2.9726027397260273], [1751, 4.428571428571429], [1752, 3.834101382488479], [1753, 3.936619718309859], [1754, 3.0], [1755, 3.5706521739130435], [1756, 3.204081632653061], [1757, 3.690909090909091], [1758, 3.9465116279069767], [1759, 3.720472440944882], [1760, 3.803030303030303], [1761, 2.15929203539823], [1762, 3.8513513513513513], [1763, 3.769230769230769], [1764, 4.091353996737357], [1765, 3.981132075471698], [1766, 3.230769230769231], [1767, 3.5751633986928106], [1768, 3.4859154929577465], [1769, 2.7534246575342465], [1770, 3.269662921348315], [1771, 4.333333333333333], [1772, 3.3823529411764706], [1773, 3.7704918032786887], [1774, 3.275], [1775, 3.7225806451612904], [1776, 3.2748815165876777], [1777, 3.890909090909091], [1778, 3.54029304029304], [1779, 3.2674418604651163]]\n"
          ],
          "name": "stdout"
        }
      ]
    },
    {
      "cell_type": "markdown",
      "metadata": {
        "id": "Ewew5imqcJhc"
      },
      "source": [
        "##### 각 사용자 별 평균 평점이 4점 이상인 사용자 구하기\n",
        "- 리스트는 Boolean Indexing이 안되니 배열로 변환해야 인덱싱, 슬라이싱 가능"
      ]
    },
    {
      "cell_type": "code",
      "metadata": {
        "id": "xFK75MPR-1xk",
        "colab": {
          "base_uri": "https://localhost:8080/"
        },
        "outputId": "06a43d20-b4f2-4268-ecba-e6ff58af4738"
      },
      "source": [
        ""
      ],
      "execution_count": null,
      "outputs": [
        {
          "output_type": "stream",
          "text": [
            "[   4.    5.    6. ... 1777. 1778. 1779.]\n"
          ],
          "name": "stdout"
        }
      ]
    },
    {
      "cell_type": "code",
      "metadata": {
        "id": "diKF3ZOv_Hy1",
        "colab": {
          "base_uri": "https://localhost:8080/"
        },
        "outputId": "df993713-f1c9-4a59-f5b9-14fe8fc3248f"
      },
      "source": [
        "### 영화 평점 구하기 ###\n",
        "###이거 완전히 이해해서 안보고 아예 줄줄줄 쓸 수 있으면 복습 끝임.###\n",
        "\n",
        "data = np.loadtxt(drive_path + 'ratings_small.txt', delimiter='::',dtype=np.int64)\n",
        "#print(data)\n",
        "\n",
        "#데이터 분석해보기\n",
        "#print(data.ndim) #2차원에\n",
        "#print(data.shape) #층이 300001개, 호가 4개씩\n",
        "#print(data.size) # 총 원소 개수가 12만 4개\n",
        "\n",
        "#전체 평점 구하기\n",
        "#1. 평점 데이터 추출\n",
        "rating_all = data[:,2] #층은 다 추출하고, 호는 2번 위치 호만 쭈루룩 뽑아볼게~\n",
        "\n",
        "#2. 평균 구하기 (mean)\n",
        "rating_all_avg = np.mean(rating_all)\n",
        "#print(rating_all_avg)\n",
        "\n",
        "#각 사용자별 평점 평균 구하기\n",
        "#참고) 중복된 성분을 제외한 array를 반환하는 np.unique(ndarray) 함수 존재\n",
        "#unique 함수 써서 중복없이 카운팅. 사용자가 1번부터 몇번까지 있는지 확인 가능.\n",
        "all_user_id = np.unique(data[:,0])\n",
        "#print(all_user_id)\n",
        "\n",
        "#1) 1번 사용자의 평균 평점 구하기\n",
        "\n",
        "user1 = data[data[:,0] == 1]    #user1 사용자의 데이터만 boolean index 추출\n",
        "#print(user1)\n",
        "\n",
        "#1-1) 1번 사용자의 데이터에서 평점만 추출\n",
        "#1-2) 평균 구하기\n",
        "user1[:,2].mean() #바로 .mean(하면 됐네 ㅋㅋ)\n",
        "\n",
        "#각 사용자별 평점 평균. for문 활용해서\n",
        "score_mean = []\n",
        "\n",
        "for i in all_user_id:\n",
        "  score_mean.append( [i,data[data[:,0] == i][:,2].mean()] ) #리스트로 안묶으면 2개씩 append하는 것 같음.\n",
        "\n",
        "print(score_mean)\n",
        "#어쨌건 이거로 전체 인원들 평점 평균 구하기 성공"
      ],
      "execution_count": null,
      "outputs": [
        {
          "output_type": "stream",
          "text": [
            "[[1, 4.188679245283019], [2, 3.7131782945736433], [3, 3.9019607843137254], [4, 4.190476190476191], [5, 3.1464646464646466], [6, 3.9014084507042255], [7, 4.32258064516129], [8, 3.884892086330935], [9, 3.7358490566037736], [10, 4.114713216957606], [11, 3.2773722627737225], [12, 3.8260869565217392], [13, 3.388888888888889], [14, 3.32], [15, 3.3233830845771144], [16, 3.0285714285714285], [17, 4.075829383886256], [18, 3.6491803278688524], [19, 3.5725490196078433], [20, 4.083333333333333], [21, 2.909090909090909], [22, 3.0673400673400675], [23, 3.3157894736842106], [24, 3.948529411764706], [25, 3.7411764705882353], [26, 2.96], [27, 4.171428571428572], [28, 3.7570093457943927], [29, 3.5833333333333335], [30, 3.488372093023256], [31, 3.73109243697479], [32, 3.625], [33, 3.498721227621483], [34, 3.8658536585365852], [35, 3.54040404040404], [36, 4.199430199430199], [37, 3.69811320754717], [38, 3.58], [39, 3.564516129032258], [40, 3.4479166666666665], [41, 3.48], [42, 3.74025974025974], [43, 4.125], [44, 3.6321243523316062], [45, 2.946127946127946], [46, 4.219512195121951], [47, 3.909090909090909], [48, 3.068561872909699], [49, 3.712962962962963], [50, 3.0697674418604652], [51, 3.825], [52, 3.5569620253164556], [53, 4.2368421052631575], [54, 4.025], [55, 4.12], [56, 3.970149253731343], [57, 2.90625], [58, 3.9725400457665905], [59, 3.4741784037558685], [60, 3.414285714285714], [61, 2.7777777777777777], [62, 3.566265060240964], [63, 3.4285714285714284], [64, 4.148148148148148], [65, 4.347107438016529], [66, 3.8461538461538463], [67, 4.296875], [68, 3.75], [69, 4.153846153846154], [70, 3.7037037037037037], [71, 3.7586206896551726], [72, 3.697674418604651], [73, 3.364705882352941], [74, 4.046511627906977], [75, 4.005714285714285], [76, 4.172413793103448], [77, 2.948717948717949], [78, 3.657142857142857], [79, 3.6451612903225805], [80, 3.8958333333333335], [81, 4.4186046511627906], [82, 4.016949152542373], [83, 3.5757575757575757], [84, 3.838709677419355], [85, 3.1025641025641026], [86, 4.3125], [87, 2.8135593220338984], [88, 4.147058823529412], [89, 3.238095238095238], [90, 3.511111111111111], [91, 4.704545454545454], [92, 2.7581395348837208], [93, 2.9727272727272727], [94, 3.857142857142857], [95, 3.595959595959596], [96, 3.6049382716049383], [97, 4.474025974025974], [98, 3.8], [99, 3.2149532710280373], [100, 3.026315789473684], [101, 4.679245283018868], [102, 3.128787878787879], [103, 4.052173913043478], [104, 3.347826086956522], [105, 4.295081967213115], [106, 4.0212765957446805], [107, 3.743801652892562], [108, 3.135135135135135], [109, 4.0], [110, 3.25], [111, 3.7282608695652173], [112, 4.183333333333334], [113, 3.5], [114, 3.693877551020408], [115, 3.8421052631578947], [116, 3.802325581395349], [117, 3.299009900990099], [118, 3.767857142857143], [119, 3.5428571428571427], [120, 3.619047619047619], [121, 4.416666666666667], [122, 2.9649122807017543], [123, 3.401315789473684], [124, 4.173913043478261], [125, 4.098591549295775], [126, 4.0], [127, 3.8448275862068964], [128, 4.363636363636363], [129, 4.025316455696203], [130, 4.311111111111111], [131, 3.3966101694915256], [132, 3.966292134831461], [133, 3.7705882352941176], [134, 2.7158469945355193], [135, 3.657142857142857], [136, 3.074074074074074], [137, 3.611940298507463], [138, 4.492307692307692], [139, 3.8816326530612244], [140, 3.8181818181818183], [141, 3.6956521739130435], [142, 3.3404255319148937], [143, 3.5441176470588234], [144, 3.46875], [145, 3.0], [146, 3.7699530516431925], [147, 3.5026737967914436], [148, 3.733974358974359], [149, 3.9408783783783785], [150, 4.021551724137931], [151, 3.653927813163482], [152, 4.125], [153, 4.076923076923077], [154, 3.090909090909091], [155, 2.96875], [156, 4.236486486486487], [157, 3.718969555035129], [158, 4.0], [159, 3.7777777777777777], [160, 3.5], [161, 4.4713804713804715], [162, 4.121495327102804], [163, 2.1828793774319064], [164, 4.384615384615385], [165, 3.981818181818182], [166, 3.6878048780487807], [167, 2.9310344827586206], [168, 3.8461538461538463], [169, 3.5670289855072466], [170, 3.9885057471264367], [171, 4.0], [172, 3.608695652173913], [173, 3.9679144385026737], [174, 3.649484536082474], [175, 3.9810725552050474], [176, 3.6153846153846154], [177, 4.113636363636363], [178, 3.8434782608695652], [179, 2.6545454545454548], [180, 3.694915254237288], [181, 3.604651162790698], [182, 3.8313253012048194], [183, 4.099009900990099], [184, 4.083333333333333], [185, 3.588235294117647], [186, 4.254098360655738], [187, 4.083932853717027], [188, 3.1690140845070425], [189, 4.0], [190, 3.6993464052287583], [191, 3.3333333333333335], [192, 3.0914285714285716], [193, 3.677685950413223], [194, 3.983050847457627], [195, 3.889294403892944], [196, 4.0625], [197, 3.909090909090909], [198, 3.7493403693931397], [199, 3.2761194029850746], [200, 3.423076923076923], [201, 3.954022988505747], [202, 3.2492537313432837], [203, 2.2913385826771653], [204, 3.5560538116591927], [205, 4.0588235294117645], [206, 3.066666666666667], [207, 3.5217391304347827], [208, 3.652173913043478], [209, 3.16], [210, 4.027272727272727], [211, 3.857142857142857], [212, 3.8545454545454545], [213, 4.2272727272727275], [214, 3.1626506024096384], [215, 4.5588235294117645], [216, 3.2317380352644838], [217, 3.7], [218, 3.0930232558139537], [219, 3.3333333333333335], [220, 4.215686274509804], [221, 3.2413793103448274], [222, 4.0875], [223, 3.44140625], [224, 3.4019607843137254], [225, 3.4330708661417324], [226, 3.5714285714285716], [227, 3.2857142857142856], [228, 4.0], [229, 3.4292452830188678], [230, 4.094972067039106], [231, 4.22680412371134], [232, 3.566666666666667], [233, 4.584905660377358], [234, 4.310344827586207], [235, 4.086363636363636], [236, 3.693548387096774], [237, 3.4036144578313254], [238, 3.7868217054263567], [239, 4.140845070422535], [240, 3.300699300699301], [241, 3.9649122807017543], [242, 3.2051282051282053], [243, 3.606060606060606], [244, 4.105882352941176], [245, 2.6714659685863875], [246, 4.0], [247, 3.935483870967742], [248, 4.205882352941177], [249, 3.9454545454545453], [250, 3.75], [251, 3.5753424657534247], [252, 4.016666666666667], [253, 3.9245283018867925], [254, 3.782608695652174], [255, 4.016393442622951], [256, 3.8526315789473684], [257, 4.452830188679245], [258, 3.717241379310345], [259, 4.0359712230215825], [260, 3.311688311688312], [261, 3.5762711864406778], [262, 3.330188679245283], [263, 3.6630434782608696], [264, 2.785416666666667], [265, 4.1938775510204085], [266, 4.52], [267, 3.3893129770992365], [268, 3.3946360153256707], [269, 3.8], [270, 4.198412698412699], [271, 3.9583333333333335], [272, 3.6535269709543567], [273, 3.727272727272727], [274, 4.243243243243243], [275, 4.247191011235955], [276, 3.5217391304347827], [277, 3.727272727272727], [278, 3.9646464646464645], [279, 2.872340425531915], [280, 3.94], [281, 3.891891891891892], [282, 3.5172413793103448], [283, 4.962962962962963], [284, 3.021231422505308], [285, 4.16546762589928], [286, 3.883720930232558], [287, 3.70873786407767], [288, 4.589285714285714], [289, 3.9054054054054053], [290, 3.303030303030303], [291, 4.137254901960785], [292, 3.7560975609756095], [293, 3.2460567823343847], [294, 3.489795918367347], [295, 3.764397905759162], [296, 3.597938144329897], [297, 4.0], [298, 3.925925925925926], [299, 4.163461538461538], [300, 4.180722891566265], [301, 3.8011204481792715], [302, 2.8692893401015227], [303, 3.861244019138756], [304, 3.5555555555555554], [305, 2.5605095541401273], [306, 3.937823834196891], [307, 4.593406593406593], [308, 3.385996409335727], [309, 4.040650406504065], [310, 3.4260089686098656], [311, 4.15], [312, 3.736842105263158], [313, 4.038461538461538], [314, 3.696245733788396], [315, 3.8636363636363638], [316, 4.116883116883117], [317, 3.8095238095238093], [318, 3.9523809523809526], [319, 3.263522884882108], [320, 4.238095238095238], [321, 3.2612612612612613], [322, 4.45], [323, 3.788135593220339], [324, 3.3289473684210527], [325, 4.046511627906977], [326, 3.3350923482849604], [327, 3.669491525423729], [328, 3.032258064516129], [329, 2.7264397905759163], [330, 4.0131578947368425], [331, 3.7654109589041096], [332, 4.2835820895522385], [333, 3.352422907488987], [334, 3.9508196721311477], [335, 2.5], [336, 4.308411214953271], [337, 3.525252525252525], [338, 3.665745856353591], [339, 4.024193548387097], [340, 3.5277777777777777], [341, 4.2], [342, 3.6910569105691056], [343, 4.047138047138047], [344, 2.9555555555555557], [345, 4.4], [346, 4.307420494699647], [347, 3.878787878787879], [348, 3.78], [349, 3.25], [350, 3.9375], [351, 3.7572815533980584], [352, 3.4793103448275864], [353, 3.9166666666666665], [354, 3.586206896551724], [355, 3.4463007159904535], [356, 4.380952380952381], [357, 3.293103448275862], [358, 3.8472222222222223], [359, 3.857142857142857], [360, 3.6417910447761193], [361, 3.5384615384615383], [362, 3.290909090909091], [363, 3.744186046511628], [364, 3.142857142857143], [365, 3.3404255319148937], [366, 4.06949806949807], [367, 4.25], [368, 3.78125], [369, 3.1954022988505746], [370, 3.75], [371, 3.5], [372, 4.553571428571429], [373, 3.5555555555555554], [374, 4.403846153846154], [375, 4.078431372549019], [376, 4.111111111111111], [377, 3.9044117647058822], [378, 3.5128205128205128], [379, 4.234375], [380, 3.7246376811594204], [381, 4.114285714285714], [382, 4.017857142857143], [383, 3.5714285714285716], [384, 3.590909090909091], [385, 3.9562043795620436], [386, 3.3230769230769233], [387, 3.676470588235294], [388, 3.8813559322033897], [389, 3.5616438356164384], [390, 3.6728971962616823], [391, 3.728395061728395], [392, 3.4743326488706368], [393, 3.581081081081081], [394, 3.3421052631578947], [395, 3.608695652173913], [396, 3.560693641618497], [397, 3.8823529411764706], [398, 3.8133333333333335], [399, 4.15625], [400, 3.875], [401, 3.871794871794872], [402, 3.591549295774648], [403, 3.8035714285714284], [404, 4.14], [405, 3.795918367346939], [406, 3.306122448979592], [407, 3.4375], [408, 4.352564102564102], [409, 3.9158249158249157], [410, 3.96875], [411, 3.280314960629921], [412, 4.401260504201681], [413, 4.404040404040404], [414, 3.0701754385964914], [415, 3.874538745387454], [416, 3.7580645161290325], [417, 4.045454545454546], [418, 3.549019607843137], [419, 3.962962962962963], [420, 4.359375], [421, 4.25], [422, 3.297872340425532], [423, 2.5], [424, 3.735725938009788], [425, 3.6613756613756614], [426, 3.7573221757322175], [427, 4.111111111111111], [428, 3.9], [429, 3.346820809248555], [430, 3.9682539682539684], [431, 3.630952380952381], [432, 2.9863013698630136], [433, 3.391304347826087], [434, 4.023255813953488], [435, 3.8333333333333335], [436, 3.8345864661654137], [437, 4.3076923076923075], [438, 3.528239202657807], [439, 3.902173913043478], [440, 3.586206896551724], [441, 3.9574468085106385], [442, 3.8486997635933804], [443, 3.823529411764706], [444, 4.0], [445, 3.3181818181818183], [446, 4.8431372549019605], [447, 4.837837837837838], [448, 3.4347826086956523], [449, 3.7222222222222223], [450, 4.196078431372549], [451, 4.511961722488039], [452, 4.431818181818182], [453, 3.66497461928934], [454, 3.218045112781955], [455, 4.2], [456, 3.394904458598726], [457, 3.7130801687763713], [458, 3.5348837209302326], [459, 3.6875], [460, 3.3617021276595747], [461, 3.224609375], [462, 3.536723163841808], [463, 3.0], [464, 3.6097560975609757], [465, 3.5405405405405403], [466, 4.14070351758794], [467, 3.2028985507246377], [468, 3.730769230769231], [469, 4.326530612244898], [470, 3.8088235294117645], [471, 3.6285714285714286], [472, 4.022222222222222], [473, 4.163265306122449], [474, 3.380503144654088], [475, 3.8299595141700404], [476, 3.8375870069605567], [477, 3.5829383886255926], [478, 3.869565217391304], [479, 3.827956989247312], [480, 3.411214953271028], [481, 3.696969696969697], [482, 3.2606060606060607], [483, 2.9310344827586206], [484, 3.735294117647059], [485, 4.044444444444444], [486, 4.051282051282051], [487, 3.34], [488, 3.56], [489, 3.3333333333333335], [490, 3.7662337662337664], [491, 3.68], [492, 3.9375], [493, 3.848101265822785], [494, 4.157068062827225], [495, 3.7954545454545454], [496, 4.294117647058823], [497, 3.5833333333333335], [498, 3.6511627906976742], [499, 3.9748743718592965], [500, 3.633663366336634], [501, 3.417910447761194], [502, 4.083333333333333], [503, 4.448275862068965], [504, 3.8055555555555554], [505, 4.217391304347826], [506, 3.422222222222222], [507, 3.9523809523809526], [508, 3.3221476510067114], [509, 3.3139695712309822], [510, 3.8282828282828283], [511, 3.740740740740741], [512, 3.8378378378378377], [513, 3.1474358974358974], [514, 4.2025316455696204], [515, 3.728395061728395], [516, 2.931972789115646], [517, 3.963855421686747], [518, 4.3478260869565215], [519, 3.3777777777777778], [520, 3.9363057324840764], [521, 4.2926829268292686], [522, 3.8448275862068964], [523, 4.06], [524, 3.608267716535433], [525, 4.025], [526, 3.896551724137931], [527, 4.08], [528, 3.3551724137931034], [529, 4.19672131147541], [530, 4.0], [531, 3.1591695501730106], [532, 3.86046511627907], [533, 3.3401015228426396], [534, 3.7475728155339807], [535, 3.5714285714285716], [536, 3.942857142857143], [537, 4.3061224489795915], [538, 4.458333333333333], [539, 3.9242424242424243], [540, 3.230769230769231], [541, 3.1894736842105265], [542, 3.764705882352941], [543, 4.078986587183309], [544, 3.7777777777777777], [545, 3.4827586206896552], [546, 3.231818181818182], [547, 3.858974358974359], [548, 3.093220338983051], [549, 3.7569444444444446], [550, 3.578076525336091], [551, 3.8201754385964914], [552, 3.7628865979381443], [553, 4.15625], [554, 3.511627906976744], [555, 3.8157894736842106], [556, 3.5], [557, 3.8793103448275863], [558, 3.6804123711340204], [559, 3.0], [560, 3.897810218978102], [561, 3.7222222222222223], [562, 3.7027027027027026], [563, 2.7023121387283235], [564, 4.0], [565, 3.44], [566, 2.6273408239700373], [567, 4.583333333333333], [568, 4.44], [569, 3.52], [570, 3.329113924050633], [571, 3.7054794520547945], [572, 3.05], [573, 3.9722222222222223], [574, 4.095238095238095], [575, 3.6564417177914113], [576, 3.6666666666666665], [577, 4.487341772151899], [578, 3.9642857142857144], [579, 3.8550724637681157], [580, 3.347826086956522], [581, 3.6666666666666665], [582, 4.282051282051282], [583, 4.040229885057471], [584, 4.2894736842105265], [585, 3.4662162162162162], [586, 4.485714285714286], [587, 3.0077922077922077], [588, 4.057395143487859], [589, 4.0], [590, 4.13855421686747], [591, 3.231404958677686], [592, 4.391304347826087], [593, 3.641509433962264], [594, 4.29559748427673], [595, 3.95], [596, 2.9523809523809526], [597, 4.473684210526316], [598, 3.3157894736842106], [599, 3.8518518518518516], [600, 3.652173913043478], [601, 3.1501340482573728], [602, 3.396103896103896], [603, 3.5238095238095237], [604, 3.0940766550522647], [605, 4.049180327868853], [606, 4.03030303030303], [607, 4.16], [608, 3.1882352941176473], [609, 4.346153846153846], [610, 3.484126984126984], [611, 3.9393939393939394], [612, 3.5], [613, 3.5849056603773586], [614, 3.8333333333333335], [615, 4.127659574468085], [616, 3.9545454545454546], [617, 4.086956521739131], [618, 3.0], [619, 3.909090909090909], [620, 3.3240223463687153], [621, 3.0416666666666665], [622, 3.912280701754386], [623, 4.226744186046512], [624, 3.6801075268817205], [625, 4.0], [626, 4.055555555555555], [627, 3.5625], [628, 3.9038461538461537], [629, 3.371308016877637], [630, 4.254237288135593], [631, 3.7948717948717947], [632, 3.7941176470588234], [633, 3.5813953488372094], [634, 4.014925373134329], [635, 4.3107344632768365], [636, 4.058139534883721], [637, 3.7559681697612732], [638, 4.175438596491228], [639, 3.705], [640, 4.333333333333333], [641, 4.008264462809917], [642, 4.111111111111111], [643, 2.7142857142857144], [644, 3.1203703703703702], [645, 4.4772727272727275], [646, 3.8031496062992125], [647, 3.103896103896104], [648, 3.7231638418079096], [649, 3.6619718309859155], [650, 3.8947368421052633], [651, 3.6129707112970713], [652, 2.8863636363636362], [653, 4.142857142857143], [654, 3.4324324324324325], [655, 2.733009708737864], [656, 3.8700564971751414], [657, 4.016949152542373], [658, 3.096774193548387], [659, 3.7], [660, 3.0170697012802274], [661, 4.647887323943662], [662, 3.141732283464567], [663, 3.580357142857143], [664, 4.025316455696203], [665, 3.5], [666, 3.8932038834951457], [667, 3.0935672514619883], [668, 3.5833333333333335], [669, 3.847255369928401], [670, 3.2444444444444445], [671, 4.2592592592592595], [672, 3.872340425531915], [673, 3.13151364764268], [674, 4.2784810126582276], [675, 3.3095238095238093], [676, 3.128205128205128], [677, 3.892682926829268], [678, 3.6776776776776776], [679, 3.926829268292683], [680, 3.5714285714285716], [681, 4.2368421052631575], [682, 4.733333333333333], [683, 3.586206896551724], [684, 3.8947368421052633], [685, 3.2357142857142858], [686, 3.7777777777777777], [687, 3.4873417721518987], [688, 3.75], [689, 3.3925925925925924], [690, 4.311111111111111], [691, 4.174757281553398], [692, 3.8240887480190175], [693, 3.8857142857142857], [694, 3.625], [695, 3.513089005235602], [696, 3.802992518703242], [697, 3.8], [698, 3.551851851851852], [699, 3.0534124629080117], [700, 3.875], [701, 3.5], [702, 3.3027139874739038], [703, 4.1], [704, 3.081081081081081], [705, 3.371212121212121], [706, 3.556291390728477], [707, 3.6153846153846154], [708, 3.85], [709, 2.8292682926829267], [710, 3.4271186440677965], [711, 4.0], [712, 3.475177304964539], [713, 3.446280991735537], [714, 4.1635071090047395], [715, 3.8877551020408165], [716, 4.198979591836735], [717, 3.1538461538461537], [718, 3.775147928994083], [719, 3.5], [720, 2.9098712446351933], [721, 3.551051051051051], [722, 3.909090909090909], [723, 3.8333333333333335], [724, 3.643312101910828], [725, 4.197530864197531], [726, 3.9315068493150687], [727, 3.6987951807228914], [728, 3.311377245508982], [729, 3.5273972602739727], [730, 3.7735849056603774], [731, 3.778816199376947], [732, 3.4285714285714284], [733, 4.05982905982906], [734, 3.727272727272727], [735, 3.590330788804071], [736, 3.9298245614035086], [737, 3.5668202764976957], [738, 3.303030303030303], [739, 4.354330708661418], [740, 4.243243243243243], [741, 3.324675324675325], [742, 3.9523809523809526], [743, 3.38255033557047], [744, 3.3703703703703702], [745, 2.64], [746, 2.634433962264151], [747, 3.59375], [748, 3.9753086419753085], [749, 3.3246187363834423], [750, 4.321428571428571], [751, 3.88], [752, 2.8291015625], [753, 3.7752293577981653], [754, 3.7770700636942673], [755, 4.111111111111111], [756, 3.9714285714285715], [757, 3.225806451612903], [758, 4.0], [759, 3.5876288659793816], [760, 4.265625], [761, 4.55], [762, 3.717391304347826], [763, 3.730769230769231], [764, 4.525179856115108], [765, 3.574626865671642], [766, 3.9361702127659575], [767, 4.023529411764706], [768, 4.4375], [769, 3.8208955223880596], [770, 2.935441370223979], [771, 3.769230769230769], [772, 3.479591836734694], [773, 3.5918367346938775], [774, 3.2142857142857144], [775, 4.0], [776, 3.766990291262136], [777, 2.5796812749003983], [778, 3.785276073619632], [779, 3.3333333333333335], [780, 3.45703125], [781, 3.1709401709401708], [782, 3.4347826086956523], [783, 3.5210084033613445], [784, 4.066666666666666], [785, 3.2358490566037736], [786, 4.063492063492063], [787, 3.58974358974359], [788, 3.5255102040816326], [789, 2.9043478260869566], [790, 4.3478260869565215], [791, 3.966463414634146], [792, 3.4597701149425286], [793, 3.486666666666667], [794, 3.953488372093023], [795, 3.442953020134228], [796, 2.9717391304347824], [797, 4.036144578313253], [798, 3.149847094801223], [799, 3.6], [800, 3.4849624060150375], [801, 3.6596491228070174], [802, 3.938735177865613], [803, 3.7115384615384617], [804, 3.272727272727273], [805, 3.835616438356164], [806, 4.166666666666667], [807, 3.9696969696969697], [808, 3.1236363636363635], [809, 4.031914893617022], [810, 3.8174603174603177], [811, 4.184615384615385], [812, 3.739130434782609], [813, 3.343283582089552], [814, 4.055555555555555], [815, 4.068965517241379], [816, 3.6974358974358976], [817, 4.010050251256281], [818, 3.7251461988304095], [819, 3.3225806451612905], [820, 3.4134615384615383], [821, 2.9523809523809526], [822, 3.7226027397260273], [823, 3.8677685950413223], [824, 3.646103896103896], [825, 3.619047619047619], [826, 3.2857142857142856], [827, 3.9545454545454546], [828, 3.4434782608695653], [829, 4.231884057971015], [830, 3.6149425287356323], [831, 4.105263157894737], [832, 3.558139534883721], [833, 4.0476190476190474], [834, 4.16], [835, 2.75], [836, 2.4], [837, 3.260869565217391], [838, 4.090909090909091], [839, 3.988372093023256], [840, 4.219123505976095], [841, 3.576923076923077], [842, 3.8378378378378377], [843, 3.9444444444444446], [844, 3.4523809523809526], [845, 3.980769230769231], [846, 3.91699604743083], [847, 3.6129032258064515], [848, 4.178571428571429], [849, 3.264957264957265], [850, 3.5613718411552346], [851, 3.5921052631578947], [852, 4.117647058823529], [853, 3.890909090909091], [854, 3.027667984189723], [855, 3.4126984126984126], [856, 3.490566037735849], [857, 4.171428571428572], [858, 4.189473684210526], [859, 3.450980392156863], [860, 3.1666666666666665], [861, 3.9375], [862, 3.6724137931034484], [863, 4.225806451612903], [864, 4.050724637681159], [865, 3.8095238095238093], [866, 3.3333333333333335], [867, 3.659090909090909], [868, 3.6], [869, 3.5154394299287413], [870, 3.611111111111111], [871, 3.9069767441860463], [872, 3.635514018691589], [873, 3.8430232558139537], [874, 3.7857142857142856], [875, 4.083333333333333], [876, 3.828828828828829], [877, 3.308056872037915], [878, 4.142857142857143], [879, 4.025], [880, 3.4956521739130433], [881, 2.9354485776805253], [882, 4.0886075949367084], [883, 3.4166666666666665], [884, 4.01010101010101], [885, 4.140625], [886, 3.6285714285714286], [887, 3.5104166666666665], [888, 3.7777777777777777], [889, 2.8405797101449277], [890, 3.969298245614035], [891, 3.7443946188340806], [892, 3.911764705882353], [893, 3.2], [894, 4.442857142857143], [895, 3.953125], [896, 3.984375], [897, 3.5566502463054186], [898, 4.083333333333333], [899, 3.523219814241486], [900, 3.576923076923077], [901, 3.606060606060606], [902, 4.28], [903, 3.4594594594594597], [904, 3.3008130081300813], [905, 3.7886178861788617], [906, 3.5238095238095237], [907, 3.9523809523809526], [908, 3.3076923076923075], [909, 3.9014084507042255], [910, 3.6012269938650308], [911, 3.8685714285714288], [912, 3.7209302325581395], [913, 3.2888888888888888], [914, 4.278688524590164], [915, 2.831578947368421], [916, 3.9454545454545453], [917, 4.068965517241379], [918, 2.9583333333333335], [919, 3.9355828220858897], [920, 3.4615384615384617], [921, 3.6962025316455698], [922, 3.5830903790087465], [923, 3.608695652173913], [924, 3.9899497487437188], [925, 3.1323529411764706], [926, 4.247619047619048], [927, 3.230366492146597], [928, 4.3254716981132075], [929, 3.6816901408450704], [930, 3.0510204081632653], [931, 4.031847133757962], [932, 4.45], [933, 3.7096774193548385], [934, 2.9859437751004014], [935, 3.4896907216494846], [936, 3.5113636363636362], [937, 3.7327586206896552], [938, 3.870967741935484], [939, 3.757575757575758], [940, 3.1923076923076925], [941, 2.2857142857142856], [942, 4.04], [943, 4.296296296296297], [944, 3.8444444444444446], [945, 3.6196319018404908], [946, 4.303030303030303], [947, 3.0], [948, 3.7408123791102517], [949, 3.9295392953929538], [950, 2.963636363636364], [951, 4.523809523809524], [952, 3.9936305732484074], [953, 4.6878306878306875], [954, 3.7777777777777777], [955, 3.5798816568047336], [956, 3.990740740740741], [957, 4.271341463414634], [958, 3.9050632911392404], [959, 3.7395833333333335], [960, 3.9375], [961, 3.74], [962, 4.03921568627451], [963, 3.4339622641509435], [964, 3.717948717948718], [965, 4.116883116883117], [966, 3.5636363636363635], [967, 3.5384615384615383], [968, 4.131147540983607], [969, 4.115384615384615], [970, 3.1493624772313296], [971, 3.3318385650224216], [972, 3.3714285714285714], [973, 3.3963133640552994], [974, 3.7333333333333334], [975, 3.25990099009901], [976, 3.3636363636363638], [977, 3.7625], [978, 3.8863636363636362], [979, 4.04054054054054], [980, 3.2222222222222223], [981, 3.3303964757709252], [982, 4.176470588235294], [983, 4.115384615384615], [984, 3.5417867435158503], [985, 4.212328767123288], [986, 3.772727272727273], [987, 4.017045454545454], [988, 3.8493150684931505], [989, 4.681818181818182], [990, 3.549019607843137], [991, 3.75], [992, 3.4193548387096775], [993, 3.3448275862068964], [994, 4.153846153846154], [995, 3.8979591836734695], [996, 3.935810810810811], [997, 3.933333333333333], [998, 4.118518518518519], [999, 3.186893203883495], [1000, 4.130952380952381], [1001, 3.6525198938992043], [1002, 4.136363636363637], [1003, 4.137931034482759], [1004, 3.1600831600831603], [1005, 4.141304347826087], [1006, 3.0681818181818183], [1007, 4.21875], [1008, 3.84], [1009, 3.826923076923077], [1010, 2.4750996015936253], [1011, 3.7027027027027026], [1012, 3.3636363636363638], [1013, 3.847826086956522], [1014, 3.4871794871794872], [1015, 3.7262830482115086], [1016, 3.7880794701986753], [1017, 3.251439539347409], [1018, 4.155737704918033], [1019, 3.0107758620689653], [1020, 3.9886363636363638], [1021, 4.694656488549619], [1022, 3.5616438356164384], [1023, 4.073170731707317], [1024, 3.697674418604651], [1025, 3.757575757575758], [1026, 4.0], [1027, 3.8260869565217392], [1028, 3.9672131147540983], [1029, 3.1953125], [1030, 3.5789473684210527], [1031, 4.070967741935484], [1032, 3.941747572815534], [1033, 3.288659793814433], [1034, 3.483679525222552], [1035, 3.8241758241758244], [1036, 4.32], [1037, 3.5789473684210527], [1038, 3.9324324324324325], [1039, 2.892857142857143], [1040, 4.235521235521236], [1041, 4.317647058823529], [1042, 2.7555555555555555], [1043, 3.9166666666666665], [1044, 3.763888888888889], [1045, 3.5405405405405403], [1046, 3.8846153846153846], [1047, 3.8815789473684212], [1048, 4.0], [1049, 3.5833333333333335], [1050, 2.900709219858156], [1051, 3.4663573085846866], [1052, 4.343283582089552], [1053, 3.343283582089552], [1054, 3.8897637795275593], [1055, 3.448717948717949], [1056, 3.473684210526316], [1057, 3.7262569832402233], [1058, 3.795518207282913], [1059, 2.888888888888889], [1060, 3.35], [1061, 3.980392156862745], [1062, 4.484536082474227], [1063, 4.18], [1064, 3.70873786407767], [1065, 3.715909090909091], [1066, 3.5327868852459017], [1067, 3.96875], [1068, 3.7336683417085426], [1069, 2.87192118226601], [1070, 3.619047619047619], [1071, 4.426573426573427], [1072, 4.0476190476190474], [1073, 4.146551724137931], [1074, 3.4479166666666665], [1075, 4.048780487804878], [1076, 3.2439024390243905], [1077, 4.019417475728155], [1078, 3.984251968503937], [1079, 3.5867768595041323], [1080, 3.740740740740741], [1081, 4.147058823529412], [1082, 4.333333333333333], [1083, 2.6923076923076925], [1084, 3.15], [1085, 3.7142857142857144], [1086, 3.8621794871794872], [1087, 3.7908163265306123], [1088, 3.3375850340136055], [1089, 4.0], [1090, 3.3698630136986303], [1091, 2.696969696969697], [1092, 4.0588235294117645], [1093, 3.3857142857142857], [1094, 3.6219512195121952], [1095, 4.0], [1096, 2.58955223880597], [1097, 3.4702380952380953], [1098, 4.1875], [1099, 3.5106382978723403], [1100, 2.1988188976377954], [1101, 3.324324324324324], [1102, 2.259259259259259], [1103, 3.533333333333333], [1104, 3.8333333333333335], [1105, 3.9316770186335406], [1106, 3.78125], [1107, 3.7051282051282053], [1108, 4.113636363636363], [1109, 3.0878048780487806], [1110, 4.326530612244898], [1111, 4.03030303030303], [1112, 3.4418262150220915], [1113, 3.9749216300940438], [1114, 3.462686567164179], [1115, 3.1743119266055047], [1116, 3.8661971830985915], [1117, 3.777188328912467], [1118, 3.6666666666666665], [1119, 3.787341772151899], [1120, 3.764625850340136], [1121, 3.9550173010380623], [1122, 3.2280701754385963], [1123, 3.3666666666666667], [1124, 3.7712082262210798], [1125, 3.222413793103448], [1126, 3.761904761904762], [1127, 3.2213740458015265], [1128, 3.216867469879518], [1129, 4.145631067961165], [1130, 3.849462365591398], [1131, 4.796116504854369], [1132, 4.343558282208589], [1133, 3.386904761904762], [1134, 4.42], [1135, 3.813953488372093], [1136, 3.267857142857143], [1137, 3.74468085106383], [1138, 3.662921348314607], [1139, 3.9065934065934065], [1140, 3.7566844919786098], [1141, 3.3090128755364807], [1142, 3.3726235741444865], [1143, 4.30188679245283], [1144, 3.772727272727273], [1145, 3.3684210526315788], [1146, 2.798941798941799], [1147, 3.4654654654654653], [1148, 3.7966101694915255], [1149, 3.3146067415730336], [1150, 2.5906298003072195], [1151, 3.772727272727273], [1152, 2.5704697986577183], [1153, 2.736842105263158], [1154, 3.375], [1155, 3.1923076923076925], [1156, 3.5833333333333335], [1157, 4.2727272727272725], [1158, 3.640625], [1159, 2.56198347107438], [1160, 3.074766355140187], [1161, 3.968421052631579], [1162, 3.551282051282051], [1163, 3.640625], [1164, 3.441048034934498], [1165, 3.574468085106383], [1166, 3.5], [1167, 3.4285714285714284], [1168, 3.4463519313304722], [1169, 2.7711864406779663], [1170, 4.011627906976744], [1171, 4.321428571428571], [1172, 3.5169300225733635], [1173, 3.2493074792243766], [1174, 3.125], [1175, 4.208333333333333], [1176, 4.142857142857143], [1177, 3.9746835443037973], [1178, 3.5], [1179, 3.6623931623931623], [1180, 4.45945945945946], [1181, 2.815910585141354], [1182, 3.357142857142857], [1183, 3.682795698924731], [1184, 3.338129496402878], [1185, 3.6444444444444444], [1186, 4.296116504854369], [1187, 3.3870967741935485], [1188, 4.161290322580645], [1189, 3.76], [1190, 4.037037037037037], [1191, 4.295238095238095], [1192, 4.379310344827586], [1193, 2.782608695652174], [1194, 3.325115562403698], [1195, 3.71875], [1196, 3.8839285714285716], [1197, 4.166666666666667], [1198, 3.656862745098039], [1199, 3.631284916201117], [1200, 3.5641025641025643], [1201, 3.5757575757575757], [1202, 3.5365384615384614], [1203, 3.707152496626181], [1204, 3.485294117647059], [1205, 3.9411764705882355], [1206, 3.5602836879432624], [1207, 2.394822006472492], [1208, 4.020833333333333], [1209, 3.411764705882353], [1210, 3.8974358974358974], [1211, 3.863979848866499], [1212, 3.8550724637681157], [1213, 4.041666666666667], [1214, 3.0217391304347827], [1215, 4.034782608695652], [1216, 3.6948356807511735], [1217, 4.235294117647059], [1218, 3.4553191489361703], [1219, 3.6205357142857144], [1220, 3.353846153846154], [1221, 3.9638009049773757], [1222, 3.2205882352941178], [1223, 3.9246575342465753], [1224, 4.046712802768166], [1225, 4.035714285714286], [1226, 3.2857142857142856], [1227, 3.792207792207792], [1228, 3.7768924302788847], [1229, 4.0], [1230, 3.9367588932806323], [1231, 3.8454545454545452], [1232, 4.229629629629629], [1233, 3.8852459016393444], [1234, 4.291666666666667], [1235, 3.7], [1236, 3.375], [1237, 3.7666666666666666], [1238, 3.7111111111111112], [1239, 3.8636363636363638], [1240, 3.066666666666667], [1241, 4.247422680412371], [1242, 3.6396103896103895], [1243, 3.608695652173913], [1244, 3.3812154696132595], [1245, 4.333333333333333], [1246, 3.56993006993007], [1247, 3.8055555555555554], [1248, 3.595744680851064], [1249, 3.96], [1250, 4.190476190476191], [1251, 3.3777777777777778], [1252, 4.02542372881356], [1253, 3.5405405405405403], [1254, 4.118181818181818], [1255, 3.7787234042553193], [1256, 4.34375], [1257, 3.36734693877551], [1258, 4.261904761904762], [1259, 3.9833333333333334], [1260, 3.787819253438114], [1261, 3.7487179487179487], [1262, 3.4240506329113924], [1263, 3.139784946236559], [1264, 3.586497890295359], [1265, 3.183673469387755], [1266, 3.3415977961432506], [1267, 3.6], [1268, 4.257425742574258], [1269, 4.25], [1270, 3.0344827586206895], [1271, 4.2823529411764705], [1272, 3.535211267605634], [1273, 3.9820359281437128], [1274, 3.8494077834179357], [1275, 4.466666666666667], [1276, 4.1558441558441555], [1277, 3.675675675675676], [1278, 4.0], [1279, 2.958448753462604], [1280, 3.72], [1281, 3.4791666666666665], [1282, 4.095238095238095], [1283, 3.347826086956522], [1284, 3.4220907297830374], [1285, 3.9064685314685317], [1286, 3.5], [1287, 3.9468085106382977], [1288, 3.75968992248062], [1289, 4.3076923076923075], [1290, 4.181818181818182], [1291, 3.802120141342756], [1292, 3.3958333333333335], [1293, 3.426470588235294], [1294, 3.9272030651340994], [1295, 3.575], [1296, 3.8958333333333335], [1297, 3.4455852156057496], [1298, 3.8273615635179152], [1299, 3.7905982905982905], [1300, 3.4819277108433737], [1301, 3.774410774410774], [1302, 4.266666666666667], [1303, 3.3205317577548006], [1304, 3.9642857142857144], [1305, 4.333333333333333], [1306, 4.1475054229934925], [1307, 4.333333333333333], [1308, 3.606741573033708], [1309, 3.7083333333333335], [1310, 3.75], [1311, 3.478723404255319], [1312, 3.270967741935484], [1313, 3.6551724137931036], [1314, 2.789473684210526], [1315, 4.505376344086022], [1316, 3.236842105263158], [1317, 3.6620775969962454], [1318, 3.0476190476190474], [1319, 3.2142857142857144], [1320, 4.017094017094017], [1321, 3.2923976608187133], [1322, 4.1171875], [1323, 3.7027027027027026], [1324, 4.037037037037037], [1325, 3.9858156028368796], [1326, 3.918918918918919], [1327, 3.507042253521127], [1328, 3.552], [1329, 3.2853658536585364], [1330, 4.260869565217392], [1331, 3.98], [1332, 3.5], [1333, 3.6965888689407542], [1334, 3.9152542372881354], [1335, 3.0749185667752443], [1336, 4.086956521739131], [1337, 3.8153846153846156], [1338, 4.03030303030303], [1339, 2.788732394366197], [1340, 2.1627329192546583], [1341, 2.3793103448275863], [1342, 2.9782608695652173], [1343, 4.415770609318996], [1344, 3.72], [1345, 3.7195767195767195], [1346, 3.5357142857142856], [1347, 3.778481012658228], [1348, 3.7985611510791366], [1349, 4.651162790697675], [1350, 3.7589285714285716], [1351, 4.2], [1352, 3.5759493670886076], [1353, 3.0317460317460316], [1354, 3.404970760233918], [1355, 4.169811320754717], [1356, 2.633405639913232], [1357, 2.7966101694915255], [1358, 3.16017316017316], [1359, 3.6458333333333335], [1360, 3.5533980582524274], [1361, 4.135338345864661], [1362, 3.4474885844748857], [1363, 4.380952380952381], [1364, 4.0], [1365, 3.626865671641791], [1366, 3.5104895104895104], [1367, 3.7772511848341233], [1368, 4.113636363636363], [1369, 3.782178217821782], [1370, 3.141891891891892], [1371, 4.2727272727272725], [1372, 3.0], [1373, 3.810810810810811], [1374, 3.9223300970873787], [1375, 3.9], [1376, 3.882978723404255], [1377, 2.8214971209213053], [1378, 4.5344827586206895], [1379, 3.25], [1380, 3.316205533596838], [1381, 3.4057971014492754], [1382, 4.138888888888889], [1383, 3.329683698296837], [1384, 3.4545454545454546], [1385, 3.727272727272727], [1386, 3.951219512195122], [1387, 3.6591928251121075], [1388, 4.018867924528302], [1389, 3.812652068126521], [1390, 3.838187702265372], [1391, 3.4688995215311005], [1392, 3.403292181069959], [1393, 4.128440366972477], [1394, 3.0], [1395, 3.826923076923077], [1396, 3.725806451612903], [1397, 3.490566037735849], [1398, 3.710526315789474], [1399, 3.6527777777777777], [1400, 4.172413793103448], [1401, 4.017857142857143], [1402, 4.122448979591836], [1403, 3.8461538461538463], [1404, 2.7951807228915664], [1405, 3.7333333333333334], [1406, 3.8], [1407, 4.082417582417582], [1408, 3.139705882352941], [1409, 4.214285714285714], [1410, 4.064102564102564], [1411, 3.566666666666667], [1412, 3.3333333333333335], [1413, 3.8324324324324324], [1414, 3.7837837837837838], [1415, 3.7150837988826817], [1416, 3.5454545454545454], [1417, 3.413793103448276], [1418, 2.9510489510489513], [1419, 2.6470588235294117], [1420, 3.7311827956989245], [1421, 3.758974358974359], [1422, 3.0123626373626373], [1423, 4.1875], [1424, 3.409090909090909], [1425, 3.647814910025707], [1426, 3.494764397905759], [1427, 3.6470588235294117], [1428, 4.211538461538462], [1429, 3.2916666666666665], [1430, 4.163793103448276], [1431, 3.380952380952381], [1432, 3.5428571428571427], [1433, 3.337078651685393], [1434, 2.4050179211469533], [1435, 3.4571428571428573], [1436, 3.9696969696969697], [1437, 4.541935483870968], [1438, 3.477272727272727], [1439, 3.9], [1440, 3.3529411764705883], [1441, 3.627450980392157], [1442, 3.3], [1443, 4.25], [1444, 3.689655172413793], [1445, 2.903225806451613], [1446, 4.453608247422681], [1447, 3.2383838383838386], [1448, 3.775529865125241], [1449, 2.8061142397425582], [1450, 2.9908256880733943], [1451, 3.8974700399467377], [1452, 4.15], [1453, 3.5714285714285716], [1454, 3.8636363636363638], [1455, 3.7540983606557377], [1456, 4.045454545454546], [1457, 3.95114006514658], [1458, 3.9896907216494846], [1459, 4.0476190476190474], [1460, 3.0357142857142856], [1461, 3.34], [1462, 3.5], [1463, 3.5948275862068964], [1464, 3.675925925925926], [1465, 3.741407528641571], [1466, 3.630952380952381], [1467, 3.534090909090909], [1468, 3.519607843137255], [1469, 4.0625], [1470, 2.6943661971830988], [1471, 3.814814814814815], [1472, 3.6008583690987126], [1473, 2.970833333333333], [1474, 3.7846153846153845], [1475, 3.8987341772151898], [1476, 3.757142857142857], [1477, 4.0606060606060606], [1478, 3.9375], [1479, 4.103448275862069], [1480, 3.395348837209302], [1481, 4.38], [1482, 3.2295081967213113], [1483, 3.0968992248062017], [1484, 3.6146496815286624], [1485, 3.9130434782608696], [1486, 3.5833333333333335], [1487, 3.2195121951219514], [1488, 4.095238095238095], [1489, 2.443762781186094], [1490, 4.1], [1491, 3.2490118577075098], [1492, 3.2149532710280373], [1493, 3.75], [1494, 3.795918367346939], [1495, 2.620879120879121], [1496, 2.85929648241206], [1497, 3.864321608040201], [1498, 3.8275862068965516], [1499, 3.9384615384615387], [1500, 3.9043478260869566], [1501, 3.726937269372694], [1502, 3.399267399267399], [1503, 3.5073529411764706], [1504, 3.642857142857143], [1505, 3.738993710691824], [1506, 3.8095238095238093], [1507, 4.185185185185185], [1508, 3.310344827586207], [1509, 2.983164983164983], [1510, 3.606060606060606], [1511, 4.087912087912088], [1512, 3.235294117647059], [1513, 4.055944055944056], [1514, 3.763779527559055], [1515, 3.75], [1516, 3.1164383561643834], [1517, 3.609375], [1518, 4.48], [1519, 3.528735632183908], [1520, 4.0], [1521, 3.263888888888889], [1522, 3.641025641025641], [1523, 3.717391304347826], [1524, 3.7351778656126484], [1525, 3.6633663366336635], [1526, 4.15625], [1527, 3.1538461538461537], [1528, 4.086956521739131], [1529, 3.7666666666666666], [1530, 3.8514851485148514], [1531, 3.4615384615384617], [1532, 4.095238095238095], [1533, 3.84], [1534, 3.619047619047619], [1535, 3.896551724137931], [1536, 4.222222222222222], [1537, 3.763157894736842], [1538, 3.989247311827957], [1539, 4.37037037037037], [1540, 3.805084745762712], [1541, 4.423076923076923], [1542, 3.6723549488054608], [1543, 3.46242774566474], [1544, 3.690909090909091], [1545, 3.1013824884792625], [1546, 3.754385964912281], [1547, 3.9328358208955225], [1548, 3.5833333333333335], [1549, 3.619047619047619], [1550, 3.9310344827586206], [1551, 3.9397590361445785], [1552, 3.6862745098039214], [1553, 3.7209302325581395], [1554, 3.806451612903226], [1555, 4.3544303797468356], [1556, 3.208695652173913], [1557, 3.982456140350877], [1558, 4.115384615384615], [1559, 3.588235294117647], [1560, 3.4939024390243905], [1561, 4.0062111801242235], [1562, 2.8684210526315788], [1563, 3.8095238095238093], [1564, 3.056451612903226], [1565, 3.74468085106383], [1566, 3.5], [1567, 3.89], [1568, 4.0], [1569, 4.588888888888889], [1570, 3.5454545454545454], [1571, 3.947712418300654], [1572, 3.1777777777777776], [1573, 3.689655172413793], [1574, 3.5961538461538463], [1575, 3.8703703703703702], [1576, 3.875], [1577, 4.104], [1578, 4.161290322580645], [1579, 3.4496732026143793], [1580, 3.5405405405405403], [1581, 3.2195121951219514], [1582, 3.6363636363636362], [1583, 3.730769230769231], [1584, 3.3253796095444685], [1585, 3.607142857142857], [1586, 4.424096385542168], [1587, 3.332129963898917], [1588, 4.170212765957447], [1589, 3.7777777777777777], [1590, 4.0], [1591, 4.340764331210191], [1592, 3.6209150326797386], [1593, 3.0388349514563107], [1594, 3.727891156462585], [1595, 4.045112781954887], [1596, 3.5652173913043477], [1597, 3.5565217391304347], [1598, 3.494565217391304], [1599, 3.3018181818181818], [1600, 3.431472081218274], [1601, 3.9073170731707316], [1602, 4.1], [1603, 3.842857142857143], [1604, 4.166666666666667], [1605, 3.3122406639004147], [1606, 3.79126213592233], [1607, 3.1847826086956523], [1608, 2.0833333333333335], [1609, 3.4206128133704734], [1610, 3.9642857142857144], [1611, 3.573741007194245], [1612, 3.652173913043478], [1613, 3.4264150943396228], [1614, 3.3934426229508197], [1615, 3.0476190476190474], [1616, 3.1338582677165356], [1617, 3.0833333333333335], [1618, 4.208791208791209], [1619, 4.03030303030303], [1620, 3.9444444444444446], [1621, 3.1363636363636362], [1622, 3.730769230769231], [1623, 4.214285714285714], [1624, 3.005714285714286], [1625, 3.3555555555555556], [1626, 3.4391143911439115], [1627, 2.9791666666666665], [1628, 3.745011086474501], [1629, 3.4923076923076923], [1630, 2.264957264957265], [1631, 3.8423076923076924], [1632, 2.7760416666666665], [1633, 2.9705882352941178], [1634, 3.5849056603773586], [1635, 3.780580075662043], [1636, 2.8], [1637, 3.988235294117647], [1638, 4.205128205128205], [1639, 3.658802177858439], [1640, 2.472049689440994], [1641, 2.6810344827586206], [1642, 3.5], [1643, 4.28755364806867], [1644, 3.0625], [1645, 4.061302681992337], [1646, 3.064516129032258], [1647, 3.2301587301587302], [1648, 3.442953020134228], [1649, 3.8421052631578947], [1650, 3.647887323943662], [1651, 3.2], [1652, 3.3703703703703702], [1653, 3.92], [1654, 4.446808510638298], [1655, 3.8], [1656, 3.48], [1657, 3.888888888888889], [1658, 3.419597989949749], [1659, 2.7719298245614037], [1660, 3.967741935483871], [1661, 3.891891891891892], [1662, 3.64], [1663, 4.130434782608695], [1664, 3.4], [1665, 3.6825396825396823], [1666, 3.3425692695214106], [1667, 3.4128256513026054], [1668, 4.0], [1669, 3.7333333333333334], [1670, 4.714285714285714], [1671, 3.8620689655172415], [1672, 3.7435897435897436], [1673, 4.37037037037037], [1674, 3.727272727272727], [1675, 3.208849557522124], [1676, 3.492485549132948], [1677, 3.558139534883721], [1678, 3.4508196721311477], [1679, 3.926829268292683], [1680, 3.5556756756756758], [1681, 4.132231404958677], [1682, 4.407407407407407], [1683, 3.4857142857142858], [1684, 4.032258064516129], [1685, 3.574418604651163], [1686, 3.5357142857142856], [1687, 3.5318066157760812], [1688, 3.5757575757575757], [1689, 3.609375], [1690, 3.5167785234899327], [1691, 3.52], [1692, 4.478260869565218], [1693, 3.7419354838709675], [1694, 3.741206030150754], [1695, 3.6530612244897958], [1696, 3.621019108280255], [1697, 4.18361581920904], [1698, 3.9310344827586206], [1699, 4.313218390804598], [1700, 3.533333333333333], [1701, 3.5543478260869565], [1702, 4.55], [1703, 4.076923076923077], [1704, 4.194444444444445], [1705, 3.6941176470588237], [1706, 3.8], [1707, 4.329545454545454], [1708, 3.8636363636363638], [1709, 3.704761904761905], [1710, 3.6582278481012658], [1711, 3.6206896551724137], [1712, 3.512720156555773], [1713, 3.3333333333333335], [1714, 3.510948905109489], [1715, 3.4565217391304346], [1716, 3.476923076923077], [1717, 3.8160377358490565], [1718, 4.46875], [1719, 2.769230769230769], [1720, 4.021739130434782], [1721, 2.365217391304348], [1722, 4.242718446601942], [1723, 3.671232876712329], [1724, 4.10062893081761], [1725, 3.75], [1726, 2.350785340314136], [1727, 4.035019455252918], [1728, 4.212765957446808], [1729, 3.086206896551724], [1730, 3.5], [1731, 3.3970588235294117], [1732, 4.470588235294118], [1733, 3.5280095351609058], [1734, 4.27027027027027], [1735, 3.2337662337662336], [1736, 3.235897435897436], [1737, 3.410322580645161], [1738, 3.7313432835820897], [1739, 3.769230769230769], [1740, 4.0], [1741, 3.9757575757575756], [1742, 3.617021276595745], [1743, 3.968421052631579], [1744, 4.064285714285714], [1745, 3.7142857142857144], [1746, 4.404907975460123], [1747, 2.138888888888889], [1748, 3.4906621392190154], [1749, 2.9181494661921707], [1750, 2.9726027397260273], [1751, 4.428571428571429], [1752, 3.834101382488479], [1753, 3.936619718309859], [1754, 3.0], [1755, 3.5706521739130435], [1756, 3.204081632653061], [1757, 3.690909090909091], [1758, 3.9465116279069767], [1759, 3.720472440944882], [1760, 3.803030303030303], [1761, 2.15929203539823], [1762, 3.8513513513513513], [1763, 3.769230769230769], [1764, 4.091353996737357], [1765, 3.981132075471698], [1766, 3.230769230769231], [1767, 3.5751633986928106], [1768, 3.4859154929577465], [1769, 2.7534246575342465], [1770, 3.269662921348315], [1771, 4.333333333333333], [1772, 3.3823529411764706], [1773, 3.7704918032786887], [1774, 3.275], [1775, 3.7225806451612904], [1776, 3.2748815165876777], [1777, 3.890909090909091], [1778, 3.54029304029304], [1779, 3.2674418604651163]]\n"
          ],
          "name": "stdout"
        }
      ]
    },
    {
      "cell_type": "code",
      "metadata": {
        "id": "vWSEy9WwwNCB"
      },
      "source": [
        "### 영화 평점 구하기 ###\n",
        "###이거 완전히 이해해서 안보고 아예 줄줄줄 쓸 수 있으면 복습 끝임.###\n",
        "\n",
        "data = np.loadtxt(drive_path + 'ratings_small.txt', delimiter='::',dtype=np.int64)\n",
        "print(data)\n",
        "#데이터 분석해보기\n",
        "data.ndim\n",
        "data.shape\n",
        "data.size\n",
        "\n",
        "#전체 평점 구하기\n",
        "#1. 평점 데이터 추출\n",
        "rating_all = data[:,2]\n",
        "#2. 평균 구하기 (mean)\n",
        "rating_all.mean() #이렇게 써도 되고\n",
        "np.mean(rating_all) #이렇게 써도 되네.\n",
        "\n",
        "\n",
        "#각 사용자별 평점 평균 구하기\n",
        "#참고) 중복된 성분을 제외한 array를 반환하는 np.unique(ndarray) 함수 존재\n",
        "#unique 함수 써서 중복없이 카운팅. 사용자가 1번부터 몇번까지 있는지 확인 가능.\n",
        "all_user_id = np.unique(data[:,0])\n",
        "all_user_id\n",
        "\n",
        "#1) 1번 사용자의 평균 평점 구하기\n",
        "user1 = data[data[:,0] == 1]\n",
        "user1\n",
        "\n",
        "#1-1) 1번 사용자의 데이터에서 평점만 추출\n",
        "#1-2) 평균 구하기\n",
        "user1_avg = user1[:,2].mean()\n",
        "user1_avg\n",
        "\n",
        "#각 사용자별 평점 평균. for문 활용해서\n",
        "avg = []\n",
        "\n",
        "#일단 나는. 반복문을 써서 avg.append 해줄 건데. 각 사용자 별로 할 거잖아? 각 사용자 이걸 i로 넣고 돌리면서 아까 1번 사용자 평점 평균 구하듯 하면 되지 않을까?\n",
        "for i in all_user_id:\n",
        "  avg.append([i, data[data[:,0] == i][:,2].mean()])\n",
        "\n",
        "avg"
      ],
      "execution_count": null,
      "outputs": []
    },
    {
      "cell_type": "code",
      "metadata": {
        "colab": {
          "base_uri": "https://localhost:8080/"
        },
        "id": "zt_8US5jxPEf",
        "outputId": "6b40f173-9dc2-449d-a268-8d7e32c87d5f"
      },
      "source": [
        "### 영화 평점 구하기 ###\n",
        "###이거 완전히 이해해서 안보고 아예 줄줄줄 쓸 수 있으면 복습 끝임.###\n",
        "\n",
        "data = np.loadtxt(drive_path + 'ratings_small.txt', delimiter='::',dtype=np.int64)\n",
        "print(data)\n",
        "#데이터 분석해보기\n",
        "data.ndim\n",
        "data.shape\n",
        "data.size\n",
        "\n",
        "\n",
        "##전체 평점 구하기\n",
        "##1. 평점 데이터 추출\n",
        "data[:,2]\n",
        "\n",
        "##2. 평균 구하기 (mean)\n",
        "data[:,2].mean()\n",
        "\n",
        "\n",
        "##각 사용자별 평점 평균 구하기\n",
        "##참고) 중복된 성분을 제외한 array를 반환하는 np.unique(ndarray) 함수 존재\n",
        "##unique 함수 써서 중복없이 카운팅. 사용자가 1번부터 몇번까지 있는지 확인 가능.\n",
        "all_user_id = np.unique(data[:,0])\n",
        "all_user_id\n",
        "\n",
        "##1) 1번 사용자의 평균 평점 구하기\n",
        "#난 불린으로 1번만 true 걸고 뽑아낼 거임\n",
        "user1 = data[data[:,0] == 1]\n",
        "\n",
        "\n",
        "##1-1) 1번 사용자의 데이터에서 평점만 추출\n",
        "user1_star = user1[:,2]\n",
        "user1_star\n",
        "##1-2) 평균 구하기\n",
        "user1_star_mean = user1_star.mean()\n",
        "user1_star_mean\n",
        "\n",
        "##각 사용자별 평점 평균. \n",
        "#난 이거 빈리스트 만들어서 넣어줄 거다? for문 돌려서 쭉쭉 넣을 거임.\n",
        "user_star_mean = []\n",
        "\n",
        "for i in all_user_id:\n",
        "  user_star_mean.append([i, data[data[:,0] == i][:,2].mean()])\n",
        "\n",
        "print(user_star_mean)\n",
        "\n",
        "###4점 이상 사용자 출력하기\n",
        "### 대박쓰다\n",
        "\n",
        "##일단은 user_star_mean이 리스트잖아? 난 불린 인덱스를 쓰고 싶기 때문에, 난 이걸 ndarray로 바꿔줄 거야.\n",
        "user_star_mean = np.array(user_star_mean, dtype='int64') ##어 이거 된다. array 안에서 dtype 지정해주기 되네!!!!\n",
        "user_star_mean\n",
        "##불린 인덱스로 만들기\n",
        "#4점 이상인 것만 찾아서, 조건식 넣어줘. 4점 넘어가는 거만 뽑아내게.\n",
        "user_star_mean[user_star_mean[:,1] >= 4][:,0] #그니까 이건 바로 아래 코드랑 동일한 거임. 봐봐~ \n",
        "a = user_star_mean[user_star_mean[:,1] >= 4] #a라는 변수에 할당했잖아? 할당하고 뒤에 한번 더 id 넣어주는 거랑 같은 거임. 이 줄 바로 위에 길게 쓴 거랑 이 줄 바로 아래에 a[] 이렇게 쓴 거랑 같다구~ 뭔지 이해했지?\n",
        "a[:,0]\n",
        "#와우 이걸 하네?"
      ],
      "execution_count": null,
      "outputs": [
        {
          "output_type": "stream",
          "text": [
            "[[        1      1193         5 978300760]\n",
            " [        1       661         3 978302109]\n",
            " [        1       914         3 978301968]\n",
            " ...\n",
            " [     1779      2502         4 998699749]\n",
            " [     1779      3160         5 977032398]\n",
            " [     1779      3168         4 977033232]]\n",
            "[[1, 4.188679245283019], [2, 3.7131782945736433], [3, 3.9019607843137254], [4, 4.190476190476191], [5, 3.1464646464646466], [6, 3.9014084507042255], [7, 4.32258064516129], [8, 3.884892086330935], [9, 3.7358490566037736], [10, 4.114713216957606], [11, 3.2773722627737225], [12, 3.8260869565217392], [13, 3.388888888888889], [14, 3.32], [15, 3.3233830845771144], [16, 3.0285714285714285], [17, 4.075829383886256], [18, 3.6491803278688524], [19, 3.5725490196078433], [20, 4.083333333333333], [21, 2.909090909090909], [22, 3.0673400673400675], [23, 3.3157894736842106], [24, 3.948529411764706], [25, 3.7411764705882353], [26, 2.96], [27, 4.171428571428572], [28, 3.7570093457943927], [29, 3.5833333333333335], [30, 3.488372093023256], [31, 3.73109243697479], [32, 3.625], [33, 3.498721227621483], [34, 3.8658536585365852], [35, 3.54040404040404], [36, 4.199430199430199], [37, 3.69811320754717], [38, 3.58], [39, 3.564516129032258], [40, 3.4479166666666665], [41, 3.48], [42, 3.74025974025974], [43, 4.125], [44, 3.6321243523316062], [45, 2.946127946127946], [46, 4.219512195121951], [47, 3.909090909090909], [48, 3.068561872909699], [49, 3.712962962962963], [50, 3.0697674418604652], [51, 3.825], [52, 3.5569620253164556], [53, 4.2368421052631575], [54, 4.025], [55, 4.12], [56, 3.970149253731343], [57, 2.90625], [58, 3.9725400457665905], [59, 3.4741784037558685], [60, 3.414285714285714], [61, 2.7777777777777777], [62, 3.566265060240964], [63, 3.4285714285714284], [64, 4.148148148148148], [65, 4.347107438016529], [66, 3.8461538461538463], [67, 4.296875], [68, 3.75], [69, 4.153846153846154], [70, 3.7037037037037037], [71, 3.7586206896551726], [72, 3.697674418604651], [73, 3.364705882352941], [74, 4.046511627906977], [75, 4.005714285714285], [76, 4.172413793103448], [77, 2.948717948717949], [78, 3.657142857142857], [79, 3.6451612903225805], [80, 3.8958333333333335], [81, 4.4186046511627906], [82, 4.016949152542373], [83, 3.5757575757575757], [84, 3.838709677419355], [85, 3.1025641025641026], [86, 4.3125], [87, 2.8135593220338984], [88, 4.147058823529412], [89, 3.238095238095238], [90, 3.511111111111111], [91, 4.704545454545454], [92, 2.7581395348837208], [93, 2.9727272727272727], [94, 3.857142857142857], [95, 3.595959595959596], [96, 3.6049382716049383], [97, 4.474025974025974], [98, 3.8], [99, 3.2149532710280373], [100, 3.026315789473684], [101, 4.679245283018868], [102, 3.128787878787879], [103, 4.052173913043478], [104, 3.347826086956522], [105, 4.295081967213115], [106, 4.0212765957446805], [107, 3.743801652892562], [108, 3.135135135135135], [109, 4.0], [110, 3.25], [111, 3.7282608695652173], [112, 4.183333333333334], [113, 3.5], [114, 3.693877551020408], [115, 3.8421052631578947], [116, 3.802325581395349], [117, 3.299009900990099], [118, 3.767857142857143], [119, 3.5428571428571427], [120, 3.619047619047619], [121, 4.416666666666667], [122, 2.9649122807017543], [123, 3.401315789473684], [124, 4.173913043478261], [125, 4.098591549295775], [126, 4.0], [127, 3.8448275862068964], [128, 4.363636363636363], [129, 4.025316455696203], [130, 4.311111111111111], [131, 3.3966101694915256], [132, 3.966292134831461], [133, 3.7705882352941176], [134, 2.7158469945355193], [135, 3.657142857142857], [136, 3.074074074074074], [137, 3.611940298507463], [138, 4.492307692307692], [139, 3.8816326530612244], [140, 3.8181818181818183], [141, 3.6956521739130435], [142, 3.3404255319148937], [143, 3.5441176470588234], [144, 3.46875], [145, 3.0], [146, 3.7699530516431925], [147, 3.5026737967914436], [148, 3.733974358974359], [149, 3.9408783783783785], [150, 4.021551724137931], [151, 3.653927813163482], [152, 4.125], [153, 4.076923076923077], [154, 3.090909090909091], [155, 2.96875], [156, 4.236486486486487], [157, 3.718969555035129], [158, 4.0], [159, 3.7777777777777777], [160, 3.5], [161, 4.4713804713804715], [162, 4.121495327102804], [163, 2.1828793774319064], [164, 4.384615384615385], [165, 3.981818181818182], [166, 3.6878048780487807], [167, 2.9310344827586206], [168, 3.8461538461538463], [169, 3.5670289855072466], [170, 3.9885057471264367], [171, 4.0], [172, 3.608695652173913], [173, 3.9679144385026737], [174, 3.649484536082474], [175, 3.9810725552050474], [176, 3.6153846153846154], [177, 4.113636363636363], [178, 3.8434782608695652], [179, 2.6545454545454548], [180, 3.694915254237288], [181, 3.604651162790698], [182, 3.8313253012048194], [183, 4.099009900990099], [184, 4.083333333333333], [185, 3.588235294117647], [186, 4.254098360655738], [187, 4.083932853717027], [188, 3.1690140845070425], [189, 4.0], [190, 3.6993464052287583], [191, 3.3333333333333335], [192, 3.0914285714285716], [193, 3.677685950413223], [194, 3.983050847457627], [195, 3.889294403892944], [196, 4.0625], [197, 3.909090909090909], [198, 3.7493403693931397], [199, 3.2761194029850746], [200, 3.423076923076923], [201, 3.954022988505747], [202, 3.2492537313432837], [203, 2.2913385826771653], [204, 3.5560538116591927], [205, 4.0588235294117645], [206, 3.066666666666667], [207, 3.5217391304347827], [208, 3.652173913043478], [209, 3.16], [210, 4.027272727272727], [211, 3.857142857142857], [212, 3.8545454545454545], [213, 4.2272727272727275], [214, 3.1626506024096384], [215, 4.5588235294117645], [216, 3.2317380352644838], [217, 3.7], [218, 3.0930232558139537], [219, 3.3333333333333335], [220, 4.215686274509804], [221, 3.2413793103448274], [222, 4.0875], [223, 3.44140625], [224, 3.4019607843137254], [225, 3.4330708661417324], [226, 3.5714285714285716], [227, 3.2857142857142856], [228, 4.0], [229, 3.4292452830188678], [230, 4.094972067039106], [231, 4.22680412371134], [232, 3.566666666666667], [233, 4.584905660377358], [234, 4.310344827586207], [235, 4.086363636363636], [236, 3.693548387096774], [237, 3.4036144578313254], [238, 3.7868217054263567], [239, 4.140845070422535], [240, 3.300699300699301], [241, 3.9649122807017543], [242, 3.2051282051282053], [243, 3.606060606060606], [244, 4.105882352941176], [245, 2.6714659685863875], [246, 4.0], [247, 3.935483870967742], [248, 4.205882352941177], [249, 3.9454545454545453], [250, 3.75], [251, 3.5753424657534247], [252, 4.016666666666667], [253, 3.9245283018867925], [254, 3.782608695652174], [255, 4.016393442622951], [256, 3.8526315789473684], [257, 4.452830188679245], [258, 3.717241379310345], [259, 4.0359712230215825], [260, 3.311688311688312], [261, 3.5762711864406778], [262, 3.330188679245283], [263, 3.6630434782608696], [264, 2.785416666666667], [265, 4.1938775510204085], [266, 4.52], [267, 3.3893129770992365], [268, 3.3946360153256707], [269, 3.8], [270, 4.198412698412699], [271, 3.9583333333333335], [272, 3.6535269709543567], [273, 3.727272727272727], [274, 4.243243243243243], [275, 4.247191011235955], [276, 3.5217391304347827], [277, 3.727272727272727], [278, 3.9646464646464645], [279, 2.872340425531915], [280, 3.94], [281, 3.891891891891892], [282, 3.5172413793103448], [283, 4.962962962962963], [284, 3.021231422505308], [285, 4.16546762589928], [286, 3.883720930232558], [287, 3.70873786407767], [288, 4.589285714285714], [289, 3.9054054054054053], [290, 3.303030303030303], [291, 4.137254901960785], [292, 3.7560975609756095], [293, 3.2460567823343847], [294, 3.489795918367347], [295, 3.764397905759162], [296, 3.597938144329897], [297, 4.0], [298, 3.925925925925926], [299, 4.163461538461538], [300, 4.180722891566265], [301, 3.8011204481792715], [302, 2.8692893401015227], [303, 3.861244019138756], [304, 3.5555555555555554], [305, 2.5605095541401273], [306, 3.937823834196891], [307, 4.593406593406593], [308, 3.385996409335727], [309, 4.040650406504065], [310, 3.4260089686098656], [311, 4.15], [312, 3.736842105263158], [313, 4.038461538461538], [314, 3.696245733788396], [315, 3.8636363636363638], [316, 4.116883116883117], [317, 3.8095238095238093], [318, 3.9523809523809526], [319, 3.263522884882108], [320, 4.238095238095238], [321, 3.2612612612612613], [322, 4.45], [323, 3.788135593220339], [324, 3.3289473684210527], [325, 4.046511627906977], [326, 3.3350923482849604], [327, 3.669491525423729], [328, 3.032258064516129], [329, 2.7264397905759163], [330, 4.0131578947368425], [331, 3.7654109589041096], [332, 4.2835820895522385], [333, 3.352422907488987], [334, 3.9508196721311477], [335, 2.5], [336, 4.308411214953271], [337, 3.525252525252525], [338, 3.665745856353591], [339, 4.024193548387097], [340, 3.5277777777777777], [341, 4.2], [342, 3.6910569105691056], [343, 4.047138047138047], [344, 2.9555555555555557], [345, 4.4], [346, 4.307420494699647], [347, 3.878787878787879], [348, 3.78], [349, 3.25], [350, 3.9375], [351, 3.7572815533980584], [352, 3.4793103448275864], [353, 3.9166666666666665], [354, 3.586206896551724], [355, 3.4463007159904535], [356, 4.380952380952381], [357, 3.293103448275862], [358, 3.8472222222222223], [359, 3.857142857142857], [360, 3.6417910447761193], [361, 3.5384615384615383], [362, 3.290909090909091], [363, 3.744186046511628], [364, 3.142857142857143], [365, 3.3404255319148937], [366, 4.06949806949807], [367, 4.25], [368, 3.78125], [369, 3.1954022988505746], [370, 3.75], [371, 3.5], [372, 4.553571428571429], [373, 3.5555555555555554], [374, 4.403846153846154], [375, 4.078431372549019], [376, 4.111111111111111], [377, 3.9044117647058822], [378, 3.5128205128205128], [379, 4.234375], [380, 3.7246376811594204], [381, 4.114285714285714], [382, 4.017857142857143], [383, 3.5714285714285716], [384, 3.590909090909091], [385, 3.9562043795620436], [386, 3.3230769230769233], [387, 3.676470588235294], [388, 3.8813559322033897], [389, 3.5616438356164384], [390, 3.6728971962616823], [391, 3.728395061728395], [392, 3.4743326488706368], [393, 3.581081081081081], [394, 3.3421052631578947], [395, 3.608695652173913], [396, 3.560693641618497], [397, 3.8823529411764706], [398, 3.8133333333333335], [399, 4.15625], [400, 3.875], [401, 3.871794871794872], [402, 3.591549295774648], [403, 3.8035714285714284], [404, 4.14], [405, 3.795918367346939], [406, 3.306122448979592], [407, 3.4375], [408, 4.352564102564102], [409, 3.9158249158249157], [410, 3.96875], [411, 3.280314960629921], [412, 4.401260504201681], [413, 4.404040404040404], [414, 3.0701754385964914], [415, 3.874538745387454], [416, 3.7580645161290325], [417, 4.045454545454546], [418, 3.549019607843137], [419, 3.962962962962963], [420, 4.359375], [421, 4.25], [422, 3.297872340425532], [423, 2.5], [424, 3.735725938009788], [425, 3.6613756613756614], [426, 3.7573221757322175], [427, 4.111111111111111], [428, 3.9], [429, 3.346820809248555], [430, 3.9682539682539684], [431, 3.630952380952381], [432, 2.9863013698630136], [433, 3.391304347826087], [434, 4.023255813953488], [435, 3.8333333333333335], [436, 3.8345864661654137], [437, 4.3076923076923075], [438, 3.528239202657807], [439, 3.902173913043478], [440, 3.586206896551724], [441, 3.9574468085106385], [442, 3.8486997635933804], [443, 3.823529411764706], [444, 4.0], [445, 3.3181818181818183], [446, 4.8431372549019605], [447, 4.837837837837838], [448, 3.4347826086956523], [449, 3.7222222222222223], [450, 4.196078431372549], [451, 4.511961722488039], [452, 4.431818181818182], [453, 3.66497461928934], [454, 3.218045112781955], [455, 4.2], [456, 3.394904458598726], [457, 3.7130801687763713], [458, 3.5348837209302326], [459, 3.6875], [460, 3.3617021276595747], [461, 3.224609375], [462, 3.536723163841808], [463, 3.0], [464, 3.6097560975609757], [465, 3.5405405405405403], [466, 4.14070351758794], [467, 3.2028985507246377], [468, 3.730769230769231], [469, 4.326530612244898], [470, 3.8088235294117645], [471, 3.6285714285714286], [472, 4.022222222222222], [473, 4.163265306122449], [474, 3.380503144654088], [475, 3.8299595141700404], [476, 3.8375870069605567], [477, 3.5829383886255926], [478, 3.869565217391304], [479, 3.827956989247312], [480, 3.411214953271028], [481, 3.696969696969697], [482, 3.2606060606060607], [483, 2.9310344827586206], [484, 3.735294117647059], [485, 4.044444444444444], [486, 4.051282051282051], [487, 3.34], [488, 3.56], [489, 3.3333333333333335], [490, 3.7662337662337664], [491, 3.68], [492, 3.9375], [493, 3.848101265822785], [494, 4.157068062827225], [495, 3.7954545454545454], [496, 4.294117647058823], [497, 3.5833333333333335], [498, 3.6511627906976742], [499, 3.9748743718592965], [500, 3.633663366336634], [501, 3.417910447761194], [502, 4.083333333333333], [503, 4.448275862068965], [504, 3.8055555555555554], [505, 4.217391304347826], [506, 3.422222222222222], [507, 3.9523809523809526], [508, 3.3221476510067114], [509, 3.3139695712309822], [510, 3.8282828282828283], [511, 3.740740740740741], [512, 3.8378378378378377], [513, 3.1474358974358974], [514, 4.2025316455696204], [515, 3.728395061728395], [516, 2.931972789115646], [517, 3.963855421686747], [518, 4.3478260869565215], [519, 3.3777777777777778], [520, 3.9363057324840764], [521, 4.2926829268292686], [522, 3.8448275862068964], [523, 4.06], [524, 3.608267716535433], [525, 4.025], [526, 3.896551724137931], [527, 4.08], [528, 3.3551724137931034], [529, 4.19672131147541], [530, 4.0], [531, 3.1591695501730106], [532, 3.86046511627907], [533, 3.3401015228426396], [534, 3.7475728155339807], [535, 3.5714285714285716], [536, 3.942857142857143], [537, 4.3061224489795915], [538, 4.458333333333333], [539, 3.9242424242424243], [540, 3.230769230769231], [541, 3.1894736842105265], [542, 3.764705882352941], [543, 4.078986587183309], [544, 3.7777777777777777], [545, 3.4827586206896552], [546, 3.231818181818182], [547, 3.858974358974359], [548, 3.093220338983051], [549, 3.7569444444444446], [550, 3.578076525336091], [551, 3.8201754385964914], [552, 3.7628865979381443], [553, 4.15625], [554, 3.511627906976744], [555, 3.8157894736842106], [556, 3.5], [557, 3.8793103448275863], [558, 3.6804123711340204], [559, 3.0], [560, 3.897810218978102], [561, 3.7222222222222223], [562, 3.7027027027027026], [563, 2.7023121387283235], [564, 4.0], [565, 3.44], [566, 2.6273408239700373], [567, 4.583333333333333], [568, 4.44], [569, 3.52], [570, 3.329113924050633], [571, 3.7054794520547945], [572, 3.05], [573, 3.9722222222222223], [574, 4.095238095238095], [575, 3.6564417177914113], [576, 3.6666666666666665], [577, 4.487341772151899], [578, 3.9642857142857144], [579, 3.8550724637681157], [580, 3.347826086956522], [581, 3.6666666666666665], [582, 4.282051282051282], [583, 4.040229885057471], [584, 4.2894736842105265], [585, 3.4662162162162162], [586, 4.485714285714286], [587, 3.0077922077922077], [588, 4.057395143487859], [589, 4.0], [590, 4.13855421686747], [591, 3.231404958677686], [592, 4.391304347826087], [593, 3.641509433962264], [594, 4.29559748427673], [595, 3.95], [596, 2.9523809523809526], [597, 4.473684210526316], [598, 3.3157894736842106], [599, 3.8518518518518516], [600, 3.652173913043478], [601, 3.1501340482573728], [602, 3.396103896103896], [603, 3.5238095238095237], [604, 3.0940766550522647], [605, 4.049180327868853], [606, 4.03030303030303], [607, 4.16], [608, 3.1882352941176473], [609, 4.346153846153846], [610, 3.484126984126984], [611, 3.9393939393939394], [612, 3.5], [613, 3.5849056603773586], [614, 3.8333333333333335], [615, 4.127659574468085], [616, 3.9545454545454546], [617, 4.086956521739131], [618, 3.0], [619, 3.909090909090909], [620, 3.3240223463687153], [621, 3.0416666666666665], [622, 3.912280701754386], [623, 4.226744186046512], [624, 3.6801075268817205], [625, 4.0], [626, 4.055555555555555], [627, 3.5625], [628, 3.9038461538461537], [629, 3.371308016877637], [630, 4.254237288135593], [631, 3.7948717948717947], [632, 3.7941176470588234], [633, 3.5813953488372094], [634, 4.014925373134329], [635, 4.3107344632768365], [636, 4.058139534883721], [637, 3.7559681697612732], [638, 4.175438596491228], [639, 3.705], [640, 4.333333333333333], [641, 4.008264462809917], [642, 4.111111111111111], [643, 2.7142857142857144], [644, 3.1203703703703702], [645, 4.4772727272727275], [646, 3.8031496062992125], [647, 3.103896103896104], [648, 3.7231638418079096], [649, 3.6619718309859155], [650, 3.8947368421052633], [651, 3.6129707112970713], [652, 2.8863636363636362], [653, 4.142857142857143], [654, 3.4324324324324325], [655, 2.733009708737864], [656, 3.8700564971751414], [657, 4.016949152542373], [658, 3.096774193548387], [659, 3.7], [660, 3.0170697012802274], [661, 4.647887323943662], [662, 3.141732283464567], [663, 3.580357142857143], [664, 4.025316455696203], [665, 3.5], [666, 3.8932038834951457], [667, 3.0935672514619883], [668, 3.5833333333333335], [669, 3.847255369928401], [670, 3.2444444444444445], [671, 4.2592592592592595], [672, 3.872340425531915], [673, 3.13151364764268], [674, 4.2784810126582276], [675, 3.3095238095238093], [676, 3.128205128205128], [677, 3.892682926829268], [678, 3.6776776776776776], [679, 3.926829268292683], [680, 3.5714285714285716], [681, 4.2368421052631575], [682, 4.733333333333333], [683, 3.586206896551724], [684, 3.8947368421052633], [685, 3.2357142857142858], [686, 3.7777777777777777], [687, 3.4873417721518987], [688, 3.75], [689, 3.3925925925925924], [690, 4.311111111111111], [691, 4.174757281553398], [692, 3.8240887480190175], [693, 3.8857142857142857], [694, 3.625], [695, 3.513089005235602], [696, 3.802992518703242], [697, 3.8], [698, 3.551851851851852], [699, 3.0534124629080117], [700, 3.875], [701, 3.5], [702, 3.3027139874739038], [703, 4.1], [704, 3.081081081081081], [705, 3.371212121212121], [706, 3.556291390728477], [707, 3.6153846153846154], [708, 3.85], [709, 2.8292682926829267], [710, 3.4271186440677965], [711, 4.0], [712, 3.475177304964539], [713, 3.446280991735537], [714, 4.1635071090047395], [715, 3.8877551020408165], [716, 4.198979591836735], [717, 3.1538461538461537], [718, 3.775147928994083], [719, 3.5], [720, 2.9098712446351933], [721, 3.551051051051051], [722, 3.909090909090909], [723, 3.8333333333333335], [724, 3.643312101910828], [725, 4.197530864197531], [726, 3.9315068493150687], [727, 3.6987951807228914], [728, 3.311377245508982], [729, 3.5273972602739727], [730, 3.7735849056603774], [731, 3.778816199376947], [732, 3.4285714285714284], [733, 4.05982905982906], [734, 3.727272727272727], [735, 3.590330788804071], [736, 3.9298245614035086], [737, 3.5668202764976957], [738, 3.303030303030303], [739, 4.354330708661418], [740, 4.243243243243243], [741, 3.324675324675325], [742, 3.9523809523809526], [743, 3.38255033557047], [744, 3.3703703703703702], [745, 2.64], [746, 2.634433962264151], [747, 3.59375], [748, 3.9753086419753085], [749, 3.3246187363834423], [750, 4.321428571428571], [751, 3.88], [752, 2.8291015625], [753, 3.7752293577981653], [754, 3.7770700636942673], [755, 4.111111111111111], [756, 3.9714285714285715], [757, 3.225806451612903], [758, 4.0], [759, 3.5876288659793816], [760, 4.265625], [761, 4.55], [762, 3.717391304347826], [763, 3.730769230769231], [764, 4.525179856115108], [765, 3.574626865671642], [766, 3.9361702127659575], [767, 4.023529411764706], [768, 4.4375], [769, 3.8208955223880596], [770, 2.935441370223979], [771, 3.769230769230769], [772, 3.479591836734694], [773, 3.5918367346938775], [774, 3.2142857142857144], [775, 4.0], [776, 3.766990291262136], [777, 2.5796812749003983], [778, 3.785276073619632], [779, 3.3333333333333335], [780, 3.45703125], [781, 3.1709401709401708], [782, 3.4347826086956523], [783, 3.5210084033613445], [784, 4.066666666666666], [785, 3.2358490566037736], [786, 4.063492063492063], [787, 3.58974358974359], [788, 3.5255102040816326], [789, 2.9043478260869566], [790, 4.3478260869565215], [791, 3.966463414634146], [792, 3.4597701149425286], [793, 3.486666666666667], [794, 3.953488372093023], [795, 3.442953020134228], [796, 2.9717391304347824], [797, 4.036144578313253], [798, 3.149847094801223], [799, 3.6], [800, 3.4849624060150375], [801, 3.6596491228070174], [802, 3.938735177865613], [803, 3.7115384615384617], [804, 3.272727272727273], [805, 3.835616438356164], [806, 4.166666666666667], [807, 3.9696969696969697], [808, 3.1236363636363635], [809, 4.031914893617022], [810, 3.8174603174603177], [811, 4.184615384615385], [812, 3.739130434782609], [813, 3.343283582089552], [814, 4.055555555555555], [815, 4.068965517241379], [816, 3.6974358974358976], [817, 4.010050251256281], [818, 3.7251461988304095], [819, 3.3225806451612905], [820, 3.4134615384615383], [821, 2.9523809523809526], [822, 3.7226027397260273], [823, 3.8677685950413223], [824, 3.646103896103896], [825, 3.619047619047619], [826, 3.2857142857142856], [827, 3.9545454545454546], [828, 3.4434782608695653], [829, 4.231884057971015], [830, 3.6149425287356323], [831, 4.105263157894737], [832, 3.558139534883721], [833, 4.0476190476190474], [834, 4.16], [835, 2.75], [836, 2.4], [837, 3.260869565217391], [838, 4.090909090909091], [839, 3.988372093023256], [840, 4.219123505976095], [841, 3.576923076923077], [842, 3.8378378378378377], [843, 3.9444444444444446], [844, 3.4523809523809526], [845, 3.980769230769231], [846, 3.91699604743083], [847, 3.6129032258064515], [848, 4.178571428571429], [849, 3.264957264957265], [850, 3.5613718411552346], [851, 3.5921052631578947], [852, 4.117647058823529], [853, 3.890909090909091], [854, 3.027667984189723], [855, 3.4126984126984126], [856, 3.490566037735849], [857, 4.171428571428572], [858, 4.189473684210526], [859, 3.450980392156863], [860, 3.1666666666666665], [861, 3.9375], [862, 3.6724137931034484], [863, 4.225806451612903], [864, 4.050724637681159], [865, 3.8095238095238093], [866, 3.3333333333333335], [867, 3.659090909090909], [868, 3.6], [869, 3.5154394299287413], [870, 3.611111111111111], [871, 3.9069767441860463], [872, 3.635514018691589], [873, 3.8430232558139537], [874, 3.7857142857142856], [875, 4.083333333333333], [876, 3.828828828828829], [877, 3.308056872037915], [878, 4.142857142857143], [879, 4.025], [880, 3.4956521739130433], [881, 2.9354485776805253], [882, 4.0886075949367084], [883, 3.4166666666666665], [884, 4.01010101010101], [885, 4.140625], [886, 3.6285714285714286], [887, 3.5104166666666665], [888, 3.7777777777777777], [889, 2.8405797101449277], [890, 3.969298245614035], [891, 3.7443946188340806], [892, 3.911764705882353], [893, 3.2], [894, 4.442857142857143], [895, 3.953125], [896, 3.984375], [897, 3.5566502463054186], [898, 4.083333333333333], [899, 3.523219814241486], [900, 3.576923076923077], [901, 3.606060606060606], [902, 4.28], [903, 3.4594594594594597], [904, 3.3008130081300813], [905, 3.7886178861788617], [906, 3.5238095238095237], [907, 3.9523809523809526], [908, 3.3076923076923075], [909, 3.9014084507042255], [910, 3.6012269938650308], [911, 3.8685714285714288], [912, 3.7209302325581395], [913, 3.2888888888888888], [914, 4.278688524590164], [915, 2.831578947368421], [916, 3.9454545454545453], [917, 4.068965517241379], [918, 2.9583333333333335], [919, 3.9355828220858897], [920, 3.4615384615384617], [921, 3.6962025316455698], [922, 3.5830903790087465], [923, 3.608695652173913], [924, 3.9899497487437188], [925, 3.1323529411764706], [926, 4.247619047619048], [927, 3.230366492146597], [928, 4.3254716981132075], [929, 3.6816901408450704], [930, 3.0510204081632653], [931, 4.031847133757962], [932, 4.45], [933, 3.7096774193548385], [934, 2.9859437751004014], [935, 3.4896907216494846], [936, 3.5113636363636362], [937, 3.7327586206896552], [938, 3.870967741935484], [939, 3.757575757575758], [940, 3.1923076923076925], [941, 2.2857142857142856], [942, 4.04], [943, 4.296296296296297], [944, 3.8444444444444446], [945, 3.6196319018404908], [946, 4.303030303030303], [947, 3.0], [948, 3.7408123791102517], [949, 3.9295392953929538], [950, 2.963636363636364], [951, 4.523809523809524], [952, 3.9936305732484074], [953, 4.6878306878306875], [954, 3.7777777777777777], [955, 3.5798816568047336], [956, 3.990740740740741], [957, 4.271341463414634], [958, 3.9050632911392404], [959, 3.7395833333333335], [960, 3.9375], [961, 3.74], [962, 4.03921568627451], [963, 3.4339622641509435], [964, 3.717948717948718], [965, 4.116883116883117], [966, 3.5636363636363635], [967, 3.5384615384615383], [968, 4.131147540983607], [969, 4.115384615384615], [970, 3.1493624772313296], [971, 3.3318385650224216], [972, 3.3714285714285714], [973, 3.3963133640552994], [974, 3.7333333333333334], [975, 3.25990099009901], [976, 3.3636363636363638], [977, 3.7625], [978, 3.8863636363636362], [979, 4.04054054054054], [980, 3.2222222222222223], [981, 3.3303964757709252], [982, 4.176470588235294], [983, 4.115384615384615], [984, 3.5417867435158503], [985, 4.212328767123288], [986, 3.772727272727273], [987, 4.017045454545454], [988, 3.8493150684931505], [989, 4.681818181818182], [990, 3.549019607843137], [991, 3.75], [992, 3.4193548387096775], [993, 3.3448275862068964], [994, 4.153846153846154], [995, 3.8979591836734695], [996, 3.935810810810811], [997, 3.933333333333333], [998, 4.118518518518519], [999, 3.186893203883495], [1000, 4.130952380952381], [1001, 3.6525198938992043], [1002, 4.136363636363637], [1003, 4.137931034482759], [1004, 3.1600831600831603], [1005, 4.141304347826087], [1006, 3.0681818181818183], [1007, 4.21875], [1008, 3.84], [1009, 3.826923076923077], [1010, 2.4750996015936253], [1011, 3.7027027027027026], [1012, 3.3636363636363638], [1013, 3.847826086956522], [1014, 3.4871794871794872], [1015, 3.7262830482115086], [1016, 3.7880794701986753], [1017, 3.251439539347409], [1018, 4.155737704918033], [1019, 3.0107758620689653], [1020, 3.9886363636363638], [1021, 4.694656488549619], [1022, 3.5616438356164384], [1023, 4.073170731707317], [1024, 3.697674418604651], [1025, 3.757575757575758], [1026, 4.0], [1027, 3.8260869565217392], [1028, 3.9672131147540983], [1029, 3.1953125], [1030, 3.5789473684210527], [1031, 4.070967741935484], [1032, 3.941747572815534], [1033, 3.288659793814433], [1034, 3.483679525222552], [1035, 3.8241758241758244], [1036, 4.32], [1037, 3.5789473684210527], [1038, 3.9324324324324325], [1039, 2.892857142857143], [1040, 4.235521235521236], [1041, 4.317647058823529], [1042, 2.7555555555555555], [1043, 3.9166666666666665], [1044, 3.763888888888889], [1045, 3.5405405405405403], [1046, 3.8846153846153846], [1047, 3.8815789473684212], [1048, 4.0], [1049, 3.5833333333333335], [1050, 2.900709219858156], [1051, 3.4663573085846866], [1052, 4.343283582089552], [1053, 3.343283582089552], [1054, 3.8897637795275593], [1055, 3.448717948717949], [1056, 3.473684210526316], [1057, 3.7262569832402233], [1058, 3.795518207282913], [1059, 2.888888888888889], [1060, 3.35], [1061, 3.980392156862745], [1062, 4.484536082474227], [1063, 4.18], [1064, 3.70873786407767], [1065, 3.715909090909091], [1066, 3.5327868852459017], [1067, 3.96875], [1068, 3.7336683417085426], [1069, 2.87192118226601], [1070, 3.619047619047619], [1071, 4.426573426573427], [1072, 4.0476190476190474], [1073, 4.146551724137931], [1074, 3.4479166666666665], [1075, 4.048780487804878], [1076, 3.2439024390243905], [1077, 4.019417475728155], [1078, 3.984251968503937], [1079, 3.5867768595041323], [1080, 3.740740740740741], [1081, 4.147058823529412], [1082, 4.333333333333333], [1083, 2.6923076923076925], [1084, 3.15], [1085, 3.7142857142857144], [1086, 3.8621794871794872], [1087, 3.7908163265306123], [1088, 3.3375850340136055], [1089, 4.0], [1090, 3.3698630136986303], [1091, 2.696969696969697], [1092, 4.0588235294117645], [1093, 3.3857142857142857], [1094, 3.6219512195121952], [1095, 4.0], [1096, 2.58955223880597], [1097, 3.4702380952380953], [1098, 4.1875], [1099, 3.5106382978723403], [1100, 2.1988188976377954], [1101, 3.324324324324324], [1102, 2.259259259259259], [1103, 3.533333333333333], [1104, 3.8333333333333335], [1105, 3.9316770186335406], [1106, 3.78125], [1107, 3.7051282051282053], [1108, 4.113636363636363], [1109, 3.0878048780487806], [1110, 4.326530612244898], [1111, 4.03030303030303], [1112, 3.4418262150220915], [1113, 3.9749216300940438], [1114, 3.462686567164179], [1115, 3.1743119266055047], [1116, 3.8661971830985915], [1117, 3.777188328912467], [1118, 3.6666666666666665], [1119, 3.787341772151899], [1120, 3.764625850340136], [1121, 3.9550173010380623], [1122, 3.2280701754385963], [1123, 3.3666666666666667], [1124, 3.7712082262210798], [1125, 3.222413793103448], [1126, 3.761904761904762], [1127, 3.2213740458015265], [1128, 3.216867469879518], [1129, 4.145631067961165], [1130, 3.849462365591398], [1131, 4.796116504854369], [1132, 4.343558282208589], [1133, 3.386904761904762], [1134, 4.42], [1135, 3.813953488372093], [1136, 3.267857142857143], [1137, 3.74468085106383], [1138, 3.662921348314607], [1139, 3.9065934065934065], [1140, 3.7566844919786098], [1141, 3.3090128755364807], [1142, 3.3726235741444865], [1143, 4.30188679245283], [1144, 3.772727272727273], [1145, 3.3684210526315788], [1146, 2.798941798941799], [1147, 3.4654654654654653], [1148, 3.7966101694915255], [1149, 3.3146067415730336], [1150, 2.5906298003072195], [1151, 3.772727272727273], [1152, 2.5704697986577183], [1153, 2.736842105263158], [1154, 3.375], [1155, 3.1923076923076925], [1156, 3.5833333333333335], [1157, 4.2727272727272725], [1158, 3.640625], [1159, 2.56198347107438], [1160, 3.074766355140187], [1161, 3.968421052631579], [1162, 3.551282051282051], [1163, 3.640625], [1164, 3.441048034934498], [1165, 3.574468085106383], [1166, 3.5], [1167, 3.4285714285714284], [1168, 3.4463519313304722], [1169, 2.7711864406779663], [1170, 4.011627906976744], [1171, 4.321428571428571], [1172, 3.5169300225733635], [1173, 3.2493074792243766], [1174, 3.125], [1175, 4.208333333333333], [1176, 4.142857142857143], [1177, 3.9746835443037973], [1178, 3.5], [1179, 3.6623931623931623], [1180, 4.45945945945946], [1181, 2.815910585141354], [1182, 3.357142857142857], [1183, 3.682795698924731], [1184, 3.338129496402878], [1185, 3.6444444444444444], [1186, 4.296116504854369], [1187, 3.3870967741935485], [1188, 4.161290322580645], [1189, 3.76], [1190, 4.037037037037037], [1191, 4.295238095238095], [1192, 4.379310344827586], [1193, 2.782608695652174], [1194, 3.325115562403698], [1195, 3.71875], [1196, 3.8839285714285716], [1197, 4.166666666666667], [1198, 3.656862745098039], [1199, 3.631284916201117], [1200, 3.5641025641025643], [1201, 3.5757575757575757], [1202, 3.5365384615384614], [1203, 3.707152496626181], [1204, 3.485294117647059], [1205, 3.9411764705882355], [1206, 3.5602836879432624], [1207, 2.394822006472492], [1208, 4.020833333333333], [1209, 3.411764705882353], [1210, 3.8974358974358974], [1211, 3.863979848866499], [1212, 3.8550724637681157], [1213, 4.041666666666667], [1214, 3.0217391304347827], [1215, 4.034782608695652], [1216, 3.6948356807511735], [1217, 4.235294117647059], [1218, 3.4553191489361703], [1219, 3.6205357142857144], [1220, 3.353846153846154], [1221, 3.9638009049773757], [1222, 3.2205882352941178], [1223, 3.9246575342465753], [1224, 4.046712802768166], [1225, 4.035714285714286], [1226, 3.2857142857142856], [1227, 3.792207792207792], [1228, 3.7768924302788847], [1229, 4.0], [1230, 3.9367588932806323], [1231, 3.8454545454545452], [1232, 4.229629629629629], [1233, 3.8852459016393444], [1234, 4.291666666666667], [1235, 3.7], [1236, 3.375], [1237, 3.7666666666666666], [1238, 3.7111111111111112], [1239, 3.8636363636363638], [1240, 3.066666666666667], [1241, 4.247422680412371], [1242, 3.6396103896103895], [1243, 3.608695652173913], [1244, 3.3812154696132595], [1245, 4.333333333333333], [1246, 3.56993006993007], [1247, 3.8055555555555554], [1248, 3.595744680851064], [1249, 3.96], [1250, 4.190476190476191], [1251, 3.3777777777777778], [1252, 4.02542372881356], [1253, 3.5405405405405403], [1254, 4.118181818181818], [1255, 3.7787234042553193], [1256, 4.34375], [1257, 3.36734693877551], [1258, 4.261904761904762], [1259, 3.9833333333333334], [1260, 3.787819253438114], [1261, 3.7487179487179487], [1262, 3.4240506329113924], [1263, 3.139784946236559], [1264, 3.586497890295359], [1265, 3.183673469387755], [1266, 3.3415977961432506], [1267, 3.6], [1268, 4.257425742574258], [1269, 4.25], [1270, 3.0344827586206895], [1271, 4.2823529411764705], [1272, 3.535211267605634], [1273, 3.9820359281437128], [1274, 3.8494077834179357], [1275, 4.466666666666667], [1276, 4.1558441558441555], [1277, 3.675675675675676], [1278, 4.0], [1279, 2.958448753462604], [1280, 3.72], [1281, 3.4791666666666665], [1282, 4.095238095238095], [1283, 3.347826086956522], [1284, 3.4220907297830374], [1285, 3.9064685314685317], [1286, 3.5], [1287, 3.9468085106382977], [1288, 3.75968992248062], [1289, 4.3076923076923075], [1290, 4.181818181818182], [1291, 3.802120141342756], [1292, 3.3958333333333335], [1293, 3.426470588235294], [1294, 3.9272030651340994], [1295, 3.575], [1296, 3.8958333333333335], [1297, 3.4455852156057496], [1298, 3.8273615635179152], [1299, 3.7905982905982905], [1300, 3.4819277108433737], [1301, 3.774410774410774], [1302, 4.266666666666667], [1303, 3.3205317577548006], [1304, 3.9642857142857144], [1305, 4.333333333333333], [1306, 4.1475054229934925], [1307, 4.333333333333333], [1308, 3.606741573033708], [1309, 3.7083333333333335], [1310, 3.75], [1311, 3.478723404255319], [1312, 3.270967741935484], [1313, 3.6551724137931036], [1314, 2.789473684210526], [1315, 4.505376344086022], [1316, 3.236842105263158], [1317, 3.6620775969962454], [1318, 3.0476190476190474], [1319, 3.2142857142857144], [1320, 4.017094017094017], [1321, 3.2923976608187133], [1322, 4.1171875], [1323, 3.7027027027027026], [1324, 4.037037037037037], [1325, 3.9858156028368796], [1326, 3.918918918918919], [1327, 3.507042253521127], [1328, 3.552], [1329, 3.2853658536585364], [1330, 4.260869565217392], [1331, 3.98], [1332, 3.5], [1333, 3.6965888689407542], [1334, 3.9152542372881354], [1335, 3.0749185667752443], [1336, 4.086956521739131], [1337, 3.8153846153846156], [1338, 4.03030303030303], [1339, 2.788732394366197], [1340, 2.1627329192546583], [1341, 2.3793103448275863], [1342, 2.9782608695652173], [1343, 4.415770609318996], [1344, 3.72], [1345, 3.7195767195767195], [1346, 3.5357142857142856], [1347, 3.778481012658228], [1348, 3.7985611510791366], [1349, 4.651162790697675], [1350, 3.7589285714285716], [1351, 4.2], [1352, 3.5759493670886076], [1353, 3.0317460317460316], [1354, 3.404970760233918], [1355, 4.169811320754717], [1356, 2.633405639913232], [1357, 2.7966101694915255], [1358, 3.16017316017316], [1359, 3.6458333333333335], [1360, 3.5533980582524274], [1361, 4.135338345864661], [1362, 3.4474885844748857], [1363, 4.380952380952381], [1364, 4.0], [1365, 3.626865671641791], [1366, 3.5104895104895104], [1367, 3.7772511848341233], [1368, 4.113636363636363], [1369, 3.782178217821782], [1370, 3.141891891891892], [1371, 4.2727272727272725], [1372, 3.0], [1373, 3.810810810810811], [1374, 3.9223300970873787], [1375, 3.9], [1376, 3.882978723404255], [1377, 2.8214971209213053], [1378, 4.5344827586206895], [1379, 3.25], [1380, 3.316205533596838], [1381, 3.4057971014492754], [1382, 4.138888888888889], [1383, 3.329683698296837], [1384, 3.4545454545454546], [1385, 3.727272727272727], [1386, 3.951219512195122], [1387, 3.6591928251121075], [1388, 4.018867924528302], [1389, 3.812652068126521], [1390, 3.838187702265372], [1391, 3.4688995215311005], [1392, 3.403292181069959], [1393, 4.128440366972477], [1394, 3.0], [1395, 3.826923076923077], [1396, 3.725806451612903], [1397, 3.490566037735849], [1398, 3.710526315789474], [1399, 3.6527777777777777], [1400, 4.172413793103448], [1401, 4.017857142857143], [1402, 4.122448979591836], [1403, 3.8461538461538463], [1404, 2.7951807228915664], [1405, 3.7333333333333334], [1406, 3.8], [1407, 4.082417582417582], [1408, 3.139705882352941], [1409, 4.214285714285714], [1410, 4.064102564102564], [1411, 3.566666666666667], [1412, 3.3333333333333335], [1413, 3.8324324324324324], [1414, 3.7837837837837838], [1415, 3.7150837988826817], [1416, 3.5454545454545454], [1417, 3.413793103448276], [1418, 2.9510489510489513], [1419, 2.6470588235294117], [1420, 3.7311827956989245], [1421, 3.758974358974359], [1422, 3.0123626373626373], [1423, 4.1875], [1424, 3.409090909090909], [1425, 3.647814910025707], [1426, 3.494764397905759], [1427, 3.6470588235294117], [1428, 4.211538461538462], [1429, 3.2916666666666665], [1430, 4.163793103448276], [1431, 3.380952380952381], [1432, 3.5428571428571427], [1433, 3.337078651685393], [1434, 2.4050179211469533], [1435, 3.4571428571428573], [1436, 3.9696969696969697], [1437, 4.541935483870968], [1438, 3.477272727272727], [1439, 3.9], [1440, 3.3529411764705883], [1441, 3.627450980392157], [1442, 3.3], [1443, 4.25], [1444, 3.689655172413793], [1445, 2.903225806451613], [1446, 4.453608247422681], [1447, 3.2383838383838386], [1448, 3.775529865125241], [1449, 2.8061142397425582], [1450, 2.9908256880733943], [1451, 3.8974700399467377], [1452, 4.15], [1453, 3.5714285714285716], [1454, 3.8636363636363638], [1455, 3.7540983606557377], [1456, 4.045454545454546], [1457, 3.95114006514658], [1458, 3.9896907216494846], [1459, 4.0476190476190474], [1460, 3.0357142857142856], [1461, 3.34], [1462, 3.5], [1463, 3.5948275862068964], [1464, 3.675925925925926], [1465, 3.741407528641571], [1466, 3.630952380952381], [1467, 3.534090909090909], [1468, 3.519607843137255], [1469, 4.0625], [1470, 2.6943661971830988], [1471, 3.814814814814815], [1472, 3.6008583690987126], [1473, 2.970833333333333], [1474, 3.7846153846153845], [1475, 3.8987341772151898], [1476, 3.757142857142857], [1477, 4.0606060606060606], [1478, 3.9375], [1479, 4.103448275862069], [1480, 3.395348837209302], [1481, 4.38], [1482, 3.2295081967213113], [1483, 3.0968992248062017], [1484, 3.6146496815286624], [1485, 3.9130434782608696], [1486, 3.5833333333333335], [1487, 3.2195121951219514], [1488, 4.095238095238095], [1489, 2.443762781186094], [1490, 4.1], [1491, 3.2490118577075098], [1492, 3.2149532710280373], [1493, 3.75], [1494, 3.795918367346939], [1495, 2.620879120879121], [1496, 2.85929648241206], [1497, 3.864321608040201], [1498, 3.8275862068965516], [1499, 3.9384615384615387], [1500, 3.9043478260869566], [1501, 3.726937269372694], [1502, 3.399267399267399], [1503, 3.5073529411764706], [1504, 3.642857142857143], [1505, 3.738993710691824], [1506, 3.8095238095238093], [1507, 4.185185185185185], [1508, 3.310344827586207], [1509, 2.983164983164983], [1510, 3.606060606060606], [1511, 4.087912087912088], [1512, 3.235294117647059], [1513, 4.055944055944056], [1514, 3.763779527559055], [1515, 3.75], [1516, 3.1164383561643834], [1517, 3.609375], [1518, 4.48], [1519, 3.528735632183908], [1520, 4.0], [1521, 3.263888888888889], [1522, 3.641025641025641], [1523, 3.717391304347826], [1524, 3.7351778656126484], [1525, 3.6633663366336635], [1526, 4.15625], [1527, 3.1538461538461537], [1528, 4.086956521739131], [1529, 3.7666666666666666], [1530, 3.8514851485148514], [1531, 3.4615384615384617], [1532, 4.095238095238095], [1533, 3.84], [1534, 3.619047619047619], [1535, 3.896551724137931], [1536, 4.222222222222222], [1537, 3.763157894736842], [1538, 3.989247311827957], [1539, 4.37037037037037], [1540, 3.805084745762712], [1541, 4.423076923076923], [1542, 3.6723549488054608], [1543, 3.46242774566474], [1544, 3.690909090909091], [1545, 3.1013824884792625], [1546, 3.754385964912281], [1547, 3.9328358208955225], [1548, 3.5833333333333335], [1549, 3.619047619047619], [1550, 3.9310344827586206], [1551, 3.9397590361445785], [1552, 3.6862745098039214], [1553, 3.7209302325581395], [1554, 3.806451612903226], [1555, 4.3544303797468356], [1556, 3.208695652173913], [1557, 3.982456140350877], [1558, 4.115384615384615], [1559, 3.588235294117647], [1560, 3.4939024390243905], [1561, 4.0062111801242235], [1562, 2.8684210526315788], [1563, 3.8095238095238093], [1564, 3.056451612903226], [1565, 3.74468085106383], [1566, 3.5], [1567, 3.89], [1568, 4.0], [1569, 4.588888888888889], [1570, 3.5454545454545454], [1571, 3.947712418300654], [1572, 3.1777777777777776], [1573, 3.689655172413793], [1574, 3.5961538461538463], [1575, 3.8703703703703702], [1576, 3.875], [1577, 4.104], [1578, 4.161290322580645], [1579, 3.4496732026143793], [1580, 3.5405405405405403], [1581, 3.2195121951219514], [1582, 3.6363636363636362], [1583, 3.730769230769231], [1584, 3.3253796095444685], [1585, 3.607142857142857], [1586, 4.424096385542168], [1587, 3.332129963898917], [1588, 4.170212765957447], [1589, 3.7777777777777777], [1590, 4.0], [1591, 4.340764331210191], [1592, 3.6209150326797386], [1593, 3.0388349514563107], [1594, 3.727891156462585], [1595, 4.045112781954887], [1596, 3.5652173913043477], [1597, 3.5565217391304347], [1598, 3.494565217391304], [1599, 3.3018181818181818], [1600, 3.431472081218274], [1601, 3.9073170731707316], [1602, 4.1], [1603, 3.842857142857143], [1604, 4.166666666666667], [1605, 3.3122406639004147], [1606, 3.79126213592233], [1607, 3.1847826086956523], [1608, 2.0833333333333335], [1609, 3.4206128133704734], [1610, 3.9642857142857144], [1611, 3.573741007194245], [1612, 3.652173913043478], [1613, 3.4264150943396228], [1614, 3.3934426229508197], [1615, 3.0476190476190474], [1616, 3.1338582677165356], [1617, 3.0833333333333335], [1618, 4.208791208791209], [1619, 4.03030303030303], [1620, 3.9444444444444446], [1621, 3.1363636363636362], [1622, 3.730769230769231], [1623, 4.214285714285714], [1624, 3.005714285714286], [1625, 3.3555555555555556], [1626, 3.4391143911439115], [1627, 2.9791666666666665], [1628, 3.745011086474501], [1629, 3.4923076923076923], [1630, 2.264957264957265], [1631, 3.8423076923076924], [1632, 2.7760416666666665], [1633, 2.9705882352941178], [1634, 3.5849056603773586], [1635, 3.780580075662043], [1636, 2.8], [1637, 3.988235294117647], [1638, 4.205128205128205], [1639, 3.658802177858439], [1640, 2.472049689440994], [1641, 2.6810344827586206], [1642, 3.5], [1643, 4.28755364806867], [1644, 3.0625], [1645, 4.061302681992337], [1646, 3.064516129032258], [1647, 3.2301587301587302], [1648, 3.442953020134228], [1649, 3.8421052631578947], [1650, 3.647887323943662], [1651, 3.2], [1652, 3.3703703703703702], [1653, 3.92], [1654, 4.446808510638298], [1655, 3.8], [1656, 3.48], [1657, 3.888888888888889], [1658, 3.419597989949749], [1659, 2.7719298245614037], [1660, 3.967741935483871], [1661, 3.891891891891892], [1662, 3.64], [1663, 4.130434782608695], [1664, 3.4], [1665, 3.6825396825396823], [1666, 3.3425692695214106], [1667, 3.4128256513026054], [1668, 4.0], [1669, 3.7333333333333334], [1670, 4.714285714285714], [1671, 3.8620689655172415], [1672, 3.7435897435897436], [1673, 4.37037037037037], [1674, 3.727272727272727], [1675, 3.208849557522124], [1676, 3.492485549132948], [1677, 3.558139534883721], [1678, 3.4508196721311477], [1679, 3.926829268292683], [1680, 3.5556756756756758], [1681, 4.132231404958677], [1682, 4.407407407407407], [1683, 3.4857142857142858], [1684, 4.032258064516129], [1685, 3.574418604651163], [1686, 3.5357142857142856], [1687, 3.5318066157760812], [1688, 3.5757575757575757], [1689, 3.609375], [1690, 3.5167785234899327], [1691, 3.52], [1692, 4.478260869565218], [1693, 3.7419354838709675], [1694, 3.741206030150754], [1695, 3.6530612244897958], [1696, 3.621019108280255], [1697, 4.18361581920904], [1698, 3.9310344827586206], [1699, 4.313218390804598], [1700, 3.533333333333333], [1701, 3.5543478260869565], [1702, 4.55], [1703, 4.076923076923077], [1704, 4.194444444444445], [1705, 3.6941176470588237], [1706, 3.8], [1707, 4.329545454545454], [1708, 3.8636363636363638], [1709, 3.704761904761905], [1710, 3.6582278481012658], [1711, 3.6206896551724137], [1712, 3.512720156555773], [1713, 3.3333333333333335], [1714, 3.510948905109489], [1715, 3.4565217391304346], [1716, 3.476923076923077], [1717, 3.8160377358490565], [1718, 4.46875], [1719, 2.769230769230769], [1720, 4.021739130434782], [1721, 2.365217391304348], [1722, 4.242718446601942], [1723, 3.671232876712329], [1724, 4.10062893081761], [1725, 3.75], [1726, 2.350785340314136], [1727, 4.035019455252918], [1728, 4.212765957446808], [1729, 3.086206896551724], [1730, 3.5], [1731, 3.3970588235294117], [1732, 4.470588235294118], [1733, 3.5280095351609058], [1734, 4.27027027027027], [1735, 3.2337662337662336], [1736, 3.235897435897436], [1737, 3.410322580645161], [1738, 3.7313432835820897], [1739, 3.769230769230769], [1740, 4.0], [1741, 3.9757575757575756], [1742, 3.617021276595745], [1743, 3.968421052631579], [1744, 4.064285714285714], [1745, 3.7142857142857144], [1746, 4.404907975460123], [1747, 2.138888888888889], [1748, 3.4906621392190154], [1749, 2.9181494661921707], [1750, 2.9726027397260273], [1751, 4.428571428571429], [1752, 3.834101382488479], [1753, 3.936619718309859], [1754, 3.0], [1755, 3.5706521739130435], [1756, 3.204081632653061], [1757, 3.690909090909091], [1758, 3.9465116279069767], [1759, 3.720472440944882], [1760, 3.803030303030303], [1761, 2.15929203539823], [1762, 3.8513513513513513], [1763, 3.769230769230769], [1764, 4.091353996737357], [1765, 3.981132075471698], [1766, 3.230769230769231], [1767, 3.5751633986928106], [1768, 3.4859154929577465], [1769, 2.7534246575342465], [1770, 3.269662921348315], [1771, 4.333333333333333], [1772, 3.3823529411764706], [1773, 3.7704918032786887], [1774, 3.275], [1775, 3.7225806451612904], [1776, 3.2748815165876777], [1777, 3.890909090909091], [1778, 3.54029304029304], [1779, 3.2674418604651163]]\n"
          ],
          "name": "stdout"
        },
        {
          "output_type": "execute_result",
          "data": {
            "text/plain": [
              "array([   1,    4,    7,   10,   17,   20,   27,   36,   43,   46,   53,\n",
              "         54,   55,   64,   65,   67,   69,   74,   75,   76,   81,   82,\n",
              "         86,   88,   91,   97,  101,  103,  105,  106,  109,  112,  121,\n",
              "        124,  125,  126,  128,  129,  130,  138,  150,  152,  153,  156,\n",
              "        158,  161,  162,  164,  171,  177,  183,  184,  186,  187,  189,\n",
              "        196,  205,  210,  213,  215,  220,  222,  228,  230,  231,  233,\n",
              "        234,  235,  239,  244,  246,  248,  252,  255,  257,  259,  265,\n",
              "        266,  270,  274,  275,  283,  285,  288,  291,  297,  299,  300,\n",
              "        307,  309,  311,  313,  316,  320,  322,  325,  330,  332,  336,\n",
              "        339,  341,  343,  345,  346,  356,  366,  367,  372,  374,  375,\n",
              "        376,  379,  381,  382,  399,  404,  408,  412,  413,  417,  420,\n",
              "        421,  427,  434,  437,  444,  446,  447,  450,  451,  452,  455,\n",
              "        466,  469,  472,  473,  485,  486,  494,  496,  502,  503,  505,\n",
              "        514,  518,  521,  523,  525,  527,  529,  530,  537,  538,  543,\n",
              "        553,  564,  567,  568,  574,  577,  582,  583,  584,  586,  588,\n",
              "        589,  590,  592,  594,  597,  605,  606,  607,  609,  615,  617,\n",
              "        623,  625,  626,  630,  634,  635,  636,  638,  640,  641,  642,\n",
              "        645,  653,  657,  661,  664,  671,  674,  681,  682,  690,  691,\n",
              "        703,  711,  714,  716,  725,  733,  739,  740,  750,  755,  758,\n",
              "        760,  761,  764,  767,  768,  775,  784,  786,  790,  797,  806,\n",
              "        809,  811,  814,  815,  817,  829,  831,  833,  834,  838,  840,\n",
              "        848,  852,  857,  858,  863,  864,  875,  878,  879,  882,  884,\n",
              "        885,  894,  898,  902,  914,  917,  926,  928,  931,  932,  942,\n",
              "        943,  946,  951,  953,  957,  962,  965,  968,  969,  979,  982,\n",
              "        983,  985,  987,  989,  994,  998, 1000, 1002, 1003, 1005, 1007,\n",
              "       1018, 1021, 1023, 1026, 1031, 1036, 1040, 1041, 1048, 1052, 1062,\n",
              "       1063, 1071, 1072, 1073, 1075, 1077, 1081, 1082, 1089, 1092, 1095,\n",
              "       1098, 1108, 1110, 1111, 1129, 1131, 1132, 1134, 1143, 1157, 1170,\n",
              "       1171, 1175, 1176, 1180, 1186, 1188, 1190, 1191, 1192, 1197, 1208,\n",
              "       1213, 1215, 1217, 1224, 1225, 1229, 1232, 1234, 1241, 1245, 1250,\n",
              "       1252, 1254, 1256, 1258, 1268, 1269, 1271, 1275, 1276, 1278, 1282,\n",
              "       1289, 1290, 1302, 1305, 1306, 1307, 1315, 1320, 1322, 1324, 1330,\n",
              "       1336, 1338, 1343, 1349, 1351, 1355, 1361, 1363, 1364, 1368, 1371,\n",
              "       1378, 1382, 1388, 1393, 1400, 1401, 1402, 1407, 1409, 1410, 1423,\n",
              "       1428, 1430, 1437, 1443, 1446, 1452, 1456, 1459, 1469, 1477, 1479,\n",
              "       1481, 1488, 1490, 1507, 1511, 1513, 1518, 1520, 1526, 1528, 1532,\n",
              "       1536, 1539, 1541, 1555, 1558, 1561, 1568, 1569, 1577, 1578, 1586,\n",
              "       1588, 1590, 1591, 1595, 1602, 1604, 1618, 1619, 1623, 1638, 1643,\n",
              "       1645, 1654, 1663, 1668, 1670, 1673, 1681, 1682, 1684, 1692, 1697,\n",
              "       1699, 1702, 1703, 1704, 1707, 1718, 1720, 1722, 1724, 1727, 1728,\n",
              "       1732, 1734, 1740, 1744, 1746, 1751, 1764, 1771])"
            ]
          },
          "metadata": {
            "tags": []
          },
          "execution_count": 23
        }
      ]
    },
    {
      "cell_type": "code",
      "metadata": {
        "colab": {
          "base_uri": "https://localhost:8080/"
        },
        "id": "wCEZySoz3G3R",
        "outputId": "ee193d83-9267-4045-ecd4-dc70744cf77b"
      },
      "source": [
        "### 영화 평점 구하기 ### 뭐 몇회차인지는 모르겠으나 복습할 때마다 풀고 있음\n",
        "###이거 완전히 이해해서 안보고 아예 줄줄줄 쓸 수 있으면 복습 끝임.###\n",
        "\n",
        "data = np.loadtxt(drive_path + 'ratings_small.txt', delimiter='::',dtype=np.int64)\n",
        "data\n",
        "##데이터 분석해보기\n",
        "data.ndim\n",
        "data.shape\n",
        "data.size\n",
        "\n",
        "##전체 평점 구하기\n",
        "##1. 평점 데이터 추출\n",
        "data[:,2]\n",
        "\n",
        "##2. 평균 구하기 (mean)\n",
        "data[:,2].mean()\n",
        "\n",
        "\n",
        "##각 사용자별 평점 평균 구하기\n",
        "##1) 1번 사용자의 평균 평점 구하기\n",
        "##1-1) 1번 사용자의 데이터에서 평점만 추출\n",
        "#불린 쓸 건데,\n",
        "user1 =  data[data[:,0] == 1]\n",
        "user1[:,2]\n",
        "\n",
        "##1-2) 평균 구하기\n",
        "user1_mean = user1[:,2].mean()\n",
        "user1_mean\n",
        "\n",
        "##각 사용자별 평점 평균. \n",
        "##참고) 중복된 성분을 제외한 array를 반환하는 np.unique(ndarray) 함수 존재\n",
        "##unique 함수 써서 중복없이 카운팅. 사용자가 1번부터 몇번까지 있는지 확인 가능.\n",
        "all_user_id = np.unique( data[:,0] )\n",
        "all_user_mean = []\n",
        "#for문 써서 올유저 아이디에 있는 값을 하나씩 돌리면서 불린 쓰면 되겠다!\n",
        "for i in all_user_id:\n",
        "  all_user_mean.append([i, data[data[:,0] == i][:,2].mean()]) #append는 값 하나씩만 받는대~\n",
        "all_user_mean\n",
        "\n",
        "###4점 이상 사용자 출력하기\n",
        "### 대박쓰다\n",
        "\n",
        "##일단은 user_star_mean이 리스트잖아? 난 불린 인덱스를 쓰고 싶기 때문에, 난 이걸 ndarray로 바꿔줄 거야.\n",
        "# 이렇게 형변환 할 때부터 데이터 타입을 지정해줄 순 있는데, 그렇게 안하고 이번엔 .astype()으로 한번 해볼게. nd_all_user_mean = np.array(all_user_mean, dtype='int')\n",
        "nd_all_user_mean = np.array(nd_all_user_mean, dtype='float')\n",
        "nd_all_user_mean = nd_all_user_mean.astype(int)\n",
        "nd_all_user_mean\n",
        "##불린 인덱스로 만들기\n",
        "nd_all_user_mean[nd_all_user_mean[:,1] >= 4][:,0]\n",
        "\n",
        "#이걸 또 해냅니다."
      ],
      "execution_count": null,
      "outputs": [
        {
          "output_type": "execute_result",
          "data": {
            "text/plain": [
              "array([   1,    4,    7,   10,   17,   20,   27,   36,   43,   46,   53,\n",
              "         54,   55,   64,   65,   67,   69,   74,   75,   76,   81,   82,\n",
              "         86,   88,   91,   97,  101,  103,  105,  106,  109,  112,  121,\n",
              "        124,  125,  126,  128,  129,  130,  138,  150,  152,  153,  156,\n",
              "        158,  161,  162,  164,  171,  177,  183,  184,  186,  187,  189,\n",
              "        196,  205,  210,  213,  215,  220,  222,  228,  230,  231,  233,\n",
              "        234,  235,  239,  244,  246,  248,  252,  255,  257,  259,  265,\n",
              "        266,  270,  274,  275,  283,  285,  288,  291,  297,  299,  300,\n",
              "        307,  309,  311,  313,  316,  320,  322,  325,  330,  332,  336,\n",
              "        339,  341,  343,  345,  346,  356,  366,  367,  372,  374,  375,\n",
              "        376,  379,  381,  382,  399,  404,  408,  412,  413,  417,  420,\n",
              "        421,  427,  434,  437,  444,  446,  447,  450,  451,  452,  455,\n",
              "        466,  469,  472,  473,  485,  486,  494,  496,  502,  503,  505,\n",
              "        514,  518,  521,  523,  525,  527,  529,  530,  537,  538,  543,\n",
              "        553,  564,  567,  568,  574,  577,  582,  583,  584,  586,  588,\n",
              "        589,  590,  592,  594,  597,  605,  606,  607,  609,  615,  617,\n",
              "        623,  625,  626,  630,  634,  635,  636,  638,  640,  641,  642,\n",
              "        645,  653,  657,  661,  664,  671,  674,  681,  682,  690,  691,\n",
              "        703,  711,  714,  716,  725,  733,  739,  740,  750,  755,  758,\n",
              "        760,  761,  764,  767,  768,  775,  784,  786,  790,  797,  806,\n",
              "        809,  811,  814,  815,  817,  829,  831,  833,  834,  838,  840,\n",
              "        848,  852,  857,  858,  863,  864,  875,  878,  879,  882,  884,\n",
              "        885,  894,  898,  902,  914,  917,  926,  928,  931,  932,  942,\n",
              "        943,  946,  951,  953,  957,  962,  965,  968,  969,  979,  982,\n",
              "        983,  985,  987,  989,  994,  998, 1000, 1002, 1003, 1005, 1007,\n",
              "       1018, 1021, 1023, 1026, 1031, 1036, 1040, 1041, 1048, 1052, 1062,\n",
              "       1063, 1071, 1072, 1073, 1075, 1077, 1081, 1082, 1089, 1092, 1095,\n",
              "       1098, 1108, 1110, 1111, 1129, 1131, 1132, 1134, 1143, 1157, 1170,\n",
              "       1171, 1175, 1176, 1180, 1186, 1188, 1190, 1191, 1192, 1197, 1208,\n",
              "       1213, 1215, 1217, 1224, 1225, 1229, 1232, 1234, 1241, 1245, 1250,\n",
              "       1252, 1254, 1256, 1258, 1268, 1269, 1271, 1275, 1276, 1278, 1282,\n",
              "       1289, 1290, 1302, 1305, 1306, 1307, 1315, 1320, 1322, 1324, 1330,\n",
              "       1336, 1338, 1343, 1349, 1351, 1355, 1361, 1363, 1364, 1368, 1371,\n",
              "       1378, 1382, 1388, 1393, 1400, 1401, 1402, 1407, 1409, 1410, 1423,\n",
              "       1428, 1430, 1437, 1443, 1446, 1452, 1456, 1459, 1469, 1477, 1479,\n",
              "       1481, 1488, 1490, 1507, 1511, 1513, 1518, 1520, 1526, 1528, 1532,\n",
              "       1536, 1539, 1541, 1555, 1558, 1561, 1568, 1569, 1577, 1578, 1586,\n",
              "       1588, 1590, 1591, 1595, 1602, 1604, 1618, 1619, 1623, 1638, 1643,\n",
              "       1645, 1654, 1663, 1668, 1670, 1673, 1681, 1682, 1684, 1692, 1697,\n",
              "       1699, 1702, 1703, 1704, 1707, 1718, 1720, 1722, 1724, 1727, 1728,\n",
              "       1732, 1734, 1740, 1744, 1746, 1751, 1764, 1771])"
            ]
          },
          "metadata": {
            "tags": []
          },
          "execution_count": 36
        }
      ]
    },
    {
      "cell_type": "code",
      "metadata": {
        "colab": {
          "base_uri": "https://localhost:8080/"
        },
        "id": "2fTAd-CRFR_w",
        "outputId": "c7cf296d-eb39-4ea2-fe1c-d98f993963eb"
      },
      "source": [
        "### 영화 평점 구하기 ### 진짜 몇회차지 이거>>?? 아래로 내릴 수록 회차 올라가는 건데 넘파이는.\n",
        "###이거 완전히 이해해서 안보고 아예 줄줄줄 쓸 수 있으면 복습 끝임.###\n",
        "\n",
        "#data = np.loadtxt(drive_path + 'ratings_small.txt', delimiter='::',dtype=np.int64)\n",
        "#data\n",
        "\n",
        "##데이터 분석해보기\n",
        "data.ndim\n",
        "data.shape\n",
        "data.size\n",
        "\n",
        "##전체 평점 구하기\n",
        "##1. 평점 데이터 추출\n",
        "data[:,2] #이렇게 뽑는 이유 = [:][2] 전체층, 2호 이거랑 [:,2]랑 같음. 층 호\n",
        "\n",
        "##2. 평균 구하기 (mean)\n",
        "data[:,2].mean()\n",
        "\n",
        "\n",
        "##각 사용자별 평점 평균 구하기\n",
        "##1) 1번 사용자의 평균 평점 구하기\n",
        "##1-1) 1번 사용자의 데이터에서 평점만 추출\n",
        "#불린 쓸 건데,\n",
        "data[data[:,0] == 1]\n",
        "\n",
        "##1-2) 평균 구하기\n",
        "data[data[:,0] == 1][:,2]\n",
        "\n",
        "##각 사용자별 평점 평균. \n",
        "##참고) 중복된 성분을 제외한 array를 반환하는 np.unique(ndarray) 함수 존재\n",
        "##unique 함수 써서 중복없이 카운팅. 사용자가 1번부터 몇번까지 있는지 확인 가능.\n",
        "a_u_i = np.unique(data[:,0]) \n",
        "a_u_i_m = []\n",
        "\n",
        "for i in a_u_i:\n",
        "  a_u_i_m.append( [i, data[data[:,0] == i][:,2].mean()] )\n",
        "\n",
        "a_u_i_m = np.array( a_u_i_m, dtype='int' )\n",
        "\n",
        "###4점 이상 사용자 출력하기\n",
        "### 대박쓰다\n",
        "\n",
        "##일단은 user_star_mean이 리스트잖아? 난 불린 인덱스를 쓰고 싶기 때문에, 난 이걸 ndarray로 바꿔줄 거야.\n",
        "# 이렇게 형변환 할 때부터 데이터 타입을 지정해줄 순 있는데, 그렇게 안하고 이번엔 .astype()으로 한번 해볼게. nd_all_user_mean = np.array(all_user_mean, dtype='int')\n",
        "a_u_i_m[a_u_i_m[:,1] >= 4][:,0]\n",
        "\n",
        "##불린 인덱스로 만들기\n",
        "\n",
        "#이걸 또또 해냅니다. "
      ],
      "execution_count": null,
      "outputs": [
        {
          "output_type": "execute_result",
          "data": {
            "text/plain": [
              "array([   1,    4,    7,   10,   17,   20,   27,   36,   43,   46,   53,\n",
              "         54,   55,   64,   65,   67,   69,   74,   75,   76,   81,   82,\n",
              "         86,   88,   91,   97,  101,  103,  105,  106,  109,  112,  121,\n",
              "        124,  125,  126,  128,  129,  130,  138,  150,  152,  153,  156,\n",
              "        158,  161,  162,  164,  171,  177,  183,  184,  186,  187,  189,\n",
              "        196,  205,  210,  213,  215,  220,  222,  228,  230,  231,  233,\n",
              "        234,  235,  239,  244,  246,  248,  252,  255,  257,  259,  265,\n",
              "        266,  270,  274,  275,  283,  285,  288,  291,  297,  299,  300,\n",
              "        307,  309,  311,  313,  316,  320,  322,  325,  330,  332,  336,\n",
              "        339,  341,  343,  345,  346,  356,  366,  367,  372,  374,  375,\n",
              "        376,  379,  381,  382,  399,  404,  408,  412,  413,  417,  420,\n",
              "        421,  427,  434,  437,  444,  446,  447,  450,  451,  452,  455,\n",
              "        466,  469,  472,  473,  485,  486,  494,  496,  502,  503,  505,\n",
              "        514,  518,  521,  523,  525,  527,  529,  530,  537,  538,  543,\n",
              "        553,  564,  567,  568,  574,  577,  582,  583,  584,  586,  588,\n",
              "        589,  590,  592,  594,  597,  605,  606,  607,  609,  615,  617,\n",
              "        623,  625,  626,  630,  634,  635,  636,  638,  640,  641,  642,\n",
              "        645,  653,  657,  661,  664,  671,  674,  681,  682,  690,  691,\n",
              "        703,  711,  714,  716,  725,  733,  739,  740,  750,  755,  758,\n",
              "        760,  761,  764,  767,  768,  775,  784,  786,  790,  797,  806,\n",
              "        809,  811,  814,  815,  817,  829,  831,  833,  834,  838,  840,\n",
              "        848,  852,  857,  858,  863,  864,  875,  878,  879,  882,  884,\n",
              "        885,  894,  898,  902,  914,  917,  926,  928,  931,  932,  942,\n",
              "        943,  946,  951,  953,  957,  962,  965,  968,  969,  979,  982,\n",
              "        983,  985,  987,  989,  994,  998, 1000, 1002, 1003, 1005, 1007,\n",
              "       1018, 1021, 1023, 1026, 1031, 1036, 1040, 1041, 1048, 1052, 1062,\n",
              "       1063, 1071, 1072, 1073, 1075, 1077, 1081, 1082, 1089, 1092, 1095,\n",
              "       1098, 1108, 1110, 1111, 1129, 1131, 1132, 1134, 1143, 1157, 1170,\n",
              "       1171, 1175, 1176, 1180, 1186, 1188, 1190, 1191, 1192, 1197, 1208,\n",
              "       1213, 1215, 1217, 1224, 1225, 1229, 1232, 1234, 1241, 1245, 1250,\n",
              "       1252, 1254, 1256, 1258, 1268, 1269, 1271, 1275, 1276, 1278, 1282,\n",
              "       1289, 1290, 1302, 1305, 1306, 1307, 1315, 1320, 1322, 1324, 1330,\n",
              "       1336, 1338, 1343, 1349, 1351, 1355, 1361, 1363, 1364, 1368, 1371,\n",
              "       1378, 1382, 1388, 1393, 1400, 1401, 1402, 1407, 1409, 1410, 1423,\n",
              "       1428, 1430, 1437, 1443, 1446, 1452, 1456, 1459, 1469, 1477, 1479,\n",
              "       1481, 1488, 1490, 1507, 1511, 1513, 1518, 1520, 1526, 1528, 1532,\n",
              "       1536, 1539, 1541, 1555, 1558, 1561, 1568, 1569, 1577, 1578, 1586,\n",
              "       1588, 1590, 1591, 1595, 1602, 1604, 1618, 1619, 1623, 1638, 1643,\n",
              "       1645, 1654, 1663, 1668, 1670, 1673, 1681, 1682, 1684, 1692, 1697,\n",
              "       1699, 1702, 1703, 1704, 1707, 1718, 1720, 1722, 1724, 1727, 1728,\n",
              "       1732, 1734, 1740, 1744, 1746, 1751, 1764, 1771])"
            ]
          },
          "metadata": {
            "tags": []
          },
          "execution_count": 17
        }
      ]
    },
    {
      "cell_type": "code",
      "metadata": {
        "colab": {
          "base_uri": "https://localhost:8080/"
        },
        "id": "_juv04fT0yz8",
        "outputId": "ac7583fa-1fa9-4b63-cd7d-18a675a90f65"
      },
      "source": [
        "### 영화 평점 구하기 ### 세보니까 이번이 7회차\n",
        "###이거 완전히 이해해서 안보고 아예 줄줄줄 쓸 수 있으면 복습 끝임.###\n",
        "\n",
        "#data = np.loadtxt(drive_path + 'ratings_small.txt', delimiter='::',dtype=np.int64)\n",
        "#data\n",
        "\n",
        "##데이터 분석해보기\n",
        "##전체 평점 구하기\n",
        "##1. 평점 데이터 추출\n",
        "data[:,2]\n",
        "\n",
        "##2. 평균 구하기 (mean)\n",
        "data[:,2].mean()\n",
        "\n",
        "##각 사용자별 평점 평균 구하기\n",
        "##1) 1번 사용자의 평균 평점 구하기\n",
        "##1-1) 1번 사용자의 데이터에서 평점만 추출\n",
        "\n",
        "data[data[:,0] == 1][:,2]\n",
        "\n",
        "##1-2) 평균 구하기\n",
        "data[data[:,0] == 1][:,2].mean()\n",
        "\n",
        "\n",
        "##각 사용자별 평점 평균. \n",
        "\n",
        "#일단 이거 난 for문 돌려서 빈 리스트에 다 넣을 건데, 유니크 함수를 쓰면 중복 없애주거든? 그거 중복 없애고 넣은 아이디로 반복문 돌려보자.\n",
        "a_u_i = np.unique( data[:,0] )\n",
        "a_u_i_m = []\n",
        "for i in a_u_i:\n",
        "  a_u_i_m.append( [i, data[data[:,0] == i][:,2].mean()] )\n",
        "\n",
        "###4점 이상 사용자 출력하기\n",
        "### 대박쓰다\n",
        "#이것도 불린 쓸 것 같은데, 4점 이상만 뽑아서 사용자 출력하기로. 근데 일단 리스트를 ndarray로 바꿔야지.\n",
        "da = np.array( a_u_i_m, dtype='int64' )\n",
        "da[da[:,1] >= 4][:,0] \n",
        "#이걸 또또 해냅니다. "
      ],
      "execution_count": null,
      "outputs": [
        {
          "output_type": "execute_result",
          "data": {
            "text/plain": [
              "array([   1,    4,    7,   10,   17,   20,   27,   36,   43,   46,   53,\n",
              "         54,   55,   64,   65,   67,   69,   74,   75,   76,   81,   82,\n",
              "         86,   88,   91,   97,  101,  103,  105,  106,  109,  112,  121,\n",
              "        124,  125,  126,  128,  129,  130,  138,  150,  152,  153,  156,\n",
              "        158,  161,  162,  164,  171,  177,  183,  184,  186,  187,  189,\n",
              "        196,  205,  210,  213,  215,  220,  222,  228,  230,  231,  233,\n",
              "        234,  235,  239,  244,  246,  248,  252,  255,  257,  259,  265,\n",
              "        266,  270,  274,  275,  283,  285,  288,  291,  297,  299,  300,\n",
              "        307,  309,  311,  313,  316,  320,  322,  325,  330,  332,  336,\n",
              "        339,  341,  343,  345,  346,  356,  366,  367,  372,  374,  375,\n",
              "        376,  379,  381,  382,  399,  404,  408,  412,  413,  417,  420,\n",
              "        421,  427,  434,  437,  444,  446,  447,  450,  451,  452,  455,\n",
              "        466,  469,  472,  473,  485,  486,  494,  496,  502,  503,  505,\n",
              "        514,  518,  521,  523,  525,  527,  529,  530,  537,  538,  543,\n",
              "        553,  564,  567,  568,  574,  577,  582,  583,  584,  586,  588,\n",
              "        589,  590,  592,  594,  597,  605,  606,  607,  609,  615,  617,\n",
              "        623,  625,  626,  630,  634,  635,  636,  638,  640,  641,  642,\n",
              "        645,  653,  657,  661,  664,  671,  674,  681,  682,  690,  691,\n",
              "        703,  711,  714,  716,  725,  733,  739,  740,  750,  755,  758,\n",
              "        760,  761,  764,  767,  768,  775,  784,  786,  790,  797,  806,\n",
              "        809,  811,  814,  815,  817,  829,  831,  833,  834,  838,  840,\n",
              "        848,  852,  857,  858,  863,  864,  875,  878,  879,  882,  884,\n",
              "        885,  894,  898,  902,  914,  917,  926,  928,  931,  932,  942,\n",
              "        943,  946,  951,  953,  957,  962,  965,  968,  969,  979,  982,\n",
              "        983,  985,  987,  989,  994,  998, 1000, 1002, 1003, 1005, 1007,\n",
              "       1018, 1021, 1023, 1026, 1031, 1036, 1040, 1041, 1048, 1052, 1062,\n",
              "       1063, 1071, 1072, 1073, 1075, 1077, 1081, 1082, 1089, 1092, 1095,\n",
              "       1098, 1108, 1110, 1111, 1129, 1131, 1132, 1134, 1143, 1157, 1170,\n",
              "       1171, 1175, 1176, 1180, 1186, 1188, 1190, 1191, 1192, 1197, 1208,\n",
              "       1213, 1215, 1217, 1224, 1225, 1229, 1232, 1234, 1241, 1245, 1250,\n",
              "       1252, 1254, 1256, 1258, 1268, 1269, 1271, 1275, 1276, 1278, 1282,\n",
              "       1289, 1290, 1302, 1305, 1306, 1307, 1315, 1320, 1322, 1324, 1330,\n",
              "       1336, 1338, 1343, 1349, 1351, 1355, 1361, 1363, 1364, 1368, 1371,\n",
              "       1378, 1382, 1388, 1393, 1400, 1401, 1402, 1407, 1409, 1410, 1423,\n",
              "       1428, 1430, 1437, 1443, 1446, 1452, 1456, 1459, 1469, 1477, 1479,\n",
              "       1481, 1488, 1490, 1507, 1511, 1513, 1518, 1520, 1526, 1528, 1532,\n",
              "       1536, 1539, 1541, 1555, 1558, 1561, 1568, 1569, 1577, 1578, 1586,\n",
              "       1588, 1590, 1591, 1595, 1602, 1604, 1618, 1619, 1623, 1638, 1643,\n",
              "       1645, 1654, 1663, 1668, 1670, 1673, 1681, 1682, 1684, 1692, 1697,\n",
              "       1699, 1702, 1703, 1704, 1707, 1718, 1720, 1722, 1724, 1727, 1728,\n",
              "       1732, 1734, 1740, 1744, 1746, 1751, 1764, 1771])"
            ]
          },
          "metadata": {
            "tags": []
          },
          "execution_count": 15
        }
      ]
    },
    {
      "cell_type": "code",
      "metadata": {
        "colab": {
          "base_uri": "https://localhost:8080/"
        },
        "id": "S9JfUyhxT0KJ",
        "outputId": "89a8df44-e6e8-4a40-a8fb-c9a437fbd3f3"
      },
      "source": [
        "### 영화 평점 구하기 ### 세보니까 이번이 8회차\n",
        "###이거 완전히 이해해서 안보고 아예 줄줄줄 쓸 수 있으면 복습 끝임.###\n",
        "\n",
        "data = np.loadtxt(drive_path + 'ratings_small.txt', delimiter='::',dtype=np.int64)\n",
        "data\n",
        "\n",
        "##데이터 분석해보기\n",
        "##전체 평점 구하기\n",
        "##1. 평점 데이터 추출\n",
        "data[:,2]\n",
        "\n",
        "##2. 평균 구하기 (mean)\n",
        "data[:,2].mean()\n",
        "\n",
        "##각 사용자별 평점 평균 구하기\n",
        "##1) 1번 사용자의 평균 평점 구하기\n",
        "data[data[:,0] == 1][:,2].mean()\n",
        "\n",
        "\n",
        "##각 사용자별 평점 평균.\n",
        "a_u_i = np.unique(data[:,0])\n",
        "a_u_i_m = []\n",
        "\n",
        "for i in a_u_i:\n",
        "  a_u_i_m.append( [ i, data[data[:,0] == i][:,2].mean()  ] )\n",
        "a_u_i_m\n",
        "\n",
        "###4점 이상 사용자 출력하기\n",
        "### 대박쓰다\n",
        "\n",
        "a_u_i_m = np.array( a_u_i_m, dtype = 'int' )\n",
        "a_u_i_m[a_u_i_m[:,1] >= 4][:,0]\n",
        "\n",
        "#이젠 참 쉽다!"
      ],
      "execution_count": null,
      "outputs": [
        {
          "output_type": "execute_result",
          "data": {
            "text/plain": [
              "array([   1,    4,    7,   10,   17,   20,   27,   36,   43,   46,   53,\n",
              "         54,   55,   64,   65,   67,   69,   74,   75,   76,   81,   82,\n",
              "         86,   88,   91,   97,  101,  103,  105,  106,  109,  112,  121,\n",
              "        124,  125,  126,  128,  129,  130,  138,  150,  152,  153,  156,\n",
              "        158,  161,  162,  164,  171,  177,  183,  184,  186,  187,  189,\n",
              "        196,  205,  210,  213,  215,  220,  222,  228,  230,  231,  233,\n",
              "        234,  235,  239,  244,  246,  248,  252,  255,  257,  259,  265,\n",
              "        266,  270,  274,  275,  283,  285,  288,  291,  297,  299,  300,\n",
              "        307,  309,  311,  313,  316,  320,  322,  325,  330,  332,  336,\n",
              "        339,  341,  343,  345,  346,  356,  366,  367,  372,  374,  375,\n",
              "        376,  379,  381,  382,  399,  404,  408,  412,  413,  417,  420,\n",
              "        421,  427,  434,  437,  444,  446,  447,  450,  451,  452,  455,\n",
              "        466,  469,  472,  473,  485,  486,  494,  496,  502,  503,  505,\n",
              "        514,  518,  521,  523,  525,  527,  529,  530,  537,  538,  543,\n",
              "        553,  564,  567,  568,  574,  577,  582,  583,  584,  586,  588,\n",
              "        589,  590,  592,  594,  597,  605,  606,  607,  609,  615,  617,\n",
              "        623,  625,  626,  630,  634,  635,  636,  638,  640,  641,  642,\n",
              "        645,  653,  657,  661,  664,  671,  674,  681,  682,  690,  691,\n",
              "        703,  711,  714,  716,  725,  733,  739,  740,  750,  755,  758,\n",
              "        760,  761,  764,  767,  768,  775,  784,  786,  790,  797,  806,\n",
              "        809,  811,  814,  815,  817,  829,  831,  833,  834,  838,  840,\n",
              "        848,  852,  857,  858,  863,  864,  875,  878,  879,  882,  884,\n",
              "        885,  894,  898,  902,  914,  917,  926,  928,  931,  932,  942,\n",
              "        943,  946,  951,  953,  957,  962,  965,  968,  969,  979,  982,\n",
              "        983,  985,  987,  989,  994,  998, 1000, 1002, 1003, 1005, 1007,\n",
              "       1018, 1021, 1023, 1026, 1031, 1036, 1040, 1041, 1048, 1052, 1062,\n",
              "       1063, 1071, 1072, 1073, 1075, 1077, 1081, 1082, 1089, 1092, 1095,\n",
              "       1098, 1108, 1110, 1111, 1129, 1131, 1132, 1134, 1143, 1157, 1170,\n",
              "       1171, 1175, 1176, 1180, 1186, 1188, 1190, 1191, 1192, 1197, 1208,\n",
              "       1213, 1215, 1217, 1224, 1225, 1229, 1232, 1234, 1241, 1245, 1250,\n",
              "       1252, 1254, 1256, 1258, 1268, 1269, 1271, 1275, 1276, 1278, 1282,\n",
              "       1289, 1290, 1302, 1305, 1306, 1307, 1315, 1320, 1322, 1324, 1330,\n",
              "       1336, 1338, 1343, 1349, 1351, 1355, 1361, 1363, 1364, 1368, 1371,\n",
              "       1378, 1382, 1388, 1393, 1400, 1401, 1402, 1407, 1409, 1410, 1423,\n",
              "       1428, 1430, 1437, 1443, 1446, 1452, 1456, 1459, 1469, 1477, 1479,\n",
              "       1481, 1488, 1490, 1507, 1511, 1513, 1518, 1520, 1526, 1528, 1532,\n",
              "       1536, 1539, 1541, 1555, 1558, 1561, 1568, 1569, 1577, 1578, 1586,\n",
              "       1588, 1590, 1591, 1595, 1602, 1604, 1618, 1619, 1623, 1638, 1643,\n",
              "       1645, 1654, 1663, 1668, 1670, 1673, 1681, 1682, 1684, 1692, 1697,\n",
              "       1699, 1702, 1703, 1704, 1707, 1718, 1720, 1722, 1724, 1727, 1728,\n",
              "       1732, 1734, 1740, 1744, 1746, 1751, 1764, 1771])"
            ]
          },
          "metadata": {
            "tags": []
          },
          "execution_count": 13
        }
      ]
    },
    {
      "cell_type": "code",
      "metadata": {
        "id": "xXuXUWfjtvdB"
      },
      "source": [
        "#4점 이상 사용자 출력하기\n",
        "### 대박쓰다\n",
        "\n",
        "#일단은 avg가 리스트잖아? 난 불린 인덱스를 쓰고 싶기 때문에, 난 이걸 ndarray로 바꿔줄 거야.\n",
        "avg_arr = np.array(avg)\n",
        "#불린 인덱스로 만들기\n",
        "avg_arr[avg_arr[:,1] >= 4][:,0].astype('int64') #파이썬은 자동으로 형변환하잖아. 실수형으로 자동 형변환해서 아까 이상하게 나온 거다.  .astype('int64')로 형태 지정해주면 정수로 쓸 수 있음!!!!\n"
      ],
      "execution_count": null,
      "outputs": []
    },
    {
      "cell_type": "markdown",
      "metadata": {
        "id": "5eaan4N6asRb"
      },
      "source": [
        "###### 질문\n",
        "\n",
        "평점 4점이 넘는 사용자만 구하려면,\n",
        "user_rate_avg의 결과 값을 리스트로 모은 후 ndarray 형식으로 바꾸는 방법밖에 없나요?"
      ]
    },
    {
      "cell_type": "code",
      "metadata": {
        "id": "fW8OiNDR-4c9"
      },
      "source": [
        ""
      ],
      "execution_count": null,
      "outputs": []
    },
    {
      "cell_type": "markdown",
      "metadata": {
        "id": "JGFR9J-ZeGfH"
      },
      "source": [
        "##### CSV 파일로 저장\n",
        "- np.savetxt() 이용"
      ]
    },
    {
      "cell_type": "code",
      "metadata": {
        "id": "-DTvy_Mo-5a2"
      },
      "source": [
        "np.savetxt(drive_path + 'user_id_mean.csv', avg_arr, delimiter=', ', fmt='%3f') #%3f는 소수점 아래 3자리까지라고 포매팅한 거임."
      ],
      "execution_count": null,
      "outputs": []
    },
    {
      "cell_type": "markdown",
      "metadata": {
        "id": "h2jB8C-SaUSt"
      },
      "source": [
        "## Numpy 요약"
      ]
    },
    {
      "cell_type": "code",
      "metadata": {
        "id": "shHIpx0va9hq"
      },
      "source": [
        "import numpy as np"
      ],
      "execution_count": null,
      "outputs": []
    },
    {
      "cell_type": "code",
      "metadata": {
        "id": "onmh2IdB_B8U"
      },
      "source": [
        ""
      ],
      "execution_count": null,
      "outputs": []
    }
  ]
}